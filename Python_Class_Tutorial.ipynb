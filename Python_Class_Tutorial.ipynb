{
 "cells": [
  {
   "cell_type": "markdown",
   "id": "a3d0f51a-3b71-41c7-9c4a-869ec888fee9",
   "metadata": {},
   "source": [
    "## Python OOP tutorial\n",
    "https://www.pythontutorial.net/"
   ]
  },
  {
   "cell_type": "code",
   "execution_count": 1,
   "id": "3b566437-817a-45fc-bef8-800c886ee874",
   "metadata": {},
   "outputs": [],
   "source": [
    "class Person: # capitalize the name for a class or use CamelCase\n",
    "    pass"
   ]
  },
  {
   "cell_type": "code",
   "execution_count": 2,
   "id": "ffe924c3-1c0f-4b3e-bae0-a297cfc34f8b",
   "metadata": {},
   "outputs": [],
   "source": [
    "person = Person()"
   ]
  },
  {
   "cell_type": "code",
   "execution_count": 5,
   "id": "fa30b657-2332-44d8-a44b-583ef0f7b922",
   "metadata": {},
   "outputs": [
    {
     "name": "stdout",
     "output_type": "stream",
     "text": [
      "isinstance(person, Person) = True\n"
     ]
    }
   ],
   "source": [
    "print(f'{isinstance(person, Person) = }')"
   ]
  },
  {
   "cell_type": "code",
   "execution_count": 6,
   "id": "c8130c13-df42-41ec-a3ab-c7994248e12d",
   "metadata": {},
   "outputs": [
    {
     "name": "stdout",
     "output_type": "stream",
     "text": [
      "Person\n"
     ]
    }
   ],
   "source": [
    "print(Person.__name__)"
   ]
  },
  {
   "cell_type": "code",
   "execution_count": 7,
   "id": "bc08dea9-388e-40ba-8c0c-30b463a016c0",
   "metadata": {},
   "outputs": [
    {
     "name": "stdout",
     "output_type": "stream",
     "text": [
      "<class 'type'>\n"
     ]
    }
   ],
   "source": [
    "print(type(Person))"
   ]
  },
  {
   "cell_type": "code",
   "execution_count": 13,
   "id": "0c9993a6-b400-4b63-abc6-18673772e7fe",
   "metadata": {},
   "outputs": [],
   "source": [
    "person.name = 'John' # you can add an attribute to an instance of a class dynamically. Just this instance will have this attribute."
   ]
  },
  {
   "cell_type": "code",
   "execution_count": 11,
   "id": "8ab59232-4616-45b3-ac39-838651f4884d",
   "metadata": {},
   "outputs": [
    {
     "name": "stdout",
     "output_type": "stream",
     "text": [
      "John\n"
     ]
    }
   ],
   "source": [
    "print(person.name)"
   ]
  },
  {
   "cell_type": "code",
   "execution_count": 18,
   "id": "7bb7f6df-dcd6-4ac0-bb4a-92c82ffcab97",
   "metadata": {},
   "outputs": [],
   "source": [
    "class Person:\n",
    "    def __init__(self, name, age):\n",
    "        self.name = name\n",
    "        self.age = age\n",
    "    def greet(self):\n",
    "        return f\"Hi, it's {self.name}.\""
   ]
  },
  {
   "cell_type": "code",
   "execution_count": 19,
   "id": "ac5bb906-6dc0-4c7b-973b-0832f1ecfe7a",
   "metadata": {},
   "outputs": [],
   "source": [
    "person = Person('John', 25)"
   ]
  },
  {
   "cell_type": "code",
   "execution_count": 20,
   "id": "d6cabf48-cb88-4165-bded-df40d9e0b82d",
   "metadata": {},
   "outputs": [
    {
     "name": "stdout",
     "output_type": "stream",
     "text": [
      "John 25\n"
     ]
    }
   ],
   "source": [
    "print(person.name, person.age)\n"
   ]
  },
  {
   "cell_type": "code",
   "execution_count": 21,
   "id": "cb984049-e435-4160-a122-077bb65f5a89",
   "metadata": {},
   "outputs": [
    {
     "name": "stdout",
     "output_type": "stream",
     "text": [
      "Hi, it's John.\n"
     ]
    }
   ],
   "source": [
    "print(person.greet())"
   ]
  },
  {
   "cell_type": "code",
   "execution_count": 45,
   "id": "e4728969-cf94-4376-b27a-2b743b34d5cf",
   "metadata": {},
   "outputs": [],
   "source": [
    "class Person:\n",
    "    counter = 0\n",
    "\n",
    "    def __init__(self, name, age): # this runs when a new instance of Person is created. \n",
    "        self.name = name\n",
    "        self.age = age\n",
    "        Person.counter += 1\n",
    "        \n",
    "    def greet(self):\n",
    "        return f\"Hi, it's {self.name}.\"\n",
    "    \n",
    "    @classmethod # this is a decorator that decorates a class method. Ok.\n",
    "    def create_anonymous(cls): # this is a class method, used by all instances of the class. By convention called cls.\n",
    "        return Person('Anonymous', 22)"
   ]
  },
  {
   "cell_type": "code",
   "execution_count": 73,
   "id": "7468a70d-b1e6-43fc-8e6b-36c8529f8325",
   "metadata": {},
   "outputs": [
    {
     "name": "stdout",
     "output_type": "stream",
     "text": [
      "Hi, it's Peter.\n"
     ]
    }
   ],
   "source": [
    "print(person.greet())"
   ]
  },
  {
   "cell_type": "code",
   "execution_count": 74,
   "id": "8f98b9a3-4b68-4d58-bb7a-98b31b467a73",
   "metadata": {},
   "outputs": [
    {
     "data": {
      "text/plain": [
       "6"
      ]
     },
     "execution_count": 74,
     "metadata": {},
     "output_type": "execute_result"
    }
   ],
   "source": [
    "Person.counter"
   ]
  },
  {
   "cell_type": "code",
   "execution_count": 75,
   "id": "55355d42-4f6a-4c2c-99e5-132326f41f28",
   "metadata": {},
   "outputs": [],
   "source": [
    "person = Person('Peter', 35)"
   ]
  },
  {
   "cell_type": "code",
   "execution_count": 76,
   "id": "a6e74fc1-f6a4-4f3a-a1f3-476aadd8780a",
   "metadata": {},
   "outputs": [
    {
     "name": "stdout",
     "output_type": "stream",
     "text": [
      "9\n"
     ]
    }
   ],
   "source": [
    "p1 = Person('John', 25)\n",
    "p2 = Person('Jane', 22)\n",
    "print(Person.counter)"
   ]
  },
  {
   "cell_type": "code",
   "execution_count": 77,
   "id": "46e70f97-baa0-4464-a8de-93f702aea81c",
   "metadata": {},
   "outputs": [
    {
     "name": "stdout",
     "output_type": "stream",
     "text": [
      "Anonymous 22\n"
     ]
    }
   ],
   "source": [
    "anonymous = Person.create_anonymous()\n",
    "print(anonymous.name, anonymous.age)  # Anonymous"
   ]
  },
  {
   "cell_type": "code",
   "execution_count": 78,
   "id": "6bc840ed-2197-4c5c-9610-4697a4f72d8a",
   "metadata": {},
   "outputs": [],
   "source": [
    "class TemperatureConverter:\n",
    "    @staticmethod # this is the decorator that decorates a static method\n",
    "    def celsius_to_fahrenheit(c):\n",
    "        return 9 * c / 5 + 32\n",
    "\n",
    "    @staticmethod\n",
    "    def fahrenheit_to_celsius(f):\n",
    "        return 5 * (f - 32) / 9"
   ]
  },
  {
   "cell_type": "code",
   "execution_count": 79,
   "id": "6e6490f6-c62e-4572-9552-2afee964e19c",
   "metadata": {},
   "outputs": [
    {
     "name": "stdout",
     "output_type": "stream",
     "text": [
      "86.0\n"
     ]
    }
   ],
   "source": [
    "f = TemperatureConverter.celsius_to_fahrenheit(30)\n",
    "print(f)  # 86"
   ]
  },
  {
   "cell_type": "code",
   "execution_count": 80,
   "id": "f279b434-9f4b-44c9-8bb4-e1b93c6465ec",
   "metadata": {},
   "outputs": [
    {
     "name": "stdout",
     "output_type": "stream",
     "text": [
      "30.0\n"
     ]
    }
   ],
   "source": [
    "f = TemperatureConverter.fahrenheit_to_celsius(86)\n",
    "print(f)  # 86"
   ]
  },
  {
   "cell_type": "code",
   "execution_count": 81,
   "id": "308bdf89-7538-4b18-816d-50a859d2a4c9",
   "metadata": {},
   "outputs": [],
   "source": [
    "class Employee(Person):\n",
    "    def __init__(self, name, age, job_title):\n",
    "        super().__init__(name, age)\n",
    "        self.job_title = job_title\n",
    "\n",
    "    def greet(self):\n",
    "        return super().greet() + f\" I'm a {self.job_title}.\""
   ]
  },
  {
   "cell_type": "code",
   "execution_count": 82,
   "id": "b34e656e-e7c8-44f0-b6f5-c8332c5627e6",
   "metadata": {},
   "outputs": [
    {
     "name": "stdout",
     "output_type": "stream",
     "text": [
      "Hi, it's John. I'm a Python Developer.\n"
     ]
    }
   ],
   "source": [
    "employee = Employee('John', 25, 'Python Developer')\n",
    "print(employee.greet())"
   ]
  },
  {
   "cell_type": "code",
   "execution_count": 83,
   "id": "5f188215-0283-459f-9f18-e0e6dcefc594",
   "metadata": {},
   "outputs": [],
   "source": [
    "class HtmlDocument:\n",
    "   pass"
   ]
  },
  {
   "cell_type": "code",
   "execution_count": 84,
   "id": "3a295887-895e-46fd-8336-09a54464007a",
   "metadata": {},
   "outputs": [
    {
     "name": "stdout",
     "output_type": "stream",
     "text": [
      "HtmlDocument\n"
     ]
    }
   ],
   "source": [
    "print(HtmlDocument.__name__) # HtmlDocument"
   ]
  },
  {
   "cell_type": "code",
   "execution_count": 85,
   "id": "c228f9eb-947a-4c6f-8702-c5ea32257a2d",
   "metadata": {},
   "outputs": [
    {
     "name": "stdout",
     "output_type": "stream",
     "text": [
      "<class 'type'>\n"
     ]
    }
   ],
   "source": [
    "print(type(HtmlDocument))  # <class 'type'>"
   ]
  },
  {
   "cell_type": "code",
   "execution_count": 86,
   "id": "3eecb2b3-7eb9-4c24-959c-1943fb11cd11",
   "metadata": {},
   "outputs": [
    {
     "name": "stdout",
     "output_type": "stream",
     "text": [
      "True\n"
     ]
    }
   ],
   "source": [
    "print(isinstance(HtmlDocument, type)) # True"
   ]
  },
  {
   "cell_type": "code",
   "execution_count": 93,
   "id": "23b4b687-6d37-427e-a092-e952aaf5b3f2",
   "metadata": {},
   "outputs": [],
   "source": [
    "class HtmlDocument:\n",
    "    extension = 'html' # this class variable is bound to the class. Will it appear an an instance of the class? yes\n",
    "    version = '5'"
   ]
  },
  {
   "cell_type": "code",
   "execution_count": 94,
   "id": "68c56611-31b9-4a97-bdb2-de686dc698c9",
   "metadata": {},
   "outputs": [
    {
     "name": "stdout",
     "output_type": "stream",
     "text": [
      "5\n"
     ]
    }
   ],
   "source": [
    "h = HtmlDocument\n",
    "print(h.version) # specify a class variable with a ."
   ]
  },
  {
   "cell_type": "code",
   "execution_count": 95,
   "id": "f8ec0f7f-09e4-4d6b-8458-5086a4291444",
   "metadata": {},
   "outputs": [
    {
     "ename": "AttributeError",
     "evalue": "type object 'HtmlDocument' has no attribute 'media_type'",
     "output_type": "error",
     "traceback": [
      "\u001b[0;31m---------------------------------------------------------------------------\u001b[0m",
      "\u001b[0;31mAttributeError\u001b[0m                            Traceback (most recent call last)",
      "\u001b[0;32m/tmp/ipykernel_550460/3148859166.py\u001b[0m in \u001b[0;36m<module>\u001b[0;34m\u001b[0m\n\u001b[0;32m----> 1\u001b[0;31m \u001b[0mHtmlDocument\u001b[0m\u001b[0;34m.\u001b[0m\u001b[0mmedia_type\u001b[0m\u001b[0;34m\u001b[0m\u001b[0;34m\u001b[0m\u001b[0m\n\u001b[0m",
      "\u001b[0;31mAttributeError\u001b[0m: type object 'HtmlDocument' has no attribute 'media_type'"
     ]
    }
   ],
   "source": [
    "HtmlDocument.media_type # if it doesn't exist it throws an error."
   ]
  },
  {
   "cell_type": "code",
   "execution_count": 99,
   "id": "f6189b48-20d2-4a95-98f0-28d0fbbe5d5e",
   "metadata": {},
   "outputs": [
    {
     "name": "stdout",
     "output_type": "stream",
     "text": [
      "text/html\n"
     ]
    }
   ],
   "source": [
    "# but you can create it dynamically\n",
    "media_type = getattr(HtmlDocument, 'media_type', 'text/html')\n",
    "print(media_type) # text/html"
   ]
  },
  {
   "cell_type": "code",
   "execution_count": 100,
   "id": "f7c58b7f-21df-4b75-8403-428711e71039",
   "metadata": {},
   "outputs": [
    {
     "name": "stdout",
     "output_type": "stream",
     "text": [
      "text/html\n"
     ]
    }
   ],
   "source": [
    "# You can set a class variable dynamically. 'media_type' didn't exist before we created it here.\n",
    "print(getattr(HtmlDocument, 'media_type', 'text/html')) # text/html"
   ]
  },
  {
   "cell_type": "code",
   "execution_count": 101,
   "id": "0366cc88-4e32-4ec8-aa4c-5cea23a55df0",
   "metadata": {},
   "outputs": [
    {
     "name": "stdout",
     "output_type": "stream",
     "text": [
      "mappingproxy({'__dict__': <attribute '__dict__' of 'HtmlDocument' objects>,\n",
      "              '__doc__': None,\n",
      "              '__module__': '__main__',\n",
      "              '__weakref__': <attribute '__weakref__' of 'HtmlDocument' objects>,\n",
      "              'extension': 'html',\n",
      "              'media_type': 'text/html',\n",
      "              'version': '5'})\n"
     ]
    }
   ],
   "source": [
    "from pprint import pprint\n",
    "\n",
    "\n",
    "class HtmlDocument:\n",
    "    extension = 'html'\n",
    "    version = '5'\n",
    "\n",
    "\n",
    "HtmlDocument.media_type = 'text/html'\n",
    "\n",
    "pprint(HtmlDocument.__dict__)"
   ]
  },
  {
   "cell_type": "code",
   "execution_count": 103,
   "id": "2505a193-ad8e-4733-9136-941618510252",
   "metadata": {},
   "outputs": [
    {
     "name": "stdout",
     "output_type": "stream",
     "text": [
      "mappingproxy({'__dict__': <attribute '__dict__' of 'HtmlDocument' objects>,\n",
      "              '__doc__': None,\n",
      "              '__module__': '__main__',\n",
      "              '__weakref__': <attribute '__weakref__' of 'HtmlDocument' objects>,\n",
      "              'extension': 'html',\n",
      "              'render': <function HtmlDocument.render at 0x7f3aec7f5820>,\n",
      "              'version': '5'})\n"
     ]
    }
   ],
   "source": [
    "from pprint import pprint\n",
    "\n",
    "\n",
    "class HtmlDocument:\n",
    "    extension = 'html'\n",
    "    version = '5'\n",
    "\n",
    "    def render():\n",
    "        print('Rendering the Html doc...')\n",
    "\n",
    "\n",
    "pprint(HtmlDocument.__dict__)"
   ]
  },
  {
   "cell_type": "code",
   "execution_count": 142,
   "id": "84db9cdb-9bb8-4af2-ba41-01760078b688",
   "metadata": {},
   "outputs": [],
   "source": [
    "# a method is a function that is bound to an instance of a class. \n",
    "class Request:\n",
    "    def send(): # send only works in the context of the class Request\n",
    "        print('Sent')"
   ]
  },
  {
   "cell_type": "code",
   "execution_count": 143,
   "id": "360ee4d6-296a-4635-8b46-54dbf2d303c5",
   "metadata": {},
   "outputs": [
    {
     "name": "stdout",
     "output_type": "stream",
     "text": [
      "Sent\n"
     ]
    }
   ],
   "source": [
    "Request.send() # Sent"
   ]
  },
  {
   "cell_type": "code",
   "execution_count": 144,
   "id": "94216bc4-c038-4366-b087-d816cf3ae703",
   "metadata": {},
   "outputs": [
    {
     "name": "stdout",
     "output_type": "stream",
     "text": [
      "<function Request.send at 0x7f3aec7f5f70>\n"
     ]
    }
   ],
   "source": [
    "print(Request.send)"
   ]
  },
  {
   "cell_type": "code",
   "execution_count": 145,
   "id": "d794f638-2b3f-4d75-827b-edfcda7fc85e",
   "metadata": {},
   "outputs": [
    {
     "name": "stdout",
     "output_type": "stream",
     "text": [
      "<class 'function'>\n"
     ]
    }
   ],
   "source": [
    "print(type(Request.send))"
   ]
  },
  {
   "cell_type": "code",
   "execution_count": 146,
   "id": "87e0ad1a-d191-41d2-a6c3-ac3c7aaa4c95",
   "metadata": {},
   "outputs": [],
   "source": [
    "http_request = Request()"
   ]
  },
  {
   "cell_type": "code",
   "execution_count": 147,
   "id": "76e24043-41ee-4d36-8867-d49824dce937",
   "metadata": {},
   "outputs": [
    {
     "name": "stdout",
     "output_type": "stream",
     "text": [
      "<bound method Request.send of <__main__.Request object at 0x7f3aec979280>>\n"
     ]
    }
   ],
   "source": [
    "print(http_request.send)"
   ]
  },
  {
   "cell_type": "code",
   "execution_count": 148,
   "id": "49178265-38c9-4b0f-b305-cc10aea07739",
   "metadata": {},
   "outputs": [
    {
     "name": "stdout",
     "output_type": "stream",
     "text": [
      "False\n"
     ]
    }
   ],
   "source": [
    "print(type(Request.send) is type(http_request.send))"
   ]
  },
  {
   "cell_type": "code",
   "execution_count": 149,
   "id": "353b328b-c132-4753-b880-0af8c78e8162",
   "metadata": {},
   "outputs": [
    {
     "name": "stdout",
     "output_type": "stream",
     "text": [
      "<class 'method'>\n",
      "<class 'function'>\n"
     ]
    }
   ],
   "source": [
    "print(type(http_request.send))  # <class 'method'>\n",
    "print(type(Request.send))  # <class 'function'>"
   ]
  },
  {
   "cell_type": "code",
   "execution_count": 121,
   "id": "6d9755f6-d116-4077-9a01-b499bf9b013c",
   "metadata": {},
   "outputs": [
    {
     "name": "stdout",
     "output_type": "stream",
     "text": [
      "True\n"
     ]
    }
   ],
   "source": [
    "b1 = 'blue'\n",
    "b2 = 'blue'\n",
    "\n",
    "print(b1 is b2) # is is equivalent to == for this case."
   ]
  },
  {
   "cell_type": "code",
   "execution_count": 151,
   "id": "20b6e67b-4c83-4f16-8f1d-4c37cf83650d",
   "metadata": {},
   "outputs": [],
   "source": [
    "class Request:\n",
    "    def send(*args):\n",
    "        print('Sent', args)"
   ]
  },
  {
   "cell_type": "code",
   "execution_count": 154,
   "id": "3de1c8a6-3733-408b-bce6-615feafe2323",
   "metadata": {},
   "outputs": [
    {
     "name": "stdout",
     "output_type": "stream",
     "text": [
      "Sent ()\n"
     ]
    }
   ],
   "source": [
    "Request.send() \n",
    "http_request = Request() # you have to create an instance of the Request after you have added the handler for the object sent"
   ]
  },
  {
   "cell_type": "code",
   "execution_count": 155,
   "id": "2d137fc3-5e3c-4a02-ba7d-a95b293dd34a",
   "metadata": {},
   "outputs": [
    {
     "name": "stdout",
     "output_type": "stream",
     "text": [
      "Sent (<__main__.Request object at 0x7f3aec811160>,)\n"
     ]
    }
   ],
   "source": [
    "http_request.send() #  this won't work because python always passes the object to the method as the first argument.\n",
    "# and even though you don't see this, it is there. The method gets it and can't do anything with it."
   ]
  },
  {
   "cell_type": "code",
   "execution_count": 156,
   "id": "933ad0f2-2ae9-4c1f-a02c-3f4d0f931313",
   "metadata": {},
   "outputs": [],
   "source": [
    "# a method of an object always has the object as the first argument. By convention, it is called self\n",
    "class Request:\n",
    "    def send(self):\n",
    "        print('Sent', self)"
   ]
  },
  {
   "cell_type": "code",
   "execution_count": 159,
   "id": "93030aa8-eeba-4767-8744-6d9c66a1779e",
   "metadata": {},
   "outputs": [
    {
     "name": "stdout",
     "output_type": "stream",
     "text": [
      "I'm John. I'm 25 years old.\n"
     ]
    }
   ],
   "source": [
    "class Person:\n",
    "    def __init__(self, name, age): # called the dunder init, double underscores on either side of the word init\n",
    "                                    # never refer to a dunder variable, they are only to be used by internally. Don't ever call a dunder.\n",
    "        self.name = name\n",
    "        self.age = age\n",
    "\n",
    "\n",
    "if __name__ == '__main__':  # I guess this is the exception to never using the dunder variables...\n",
    "    person = Person('John', 25)\n",
    "    print(f\"I'm {person.name}. I'm {person.age} years old.\")\n"
   ]
  },
  {
   "cell_type": "code",
   "execution_count": 161,
   "id": "edd1a73e-4b26-4d3e-9ff7-b80a0eecfc60",
   "metadata": {},
   "outputs": [
    {
     "name": "stdout",
     "output_type": "stream",
     "text": [
      "I'm John. I'm 22 years old.\n",
      "I'm John. I'm 45 years old.\n"
     ]
    }
   ],
   "source": [
    "class Person:\n",
    "    def __init__(self, name, age=22): # age has a default value in this class\n",
    "        self.name = name\n",
    "        self.age = age\n",
    "\n",
    "\n",
    "if __name__ == '__main__':\n",
    "    person = Person('John') # because it has a default age speficied in __init__ you don't need to specify it. Unless you want a different age\n",
    "    print(f\"I'm {person.name}. I'm {person.age} years old.\")\n",
    "    \n",
    "if __name__ == '__main__':\n",
    "    person = Person('John', age = 45) # because it has a default age speficied in __init__ you don't need to specify it. Unless you want a different age\n",
    "    print(f\"I'm {person.name}. I'm {person.age} years old.\")\n"
   ]
  },
  {
   "cell_type": "code",
   "execution_count": 186,
   "id": "731e6800-5706-403a-8d6b-977c12969210",
   "metadata": {},
   "outputs": [
    {
     "name": "stdout",
     "output_type": "stream",
     "text": [
      "mappingproxy({'__dict__': <attribute '__dict__' of 'HtmlDocument' objects>,\n",
      "              '__doc__': None,\n",
      "              '__module__': '__main__',\n",
      "              '__weakref__': <attribute '__weakref__' of 'HtmlDocument' objects>,\n",
      "              'extension': 'html',\n",
      "              'version': 5})\n",
      "html\n"
     ]
    }
   ],
   "source": [
    "from pprint import pprint\n",
    "\n",
    "\n",
    "class HtmlDocument:\n",
    "    version = 5\n",
    "    extension = 'html'\n",
    "\n",
    "\n",
    "from pprint import pprint\n",
    "\n",
    "\n",
    "class HtmlDocument:\n",
    "    version = 5\n",
    "    extension = 'html'\n",
    "\n",
    "\n",
    "pprint(HtmlDocument.__dict__) # pprint is a pretty printer for complex objects. It does an especially nice job on dictionaries. But it sorts them\n",
    "\n",
    "\n",
    "print(HtmlDocument.extension)\n"
   ]
  },
  {
   "cell_type": "code",
   "execution_count": 187,
   "id": "0d326461-3e9c-46c5-95a5-9c8ef8ba7aef",
   "metadata": {},
   "outputs": [
    {
     "name": "stdout",
     "output_type": "stream",
     "text": [
      "{}\n",
      "<class 'dict'>\n"
     ]
    }
   ],
   "source": [
    "home = HtmlDocument()\n",
    "pprint(home.__dict__)\n",
    "print(type(home.__dict__))"
   ]
  },
  {
   "cell_type": "code",
   "execution_count": 188,
   "id": "dcb41c51-d5d7-4199-b3c3-63fd730bf362",
   "metadata": {},
   "outputs": [
    {
     "name": "stdout",
     "output_type": "stream",
     "text": [
      "html\n",
      "5\n"
     ]
    }
   ],
   "source": [
    "print(home.extension) # In this case, Python looks up the variables extension and version in home.__dict__ first.\n",
    "# If it doesn’t find them there, it’ll go up to the class and look up in the HtmlDocument.__dict__.\n",
    "print(home.version)"
   ]
  },
  {
   "cell_type": "code",
   "execution_count": 189,
   "id": "595921c2-163b-4875-8e43-225dba54ebf0",
   "metadata": {},
   "outputs": [],
   "source": [
    "home.version = 6"
   ]
  },
  {
   "cell_type": "code",
   "execution_count": 190,
   "id": "99cb3ed6-08d9-4263-89e7-cd53c020ec26",
   "metadata": {},
   "outputs": [
    {
     "name": "stdout",
     "output_type": "stream",
     "text": [
      "html\n",
      "6\n"
     ]
    }
   ],
   "source": [
    "print(home.extension) # In this case, Python looks up the variables extension and version in home.__dict__ first.\n",
    "# If it doesn’t find them there, it’ll go up to the class and look up in the HtmlDocument.__dict__.\n",
    "print(home.version) # it found the version in home instance and didn't need to go up to the Class."
   ]
  },
  {
   "cell_type": "code",
   "execution_count": 191,
   "id": "39160dab-b24b-427a-80b1-c386acaeffd5",
   "metadata": {},
   "outputs": [
    {
     "name": "stdout",
     "output_type": "stream",
     "text": [
      "{'version': 6}\n"
     ]
    }
   ],
   "source": [
    "print(home.__dict__)"
   ]
  },
  {
   "cell_type": "code",
   "execution_count": 192,
   "id": "2a6bdf01-f409-4a00-892c-ac694915de25",
   "metadata": {},
   "outputs": [
    {
     "name": "stdout",
     "output_type": "stream",
     "text": [
      "No media type\n",
      "text/html\n"
     ]
    }
   ],
   "source": [
    "try: print(home.media_type)\n",
    "except: print('No media type')\n",
    "HtmlDocument.media_type = 'text/html'\n",
    "print(home.media_type)"
   ]
  },
  {
   "cell_type": "code",
   "execution_count": 193,
   "id": "424729c3-9785-493a-af7c-eb848b197d29",
   "metadata": {},
   "outputs": [],
   "source": [
    "class HtmlDocument:\n",
    "    version = 5\n",
    "    extension = 'html'\n",
    "\n",
    "    def __init__(self, name, contents):\n",
    "        self.name = name\n",
    "        self.contents = contents"
   ]
  },
  {
   "cell_type": "code",
   "execution_count": 202,
   "id": "e9415f4c-f72a-4efe-9bea-19551408949b",
   "metadata": {},
   "outputs": [
    {
     "name": "stdout",
     "output_type": "stream",
     "text": [
      "{'name': 'Harold', 'contents': 'stuff & nonsense'}\n"
     ]
    }
   ],
   "source": [
    "try: blank = HtmlDocument()\n",
    "except: blank = HtmlDocument('Harold','stuff & nonsense')\n",
    "pprint(blank.__dict__, sort_dicts=False) # please don't reorder my dictionary by alphabetizing it. Thank you."
   ]
  },
  {
   "cell_type": "code",
   "execution_count": 203,
   "id": "251e4209-53f6-4a7e-afa3-c1bf2d236498",
   "metadata": {},
   "outputs": [
    {
     "name": "stdout",
     "output_type": "stream",
     "text": [
      "Harold stuff & nonsense\n"
     ]
    }
   ],
   "source": [
    "print(blank.name, blank.contents)"
   ]
  },
  {
   "cell_type": "markdown",
   "id": "d10dadad-1d06-4195-8f8c-8b709f69e7bf",
   "metadata": {},
   "source": [
    "Summary\n",
    "Instance variables are bound to a specific instance of a class.\n",
    "Python stores instance variables in the \\__dict__ attribute of the instance. Each instance has its own \\__dict__ attribute and the keys in this \\__dict__ may be different.\n",
    "When you access a variable via the instance, Python finds the variable in the \\__dict__ attribute of the instance. If it cannot find the variable, it goes up and look it up in the \\__dict__ attribute of the class."
   ]
  },
  {
   "cell_type": "markdown",
   "id": "a81266da-32a4-4ce9-a163-b92d7794dd7b",
   "metadata": {},
   "source": [
    "## Introduction to Python class methods\n",
    "So far, you learned about instance methods that are bound to a specific instance of a class.\n",
    "\n",
    "Instance methods can access instance variables within the same class. To invoke instance methods, you need to create an instance of the class first.\n",
    "\n",
    "The following defines the Person class:"
   ]
  },
  {
   "cell_type": "code",
   "execution_count": 205,
   "id": "e973e9a3-b896-49e4-b9c7-952eb9d60e3d",
   "metadata": {},
   "outputs": [],
   "source": [
    "class Person:\n",
    "    def __init__(self, first_name, last_name, age):\n",
    "        self.first_name = first_name\n",
    "        self.last_name = last_name\n",
    "        self.age = age\n",
    "\n",
    "    def get_full_name(self):\n",
    "        return f\"{self.first_name} {self.last_name}\"\n",
    "\n",
    "    def introduce(self):\n",
    "        return f\"Hi. I'm {self.first_name} {self.last_name}. I'm {self.age} years old.\"\n",
    "    \n",
    "    def create_anonymous(self):\n",
    "        return Person('John','Doe', 25)"
   ]
  },
  {
   "cell_type": "code",
   "execution_count": 210,
   "id": "267528ce-218a-4b14-99b1-b6dba61d702e",
   "metadata": {},
   "outputs": [],
   "source": [
    "# A class method isn’t bound to any specific instance. It’s bound to the class only.\n",
    "class Person:\n",
    "    def __init__(self, first_name, last_name, age):\n",
    "        self.first_name = first_name\n",
    "        self.last_name = last_name\n",
    "        self.age = age\n",
    "\n",
    "    def get_full_name(self):\n",
    "        return f\"{self.first_name} {self.last_name}\"\n",
    "\n",
    "    def introduce(self):\n",
    "        return f\"Hi. I'm {self.first_name} {self.last_name}. I'm {self.age} years old.\"\n",
    "\n",
    "    @classmethod # this makes the method that follows into a class method, only applicable to the class\n",
    "                # it is also called a factory method, because in manufactures a new instance of the person class \n",
    "    def create_anonymous(cls):\n",
    "        return Person('John', 'Doe', 25)\n"
   ]
  },
  {
   "cell_type": "code",
   "execution_count": 211,
   "id": "2dff1a85-844c-4349-9313-32a2f2f84f16",
   "metadata": {},
   "outputs": [
    {
     "name": "stdout",
     "output_type": "stream",
     "text": [
      "Hi. I'm John Doe. I'm 25 years old.\n"
     ]
    }
   ],
   "source": [
    "anonymous = Person.create_anonymous()\n",
    "print(anonymous.introduce())\n"
   ]
  },
  {
   "cell_type": "markdown",
   "id": "e87e78f9-cfc7-4fa5-a4c8-14b16a3e2017",
   "metadata": {},
   "source": [
    "## Introduction to encapsulation in Python\n",
    "Encapsulation is one of the four fundamental concepts in object-oriented programming including <strong>abstraction, encapsulation, inheritance, and polymorphism.</strong>\n",
    "\n",
    "<strong>Encapsulation</strong> is the packing of data and functions that work on that data within a single object. By doing so, you can hide the internal state of the object from the outside. This is known as information hiding.\n",
    "\n",
    "A class is an example of encapsulation. A class bundles data and methods into a single unit. And a class provides the access to its attributes via methods.\n",
    "\n",
    "The idea of information hiding is that if you have an attribute that isn’t visible to the outside, you can control the access to its value to make sure your object is always has a valid state.\n",
    "\n",
    "Let’s take a look at an example to better understand the encapsulation concept."
   ]
  },
  {
   "cell_type": "code",
   "execution_count": 212,
   "id": "f827cafb-523b-4d8d-b6c0-2406ddbe31ce",
   "metadata": {},
   "outputs": [],
   "source": [
    "class Counter:\n",
    "    def __init__(self):\n",
    "        self.current = 0\n",
    "\n",
    "    def increment(self):\n",
    "        self.current += 1\n",
    "\n",
    "    def value(self):\n",
    "        return self.current\n",
    "\n",
    "    def reset(self):\n",
    "        self.current = 0\n"
   ]
  },
  {
   "cell_type": "code",
   "execution_count": 213,
   "id": "aa0553b9-20ec-4c11-bdab-ce9b853a02b2",
   "metadata": {},
   "outputs": [
    {
     "name": "stdout",
     "output_type": "stream",
     "text": [
      "3\n"
     ]
    }
   ],
   "source": [
    "counter = Counter()\n",
    "\n",
    "\n",
    "counter.increment()\n",
    "counter.increment()\n",
    "counter.increment()\n",
    "\n",
    "print(counter.value())\n"
   ]
  },
  {
   "cell_type": "code",
   "execution_count": 215,
   "id": "3259c6f4-d61b-406c-a147-d4baea357fb8",
   "metadata": {},
   "outputs": [
    {
     "name": "stdout",
     "output_type": "stream",
     "text": [
      "-999\n"
     ]
    }
   ],
   "source": [
    "counter = Counter()\n",
    "\n",
    "counter.increment()\n",
    "counter.increment()\n",
    "counter.current = -999 # programmers can change the value without using the proven logic built into the class to make the change.\n",
    "\n",
    "print(counter.value())"
   ]
  },
  {
   "cell_type": "markdown",
   "id": "a4733709-7974-417a-b011-770ccd696590",
   "metadata": {},
   "source": [
    "### Private attributes\n",
    "Private attributes can be only accessible from the methods of the class. In other words, they cannot be accessible from outside of the class.\n",
    "\n",
    "Python doesn’t have a concept of private attributes. In other words, all attributes are accessible from the outside of a class.\n",
    "\n",
    "By <strong>convention</strong>, you can define a private attribute by prefixing a single underscore (_):"
   ]
  },
  {
   "cell_type": "code",
   "execution_count": 216,
   "id": "d8bf5f6f-8f44-4a19-8038-fe3a6ef54161",
   "metadata": {},
   "outputs": [],
   "source": [
    "class Counter:\n",
    "    def __init__(self):\n",
    "        self._current = 0\n",
    "\n",
    "    def increment(self):\n",
    "        self._current += 1\n",
    "\n",
    "    def value(self):\n",
    "        return self._current\n",
    "\n",
    "    def reset(self):\n",
    "        self._current = 0\n"
   ]
  },
  {
   "cell_type": "code",
   "execution_count": 221,
   "id": "a07be7cd-a43b-4e1f-9c9a-b940a27bea0a",
   "metadata": {},
   "outputs": [
    {
     "name": "stdout",
     "output_type": "stream",
     "text": [
      "2\n",
      "<__main__.Counter object at 0x7f3aec811670>\n"
     ]
    }
   ],
   "source": [
    "counter = Counter()\n",
    "\n",
    "counter.increment()\n",
    "counter.increment()\n",
    "counter.current = -999 # programmers can change the value without using the proven logic built into the class to make the change. But they\n",
    "# have to use an underscore, which should make them think twice about accesing the attribute in this way. \n",
    "\n",
    "print(counter.value())\n",
    "pprint(counter)"
   ]
  },
  {
   "cell_type": "code",
   "execution_count": 222,
   "id": "6629d163-8448-4bc7-82e0-9ccfcfa29fff",
   "metadata": {},
   "outputs": [],
   "source": [
    "class Counter:\n",
    "    def __init__(self):\n",
    "        self.__current = 0\n",
    "\n",
    "    def increment(self):\n",
    "        self.__current += 1\n",
    "\n",
    "    def value(self):\n",
    "        return self.__current\n",
    "\n",
    "    def reset(self):\n",
    "        self.__current = 0"
   ]
  },
  {
   "cell_type": "code",
   "execution_count": 257,
   "id": "46894b83-a2d2-4220-949d-3e3f4aa88607",
   "metadata": {},
   "outputs": [
    {
     "name": "stdout",
     "output_type": "stream",
     "text": [
      "can't access __current\n"
     ]
    }
   ],
   "source": [
    "counter = Counter()\n",
    "try: print(counter.__current)\n",
    "except: print(\"can't access __current\")"
   ]
  },
  {
   "cell_type": "code",
   "execution_count": 225,
   "id": "f532ecdb-cad4-4679-a8e8-bc54e84cd167",
   "metadata": {},
   "outputs": [
    {
     "name": "stdout",
     "output_type": "stream",
     "text": [
      "0\n"
     ]
    }
   ],
   "source": [
    "counter = Counter()\n",
    "print(counter._Counter__current) # name of the variable __current is mangled to _Counter__current. Tricky."
   ]
  },
  {
   "cell_type": "markdown",
   "id": "788c1c53-10aa-492a-a559-d91aa1f3abe1",
   "metadata": {},
   "source": [
    "### Summary\n",
    "Encapsulation is the packing of data and methods into a class so that you can hide the information and restrict access from outside.\n",
    "Prefix an attribute with a single underscore (_) to make it private by convention.\n",
    "Prefix an attribute with double underscores (__) to use the name mangling."
   ]
  },
  {
   "cell_type": "markdown",
   "id": "d08caf6e-5c38-41c1-bdb7-277e857cf99d",
   "metadata": {},
   "source": [
    "## Python Class Attributes"
   ]
  },
  {
   "cell_type": "code",
   "execution_count": 240,
   "id": "da3f5e8a-0868-4589-808f-35c2acaf9c53",
   "metadata": {},
   "outputs": [],
   "source": [
    "import numpy as np\n",
    "class Circle:\n",
    "    def __init__(self, radius):\n",
    "        self.pi = np.pi # this is an instance variable, every instance can have a different value\n",
    "        self.radius = radius # another instance variable\n",
    "\n",
    "    def area(self):\n",
    "        return self.pi * self.radius**2\n",
    "\n",
    "    def circumference(self):\n",
    "        return 2*self.pi * self.radius"
   ]
  },
  {
   "cell_type": "code",
   "execution_count": 241,
   "id": "5d729034-a86e-4b19-b30d-e8e0c3c8c687",
   "metadata": {},
   "outputs": [
    {
     "name": "stdout",
     "output_type": "stream",
     "text": [
      "myCircle2.area() = 314.1592653589793, myCircle2.circumference() = 62.83185307179586\n"
     ]
    }
   ],
   "source": [
    "myCircle2 = Circle(10)\n",
    "print(f'{myCircle2.area() = }, {myCircle2.circumference() = }')"
   ]
  },
  {
   "cell_type": "code",
   "execution_count": 242,
   "id": "4a35693a-8fee-4606-ab73-cb1b82638c45",
   "metadata": {},
   "outputs": [
    {
     "name": "stdout",
     "output_type": "stream",
     "text": [
      "myCircle.area() = 3.141592653589793, myCircle.circumference() = 6.283185307179586\n"
     ]
    }
   ],
   "source": [
    "myCircle = Circle(1)\n",
    "print(f'{myCircle.area() = }, {myCircle.circumference() = }')"
   ]
  },
  {
   "cell_type": "markdown",
   "id": "e60a5bc0-76cf-4a2a-b90e-20511138f5de",
   "metadata": {},
   "source": [
    "The Circle class has two attributes pi and radius. It also has two methods that calculate the area and circumference of a circle.\n",
    "\n",
    "Both pi and radius are called instance attributes. In other words, they belong to a specific instance of the Circle class. If you change the attributes of an instance, it won’t affect other instances.\n",
    "\n",
    "Besides instance attributes, Python also supports class attributes. The class attributes don’t associate with any specific instance of the class. But they’re shared by all instances of the class.\n",
    "\n",
    "A class attribute must be placed outside of the __init__() method"
   ]
  },
  {
   "cell_type": "code",
   "execution_count": 243,
   "id": "46a0a69b-620a-4179-a4e6-5d1835b50d8b",
   "metadata": {},
   "outputs": [],
   "source": [
    "class Circle:\n",
    "    pi = np.pi\n",
    "    def __init__(self, radius):\n",
    "        self.radius = radius\n",
    "\n",
    "    def area(self):\n",
    "        return self.pi * self.radius**2\n",
    "\n",
    "    def circumference(self):\n",
    "        return 2 * self.pi * self.radius\n"
   ]
  },
  {
   "cell_type": "code",
   "execution_count": 244,
   "id": "e8df0c24-c810-4ad0-8e43-19426f852211",
   "metadata": {},
   "outputs": [
    {
     "name": "stdout",
     "output_type": "stream",
     "text": [
      "myCircle.area() = 3.141592653589793, myCircle.circumference() = 6.283185307179586\n"
     ]
    }
   ],
   "source": [
    "myCircle = Circle(1)\n",
    "print(f'{myCircle.area() = }, {myCircle.circumference() = }')"
   ]
  },
  {
   "cell_type": "code",
   "execution_count": 250,
   "id": "2ae75b5e-4834-4e5e-825c-976bdd36c5a6",
   "metadata": {},
   "outputs": [
    {
     "name": "stdout",
     "output_type": "stream",
     "text": [
      "myCircle.pi = 3.141592653589793\n",
      "Circle.pi = 3.141592653589793\n"
     ]
    }
   ],
   "source": [
    "print(f'{myCircle.pi = }') # you can access the class attribute via instances of the class...\n",
    "print(f'{Circle.pi = }') # or via the class name"
   ]
  },
  {
   "cell_type": "code",
   "execution_count": 252,
   "id": "21b0d2d9-8c9e-42be-9e4e-df66b1b33824",
   "metadata": {},
   "outputs": [],
   "source": [
    "class Test:\n",
    "    x = 10\n",
    "\n",
    "    def __init__(self):\n",
    "        self.x = 20"
   ]
  },
  {
   "cell_type": "code",
   "execution_count": 255,
   "id": "dfff90b3-b146-46b7-a3ff-3a829db22bf1",
   "metadata": {},
   "outputs": [
    {
     "name": "stdout",
     "output_type": "stream",
     "text": [
      "20\n",
      "10\n"
     ]
    }
   ],
   "source": [
    "test = Test()\n",
    "print(test.x)  # 20 # an instance of the class:where it runs __init__() when it is instantiated and there self.x is set to 20\n",
    "print(Test.x)  # 10 # the class itself, where x is set to 10, and __init__() is not executed"
   ]
  },
  {
   "cell_type": "markdown",
   "id": "b0f1a568-ee8e-4127-83ff-3b3575e9211b",
   "metadata": {},
   "source": [
    "## When to use Python class attributes\n",
    "Class attributes are useful in some cases such as storing class constants, tracking data across all instances, and defining default values.\n",
    "\n",
    "1) Storing class constants\n",
    "Since a constant doesn’t change from instance to instance of a class, it’s handy to store it as a class attribute.\n",
    "\n",
    "For example, the Circle class has the pi constant that is the same for all instances of the class. Therefore, it’s a good candidate for the class attributes.\n",
    "\n",
    "2) Tracking data across of all instances\n",
    "The following adds the circle_list class attribute to the Circle class. When you create a new instance of the Circle class, the constructor adds the instance to the list.\n",
    "\n",
    "3) Defining default values\n",
    "Sometimes, you want to set a default value for all instances of a class. In this case, you can use a class attribute.\n",
    "\n",
    "The following example defines a Product class. All the instances of the Product class will have a default discount specified by the default_discount class attribute:\n",
    "\n"
   ]
  },
  {
   "cell_type": "code",
   "execution_count": 260,
   "id": "63746db2-46c9-4024-964c-4383dad776e1",
   "metadata": {},
   "outputs": [],
   "source": [
    "class Circle:\n",
    "    circle_list = []\n",
    "    pi = 3.14159\n",
    "\n",
    "    def __init__(self, radius):\n",
    "        self.radius = radius\n",
    "        # add the instance to the circle list\n",
    "        self.circle_list.append(self)\n",
    "\n",
    "    def area(self):\n",
    "        return self.pi * self.radius**2\n",
    "\n",
    "    def circumference(self):\n",
    "        return 2 * self.pi * self.radius"
   ]
  },
  {
   "cell_type": "code",
   "execution_count": 263,
   "id": "a44da251-3de8-47fe-b986-6db0cb1f304c",
   "metadata": {},
   "outputs": [
    {
     "name": "stdout",
     "output_type": "stream",
     "text": [
      "12\n"
     ]
    }
   ],
   "source": [
    "c1 = Circle(10)\n",
    "c2 = Circle(20)\n",
    "c3 = Circle(30)\n",
    "\n",
    "print(len(Circle.circle_list))  # once for each instance, even if it's the same name"
   ]
  },
  {
   "cell_type": "code",
   "execution_count": 264,
   "id": "b1798067-4a70-4076-8f82-9a860b1ce4da",
   "metadata": {},
   "outputs": [
    {
     "name": "stdout",
     "output_type": "stream",
     "text": [
      "100\n",
      "190.0\n"
     ]
    }
   ],
   "source": [
    "class Product:\n",
    "    default_discount = 0\n",
    "\n",
    "    def __init__(self, price):\n",
    "        self.price = price\n",
    "        self.discount = Product.default_discount\n",
    "\n",
    "    def set_discount(self, discount):\n",
    "        self.discount = discount\n",
    "\n",
    "    def net_price(self):\n",
    "        return self.price * (1 - self.discount)\n",
    "\n",
    "\n",
    "p1 = Product(100)\n",
    "print(p1.net_price())\n",
    " # 100\n",
    "\n",
    "p2 = Product(200)\n",
    "p2.set_discount(0.05)\n",
    "print(p2.net_price())\n",
    " # 190"
   ]
  },
  {
   "cell_type": "markdown",
   "id": "3d2e49f4-ca0e-40a9-bad6-7a3d0d16518f",
   "metadata": {},
   "source": [
    "### Summary\n",
    "A class attribute is shared by all instances of the class. To define a class attribute, you place it outside of the __init__() method.\n",
    "Use class_name.class_attribute or object_name.class_attribute to access the value of the class_attribute.\n",
    "Use class attributes for storing class contants, track data across all instances, and setting default values for all instances of the class."
   ]
  },
  {
   "cell_type": "markdown",
   "id": "9f258a25-e150-4b9a-be29-67aeec0bade8",
   "metadata": {},
   "source": [
    "## Python Static Methods\n",
    "\n",
    "Summary: in this tutorial, you’ll learn about Python static methods and how to use them to create a utility class.\n",
    "\n",
    "<strong>Introduction to Python static methods</strong>\n",
    "\n",
    "So far, you have learned about instance methods that are bound to a specific instance. It means that instance methods can access and modify the state of the bound object.\n",
    "\n",
    "Also, you learned about class methods that are bound to a class. The class methods can access and modify the class state.\n",
    "\n",
    "Unlike instance methods, static methods aren’t bound to an object. In other words, static methods cannot access and modify an object state.\n",
    "\n",
    "In addition, Python doesn’t implicitly pass the cls parameter (or the self parameter) to static methods. Therefore, <strong>static methods cannot access and modify the class’s state.</strong>\n",
    "\n",
    "In practice, you use static methods to define utility methods or group functions that have some logical relationships in a class.\n",
    "\n",
    "To define a static method, you use the @staticmethod decorator:"
   ]
  },
  {
   "cell_type": "code",
   "execution_count": 265,
   "id": "6a3f204a-2754-4ca0-948c-6ae5f63dce4b",
   "metadata": {},
   "outputs": [],
   "source": [
    "class className:\n",
    "    @staticmethod\n",
    "    def static_method_name(param_list):\n",
    "        pass"
   ]
  },
  {
   "cell_type": "code",
   "execution_count": 267,
   "id": "e347ade6-b196-4746-9c68-1eaef9f4fca1",
   "metadata": {},
   "outputs": [],
   "source": [
    "className.static_method_name('have a nice day')"
   ]
  },
  {
   "cell_type": "code",
   "execution_count": 270,
   "id": "62091a7d-7a16-4216-8058-8bd27a25da58",
   "metadata": {},
   "outputs": [
    {
     "name": "stdout",
     "output_type": "stream",
     "text": [
      "<class '__main__.className'>\n"
     ]
    }
   ],
   "source": [
    "pprint(className)"
   ]
  },
  {
   "cell_type": "code",
   "execution_count": 271,
   "id": "abbbed10-4764-4bed-8e52-d97c0ec0ae31",
   "metadata": {},
   "outputs": [],
   "source": [
    "class TemperatureConverter:\n",
    "    KEVIN = 'K',\n",
    "    FAHRENHEIT = 'F'\n",
    "    CELSIUS = 'C'\n",
    "\n",
    "    @staticmethod\n",
    "    def celsius_to_fahrenheit(c):\n",
    "        return 9*c/5 + 32\n",
    "\n",
    "    @staticmethod\n",
    "    def fahrenheit_to_celsius(f):\n",
    "        return 5*(f-32)/9\n",
    "\n",
    "    @staticmethod\n",
    "    def celsius_to_kelvin(c):\n",
    "        return c + 273.15\n",
    "\n",
    "    @staticmethod\n",
    "    def kelvin_to_celsius(k):\n",
    "        return k - 273.15\n",
    "\n",
    "    @staticmethod\n",
    "    def fahrenheit_to_kelvin(f):\n",
    "        return 5*(f+459.67)/9\n",
    "\n",
    "    @staticmethod\n",
    "    def kelvin_to_fahrenheit(k):\n",
    "        return 9*k/5 - 459.67\n",
    "\n",
    "    @staticmethod\n",
    "    def format(value, unit):\n",
    "        symbol = ''\n",
    "        if unit == TemperatureConverter.FAHRENHEIT:\n",
    "            symbol = '°F'\n",
    "        elif unit == TemperatureConverter.CELSIUS:\n",
    "            symbol = '°C'\n",
    "        elif unit == TemperatureConverter.KEVIN:\n",
    "            symbol = '°K'\n",
    "\n",
    "        return f'{value}{symbol}'\n"
   ]
  },
  {
   "cell_type": "code",
   "execution_count": 272,
   "id": "979215cf-ad42-4b40-a368-8a6a2c3c7181",
   "metadata": {},
   "outputs": [
    {
     "name": "stdout",
     "output_type": "stream",
     "text": [
      "95.0°F\n"
     ]
    }
   ],
   "source": [
    "f = TemperatureConverter.celsius_to_fahrenheit(35)\n",
    "print(TemperatureConverter.format(f, TemperatureConverter.FAHRENHEIT))"
   ]
  },
  {
   "cell_type": "markdown",
   "id": "1b91eb84-708d-4032-bbb0-6652abd1c495",
   "metadata": {},
   "source": [
    "## Python __str__\n",
    "\n",
    "Summary: in this tutorial, you’ll learn how to use the Python __str__ method to make a string representation of a class.\n",
    "\n",
    "Introduction to the Python __str__ method\n",
    "Let’s start with the Person class:\n",
    "\n"
   ]
  },
  {
   "cell_type": "code",
   "execution_count": 273,
   "id": "56e918fe-9271-45e2-88e1-1b9fde78d643",
   "metadata": {},
   "outputs": [],
   "source": [
    "class Person:\n",
    "    def __init__(self, first_name, last_name, age):\n",
    "        self.first_name = first_name\n",
    "        self.last_name = last_name\n",
    "        self.age = age"
   ]
  },
  {
   "cell_type": "code",
   "execution_count": 276,
   "id": "dc5390d1-6055-47dc-af99-bc6d10f86441",
   "metadata": {},
   "outputs": [
    {
     "name": "stdout",
     "output_type": "stream",
     "text": [
      "<__main__.Person object at 0x7f3aec1a7160>\n"
     ]
    }
   ],
   "source": [
    "person = Person('John', 'Doe', 25)\n",
    "print(person)"
   ]
  },
  {
   "cell_type": "markdown",
   "id": "0efff246-29f8-491b-8d43-d4accb8214ba",
   "metadata": {},
   "source": [
    "When you use the print() function to display the instance of the Person class, the print() function shows the memory address of that instance.\n",
    "\n",
    "Sometimes, it’s useful to have a string representation of an instance of a class. To customize the string representation of a class instance, the class needs to implement the \\__str__ magic method.\n",
    "\n",
    "Internally, Python will call the \\__str__ method automatically when an instance calls the str() method.\n",
    "\n",
    "Note that the print() function converts all non-keyword arguments to strings by passing them to the str() before displaying the string values.\n",
    "\n",
    "The following illustrates how to implement the \\__str__ method in the Person class:\n",
    "\n"
   ]
  },
  {
   "cell_type": "code",
   "execution_count": 281,
   "id": "70fb5a4e-6677-440c-a023-4958d724ed3a",
   "metadata": {},
   "outputs": [],
   "source": [
    "class Person:\n",
    "    def __init__(self, first_name, last_name, age):\n",
    "        self.first_name = first_name\n",
    "        self.last_name = last_name\n",
    "        self.age = age\n",
    "\n",
    "    def __str__(self): # Python will call the _str_ method automatically when an instance calls the str() method.\n",
    "        return f'Person({self.first_name}, {self.last_name}, {self.age})'"
   ]
  },
  {
   "cell_type": "code",
   "execution_count": 280,
   "id": "63927183-2e4f-47fa-bde6-9b89ace55126",
   "metadata": {},
   "outputs": [
    {
     "name": "stdout",
     "output_type": "stream",
     "text": [
      "Person(John, Doe, 25)\n"
     ]
    }
   ],
   "source": [
    "person = Person('John', 'Doe', 25)\n",
    "print(person)"
   ]
  },
  {
   "cell_type": "markdown",
   "id": "557c0afc-c79a-4250-8bc8-1aae2e6d73f7",
   "metadata": {},
   "source": [
    "## Python \\__repr__\n",
    "\n",
    "Summary: in this tutorial, you’ll learn how to use the Python \\__repr__ dunder method and the difference between the \\__repr__ and \\__str__ methods.\n",
    "\n",
    "Introduction to the Python \\__repr__ magic method\n",
    "The \\__repr__ dunder method defines behavior when you pass an instance of a class to the repr().\n",
    "\n",
    "The \\__repr__ method returns the string representation of an object. Typically, the \\__repr__() returns a string that can be executed and yield the same value as the object.\n",
    "\n",
    "In other words, if you pass the returned string of the object_name.\\__repr__() method to the eval() function, you’ll get the same value as the object_name. Let’s take a look at an example.\n",
    "\n",
    "First, define the Person class with three instance attributes first_name, last_name, and age:"
   ]
  },
  {
   "cell_type": "code",
   "execution_count": 282,
   "id": "e471a833-1fae-4faf-b962-cb98ccf989fd",
   "metadata": {},
   "outputs": [],
   "source": [
    "class Person:\n",
    "    def __init__(self, first_name, last_name, age):\n",
    "        self.first_name = first_name\n",
    "        self.last_name = last_name\n",
    "        self.age = age"
   ]
  },
  {
   "cell_type": "code",
   "execution_count": 283,
   "id": "f0bbb62c-b35e-4447-bf96-dd56ba90a6c2",
   "metadata": {},
   "outputs": [
    {
     "name": "stdout",
     "output_type": "stream",
     "text": [
      "<__main__.Person object at 0x7f3aec15ebe0>\n"
     ]
    }
   ],
   "source": [
    "person = Person('John', 'Doe', 25)\n",
    "print(repr(person))"
   ]
  },
  {
   "cell_type": "code",
   "execution_count": 286,
   "id": "1aa09dae-464f-4882-b431-218426c50202",
   "metadata": {},
   "outputs": [],
   "source": [
    "class Person:\n",
    "    def __init__(self, first_name, last_name, age):\n",
    "        self.first_name = first_name\n",
    "        self.last_name = last_name\n",
    "        self.age = age\n",
    "\n",
    "    def __repr__(self):\n",
    "        return f'Person(\"{self.first_name}\", \"{self.last_name}\", {self.age})'"
   ]
  },
  {
   "cell_type": "code",
   "execution_count": 287,
   "id": "3a120fc2-0e87-4857-976d-3c878680605c",
   "metadata": {},
   "outputs": [
    {
     "name": "stdout",
     "output_type": "stream",
     "text": [
      "Person(\"John\", \"Doe\", 25)\n"
     ]
    }
   ],
   "source": [
    "person = Person('John', 'Doe', 25)\n",
    "print(repr(person))"
   ]
  },
  {
   "cell_type": "markdown",
   "id": "83048c67-8290-4981-b91a-4064b227ccbb",
   "metadata": {},
   "source": [
    "The main difference between \\__str__ and \\__repr__ method is intended audiences.\n",
    "\n",
    "The _\\_str__ method returns a string representation of an object that is human-readable while the \\__repr__ method returns a string representation of an object that is machine-readable. <strong>It can be used to create another instance.</strong>\n",
    "\n",
    "Summary\n",
    "Implement the \\__repr__ method to customize the string representation of an object when repr() is called on it.\n",
    "The \\__str__ calls \\__repr__ internally by default.\n"
   ]
  },
  {
   "cell_type": "code",
   "execution_count": 288,
   "id": "68e44284-5dc3-402c-a292-f1cf76bb035a",
   "metadata": {},
   "outputs": [],
   "source": [
    "class Person:\n",
    "    def __init__(self, first_name, last_name, age):\n",
    "        self.first_name = first_name\n",
    "        self.last_name = last_name\n",
    "        self.age = age"
   ]
  },
  {
   "cell_type": "code",
   "execution_count": 289,
   "id": "54a8dcbc-cae0-45c2-a600-4b1c9141111f",
   "metadata": {},
   "outputs": [],
   "source": [
    "john = Person('John', 'Doe', 25)\n",
    "jane = Person('Jane', 'Doe', 25)"
   ]
  },
  {
   "cell_type": "code",
   "execution_count": 290,
   "id": "ae838a83-1d41-488e-b05e-ec4c0d43bf1a",
   "metadata": {},
   "outputs": [
    {
     "name": "stdout",
     "output_type": "stream",
     "text": [
      "False\n"
     ]
    }
   ],
   "source": [
    "print(john is jane)  # False"
   ]
  },
  {
   "cell_type": "code",
   "execution_count": 291,
   "id": "5ff846d1-f66f-4d1f-a1f6-4ef455df730b",
   "metadata": {},
   "outputs": [
    {
     "name": "stdout",
     "output_type": "stream",
     "text": [
      "False\n"
     ]
    }
   ],
   "source": [
    "print(john == jane) # False"
   ]
  },
  {
   "cell_type": "markdown",
   "id": "b5a62169-2824-407c-9c9e-eec045d50bdd",
   "metadata": {},
   "source": [
    "Since john and jane have the same age, you want them to be equal. In other words, you want the following expression to return True:\n",
    "\n",
    "john == jane\n",
    "To do it, you can implement the \\__eq__ dunder method in the Person class.\n",
    "\n",
    "Python automatically calls the \\__eq__ method of a class when you use the == operator to compare the instances of the class. By default, Python uses the is operator if you don’t provide a specific implementation for the \\__eq__ method.\n",
    "\n",
    "The following shows how to implement the \\__eq__ method in the Person class that returns True if two person objects have the same age:\n",
    "\n"
   ]
  },
  {
   "cell_type": "code",
   "execution_count": 292,
   "id": "614b886a-a9a7-4053-b175-d565432aa525",
   "metadata": {},
   "outputs": [],
   "source": [
    "class Person:\n",
    "    def __init__(self, first_name, last_name, age):\n",
    "        self.first_name = first_name\n",
    "        self.last_name = last_name\n",
    "        self.age = age\n",
    "\n",
    "    def __eq__(self, other):\n",
    "        return self.age == other.age"
   ]
  },
  {
   "cell_type": "code",
   "execution_count": 293,
   "id": "dee6ab04-af67-4f41-a0c4-d286eb6c4da1",
   "metadata": {},
   "outputs": [
    {
     "name": "stdout",
     "output_type": "stream",
     "text": [
      "True\n"
     ]
    }
   ],
   "source": [
    "john = Person('John', 'Doe', 25)\n",
    "jane = Person('Jane', 'Doe', 25)\n",
    "print(john == jane)  # True"
   ]
  },
  {
   "cell_type": "code",
   "execution_count": 294,
   "id": "45247197-8c87-470f-8135-cdc8ff4f8883",
   "metadata": {},
   "outputs": [
    {
     "name": "stdout",
     "output_type": "stream",
     "text": [
      "False\n"
     ]
    }
   ],
   "source": [
    "john = Person('John', 'Doe', 25)\n",
    "mary = Person('Mary', 'Doe', 27)\n",
    "print(john == mary)  # False"
   ]
  },
  {
   "cell_type": "code",
   "execution_count": 296,
   "id": "229d37d7-c295-451e-bbe4-92280403b70a",
   "metadata": {},
   "outputs": [
    {
     "name": "stdout",
     "output_type": "stream",
     "text": [
      "cannot compare and integer with an object\n"
     ]
    }
   ],
   "source": [
    "john = Person('John', 'Doe', 25)\n",
    "try: print(john == 20)\n",
    "except: print('cannot compare and integer with an object')"
   ]
  },
  {
   "cell_type": "code",
   "execution_count": 297,
   "id": "e8288e6a-6867-4f6f-9fd7-a90e71b8e0bc",
   "metadata": {},
   "outputs": [
    {
     "name": "stdout",
     "output_type": "stream",
     "text": [
      "True\n",
      "False\n",
      "False\n"
     ]
    }
   ],
   "source": [
    "class Person:\n",
    "    def __init__(self, first_name, last_name, age):\n",
    "        self.first_name = first_name\n",
    "        self.last_name = last_name\n",
    "        self.age = age\n",
    "\n",
    "    def __eq__(self, other): # an equality test will be calling this function in the class\n",
    "        if isinstance(other, Person):\n",
    "            return self.age == other.age\n",
    "\n",
    "        return False\n",
    "\n",
    "\n",
    "john = Person('John', 'Doe', 25)\n",
    "jane = Person('Jane', 'Doe', 25)\n",
    "mary = Person('Mary', 'Doe', 27)\n",
    "\n",
    "print(john == jane)  # True\n",
    "print(john == mary)  # False\n",
    "\n",
    "\n",
    "john = Person('John', 'Doe', 25)\n",
    "print(john == 20)  # False"
   ]
  },
  {
   "cell_type": "markdown",
   "id": "1e6d3437-35f9-40b6-a6c1-587333d3b4af",
   "metadata": {},
   "source": [
    "## Python __hash__\n",
    "\n",
    "Summary: in this tutorial, you’ll learn about the Python hash() function and how to override the __hash__ method in a custom class.\n",
    "\n",
    "Introduction to the Python hash function\n",
    "Let’s start with a simple example.\n",
    "\n",
    "First, define the Person class with the name and age attributes:"
   ]
  },
  {
   "cell_type": "code",
   "execution_count": 298,
   "id": "a08570ec-b2f8-4c9d-b0c4-2c35dbb3d5fb",
   "metadata": {},
   "outputs": [],
   "source": [
    "class Person:\n",
    "    def __init__(self, name, age):\n",
    "        self.name = name\n",
    "        self.age = age"
   ]
  },
  {
   "cell_type": "code",
   "execution_count": 299,
   "id": "e202b897-8bda-448e-be0f-d26a4a25780f",
   "metadata": {},
   "outputs": [],
   "source": [
    "p1 = Person('John', 22)\n",
    "p2 = Person('Jane', 22)"
   ]
  },
  {
   "cell_type": "code",
   "execution_count": 300,
   "id": "223ffc8e-2b2f-4ce8-a364-fa23d85d736a",
   "metadata": {},
   "outputs": [
    {
     "name": "stdout",
     "output_type": "stream",
     "text": [
      "8743190356423\n",
      "8743190356453\n"
     ]
    }
   ],
   "source": [
    "print(hash(p1))\n",
    "print(hash(p2))"
   ]
  },
  {
   "cell_type": "code",
   "execution_count": 301,
   "id": "9f4350c7-fab6-4ad8-b860-f0824a964c3d",
   "metadata": {},
   "outputs": [],
   "source": [
    "class Person:\n",
    "    def __init__(self, name, age):\n",
    "        self.name = name\n",
    "        self.age = age\n",
    "\n",
    "    def __eq__(self, other): # if a class implements an __eq__ function, it becomes unhashable.\n",
    "        return isinstance(other, Person) and self.age == other.age"
   ]
  },
  {
   "cell_type": "code",
   "execution_count": 302,
   "id": "0388b358-1007-4a30-a734-c1dab2b53e32",
   "metadata": {},
   "outputs": [
    {
     "ename": "TypeError",
     "evalue": "unhashable type: 'Person'",
     "output_type": "error",
     "traceback": [
      "\u001b[0;31m---------------------------------------------------------------------------\u001b[0m",
      "\u001b[0;31mTypeError\u001b[0m                                 Traceback (most recent call last)",
      "\u001b[0;32m/tmp/ipykernel_550460/171050479.py\u001b[0m in \u001b[0;36m<module>\u001b[0;34m\u001b[0m\n\u001b[0;32m----> 1\u001b[0;31m members = {\n\u001b[0m\u001b[1;32m      2\u001b[0m     \u001b[0mPerson\u001b[0m\u001b[0;34m(\u001b[0m\u001b[0;34m'John'\u001b[0m\u001b[0;34m,\u001b[0m \u001b[0;36m22\u001b[0m\u001b[0;34m)\u001b[0m\u001b[0;34m,\u001b[0m\u001b[0;34m\u001b[0m\u001b[0;34m\u001b[0m\u001b[0m\n\u001b[1;32m      3\u001b[0m     \u001b[0mPerson\u001b[0m\u001b[0;34m(\u001b[0m\u001b[0;34m'Jane'\u001b[0m\u001b[0;34m,\u001b[0m \u001b[0;36m22\u001b[0m\u001b[0;34m)\u001b[0m\u001b[0;34m\u001b[0m\u001b[0;34m\u001b[0m\u001b[0m\n\u001b[1;32m      4\u001b[0m }\n",
      "\u001b[0;31mTypeError\u001b[0m: unhashable type: 'Person'"
     ]
    }
   ],
   "source": [
    "members = {\n",
    "    Person('John', 22),\n",
    "    Person('Jane', 22)\n",
    "}"
   ]
  },
  {
   "cell_type": "code",
   "execution_count": 303,
   "id": "e23bc116-83e2-4302-9361-c951d77ecbe4",
   "metadata": {},
   "outputs": [
    {
     "ename": "TypeError",
     "evalue": "unhashable type: 'Person'",
     "output_type": "error",
     "traceback": [
      "\u001b[0;31m---------------------------------------------------------------------------\u001b[0m",
      "\u001b[0;31mTypeError\u001b[0m                                 Traceback (most recent call last)",
      "\u001b[0;32m/tmp/ipykernel_550460/1321556321.py\u001b[0m in \u001b[0;36m<module>\u001b[0;34m\u001b[0m\n\u001b[0;32m----> 1\u001b[0;31m \u001b[0mhash\u001b[0m\u001b[0;34m(\u001b[0m\u001b[0mPerson\u001b[0m\u001b[0;34m(\u001b[0m\u001b[0;34m'John'\u001b[0m\u001b[0;34m,\u001b[0m \u001b[0;36m22\u001b[0m\u001b[0;34m)\u001b[0m\u001b[0;34m)\u001b[0m\u001b[0;34m\u001b[0m\u001b[0;34m\u001b[0m\u001b[0m\n\u001b[0m",
      "\u001b[0;31mTypeError\u001b[0m: unhashable type: 'Person'"
     ]
    }
   ],
   "source": [
    "hash(Person('John', 22))"
   ]
  },
  {
   "cell_type": "markdown",
   "id": "fa0d3bd5-a2de-4c4f-a4ba-85ae233c2004",
   "metadata": {},
   "source": [
    "To make the Person class hashable, you also need to implement the \\__hash__ method:\n",
    "\n"
   ]
  },
  {
   "cell_type": "code",
   "execution_count": 305,
   "id": "ca9f01be-2b81-45a8-ac96-5aca26e79013",
   "metadata": {},
   "outputs": [],
   "source": [
    "class Person:\n",
    "    def __init__(self, name, age):\n",
    "        self.name = name\n",
    "        self.age = age\n",
    "\n",
    "    def __eq__(self, other):\n",
    "        return isinstance(other, Person) and self.age == other.age\n",
    "\n",
    "    def __hash__(self):\n",
    "        return hash(self.age)"
   ]
  },
  {
   "cell_type": "markdown",
   "id": "9233204e-6a1c-41f7-a236-7d1ebac5f727",
   "metadata": {},
   "source": [
    "Now, you have the Person class that supports equality based on age and is hashable.\n",
    "\n",
    "To make the Person work well in data structures like dictionaries, the hash of the class should remain immutable. To do it, you can make the age attribute of the Person class a read-only property:"
   ]
  },
  {
   "cell_type": "code",
   "execution_count": 306,
   "id": "ebf1c525-4327-4e10-bc40-20f04b12343b",
   "metadata": {},
   "outputs": [],
   "source": [
    "class Person:\n",
    "    def __init__(self, name, age):\n",
    "        self.name = name\n",
    "        self._age = age\n",
    "\n",
    "    @property # makes the age property read-only so that it can be used in a dictionary\n",
    "    def age(self):\n",
    "        return self._age\n",
    "\n",
    "    def __eq__(self, other):\n",
    "        return isinstance(other, Person) and self.age == other.age\n",
    "\n",
    "    def __hash__(self):\n",
    "        return hash(self.age)"
   ]
  },
  {
   "cell_type": "code",
   "execution_count": 307,
   "id": "ae2b8a45-55ff-4d68-847e-d67ef4f8637a",
   "metadata": {},
   "outputs": [],
   "source": [
    "class Person:\n",
    "    def __init__(self, name, age):\n",
    "        self.name = name\n",
    "        self.age = age\n",
    "\n",
    "\n",
    "if __name__ == '__main__':\n",
    "    person = Person('John', 25)"
   ]
  },
  {
   "cell_type": "code",
   "execution_count": 309,
   "id": "024accc3-120f-4d58-886f-381ce1979a5d",
   "metadata": {},
   "outputs": [
    {
     "name": "stdout",
     "output_type": "stream",
     "text": [
      "False\n"
     ]
    }
   ],
   "source": [
    "class Person:\n",
    "    def __init__(self, name, age):\n",
    "        self.name = name\n",
    "        self.age = age\n",
    "\n",
    "    def __bool__(self): # all requests to evaluate equality are satisfied by this function, which must return a boolean.\n",
    "        if self.age < 18 or self.age > 65:\n",
    "            return False\n",
    "        return True\n",
    "\n",
    "\n",
    "if __name__ == '__main__':\n",
    "    person = Person('Jane', 16)\n",
    "    print(bool(person))  # False"
   ]
  },
  {
   "cell_type": "code",
   "execution_count": 314,
   "id": "459c7723-65cb-46c8-b56f-7e19c5b408aa",
   "metadata": {},
   "outputs": [
    {
     "name": "stdout",
     "output_type": "stream",
     "text": [
      "len was called...\n",
      "False\n",
      "len was called...\n",
      "True\n"
     ]
    }
   ],
   "source": [
    "# the __len__ method:\n",
    "class Payroll:\n",
    "    def __init__(self, length):\n",
    "        self.length = length\n",
    "\n",
    "    def __len__(self):\n",
    "        print('len was called...')\n",
    "        return self.length\n",
    "\n",
    "\n",
    "if __name__ == '__main__':\n",
    "    payroll = Payroll(0) # pass a 0 as the length attribute\n",
    "    print(bool(payroll))  # False\n",
    "\n",
    "    payroll.length = 10 # pass 10 as the length attribute\n",
    "    print(bool(payroll))  # True"
   ]
  },
  {
   "cell_type": "markdown",
   "id": "9bffbdca-2415-462c-98e3-01303fddb05e",
   "metadata": {},
   "source": [
    "## Introduction to the Python \\__del__ method\n",
    "In Python, the garbage collector manages memory automatically. The garbage collector will destroy the objects that are not referenced.\n",
    "\n",
    "If an object implements the\\__del__ method, Python calls the \\__del__ method right before the garbage collector destroys the object.\n",
    "\n",
    "However, the garbage collector determines when to destroy the object. Therefore, it determines when the __del__ method will be called.\n",
    "\n",
    "The \\__del__ is sometimes referred to as a class finalizer. Note that \\__del__ is not the destructor because the garbage collector destroys the object, not the __del__ method.\n",
    "\n",
    "Avoid using __del__ for clean up resources; use the context manager instead."
   ]
  },
  {
   "cell_type": "markdown",
   "id": "938b7c1e-15f4-4298-b39b-618e8f01e6c3",
   "metadata": {},
   "source": [
    "## Python Operator Overloading\n",
    "\n",
    "Summary: in this tutorial, you’ll learn Python operator overloading and how to use it to make your objects work with built-in operators.\n",
    "\n",
    "Introduction to the Python operator overloading\n",
    "Suppose you have a 2D point class with x and y coordinate attributes:"
   ]
  },
  {
   "cell_type": "code",
   "execution_count": 315,
   "id": "6affd678-31e2-4c15-bd45-d0568f7b8ee7",
   "metadata": {},
   "outputs": [],
   "source": [
    "class Point2D:\n",
    "    def __init__(self, x, y):\n",
    "        self.x = x\n",
    "        self.y = y\n",
    "\n",
    "    def __str__(self):\n",
    "        return f'({self.x},{self.y})'"
   ]
  },
  {
   "cell_type": "code",
   "execution_count": 339,
   "id": "c1f5b49f-5f13-4ab9-b4ae-052625f068a1",
   "metadata": {},
   "outputs": [],
   "source": [
    "class Point2D:\n",
    "    def __init__(self, x, y):\n",
    "        self.x = x\n",
    "        self.y = y\n",
    "\n",
    "    def __str__(self):\n",
    "        return f'two coordinates: ({self.x},{self.y})'\n",
    "\n",
    "    def add(self, point): # this is not the special case __add__ operator that would let you add with a '+' sign\n",
    "        if not isinstance(point, Point2D):\n",
    "            raise ValueError('The other must be an instance of the Point2D')\n",
    "\n",
    "        return Point2D(self.x + point.x, self.y + point.y)"
   ]
  },
  {
   "cell_type": "code",
   "execution_count": 340,
   "id": "1c96ff65-8289-4adb-a9ba-fd7f2d2a0edb",
   "metadata": {},
   "outputs": [
    {
     "name": "stdout",
     "output_type": "stream",
     "text": [
      "two coordinates: (25,45)\n"
     ]
    }
   ],
   "source": [
    "a = Point2D(10, 20)\n",
    "b = Point2D(15, 25)\n",
    "c = a.add(b)\n",
    "\n",
    "print(c)"
   ]
  },
  {
   "cell_type": "markdown",
   "id": "ef7e1fdb-9752-4c88-af05-a97f7456f189",
   "metadata": {},
   "source": [
    "This code works perfectly fine. But Python has a better way to implement it. Instead of using the add() method, you can use the built-in operator (+) like this:"
   ]
  },
  {
   "cell_type": "code",
   "execution_count": 341,
   "id": "522cf9ca-cc4f-4ff6-91dc-ba85fd508f97",
   "metadata": {},
   "outputs": [
    {
     "ename": "TypeError",
     "evalue": "unsupported operand type(s) for +: 'Point2D' and 'Point2D'",
     "output_type": "error",
     "traceback": [
      "\u001b[0;31m---------------------------------------------------------------------------\u001b[0m",
      "\u001b[0;31mTypeError\u001b[0m                                 Traceback (most recent call last)",
      "\u001b[0;32m/tmp/ipykernel_550460/2202877978.py\u001b[0m in \u001b[0;36m<module>\u001b[0;34m\u001b[0m\n\u001b[0;32m----> 1\u001b[0;31m \u001b[0mc\u001b[0m \u001b[0;34m=\u001b[0m  \u001b[0ma\u001b[0m \u001b[0;34m+\u001b[0m \u001b[0mb\u001b[0m \u001b[0;31m# this is supposed to work, but it raises an error\u001b[0m\u001b[0;34m\u001b[0m\u001b[0;34m\u001b[0m\u001b[0m\n\u001b[0m",
      "\u001b[0;31mTypeError\u001b[0m: unsupported operand type(s) for +: 'Point2D' and 'Point2D'"
     ]
    }
   ],
   "source": [
    "c =  a + b # this is supposed to work, but it raises an error"
   ]
  },
  {
   "cell_type": "code",
   "execution_count": 342,
   "id": "2692aed1-ba8e-49b6-87ef-74bd0c06edd0",
   "metadata": {},
   "outputs": [],
   "source": [
    "c = a.add(b) # this works."
   ]
  },
  {
   "cell_type": "code",
   "execution_count": 343,
   "id": "a97ae8f7-4691-4a3d-a6e3-823a3f9d8fd9",
   "metadata": {},
   "outputs": [
    {
     "ename": "AttributeError",
     "evalue": "'Point2D' object has no attribute '__add__'",
     "output_type": "error",
     "traceback": [
      "\u001b[0;31m---------------------------------------------------------------------------\u001b[0m",
      "\u001b[0;31mAttributeError\u001b[0m                            Traceback (most recent call last)",
      "\u001b[0;32m/tmp/ipykernel_550460/3534792091.py\u001b[0m in \u001b[0;36m<module>\u001b[0;34m\u001b[0m\n\u001b[0;32m----> 1\u001b[0;31m \u001b[0mc\u001b[0m \u001b[0;34m=\u001b[0m \u001b[0ma\u001b[0m\u001b[0;34m.\u001b[0m\u001b[0m__add__\u001b[0m\u001b[0;34m(\u001b[0m\u001b[0mb\u001b[0m\u001b[0;34m)\u001b[0m \u001b[0;31m# fails\u001b[0m\u001b[0;34m\u001b[0m\u001b[0;34m\u001b[0m\u001b[0m\n\u001b[0m",
      "\u001b[0;31mAttributeError\u001b[0m: 'Point2D' object has no attribute '__add__'"
     ]
    }
   ],
   "source": [
    "c = a.__add__(b) # fails"
   ]
  },
  {
   "cell_type": "code",
   "execution_count": 345,
   "id": "89b77985-5e78-42c4-bdbc-dab494e27904",
   "metadata": {},
   "outputs": [
    {
     "name": "stdout",
     "output_type": "stream",
     "text": [
      "Two coordinates: (25,45)\n"
     ]
    }
   ],
   "source": [
    "class Point2D:\n",
    "    def __init__(self, x, y):\n",
    "        self.x = x\n",
    "        self.y = y\n",
    "\n",
    "    def __str__(self):\n",
    "        return f'Two coordinates: ({self.x},{self.y})'\n",
    "\n",
    "    def __add__(self, point):\n",
    "        if not isinstance(point, Point2D):\n",
    "            raise ValueError('The other must be an instance of the Point2D')\n",
    "\n",
    "        return Point2D(self.x + point.x, self.y + point.y)\n",
    "\n",
    "\n",
    "if __name__ == '__main__':\n",
    "    a = Point2D(10, 20)\n",
    "    b = Point2D(15, 25)\n",
    "    c = a + b # now it will work to call __add__\n",
    "    print(c)"
   ]
  },
  {
   "cell_type": "markdown",
   "id": "98efd5d1-2112-4462-abbc-62c7aad224fc",
   "metadata": {},
   "source": [
    "Special methods for operator overloading\n",
    "The following shows the operators with their corresponding special methods:\n",
    "\n",
    "\n",
    "+  \\__add__(self, other)\n",
    "\n",
    "–  \\__sub__(self, other)\n",
    "\n",
    "* \\__mul__(self, other)\n",
    "\n",
    "/ \\__truediv__(self, other)\n",
    "\n",
    "// \\__floordiv__(self, other)\n",
    "\n",
    "% \\__mod__(self, other)\n",
    "\n",
    "** \\__pow__(self, other)\n",
    "\n",
    "\">> \\__rshift__(self, other)\"\n",
    "\n",
    "\"<< \\__lshift__(self, other)\"\n",
    "\n",
    "& \\__and__(self, other)\n",
    "\n",
    "| \\__or__(self, other)\n",
    "\n",
    "^ \\__xor__(self, other)"
   ]
  },
  {
   "cell_type": "markdown",
   "id": "a11e53f2-ff17-4c58-b1b5-ef6052ab68aa",
   "metadata": {},
   "source": [
    "Overloading inplace opeators\n",
    "Some operators have the inplace version. For example, the inplace version of + is +=.\n",
    "\n",
    "For the immutable type like a tuple, a string, a number, the inplace operators perform calculations and don’t assign the result back to the input object.\n",
    "\n",
    "For the mutable type, the inplace operator performs the updates on the original objects directly. The assignment is not necessary."
   ]
  },
  {
   "cell_type": "markdown",
   "id": "85a35c77-12e6-4859-b8fe-0b29f73520e9",
   "metadata": {},
   "source": [
    "## Python Property\n",
    "\n",
    "Summary: in this tutorial, you’ll learn about the Python property class and how to use it to define properties for a class.\n",
    "\n",
    "Introduction to class properties\n",
    "The following defines a Person class that has two attributes name and age, and create a new instance of the Person class:"
   ]
  },
  {
   "cell_type": "code",
   "execution_count": 346,
   "id": "e0214bc3-f302-4105-9c9d-39765e64cd71",
   "metadata": {},
   "outputs": [],
   "source": [
    "class Person:\n",
    "    def __init__(self, name, age):\n",
    "        self.name = name\n",
    "        self.age = age\n",
    "\n",
    "\n",
    "john = Person('John', 18)"
   ]
  },
  {
   "cell_type": "code",
   "execution_count": 347,
   "id": "d26c80ad-859f-46b9-843d-10f49d1dfb52",
   "metadata": {},
   "outputs": [],
   "source": [
    "john.age = 19"
   ]
  },
  {
   "cell_type": "code",
   "execution_count": 349,
   "id": "7db6bcf4-5e0b-471f-a577-0f0828633e55",
   "metadata": {},
   "outputs": [],
   "source": [
    "john.age = -1 # technically valid but semantically incorrect"
   ]
  },
  {
   "cell_type": "code",
   "execution_count": 350,
   "id": "88e3fcd6-3d64-4141-aed7-6253fbc4622c",
   "metadata": {},
   "outputs": [
    {
     "ename": "ValueError",
     "evalue": "The age must be positive",
     "output_type": "error",
     "traceback": [
      "\u001b[0;31m---------------------------------------------------------------------------\u001b[0m",
      "\u001b[0;31mValueError\u001b[0m                                Traceback (most recent call last)",
      "\u001b[0;32m/tmp/ipykernel_550460/766972611.py\u001b[0m in \u001b[0;36m<module>\u001b[0;34m\u001b[0m\n\u001b[1;32m      1\u001b[0m \u001b[0mage\u001b[0m \u001b[0;34m=\u001b[0m \u001b[0;34m-\u001b[0m\u001b[0;36m1\u001b[0m\u001b[0;34m\u001b[0m\u001b[0;34m\u001b[0m\u001b[0m\n\u001b[1;32m      2\u001b[0m \u001b[0;32mif\u001b[0m \u001b[0mage\u001b[0m \u001b[0;34m<=\u001b[0m \u001b[0;36m0\u001b[0m\u001b[0;34m:\u001b[0m\u001b[0;34m\u001b[0m\u001b[0;34m\u001b[0m\u001b[0m\n\u001b[0;32m----> 3\u001b[0;31m     \u001b[0;32mraise\u001b[0m \u001b[0mValueError\u001b[0m\u001b[0;34m(\u001b[0m\u001b[0;34m'The age must be positive'\u001b[0m\u001b[0;34m)\u001b[0m\u001b[0;34m\u001b[0m\u001b[0;34m\u001b[0m\u001b[0m\n\u001b[0m\u001b[1;32m      4\u001b[0m \u001b[0;32melse\u001b[0m\u001b[0;34m:\u001b[0m\u001b[0;34m\u001b[0m\u001b[0;34m\u001b[0m\u001b[0m\n\u001b[1;32m      5\u001b[0m     \u001b[0mjohn\u001b[0m\u001b[0;34m.\u001b[0m\u001b[0mage\u001b[0m \u001b[0;34m=\u001b[0m \u001b[0mage\u001b[0m\u001b[0;34m\u001b[0m\u001b[0;34m\u001b[0m\u001b[0m\n",
      "\u001b[0;31mValueError\u001b[0m: The age must be positive"
     ]
    }
   ],
   "source": [
    "age = -1\n",
    "if age <= 0:\n",
    "    raise ValueError('The age must be positive')\n",
    "else:\n",
    "    john.age = age"
   ]
  },
  {
   "cell_type": "markdown",
   "id": "951ad3c5-ca62-4536-bc7d-faa5cd356aad",
   "metadata": {},
   "source": [
    "### Getter and setter\n",
    "The getter and setter methods provide an interface for accessing an instance attribute:\n",
    "\n",
    "The getter returns the value of an attribute\n",
    "The setter sets a new value for an attribute\n",
    "In our example, you can make the age attribute private (by convention) and define a getter and a setter to manipulate the age attribute.\n",
    "\n",
    "The following shows the new Person class with a getter and setter for the age attribute:"
   ]
  },
  {
   "cell_type": "code",
   "execution_count": 351,
   "id": "49d71812-c571-43e8-bb96-b6e354c6fdf2",
   "metadata": {},
   "outputs": [],
   "source": [
    "class Person:\n",
    "    def __init__(self, name, age):\n",
    "        self.name = name\n",
    "        self.set_age(age)\n",
    "\n",
    "    def set_age(self, age):\n",
    "        if age <= 0:\n",
    "            raise ValueError('The age must be positive')\n",
    "        self._age = age\n",
    "\n",
    "    def get_age(self):\n",
    "        return self._age"
   ]
  },
  {
   "cell_type": "code",
   "execution_count": 352,
   "id": "06797f3b-38ee-44ca-807c-a0b3d08e8651",
   "metadata": {},
   "outputs": [
    {
     "ename": "ValueError",
     "evalue": "The age must be positive",
     "output_type": "error",
     "traceback": [
      "\u001b[0;31m---------------------------------------------------------------------------\u001b[0m",
      "\u001b[0;31mValueError\u001b[0m                                Traceback (most recent call last)",
      "\u001b[0;32m/tmp/ipykernel_550460/2508423075.py\u001b[0m in \u001b[0;36m<module>\u001b[0;34m\u001b[0m\n\u001b[1;32m      1\u001b[0m \u001b[0mjohn\u001b[0m \u001b[0;34m=\u001b[0m \u001b[0mPerson\u001b[0m\u001b[0;34m(\u001b[0m\u001b[0;34m'John'\u001b[0m\u001b[0;34m,\u001b[0m \u001b[0;36m18\u001b[0m\u001b[0;34m)\u001b[0m\u001b[0;34m\u001b[0m\u001b[0;34m\u001b[0m\u001b[0m\n\u001b[0;32m----> 2\u001b[0;31m \u001b[0mjohn\u001b[0m\u001b[0;34m.\u001b[0m\u001b[0mset_age\u001b[0m\u001b[0;34m(\u001b[0m\u001b[0;34m-\u001b[0m\u001b[0;36m19\u001b[0m\u001b[0;34m)\u001b[0m\u001b[0;34m\u001b[0m\u001b[0;34m\u001b[0m\u001b[0m\n\u001b[0m",
      "\u001b[0;32m/tmp/ipykernel_550460/3111933340.py\u001b[0m in \u001b[0;36mset_age\u001b[0;34m(self, age)\u001b[0m\n\u001b[1;32m      6\u001b[0m     \u001b[0;32mdef\u001b[0m \u001b[0mset_age\u001b[0m\u001b[0;34m(\u001b[0m\u001b[0mself\u001b[0m\u001b[0;34m,\u001b[0m \u001b[0mage\u001b[0m\u001b[0;34m)\u001b[0m\u001b[0;34m:\u001b[0m\u001b[0;34m\u001b[0m\u001b[0;34m\u001b[0m\u001b[0m\n\u001b[1;32m      7\u001b[0m         \u001b[0;32mif\u001b[0m \u001b[0mage\u001b[0m \u001b[0;34m<=\u001b[0m \u001b[0;36m0\u001b[0m\u001b[0;34m:\u001b[0m\u001b[0;34m\u001b[0m\u001b[0;34m\u001b[0m\u001b[0m\n\u001b[0;32m----> 8\u001b[0;31m             \u001b[0;32mraise\u001b[0m \u001b[0mValueError\u001b[0m\u001b[0;34m(\u001b[0m\u001b[0;34m'The age must be positive'\u001b[0m\u001b[0;34m)\u001b[0m\u001b[0;34m\u001b[0m\u001b[0;34m\u001b[0m\u001b[0m\n\u001b[0m\u001b[1;32m      9\u001b[0m         \u001b[0mself\u001b[0m\u001b[0;34m.\u001b[0m\u001b[0m_age\u001b[0m \u001b[0;34m=\u001b[0m \u001b[0mage\u001b[0m\u001b[0;34m\u001b[0m\u001b[0;34m\u001b[0m\u001b[0m\n\u001b[1;32m     10\u001b[0m \u001b[0;34m\u001b[0m\u001b[0m\n",
      "\u001b[0;31mValueError\u001b[0m: The age must be positive"
     ]
    }
   ],
   "source": [
    "john = Person('John', 18)\n",
    "john.set_age(-19)"
   ]
  },
  {
   "cell_type": "markdown",
   "id": "a8941309-7842-4c24-9b97-7d779db824c0",
   "metadata": {},
   "source": [
    "This code works just fine. But it has a backward compatibility issue.\n",
    "\n",
    "Suppose you released the Person class for a while and other developers have been already using it. And now you add the getter and setter, all the code that uses the Person won’t work anymore.\n",
    "\n",
    "To define a getter and setter method while achieving backward compatibility, you can use the property() class.\n",
    "\n",
    "The Python property class\n",
    "The property class returns a property object. The property() class has the following syntax:"
   ]
  },
  {
   "cell_type": "code",
   "execution_count": 353,
   "id": "cd0bc146-fc3c-4a26-a3ad-89ab5ea252fa",
   "metadata": {},
   "outputs": [
    {
     "data": {
      "text/plain": [
       "<property at 0x7f3aec123ef0>"
      ]
     },
     "execution_count": 353,
     "metadata": {},
     "output_type": "execute_result"
    }
   ],
   "source": [
    "property(fget=None, fset=None, fdel=None, doc=None)"
   ]
  },
  {
   "cell_type": "code",
   "execution_count": 354,
   "id": "584cfd08-2bed-4414-9fe8-0dd31d30fb02",
   "metadata": {},
   "outputs": [],
   "source": [
    "class Person:\n",
    "    def __init__(self, name, age):\n",
    "        self.name = name\n",
    "        self.age = age\n",
    "\n",
    "    def set_age(self, age):\n",
    "        if age <= 0:\n",
    "            raise ValueError('The age must be positive')\n",
    "        self._age = age\n",
    "\n",
    "    def get_age(self):\n",
    "        return self._age\n",
    "\n",
    "    age = property(fget=get_age, fset=set_age)"
   ]
  },
  {
   "cell_type": "markdown",
   "id": "fd1c14b0-1bc4-4572-a194-8b92f876e2a1",
   "metadata": {},
   "source": [
    "In the Person class, we create a new property object by calling the property() and assign the property object to the age attribute. Note that the age is a class attribute, not an instance attribute.\n",
    "\n",
    "The following shows that the Person.age is a property object:"
   ]
  },
  {
   "cell_type": "code",
   "execution_count": 355,
   "id": "74217da7-a2a1-4bcf-a870-7785ca9c6884",
   "metadata": {},
   "outputs": [
    {
     "name": "stdout",
     "output_type": "stream",
     "text": [
      "<property object at 0x7f3aec0ec220>\n"
     ]
    }
   ],
   "source": [
    "print(Person.age)"
   ]
  },
  {
   "cell_type": "code",
   "execution_count": 356,
   "id": "7c91ca43-7795-459a-ae13-0f9ebeaaa480",
   "metadata": {},
   "outputs": [],
   "source": [
    "john = Person('John', 18)"
   ]
  },
  {
   "cell_type": "code",
   "execution_count": 357,
   "id": "d53cd147-857e-49ce-9058-d3205a4f2112",
   "metadata": {},
   "outputs": [
    {
     "name": "stdout",
     "output_type": "stream",
     "text": [
      "{'name': 'John', '_age': 18}\n"
     ]
    }
   ],
   "source": [
    "print(john.__dict__)"
   ]
  },
  {
   "cell_type": "code",
   "execution_count": 358,
   "id": "cb7118cf-8fec-48e1-a6cb-88e5d39d0420",
   "metadata": {},
   "outputs": [],
   "source": [
    "john.age = 19"
   ]
  },
  {
   "cell_type": "code",
   "execution_count": 359,
   "id": "48bb14d2-e6a3-4219-b666-1b26ef582345",
   "metadata": {},
   "outputs": [
    {
     "name": "stdout",
     "output_type": "stream",
     "text": [
      "mappingproxy({'__dict__': <attribute '__dict__' of 'Person' objects>,\n",
      "              '__doc__': None,\n",
      "              '__init__': <function Person.__init__ at 0x7f3aec0f6f70>,\n",
      "              '__module__': '__main__',\n",
      "              '__weakref__': <attribute '__weakref__' of 'Person' objects>,\n",
      "              'age': <property object at 0x7f3aec0ec220>,\n",
      "              'get_age': <function Person.get_age at 0x7f3aec0f6dc0>,\n",
      "              'set_age': <function Person.set_age at 0x7f3aec0f6ee0>})\n"
     ]
    }
   ],
   "source": [
    "pprint(Person.__dict__)"
   ]
  },
  {
   "cell_type": "code",
   "execution_count": 360,
   "id": "8e5cdc91-c065-41a4-ade3-0cb687dfb726",
   "metadata": {},
   "outputs": [
    {
     "name": "stdout",
     "output_type": "stream",
     "text": [
      "<property object at 0x7f3aec151ef0>\n",
      "{'_age': 18, 'name': 'John'}\n",
      "mappingproxy({'__dict__': <attribute '__dict__' of 'Person' objects>,\n",
      "              '__doc__': None,\n",
      "              '__init__': <function Person.__init__ at 0x7f3aec13c3a0>,\n",
      "              '__module__': '__main__',\n",
      "              '__weakref__': <attribute '__weakref__' of 'Person' objects>,\n",
      "              'age': <property object at 0x7f3aec151ef0>,\n",
      "              'get_age': <function Person.get_age at 0x7f3aec13c280>,\n",
      "              'set_age': <function Person.set_age at 0x7f3aec13caf0>})\n"
     ]
    }
   ],
   "source": [
    "from pprint import pprint\n",
    "\n",
    "\n",
    "class Person:\n",
    "    def __init__(self, name, age):\n",
    "        self.name = name\n",
    "        self.age = age\n",
    "\n",
    "    def set_age(self, age):\n",
    "        if age <= 0:\n",
    "            raise ValueError('The age must be positive')\n",
    "        self._age = age\n",
    "\n",
    "    def get_age(self):\n",
    "        return self._age\n",
    "\n",
    "    age = property(fget=get_age, fset=set_age)\n",
    "\n",
    "\n",
    "print(Person.age)\n",
    "\n",
    "john = Person('John', 18)\n",
    "pprint(john.__dict__)\n",
    "\n",
    "john.age = 19\n",
    "pprint(Person.__dict__)"
   ]
  },
  {
   "cell_type": "code",
   "execution_count": 361,
   "id": "bb177c96-f645-48fb-a856-04a8c0f37f0b",
   "metadata": {},
   "outputs": [],
   "source": [
    "class Person:\n",
    "    def __init__(self, name, age):\n",
    "        self.name = name\n",
    "        self._age = age\n",
    "\n",
    "    @property\n",
    "    def age(self):\n",
    "        return self._age"
   ]
  },
  {
   "cell_type": "code",
   "execution_count": 362,
   "id": "1be1655c-ca96-41c4-974e-a16e2a4e301c",
   "metadata": {},
   "outputs": [
    {
     "name": "stdout",
     "output_type": "stream",
     "text": [
      "25\n"
     ]
    }
   ],
   "source": [
    "john = Person('John', 25)\n",
    "print(john.age)"
   ]
  },
  {
   "cell_type": "code",
   "execution_count": 364,
   "id": "a1d563a7-a99c-4e1f-a1d8-844596839fc8",
   "metadata": {},
   "outputs": [
    {
     "ename": "AttributeError",
     "evalue": "'Person' object has no attribute 'get_age'",
     "output_type": "error",
     "traceback": [
      "\u001b[0;31m---------------------------------------------------------------------------\u001b[0m",
      "\u001b[0;31mAttributeError\u001b[0m                            Traceback (most recent call last)",
      "\u001b[0;32m/tmp/ipykernel_550460/632045374.py\u001b[0m in \u001b[0;36m<module>\u001b[0;34m\u001b[0m\n\u001b[0;32m----> 1\u001b[0;31m \u001b[0mprint\u001b[0m\u001b[0;34m(\u001b[0m\u001b[0mjohn\u001b[0m\u001b[0;34m.\u001b[0m\u001b[0mget_age\u001b[0m\u001b[0;34m(\u001b[0m\u001b[0;34m)\u001b[0m\u001b[0;34m)\u001b[0m \u001b[0;31m# won't work. just set the age as\u001b[0m\u001b[0;34m\u001b[0m\u001b[0;34m\u001b[0m\u001b[0m\n\u001b[0m",
      "\u001b[0;31mAttributeError\u001b[0m: 'Person' object has no attribute 'get_age'"
     ]
    }
   ],
   "source": [
    "print(john.get_age()) # won't work. "
   ]
  },
  {
   "cell_type": "code",
   "execution_count": 367,
   "id": "fbf5716c-f943-4c86-a40c-42e628afd435",
   "metadata": {},
   "outputs": [
    {
     "name": "stdout",
     "output_type": "stream",
     "text": [
      "25\n"
     ]
    }
   ],
   "source": [
    "print(john.age)"
   ]
  },
  {
   "cell_type": "code",
   "execution_count": 368,
   "id": "049f69d5-b66e-4e96-bf41-3e09916f95ee",
   "metadata": {},
   "outputs": [],
   "source": [
    "class Person:\n",
    "    def __init__(self, name, age):\n",
    "        self.name = name\n",
    "        self._age = age\n",
    "\n",
    "    @property\n",
    "    def age(self):\n",
    "        return self._age\n",
    "\n",
    "    def set_age(self, value):\n",
    "        if value <= 0:\n",
    "            raise ValueError('The age must be positive')\n",
    "        self._age = value"
   ]
  },
  {
   "cell_type": "code",
   "execution_count": 370,
   "id": "a877ebc9-27bf-482f-95eb-4e2b524c8f7d",
   "metadata": {},
   "outputs": [
    {
     "name": "stdout",
     "output_type": "stream",
     "text": [
      "25\n",
      "27\n"
     ]
    }
   ],
   "source": [
    "john = Person('John', 25)\n",
    "print(john.age)\n",
    "john.set_age(27)\n",
    "print(john.age)"
   ]
  },
  {
   "cell_type": "code",
   "execution_count": 371,
   "id": "1faef79f-f387-429d-93a0-2f9a2e469fc5",
   "metadata": {},
   "outputs": [],
   "source": [
    "class Person:\n",
    "    def __init__(self, name, age):\n",
    "        self.name = name\n",
    "        self._age = age\n",
    "\n",
    "    @property\n",
    "    def age(self):\n",
    "        return self._age\n",
    "\n",
    "    def set_age(self, value):\n",
    "        if value <= 0:\n",
    "            raise ValueError('The age must be positive')\n",
    "        self._age = value\n",
    "\n",
    "    age = age.setter(set_age)"
   ]
  },
  {
   "cell_type": "code",
   "execution_count": 372,
   "id": "2113d95c-d234-4688-8e2c-dfde287794c1",
   "metadata": {},
   "outputs": [
    {
     "name": "stdout",
     "output_type": "stream",
     "text": [
      "27\n"
     ]
    }
   ],
   "source": [
    "john = Person('John', 25)\n",
    "john.age = 27\n",
    "print(john.age)"
   ]
  },
  {
   "cell_type": "code",
   "execution_count": 384,
   "id": "a4c37036-5446-4c6f-8ce7-8ba9e926f56f",
   "metadata": {},
   "outputs": [],
   "source": [
    "class Person:\n",
    "    def __init__(self, name, age):\n",
    "        self.name = name\n",
    "        self._age = age\n",
    "\n",
    "    @property\n",
    "    def age(self):\n",
    "        return self._age\n",
    "\n",
    "    @age.setter\n",
    "    def set_age(self, value): # can't call it.\n",
    "        if value <= 0:\n",
    "            raise ValueError('The age must be positive')\n",
    "        self._age = value"
   ]
  },
  {
   "cell_type": "code",
   "execution_count": 385,
   "id": "7d60c402-d15d-4521-bbe4-4966d78bbf0c",
   "metadata": {},
   "outputs": [
    {
     "name": "stdout",
     "output_type": "stream",
     "text": [
      "setter is called set_age.\n"
     ]
    },
    {
     "ename": "TypeError",
     "evalue": "'int' object is not callable",
     "output_type": "error",
     "traceback": [
      "\u001b[0;31m---------------------------------------------------------------------------\u001b[0m",
      "\u001b[0;31mTypeError\u001b[0m                                 Traceback (most recent call last)",
      "\u001b[0;32m/tmp/ipykernel_550460/3785546588.py\u001b[0m in \u001b[0;36m<module>\u001b[0;34m\u001b[0m\n\u001b[1;32m      2\u001b[0m \u001b[0;32mtry\u001b[0m\u001b[0;34m:\u001b[0m \u001b[0mjohn\u001b[0m\u001b[0;34m.\u001b[0m\u001b[0mage\u001b[0m \u001b[0;34m=\u001b[0m \u001b[0;36m27\u001b[0m\u001b[0;34m\u001b[0m\u001b[0;34m\u001b[0m\u001b[0m\n\u001b[1;32m      3\u001b[0m \u001b[0;32mexcept\u001b[0m\u001b[0;34m:\u001b[0m \u001b[0mprint\u001b[0m\u001b[0;34m(\u001b[0m\u001b[0;34mf'setter is called set_age.'\u001b[0m\u001b[0;34m)\u001b[0m\u001b[0;34m\u001b[0m\u001b[0;34m\u001b[0m\u001b[0m\n\u001b[0;32m----> 4\u001b[0;31m \u001b[0mjohn\u001b[0m\u001b[0;34m.\u001b[0m\u001b[0mset_age\u001b[0m\u001b[0;34m(\u001b[0m\u001b[0;36m27\u001b[0m\u001b[0;34m)\u001b[0m\u001b[0;34m\u001b[0m\u001b[0;34m\u001b[0m\u001b[0m\n\u001b[0m\u001b[1;32m      5\u001b[0m \u001b[0mprint\u001b[0m\u001b[0;34m(\u001b[0m\u001b[0mjohn\u001b[0m\u001b[0;34m.\u001b[0m\u001b[0mage\u001b[0m\u001b[0;34m)\u001b[0m\u001b[0;34m\u001b[0m\u001b[0;34m\u001b[0m\u001b[0m\n",
      "\u001b[0;31mTypeError\u001b[0m: 'int' object is not callable"
     ]
    }
   ],
   "source": [
    "john = Person('John', 25)\n",
    "try: john.age = 27\n",
    "except: print(f'setter is called set_age.')\n",
    "john.set_age(27)\n",
    "print(john.age)"
   ]
  },
  {
   "cell_type": "code",
   "execution_count": 388,
   "id": "030990eb-6e5c-4abc-9ec8-7a8296f2f80e",
   "metadata": {},
   "outputs": [],
   "source": [
    "class Person:\n",
    "    def __init__(self, name, age):\n",
    "        self.name = name\n",
    "        self.age = age\n",
    "\n",
    "    @property\n",
    "    def age(self):\n",
    "        return self._age\n",
    "\n",
    "    @age.setter\n",
    "    def age(self, value): # this works.\n",
    "        if value <= 0:\n",
    "            raise ValueError('The age must be positive')\n",
    "        self._age = value"
   ]
  },
  {
   "cell_type": "code",
   "execution_count": 387,
   "id": "6483d1b8-f6b6-4470-b315-a4c428768be8",
   "metadata": {},
   "outputs": [
    {
     "name": "stdout",
     "output_type": "stream",
     "text": [
      "27\n"
     ]
    }
   ],
   "source": [
    "john = Person('John', 25)\n",
    "john.age = 27\n",
    "print(john.age)"
   ]
  },
  {
   "cell_type": "markdown",
   "id": "cff690a4-14a4-457b-96a6-51e7791f635d",
   "metadata": {},
   "source": [
    "## Python Readonly Property\n",
    "\n",
    "Summary: in this tutorial, you’ll learn how to define Python readonly property and how to use it to define computed properties.\n",
    "\n",
    "### Introduction to the Python readonly property\n",
    "To define a readonly property, you need to create a property with only the getter. However, it is not truly read-only because you can always access the underlying attribute and change it.\n",
    "\n",
    "The read-only properties are useful in some cases such as for computed properties.\n",
    "\n",
    "The following example defines a class called Circle that has a radius attribute and an area() method:"
   ]
  },
  {
   "cell_type": "code",
   "execution_count": 391,
   "id": "53833261-3cd8-4651-afdb-b7a520b6bb4a",
   "metadata": {},
   "outputs": [],
   "source": [
    "import math\n",
    "\n",
    "\n",
    "class Circle:\n",
    "    def __init__(self, radius):\n",
    "        self.radius = radius\n",
    "\n",
    "    def area(self): # area here is a method, and we want it to be a property\n",
    "        return math.pi * self.radius ** 2"
   ]
  },
  {
   "cell_type": "code",
   "execution_count": 392,
   "id": "7a57bb0b-a17f-4a1a-90ec-0690e06dd089",
   "metadata": {},
   "outputs": [
    {
     "name": "stdout",
     "output_type": "stream",
     "text": [
      "314.1592653589793\n"
     ]
    }
   ],
   "source": [
    "c = Circle(10)\n",
    "print(c.area())"
   ]
  },
  {
   "cell_type": "code",
   "execution_count": 394,
   "id": "d8c0e3fd-cf37-463a-987d-47b011a46624",
   "metadata": {},
   "outputs": [
    {
     "name": "stdout",
     "output_type": "stream",
     "text": [
      "314.1592653589793\n"
     ]
    }
   ],
   "source": [
    "import math\n",
    "\n",
    "\n",
    "class Circle:\n",
    "    def __init__(self, radius):\n",
    "        self.radius = radius\n",
    "\n",
    "    @property # now it is a property of the Circle class. In this case it is a calculated or computed property\n",
    "    def area(self):\n",
    "        return math.pi * self.radius ** 2\n",
    "\n",
    "\n",
    "c = Circle(10)\n",
    "print(c.area)"
   ]
  },
  {
   "cell_type": "markdown",
   "id": "f118a15e-ddc1-4f03-b2a6-6a3182f50b74",
   "metadata": {},
   "source": [
    "### Cache calculated properties\n",
    "Suppose you create a new circle object and access the area property many times. Each time, the area needs to be recalculated, which is not efficient.\n",
    "\n",
    "To make it more performant, you need to recalculate the area of the circle only when the radius changes. If the radius doesn’t change, you can reuse the previously calculated area.\n",
    "\n",
    "To do it, you can use the caching technique:\n",
    "\n",
    "First, calculate the area and save it in a cache.\n",
    "Second, if the radius changes, reset the area. Otherwise, return the area directly from the cache without recalcuation.\n",
    "The following defines the new Circle class with cached area property:\n",
    "\n"
   ]
  },
  {
   "cell_type": "code",
   "execution_count": 395,
   "id": "41d3fc55-466b-4095-b5a8-34af4e5cc48e",
   "metadata": {},
   "outputs": [],
   "source": [
    "import math\n",
    "\n",
    "\n",
    "class Circle:\n",
    "    def __init__(self, radius):\n",
    "        self._radius = radius\n",
    "        self._area = None\n",
    "\n",
    "    @property\n",
    "    def radius(self):\n",
    "        return self._radius\n",
    "\n",
    "    @radius.setter\n",
    "    def radius(self, value):\n",
    "        if value < 0:\n",
    "            raise ValueError('Radius must be positive')\n",
    "\n",
    "        if value != self._radius:\n",
    "            self._radius = value\n",
    "            self._area = None\n",
    "\n",
    "    @property\n",
    "    def area(self):\n",
    "        if self._area is None:\n",
    "            self._area = math.pi * self.radius ** 2\n",
    "\n",
    "        return self._area"
   ]
  },
  {
   "cell_type": "markdown",
   "id": "58d40c3c-9ed3-4a5f-a575-7d5cfec04a4f",
   "metadata": {},
   "source": [
    "How it works.\n",
    "\n",
    "First, set the _area to None in the __init__ method. The _area attribute is the cache that stores the calculated area.\n",
    "\n",
    "Second, if the radius changes (in the setter), reset the _area to None.\n",
    "\n",
    "Third, define the area computed property. The area property returns _area if it is not None. Otherwise, calculate the area, save it into the _area, and return it.\n",
    "\n",
    "Summary\n",
    "Define only the getter to make a property readonly\n",
    "Do use computed property to make the property of a class more natural\n",
    "Use caching computed properties to improve the performance."
   ]
  },
  {
   "cell_type": "code",
   "execution_count": 397,
   "id": "18f419b8-d312-422b-835a-8b9ffaeb946a",
   "metadata": {},
   "outputs": [
    {
     "name": "stdout",
     "output_type": "stream",
     "text": [
      "314.1592653589793\n"
     ]
    }
   ],
   "source": [
    "c = Circle(10)\n",
    "print(c.area)"
   ]
  },
  {
   "cell_type": "code",
   "execution_count": 398,
   "id": "2cbdea48-d9b6-4d67-91d1-4c9905f65a1d",
   "metadata": {},
   "outputs": [
    {
     "name": "stdout",
     "output_type": "stream",
     "text": [
      "78.53981633974483\n"
     ]
    }
   ],
   "source": [
    "c.radius = 5\n",
    "print(c.area)"
   ]
  },
  {
   "cell_type": "code",
   "execution_count": 402,
   "id": "b15514eb-8593-47a3-b982-04314c29dbda",
   "metadata": {},
   "outputs": [
    {
     "name": "stdout",
     "output_type": "stream",
     "text": [
      "[(78.53981633974483, 5), (78.53981633974483, 5), (78.53981633974483, 5), (78.53981633974483, 5), (78.53981633974483, 5), (78.53981633974483, 5), (78.53981633974483, 5), (78.53981633974483, 5), (78.53981633974483, 5), (78.53981633974483, 5), (78.53981633974483, 5), (78.53981633974483, 5), (78.53981633974483, 5), (78.53981633974483, 5), (78.53981633974483, 5), (78.53981633974483, 5), (78.53981633974483, 5), (78.53981633974483, 5), (78.53981633974483, 5), (78.53981633974483, 5), (78.53981633974483, 5), (78.53981633974483, 5), (78.53981633974483, 5), (78.53981633974483, 5), (78.53981633974483, 5), (78.53981633974483, 5), (78.53981633974483, 5), (78.53981633974483, 5), (78.53981633974483, 5), (78.53981633974483, 5), (78.53981633974483, 5), (78.53981633974483, 5), (78.53981633974483, 5), (78.53981633974483, 5), (78.53981633974483, 5), (78.53981633974483, 5), (78.53981633974483, 5), (78.53981633974483, 5), (78.53981633974483, 5), (78.53981633974483, 5), (78.53981633974483, 5), (78.53981633974483, 5), (78.53981633974483, 5), (78.53981633974483, 5), (78.53981633974483, 5), (78.53981633974483, 5), (78.53981633974483, 5), (78.53981633974483, 5), (78.53981633974483, 5), (78.53981633974483, 5), (78.53981633974483, 5), (78.53981633974483, 5), (78.53981633974483, 5), (78.53981633974483, 5), (78.53981633974483, 5), (78.53981633974483, 5), (78.53981633974483, 5), (78.53981633974483, 5), (78.53981633974483, 5), (78.53981633974483, 5), (78.53981633974483, 5), (78.53981633974483, 5), (78.53981633974483, 5), (78.53981633974483, 5), (78.53981633974483, 5), (78.53981633974483, 5), (78.53981633974483, 5), (78.53981633974483, 5), (78.53981633974483, 5), (78.53981633974483, 5), (78.53981633974483, 5), (78.53981633974483, 5), (78.53981633974483, 5), (78.53981633974483, 5), (78.53981633974483, 5), (78.53981633974483, 5), (78.53981633974483, 5), (78.53981633974483, 5), (78.53981633974483, 5), (78.53981633974483, 5), (78.53981633974483, 5), (78.53981633974483, 5), (78.53981633974483, 5), (78.53981633974483, 5), (78.53981633974483, 5), (78.53981633974483, 5), (78.53981633974483, 5), (78.53981633974483, 5), (78.53981633974483, 5), (78.53981633974483, 5), (78.53981633974483, 5), (78.53981633974483, 5), (78.53981633974483, 5), (78.53981633974483, 5), (78.53981633974483, 5), (78.53981633974483, 5), (78.53981633974483, 5), (78.53981633974483, 5), (78.53981633974483, 5), (78.53981633974483, 5)]\n"
     ]
    }
   ],
   "source": [
    "print(f'{[(c.area, c.radius) for area in np.arange(100)]}') # read from the cache"
   ]
  },
  {
   "cell_type": "markdown",
   "id": "05a9cf74-4ea9-45f8-84e3-91bcb3961a9c",
   "metadata": {},
   "source": [
    "## Python Inheritance\n",
    "\n",
    "Summary: in this tutorial, you’ll learn about Python inheritance and how to use the inheritance to reuse code from an existing class.\n",
    "\n",
    "### Introduction to the Python inheritance\n",
    "Inheritance allows a class to reuse the logic of an existing class. Suppose you have the following Person class:"
   ]
  },
  {
   "cell_type": "code",
   "execution_count": 403,
   "id": "3b6b127d-0fe7-458f-8054-384d63c1e888",
   "metadata": {},
   "outputs": [],
   "source": [
    "class Person:\n",
    "    def __init__(self, name):\n",
    "        self.name = name\n",
    "\n",
    "    def greet(self):\n",
    "        return f\"Hi, it's {self.name}\""
   ]
  },
  {
   "cell_type": "code",
   "execution_count": 405,
   "id": "e69e7398-fc8d-497e-8209-cdab4b42f00b",
   "metadata": {},
   "outputs": [],
   "source": [
    "class Employee: # similar to Person, just one more attribute: job_title\n",
    "    def __init__(self, name, job_title):\n",
    "        self.name = name\n",
    "        self.job_title = job_title\n",
    "\n",
    "    def greet(self):\n",
    "        return f\"Hi, it's {self.name}\""
   ]
  },
  {
   "cell_type": "code",
   "execution_count": 407,
   "id": "dd5f7e31-ade1-4e8e-9dcd-5ab37c220fb3",
   "metadata": {},
   "outputs": [],
   "source": [
    "# use inheritance so that the Employee class inherits from the Person class, avoid copying code from one class to another.\n",
    "class Employee(Person):\n",
    "    def __init__(self, name, job_title):\n",
    "        self.name = name\n",
    "        self.job_title = job_title"
   ]
  },
  {
   "cell_type": "code",
   "execution_count": 408,
   "id": "7ddb694b-b6c5-44b8-8822-cfe6fd35aacb",
   "metadata": {},
   "outputs": [
    {
     "name": "stdout",
     "output_type": "stream",
     "text": [
      "Hi, it's John\n"
     ]
    }
   ],
   "source": [
    "employee = Employee('John', 'Python Developer')\n",
    "print(employee.greet())"
   ]
  },
  {
   "cell_type": "markdown",
   "id": "a643e989-d97d-4251-996a-1996060aaa3c",
   "metadata": {},
   "source": [
    "### Inheritance terminology\n",
    "\n",
    "The Person class is the parent class, the base class, or the super class of the Employee class. And the Employee class is a child class, a derived class, or a subclass of the Person class.\n",
    "\n",
    "The Employee class derives from, extends, or subclasses the Person class.\n",
    "\n",
    "The relationship between the Employee class and Person class is IS-A relationship. In other words, an employee is a person.\n",
    "\n",
    "#### type vs. isinstance\n",
    "The following shows the type of instances of the Person and Employee classes:"
   ]
  },
  {
   "cell_type": "code",
   "execution_count": 409,
   "id": "72f2e22b-9388-4a3b-991c-135c69be439e",
   "metadata": {},
   "outputs": [
    {
     "name": "stdout",
     "output_type": "stream",
     "text": [
      "<class '__main__.Person'>\n",
      "<class '__main__.Employee'>\n"
     ]
    }
   ],
   "source": [
    "person = Person('Jane')\n",
    "print(type(person))\n",
    "\n",
    "employee = Employee('John', 'Python Developer')\n",
    "print(type(employee))"
   ]
  },
  {
   "cell_type": "code",
   "execution_count": 412,
   "id": "cc7e6d87-3703-404d-bc47-35426b4584c7",
   "metadata": {},
   "outputs": [
    {
     "name": "stdout",
     "output_type": "stream",
     "text": [
      "True\n",
      "True\n",
      "True\n",
      "False\n"
     ]
    }
   ],
   "source": [
    "jane = Person('Jane')\n",
    "print(isinstance(jane, Person))  # True\n",
    "\n",
    "john = Employee('John', 'Python Developer')\n",
    "print(isinstance(john, Person))  # True\n",
    "print(isinstance(john, Employee))  # True\n",
    "print(isinstance(jane, Employee))  # False"
   ]
  },
  {
   "cell_type": "markdown",
   "id": "d9f48e66-5bda-426f-a952-08b3fa6d6b29",
   "metadata": {},
   "source": [
    "## Python Overriding Method\n",
    "\n",
    "Summary: in this tutorial, you’ll learn how to use Python overriding method to allow a child class to provide a specific implementation of a method that is provided by one of its parent classes.\n",
    "\n",
    "Introduction to Python overridding method\n",
    "The overriding method allows a child class to provide a specific implementation of a method that is already provided by one of its parent classes.\n",
    "\n",
    "Let’s take an example to understand the overriding method better.\n",
    "\n",
    "First, define the Employee class:"
   ]
  },
  {
   "cell_type": "code",
   "execution_count": 413,
   "id": "4e56d354-e589-43cb-9a36-5c614a42aa40",
   "metadata": {},
   "outputs": [],
   "source": [
    "class Employee:\n",
    "    def __init__(self, name, base_pay):\n",
    "        self.name = name\n",
    "        self.base_pay = base_pay\n",
    "\n",
    "    def get_pay(self):\n",
    "        return self.base_pay"
   ]
  },
  {
   "cell_type": "code",
   "execution_count": 414,
   "id": "5130133f-f1e1-4015-b0fc-feb6b8694d8b",
   "metadata": {},
   "outputs": [],
   "source": [
    "class SalesEmployee(Employee):\n",
    "    def __init__(self, name, base_pay, sales_incentive):\n",
    "        self.name = name\n",
    "        self.base_pay = base_pay\n",
    "        self.sales_incentive = sales_incentive"
   ]
  },
  {
   "cell_type": "code",
   "execution_count": 415,
   "id": "aec306ef-36e6-4c75-9d72-14f06df81241",
   "metadata": {},
   "outputs": [
    {
     "name": "stdout",
     "output_type": "stream",
     "text": [
      "5000\n"
     ]
    }
   ],
   "source": [
    "john = SalesEmployee('John', 5000, 1500)\n",
    "print(john.get_pay())"
   ]
  },
  {
   "cell_type": "code",
   "execution_count": 416,
   "id": "3b9b5d53-f5e7-4893-8fbc-970ccf657c30",
   "metadata": {},
   "outputs": [],
   "source": [
    "class SalesEmployee(Employee):\n",
    "    def __init__(self, name, base_pay, sales_incentive):\n",
    "        self.name = name\n",
    "        self.base_pay = base_pay\n",
    "        self.sales_incentive = sales_incentive\n",
    "\n",
    "    def get_pay(self):\n",
    "        return self.base_pay + self.sales_incentive"
   ]
  },
  {
   "cell_type": "code",
   "execution_count": 418,
   "id": "6a67dc65-af91-456b-8f33-4d4764ac4e28",
   "metadata": {},
   "outputs": [
    {
     "name": "stdout",
     "output_type": "stream",
     "text": [
      "6500\n"
     ]
    }
   ],
   "source": [
    "john = SalesEmployee('John', 5000, 1500)\n",
    "print(john.get_pay())"
   ]
  },
  {
   "cell_type": "code",
   "execution_count": 419,
   "id": "c8a175a2-f970-4e9b-a6cd-c4d953ba9f1e",
   "metadata": {},
   "outputs": [
    {
     "name": "stdout",
     "output_type": "stream",
     "text": [
      "5000\n"
     ]
    }
   ],
   "source": [
    "jane = Employee('Jane', 5000)\n",
    "print(jane.get_pay())"
   ]
  },
  {
   "cell_type": "code",
   "execution_count": 420,
   "id": "083c8c2d-de54-4854-83f6-3e31aa9bec9b",
   "metadata": {},
   "outputs": [
    {
     "name": "stdout",
     "output_type": "stream",
     "text": [
      "6500\n",
      "5000\n"
     ]
    }
   ],
   "source": [
    "class Employee:\n",
    "    def __init__(self, name, base_pay):\n",
    "        self.name = name\n",
    "        self.base_pay = base_pay\n",
    "\n",
    "    def get_pay(self):\n",
    "        return self.base_pay\n",
    "\n",
    "\n",
    "class SalesEmployee(Employee):\n",
    "    def __init__(self, name, base_pay, sales_incentive):\n",
    "        self.name = name\n",
    "        self.base_pay = base_pay\n",
    "        self.sales_incentive = sales_incentive\n",
    "\n",
    "    def get_pay(self):\n",
    "        return self.base_pay + self.sales_incentive\n",
    "\n",
    "\n",
    "if __name__ == '__main__':\n",
    "    john = SalesEmployee('John', 5000, 1500)\n",
    "    print(john.get_pay())\n",
    "\n",
    "    jane = Employee('Jane', 5000)\n",
    "    print(jane.get_pay())"
   ]
  },
  {
   "cell_type": "code",
   "execution_count": 421,
   "id": "5b5b9814-e2a4-47ea-b89a-85c186cec96b",
   "metadata": {},
   "outputs": [],
   "source": [
    "class Parser:\n",
    "    def __init__(self, text):\n",
    "        self.text = text\n",
    "\n",
    "    def email(self):\n",
    "        match = re.search(r'[a-z0-9\\.\\-+_]+@[a-z0-9\\.\\-+_]+\\.[a-z]+', self.text)\n",
    "        if match:\n",
    "            return match.group(0)\n",
    "        return None\n",
    "\n",
    "    def phone(self):\n",
    "        match = re.search(r'\\d{3}-\\d{3}-\\d{4}', self.text)\n",
    "        if match:\n",
    "            return match.group(0)\n",
    "        return None\n",
    "\n",
    "    def parse(self):\n",
    "        return {\n",
    "            'email': self.email(),\n",
    "            'phone': self.phone()\n",
    "        }"
   ]
  },
  {
   "cell_type": "code",
   "execution_count": 422,
   "id": "343670d0-4e6b-4aca-9c43-a03c9b1ae82e",
   "metadata": {},
   "outputs": [
    {
     "name": "stdout",
     "output_type": "stream",
     "text": [
      "{'email': 'email@test.com', 'phone': '408-205-5663'}\n",
      "{'email': 'email@test.co.uk', 'phone': '+1-650-453-3456'}\n"
     ]
    }
   ],
   "source": [
    "import re\n",
    "\n",
    "\n",
    "class Parser:\n",
    "    def __init__(self, text):\n",
    "        self.text = text\n",
    "\n",
    "    def email(self):\n",
    "        match = re.search(r'[a-z0-9\\.\\-+_]+@[a-z0-9\\.\\-+_]+\\.[a-z]+', self.text)\n",
    "        if match:\n",
    "            return match.group(0)\n",
    "        return None\n",
    "\n",
    "    def phone(self):\n",
    "        match = re.search(r'\\d{3}-\\d{3}-\\d{4}', self.text)\n",
    "        if match:\n",
    "            return match.group(0)\n",
    "        return None\n",
    "\n",
    "    def parse(self):\n",
    "        return {\n",
    "            'email': self.email(),\n",
    "            'phone': self.phone()\n",
    "        }\n",
    "\n",
    "\n",
    "class UkParser(Parser):\n",
    "    def phone(self):\n",
    "        match = re.search(r'(\\+\\d{1}-\\d{3}-\\d{3}-\\d{4})', self.text)\n",
    "        if match:\n",
    "            return match.group(0)\n",
    "        return None\n",
    "\n",
    "\n",
    "if __name__ == '__main__':\n",
    "    s = 'Contact us via 408-205-5663 or email@test.com'\n",
    "    parser = Parser(s)\n",
    "    print(parser.parse())\n",
    "\n",
    "    s2 = 'Contact me via +1-650-453-3456 or email@test.co.uk'\n",
    "    parser = UkParser(s2)\n",
    "    print(parser.parse())"
   ]
  },
  {
   "cell_type": "markdown",
   "id": "11cf1ca7-f845-4923-9f7e-fd19cd74eb2a",
   "metadata": {},
   "source": [
    "## Python super\n",
    "\n",
    "Summary: in this tutorial, you will learn how to use the Python super() to delegate to the parent class when overriding methods.\n",
    "\n",
    "Introduction to the Python super\n",
    "First, define an Employee class:\n",
    "\n"
   ]
  },
  {
   "cell_type": "code",
   "execution_count": 425,
   "id": "2d58d8c4-009a-46fb-937d-7e89c94c4017",
   "metadata": {},
   "outputs": [],
   "source": [
    "class Employee:\n",
    "    def __init__(self, name, base_pay, bonus):\n",
    "        self.name = name\n",
    "        self.base_pay = base_pay\n",
    "        self.bonus = bonus\n",
    "\n",
    "    def get_pay(self):\n",
    "        return self.base_pay + self.bonus"
   ]
  },
  {
   "cell_type": "code",
   "execution_count": 426,
   "id": "23f02388-39c1-4730-b7fb-81be015bd9ef",
   "metadata": {},
   "outputs": [],
   "source": [
    "class SalesEmployee(Employee):\n",
    "    def __init__(self, name, base_pay, bonus, sales_incentive):\n",
    "        self.name = name\n",
    "        self.base_pay = base_pay\n",
    "        self.bonus = bonus\n",
    "        self.sales_incentive = sales_incentive\n",
    "\n",
    "    def get_pay(self):\n",
    "        return self.base_pay + self.bonus + self.sales_incentive"
   ]
  },
  {
   "cell_type": "markdown",
   "id": "a32e17de-1564-49a2-95a9-f205c3e88519",
   "metadata": {},
   "source": [
    "### super().__init__()\n",
    "The \\__init__() method of the SalesEmployee class has some parts that are the same as the ones in the \\__init__() method of the Employee class.\n",
    "\n",
    "To avoid duplication, you can call the \\__init__() method of Employee class from the \\__init__() method of the SalesEmployee class.\n",
    "\n",
    "To reference the Employee class in the SalesEmployee class, you use the super(). The super() returns a reference of the parent class from a child class.\n",
    "\n",
    "The following redefines the SalesEmployee class that uses the super() to call the \\__init__() method of the Employee class:"
   ]
  },
  {
   "cell_type": "code",
   "execution_count": 427,
   "id": "6ee6992a-c0c3-4625-b19f-2bc4fbfbf671",
   "metadata": {},
   "outputs": [],
   "source": [
    "class SalesEmployee(Employee):\n",
    "    def __init__(self, name, base_pay, bonus, sales_incentive):\n",
    "        super().__init__(name, base_pay, bonus)\n",
    "        self.sales_incentive = sales_incentive\n",
    "\n",
    "    def get_pay(self):\n",
    "        return self.base_pay + self.bonus + self.sales_incentive"
   ]
  },
  {
   "cell_type": "code",
   "execution_count": 428,
   "id": "2a49e6c2-1cbc-42d9-83c9-0f1febb39638",
   "metadata": {},
   "outputs": [
    {
     "name": "stdout",
     "output_type": "stream",
     "text": [
      "8000\n"
     ]
    }
   ],
   "source": [
    "class Employee:\n",
    "    def __init__(self, name, base_pay, bonus):\n",
    "        self.name = name\n",
    "        self.base_pay = base_pay\n",
    "        self.bonus = bonus\n",
    "\n",
    "    def get_pay(self):\n",
    "        return self.base_pay + self.bonus\n",
    "\n",
    "\n",
    "class SalesEmployee(Employee):\n",
    "    def __init__(self, name, base_pay, bonus, sales_incentive):\n",
    "        super().__init__(name, base_pay, bonus)\n",
    "        self.sales_incentive = sales_incentive\n",
    "\n",
    "    def get_pay(self):\n",
    "        return super().get_pay() + self.sales_incentive\n",
    "\n",
    "\n",
    "if __name__ == '__main__':\n",
    "    sales_employee = SalesEmployee('John', 5000, 1000, 2000)\n",
    "    print(sales_employee.get_pay())  # 8000"
   ]
  },
  {
   "cell_type": "markdown",
   "id": "c0e84ccd-ba5c-4e04-9dfe-c4e4051d554a",
   "metadata": {},
   "source": [
    "### Summary\n",
    "Use super() to call the methods of a parent class from a child class.## "
   ]
  },
  {
   "cell_type": "markdown",
   "id": "dbca2eee-d48a-49d7-8648-02ffa1a5edce",
   "metadata": {},
   "source": [
    "## Python __slots__\n",
    "\n",
    "Summary: in this tutorial, you will learn about the Python \\__slots__ and how how to use it to make your class more efficient.\n",
    "\n",
    "Introduction to the Python \\__slots__\n",
    "The following defines a Point2D class that has two attributes including x and y coordinates:"
   ]
  },
  {
   "cell_type": "code",
   "execution_count": 429,
   "id": "a9cac022-8a9c-4d23-ae90-53bc5c124a33",
   "metadata": {},
   "outputs": [],
   "source": [
    "class Point2D:\n",
    "    def __init__(self, x, y):\n",
    "        self.x = x\n",
    "        self.y = y\n",
    "\n",
    "    def __repr__(self):\n",
    "        return f'Point2D({self.x},{self.y})'"
   ]
  },
  {
   "cell_type": "code",
   "execution_count": 430,
   "id": "7851f6c6-bf5a-4c5c-826a-5bca14270ed8",
   "metadata": {},
   "outputs": [
    {
     "name": "stdout",
     "output_type": "stream",
     "text": [
      "{'x': 0, 'y': 0}\n"
     ]
    }
   ],
   "source": [
    "point = Point2D(0, 0)\n",
    "print(point.__dict__)"
   ]
  },
  {
   "cell_type": "markdown",
   "id": "6b563111-5974-40ea-b285-7f0c2cb0a226",
   "metadata": {},
   "source": [
    "## Python Abstract Classes\n",
    "\n",
    "Summary: in this tutorial, you’ll learn about Python Abstract classes and how to use it to create a blueprint for other classes.\n",
    "\n",
    "### Introduction to Python Abstract Classes\n",
    "\n",
    "In object-oriented programming, an abstract class is a class that cannot be instantiated. However, you can create classes that inherit from an abstract class.\n",
    "\n",
    "Typically, you use an abstract class to create a blueprint for other classes.\n",
    "\n",
    "Similarly, an abstract method is an method without an implementation. An abstract class may or may not include abstract methods.\n",
    "\n",
    "Python doesn’t directly support abstract classes. But it does offer a module that allows you to define abstract classes.\n",
    "\n",
    "To define an abstract class, you use the abc (abstract base class) module.\n",
    "\n",
    "The abc module provides you with the infrastructure for defining abstract base classes.\n",
    "\n",
    "For example:"
   ]
  },
  {
   "cell_type": "code",
   "execution_count": null,
   "id": "1e2ce717-339c-4a8e-904c-7c06eafc52d1",
   "metadata": {},
   "outputs": [],
   "source": []
  }
 ],
 "metadata": {
  "kernelspec": {
   "display_name": "Python 3 (ipykernel)",
   "language": "python",
   "name": "python3"
  },
  "language_info": {
   "codemirror_mode": {
    "name": "ipython",
    "version": 3
   },
   "file_extension": ".py",
   "mimetype": "text/x-python",
   "name": "python",
   "nbconvert_exporter": "python",
   "pygments_lexer": "ipython3",
   "version": "3.9.12"
  }
 },
 "nbformat": 4,
 "nbformat_minor": 5
}
