{
 "cells": [
  {
   "cell_type": "code",
   "execution_count": 734,
   "id": "f98786f9-38b9-4e8e-ab2c-ce5bef9aa275",
   "metadata": {},
   "outputs": [],
   "source": [
    "import diamond_music_utils as dmu\n",
    "from importlib import reload\n",
    "reload(dmu)\n",
    "import numpy as np\n",
    "import pprint\n",
    "pp = pprint.PrettyPrinter(sort_dicts=False)\n",
    "from fractions import Fraction\n",
    "import copy\n",
    "import logging\n",
    "from numpy.random import default_rng\n",
    "rng = np.random.default_rng()\n",
    "CSD_FILE = 'ball3.csd'\n",
    "LOGNAME = 'ball3.log'\n",
    "WAV_OUT = '/home/prent/Music/sflib/ball3.wav'\n",
    "CON_OUT = '/home/prent/Music/sflib/ball3-t'"
   ]
  },
  {
   "cell_type": "code",
   "execution_count": 2,
   "id": "cf7e1a88-e474-4618-a98e-6c6dfbc906d3",
   "metadata": {},
   "outputs": [],
   "source": [
    "csound_running = False"
   ]
  },
  {
   "cell_type": "code",
   "execution_count": 3,
   "id": "970eb7b8-a8b3-489c-9941-a3980d8ba9e7",
   "metadata": {},
   "outputs": [
    {
     "name": "stdout",
     "output_type": "stream",
     "text": [
      "all_ratios.shape = (256,)\n",
      "Tonality Diamond in the Cassandra orientation to the 31-limit\n",
      "1\t17/16\t9/8\t19/16\t5/4\t21/16\t11/8\t23/16\t3/2\t25/16\t13/8\t27/16\t7/4\t29/16\t15/8\t31/16\t\n",
      "32/17\t1\t18/17\t19/17\t20/17\t21/17\t22/17\t23/17\t24/17\t25/17\t26/17\t27/17\t28/17\t29/17\t30/17\t31/17\t\n",
      "16/9\t17/9\t1\t19/18\t10/9\t7/6\t11/9\t23/18\t4/3\t25/18\t13/9\t3/2\t14/9\t29/18\t5/3\t31/18\t\n",
      "32/19\t34/19\t36/19\t1\t20/19\t21/19\t22/19\t23/19\t24/19\t25/19\t26/19\t27/19\t28/19\t29/19\t30/19\t31/19\t\n",
      "8/5\t17/10\t9/5\t19/10\t1\t21/20\t11/10\t23/20\t6/5\t5/4\t13/10\t27/20\t7/5\t29/20\t3/2\t31/20\t\n",
      "32/21\t34/21\t12/7\t38/21\t40/21\t1\t22/21\t23/21\t8/7\t25/21\t26/21\t9/7\t4/3\t29/21\t10/7\t31/21\t\n",
      "16/11\t17/11\t18/11\t19/11\t20/11\t21/11\t1\t23/22\t12/11\t25/22\t13/11\t27/22\t14/11\t29/22\t15/11\t31/22\t\n",
      "32/23\t34/23\t36/23\t38/23\t40/23\t42/23\t44/23\t1\t24/23\t25/23\t26/23\t27/23\t28/23\t29/23\t30/23\t31/23\t\n",
      "4/3\t17/12\t3/2\t19/12\t5/3\t7/4\t11/6\t23/12\t1\t25/24\t13/12\t9/8\t7/6\t29/24\t5/4\t31/24\t\n",
      "32/25\t34/25\t36/25\t38/25\t8/5\t42/25\t44/25\t46/25\t48/25\t1\t26/25\t27/25\t28/25\t29/25\t6/5\t31/25\t\n",
      "16/13\t17/13\t18/13\t19/13\t20/13\t21/13\t22/13\t23/13\t24/13\t25/13\t1\t27/26\t14/13\t29/26\t15/13\t31/26\t\n",
      "32/27\t34/27\t4/3\t38/27\t40/27\t14/9\t44/27\t46/27\t16/9\t50/27\t52/27\t1\t28/27\t29/27\t10/9\t31/27\t\n",
      "8/7\t17/14\t9/7\t19/14\t10/7\t3/2\t11/7\t23/14\t12/7\t25/14\t13/7\t27/14\t1\t29/28\t15/14\t31/28\t\n",
      "32/29\t34/29\t36/29\t38/29\t40/29\t42/29\t44/29\t46/29\t48/29\t50/29\t52/29\t54/29\t56/29\t1\t30/29\t31/29\t\n",
      "16/15\t17/15\t6/5\t19/15\t4/3\t7/5\t22/15\t23/15\t8/5\t5/3\t26/15\t9/5\t28/15\t29/15\t1\t31/30\t\n",
      "32/31\t34/31\t36/31\t38/31\t40/31\t42/31\t44/31\t46/31\t48/31\t50/31\t52/31\t54/31\t56/31\t58/31\t60/31\t1\t"
     ]
    }
   ],
   "source": [
    "all_ratios = np.array(dmu.build_all_ratios())\n",
    "ratio_strings = dmu.build_ratio_strings(all_ratios) # create a (16,16) array of ratios in string form. Change those that are '1' to '1/1'\n",
    "print(f'{all_ratios.shape = }')\n",
    "# print the ratios as fractions\n",
    "limit = 31\n",
    "end_denom = limit + 1\n",
    "start_denom = (end_denom) // 2\n",
    "o_numerator = np.arange(start_denom, end_denom, 1) # create a list of overtones\n",
    "u_denominator = np.arange(start_denom, end_denom, 1) # create a list of undertones\n",
    "print(f'Tonality Diamond in the Cassandra orientation to the {limit}-limit', end='')\n",
    "i = 0\n",
    "for oton_root in u_denominator:\n",
    "    print()\n",
    "    for overtone in o_numerator:\n",
    "        print(f'{str(Fraction(all_ratios[i]).limit_denominator())}', end = '\\t')\n",
    "        i += 1"
   ]
  },
  {
   "cell_type": "code",
   "execution_count": 4,
   "id": "f193881f-b5cb-4a41-8def-07797f587cc9",
   "metadata": {},
   "outputs": [
    {
     "name": "stdout",
     "output_type": "stream",
     "text": [
      "Tonality Diamond in the Cassandra orientation to the 31-limit\n",
      "1/1\t32/17\t16/9\t32/19\t8/5\t32/21\t16/11\t32/23\t4/3\t32/25\t16/13\t32/27\t8/7\t32/29\t16/15\t32/31\t\n",
      "17/16\t1/1\t17/9\t34/19\t17/10\t34/21\t17/11\t34/23\t17/12\t34/25\t17/13\t34/27\t17/14\t34/29\t17/15\t34/31\t\n",
      "9/8\t18/17\t1/1\t36/19\t9/5\t12/7\t18/11\t36/23\t3/2\t36/25\t18/13\t4/3\t9/7\t36/29\t6/5\t36/31\t\n",
      "19/16\t19/17\t19/18\t1/1\t19/10\t38/21\t19/11\t38/23\t19/12\t38/25\t19/13\t38/27\t19/14\t38/29\t19/15\t38/31\t\n",
      "5/4\t20/17\t10/9\t20/19\t1/1\t40/21\t20/11\t40/23\t5/3\t8/5\t20/13\t40/27\t10/7\t40/29\t4/3\t40/31\t\n",
      "21/16\t21/17\t7/6\t21/19\t21/20\t1/1\t21/11\t42/23\t7/4\t42/25\t21/13\t14/9\t3/2\t42/29\t7/5\t42/31\t\n",
      "11/8\t22/17\t11/9\t22/19\t11/10\t22/21\t1/1\t44/23\t11/6\t44/25\t22/13\t44/27\t11/7\t44/29\t22/15\t44/31\t\n",
      "23/16\t23/17\t23/18\t23/19\t23/20\t23/21\t23/22\t1/1\t23/12\t46/25\t23/13\t46/27\t23/14\t46/29\t23/15\t46/31\t\n",
      "3/2\t24/17\t4/3\t24/19\t6/5\t8/7\t12/11\t24/23\t1/1\t48/25\t24/13\t16/9\t12/7\t48/29\t8/5\t48/31\t\n",
      "25/16\t25/17\t25/18\t25/19\t5/4\t25/21\t25/22\t25/23\t25/24\t1/1\t25/13\t50/27\t25/14\t50/29\t5/3\t50/31\t\n",
      "13/8\t26/17\t13/9\t26/19\t13/10\t26/21\t13/11\t26/23\t13/12\t26/25\t1/1\t52/27\t13/7\t52/29\t26/15\t52/31\t\n",
      "27/16\t27/17\t3/2\t27/19\t27/20\t9/7\t27/22\t27/23\t9/8\t27/25\t27/26\t1/1\t27/14\t54/29\t9/5\t54/31\t\n",
      "7/4\t28/17\t14/9\t28/19\t7/5\t4/3\t14/11\t28/23\t7/6\t28/25\t14/13\t28/27\t1/1\t56/29\t28/15\t56/31\t\n",
      "29/16\t29/17\t29/18\t29/19\t29/20\t29/21\t29/22\t29/23\t29/24\t29/25\t29/26\t29/27\t29/28\t1/1\t29/15\t58/31\t\n",
      "15/8\t30/17\t5/3\t30/19\t3/2\t10/7\t15/11\t30/23\t5/4\t6/5\t15/13\t10/9\t15/14\t30/29\t1/1\t60/31\t\n",
      "31/16\t31/17\t31/18\t31/19\t31/20\t31/21\t31/22\t31/23\t31/24\t31/25\t31/26\t31/27\t31/28\t31/29\t31/30\t1/1\t"
     ]
    }
   ],
   "source": [
    "# print the ratios as strings\n",
    "print(f'Tonality Diamond in the Cassandra orientation to the {limit}-limit', end='')\n",
    "for oton_root in np.arange(16):\n",
    "    print()\n",
    "    for overtone in np.arange(16):\n",
    "        print(f'{ratio_strings[overtone, oton_root]}', end = '\\t')"
   ]
  },
  {
   "cell_type": "code",
   "execution_count": 5,
   "id": "b0ef8750-2d16-41ec-abb8-b49184a15057",
   "metadata": {},
   "outputs": [
    {
     "name": "stdout",
     "output_type": "stream",
     "text": [
      "ratio_strings.shape = (16, 16)\n",
      "otonality on 1/1: ['1/1' '32/17' '16/9' '32/19' '8/5' '32/21' '16/11' '32/23' '4/3' '32/25'\n",
      " '16/13' '32/27' '8/7' '32/29' '16/15' '32/31']\n",
      "utonality on 1/1:['1/1' '17/16' '9/8' '19/16' '5/4' '21/16' '11/8' '23/16' '3/2' '25/16'\n",
      " '13/8' '27/16' '7/4' '29/16' '15/8' '31/16']\n"
     ]
    }
   ],
   "source": [
    "print(f'{ratio_strings.shape = }')\n",
    "# print the top row of ratios, the tonality\n",
    "print(f'otonality on 1/1: {ratio_strings[:,0]}')\n",
    "# print the leftmost set of ratios, the utonality\n",
    "print(f'utonality on 1/1:{ratio_strings[0]}')"
   ]
  },
  {
   "cell_type": "code",
   "execution_count": 6,
   "id": "46806951-4fa1-449a-87f1-dfc19f21e90e",
   "metadata": {},
   "outputs": [
    {
     "name": "stdout",
     "output_type": "stream",
     "text": [
      "scale degrees: [129  97  65  33   1 225 193 161]\n",
      "ratios from scale_degrees: ['17/12', '17/11', '17/10', '17/9', '17/16', '17/15', '17/14', '17/13']\n",
      "roots available in the undertone series: dict_keys(['1/1', '17/16', '9/8', '19/16', '5/4', '21/16', '11/8', '23/16', '3/2', '25/16', '13/8', '27/16', '7/4', '29/16', '15/8', '31/16'])\n",
      "roots available in the overtone series: dict_keys(['1/1', '32/17', '16/9', '32/19', '8/5', '32/21', '16/11', '32/23', '4/3', '32/25', '16/13', '32/27', '8/7', '32/29', '16/15', '32/31'])\n"
     ]
    }
   ],
   "source": [
    "# with the keys() dictionary, we have a way to build 16 note sequences of indexes to note in the overtones or undertones. \n",
    "# We can find the ratios by accessing the converting those indeciis to ratio strings using the all_ratio_strings array\n",
    "first_item_only = True\n",
    "all_ratio_strings = ratio_strings.reshape(256,)\n",
    "# here is an example of pulling an undertone scale sequence on the 17:16 overtone root\n",
    "scale_index = dmu.build_scales(\"uton\",\"17/16\",\"A\") # 8 indeciis into the 256 member index array - not necessarily from low to high.\n",
    "print(f'scale degrees: {scale_index}') # show the indeciis\n",
    "print(f'ratios from scale_degrees: {[all_ratio_strings[degree] for degree in scale_index]}') # show the ratios \n",
    "print(f'roots available in the undertone series: {dmu.show_keys()[\"uton\"].keys()}') \n",
    "print(f'roots available in the overtone series: {dmu.show_keys()[\"oton\"].keys()}') "
   ]
  },
  {
   "cell_type": "code",
   "execution_count": 7,
   "id": "b01d4f23-f930-4186-abc7-5779e305024f",
   "metadata": {},
   "outputs": [
    {
     "name": "stdout",
     "output_type": "stream",
     "text": [
      "root = '16/9' is a root in oton\n",
      "scale degrees: in this mode and root: scale_index = array([32, 33, 34, 35, 36, 37, 38, 39, 40, 41, 42, 43, 44, 45, 46, 47])\n",
      "scale degrees shown as ratios: ['16/9' '17/9' '1/1' '19/18' '10/9' '7/6' '11/9' '23/18' '4/3' '25/18'\n",
      " '13/9' '3/2' '14/9' '29/18' '5/3' '31/18']\n"
     ]
    }
   ],
   "source": [
    "# check if a key is available in the mode before accessing it:\n",
    "root = '16/9'\n",
    "mode = 'oton'\n",
    "if root in dmu.show_keys()[mode]: \n",
    "    print(f'{root = } is a root in {mode}')\n",
    "    scale_index = dmu.show_keys()[mode][root]\n",
    "    print(f'scale degrees: in this mode and root: {scale_index = }')\n",
    "    print(f'scale degrees shown as ratios: {all_ratio_strings[scale_index]}')"
   ]
  },
  {
   "cell_type": "code",
   "execution_count": 8,
   "id": "8783d87e-bfa1-4f29-943c-a3a0f27f31e3",
   "metadata": {},
   "outputs": [
    {
     "name": "stdout",
     "output_type": "stream",
     "text": [
      "{'A': {'oton': array([ 0,  2,  4,  6,  8, 10, 12, 14]),\n",
      "       'uton': array([ 8,  6,  4,  2,  0, 14, 12, 10])},\n",
      " 'B': {'oton': array([ 2,  4,  6,  8, 10, 12, 14,  0]),\n",
      "       'uton': array([14, 12, 10,  8,  6,  4,  2,  0])},\n",
      " 'C': {'oton': array([ 1,  3,  5,  7,  9, 11, 13, 15]),\n",
      "       'uton': array([13, 11,  9,  7,  5,  3,  1, 15])},\n",
      " 'D': {'oton': array([ 3,  5,  7,  9, 11, 13, 15,  1]),\n",
      "       'uton': array([15, 13, 11,  9,  7,  5,  3,  1])},\n",
      " 'E': {'oton': array([ 2,  4,  6,  8, 11, 13, 15,  0]),\n",
      "       'uton': array([ 8,  6,  4,  2,  0, 15, 13, 11])},\n",
      " 'F': {'oton': array([ 8, 10, 12, 14,  0,  2,  4,  6]),\n",
      "       'uton': array([ 0, 14, 12, 10,  8,  6,  4,  2])},\n",
      " 'G': {'oton': array([ 4,  6,  8, 10, 14, 15,  0,  2]),\n",
      "       'uton': array([14, 10,  8,  6,  4,  2,  0, 15])},\n",
      " 'H': {'oton': array([12, 14,  0,  2,  5,  7,  9, 11]),\n",
      "       'uton': array([ 5,  3,  1, 15, 12, 10,  8,  6])}}\n",
      "\n",
      "The keys to the scales dictionary are the ranks: dict_keys(['A', 'B', 'C', 'D', 'E', 'F', 'G', 'H'])\n",
      "The sub-keys are the modes: [('A', {'oton': array([ 0,  2,  4,  6,  8, 10, 12, 14]), 'uton': array([ 8,  6,  4,  2,  0, 14, 12, 10])}), ('B', {'oton': array([ 2,  4,  6,  8, 10, 12, 14,  0]), 'uton': array([14, 12, 10,  8,  6,  4,  2,  0])}), ('C', {'oton': array([ 1,  3,  5,  7,  9, 11, 13, 15]), 'uton': array([13, 11,  9,  7,  5,  3,  1, 15])}), ('D', {'oton': array([ 3,  5,  7,  9, 11, 13, 15,  1]), 'uton': array([15, 13, 11,  9,  7,  5,  3,  1])}), ('E', {'oton': array([ 2,  4,  6,  8, 11, 13, 15,  0]), 'uton': array([ 8,  6,  4,  2,  0, 15, 13, 11])}), ('F', {'oton': array([ 8, 10, 12, 14,  0,  2,  4,  6]), 'uton': array([ 0, 14, 12, 10,  8,  6,  4,  2])}), ('G', {'oton': array([ 4,  6,  8, 10, 14, 15,  0,  2]), 'uton': array([14, 10,  8,  6,  4,  2,  0, 15])}), ('H', {'oton': array([12, 14,  0,  2,  5,  7,  9, 11]), 'uton': array([ 5,  3,  1, 15, 12, 10,  8,  6])})]   \n"
     ]
    }
   ],
   "source": [
    "# show a list of ranks and the 8 note scales by mode\n",
    "pp.pprint(dmu.show_scales())\n",
    "print()\n",
    "print(f'The keys to the scales dictionary are the ranks: {dmu.show_scales().keys()}')\n",
    "print(f'The sub-keys are the modes: {[(rank, dmu.show_scales()[rank]) for rank in dmu.show_scales().keys()]}   ')"
   ]
  },
  {
   "cell_type": "code",
   "execution_count": 9,
   "id": "41a29f02-36fa-4795-8387-578dab6962ee",
   "metadata": {},
   "outputs": [
    {
     "name": "stdout",
     "output_type": "stream",
     "text": [
      "root = '16/9', mode = 'oton', 16 note scale is all_ratio_strings[scale_index] = array(['16/9', '17/9', '1/1', '19/18', '10/9', '7/6', '11/9', '23/18',\n",
      "       '4/3', '25/18', '13/9', '3/2', '14/9', '29/18', '5/3', '31/18'],\n",
      "      dtype='<U5')\n",
      "choose rank = 'A' from this 16 note scale which is root = '16/9', mode = 'oton': ['16/9' '1/1' '10/9' '11/9' '4/3' '13/9' '14/9' '5/3']\n",
      "choose rank = 'H' from this 16 note scale which is root = '16/9', mode = 'oton': ['14/9' '5/3' '16/9' '1/1' '7/6' '23/18' '25/18' '3/2']\n",
      "access the dictionary directly is more complicated: [array(['14/9', '5/3', '16/9', '1/1', '7/6', '23/18', '25/18', '3/2'],\n",
      "      dtype='<U5')]\n"
     ]
    }
   ],
   "source": [
    "root = '16/9'\n",
    "mode = 'oton'\n",
    "print(f'{root = }, {mode = }, 16 note scale is {all_ratio_strings[scale_index] = }') \n",
    "rank = 'A'\n",
    "print(f'choose {rank = } from this 16 note scale which is {root = }, {mode = }: {dmu.show_scale_ratios(dmu.build_scales(mode, root, rank))}')\n",
    "rank = 'H'\n",
    "print(f'choose {rank = } from this 16 note scale which is {root = }, {mode = }: {dmu.show_scale_ratios(dmu.build_scales(mode, root, rank))}')\n",
    "# you can access the dictionary directly or use the provided functions. Here I'm indexing through the dictionaries. It's complicated:\n",
    "print(f'access the dictionary directly is more complicated: {[all_ratio_strings[[dmu.show_keys()[mode][root][note] for note in (dmu.show_scales()[rank][mode])]]]}')"
   ]
  },
  {
   "cell_type": "code",
   "execution_count": 10,
   "id": "add85eb6-224b-4e64-99d0-01bc6dd4423e",
   "metadata": {},
   "outputs": [
    {
     "name": "stdout",
     "output_type": "stream",
     "text": [
      "The keys to the inversions dictionary are the ranks: dict_keys(['A', 'B', 'C', 'D', 'E', 'F', 'G', 'H'])\n",
      "rank = 'A'\n",
      "mode = 'oton'\n",
      "inversion: 1: dmu.show_inversions()[rank][mode][chord_inversion] = array([ 0,  4,  8, 12])\n",
      "inversion: 2: dmu.show_inversions()[rank][mode][chord_inversion] = array([ 4,  8, 12,  0])\n",
      "inversion: 3: dmu.show_inversions()[rank][mode][chord_inversion] = array([ 8, 12,  0,  4])\n",
      "inversion: 4: dmu.show_inversions()[rank][mode][chord_inversion] = array([12,  0,  4,  8])\n",
      "mode = 'uton'\n",
      "inversion: 1: dmu.show_inversions()[rank][mode][chord_inversion] = array([12,  8,  4,  0])\n",
      "inversion: 2: dmu.show_inversions()[rank][mode][chord_inversion] = array([ 0, 12,  8,  4])\n",
      "inversion: 3: dmu.show_inversions()[rank][mode][chord_inversion] = array([ 4,  0, 12,  8])\n",
      "inversion: 4: dmu.show_inversions()[rank][mode][chord_inversion] = array([ 8,  4,  0, 12])\n"
     ]
    }
   ],
   "source": [
    "print(f'The keys to the inversions dictionary are the ranks: {dmu.show_inversions().keys()}')\n",
    "for rank in dmu.show_inversions().keys():\n",
    "    print(f'{rank = }')\n",
    "    # print(f'{rank = }: {[inversions[rank][mode] for mode in inversions[rank].keys()]}')\n",
    "    for mode in dmu.show_inversions()[rank]:\n",
    "        print(f'{mode = }')\n",
    "        for chord_inversion in dmu.show_inversions()[rank][mode]:\n",
    "            print(f'inversion: {chord_inversion}: {dmu.show_inversions()[rank][mode][chord_inversion] = }')\n",
    "    if first_item_only: break"
   ]
  },
  {
   "cell_type": "code",
   "execution_count": 11,
   "id": "cf3a86d9-2f54-44cc-b8ae-e513f836380a",
   "metadata": {},
   "outputs": [
    {
     "name": "stdout",
     "output_type": "stream",
     "text": [
      "{'fpn': {'full': 'finger piano', 'start': 0, 'number': 1},\n",
      " 'bnp': {'full': 'bass finger piano', 'start': 0, 'number': 2},\n",
      " 'bdl': {'full': 'bass balloon drum', 'start': 0, 'number': 3},\n",
      " 'bdm': {'full': 'medium balloon drum', 'start': 0, 'number': 4},\n",
      " 'bdh': {'full': 'high balloon drum', 'start': 0, 'number': 5},\n",
      " 'bfl': {'full': 'bass flute', 'start': 0, 'number': 6},\n",
      " 'obo': {'full': 'oboe', 'start': 0, 'number': 7},\n",
      " 'cla': {'full': 'clarinet', 'start': 0, 'number': 8},\n",
      " 'bss': {'full': 'bassoon', 'start': 0, 'number': 9},\n",
      " 'frn': {'full': 'french horn', 'start': 0, 'number': 10}}\n",
      "voice_time[\"fpn\"][\"full\"] = 'finger piano'\n",
      "voice_time[\"fpn\"][\"start\"] = 0\n",
      "voice_time[\"fpn\"][\"number\"] = 1\n"
     ]
    }
   ],
   "source": [
    "# Is there anything else I need to track about the voice? If not, this could be simplified\n",
    "# track the name, the start time, and the instrument number\n",
    "voice_time = {'fpn': {'full': 'finger piano', 'start': 0, 'number': 1},\n",
    "      'bnp': {'full': 'bass finger piano', 'start': 0, 'number': 2},\n",
    "      'bdl': {'full': 'bass balloon drum', 'start': 0, 'number': 3},\n",
    "      'bdm': {'full': 'medium balloon drum', 'start': 0, 'number': 4},\n",
    "      'bdh': {'full': 'high balloon drum', 'start': 0, 'number': 5},\n",
    "      'bfl': {'full': 'bass flute', 'start': 0, 'number': 6},\n",
    "      'obo': {'full': 'oboe', 'start': 0, 'number': 7},\n",
    "      'cla': {'full': 'clarinet', 'start': 0, 'number': 8},\n",
    "      'bss': {'full': 'bassoon', 'start': 0, 'number': 9},\n",
    "      'frn': {'full': 'french horn', 'start': 0, 'number': 10}}\n",
    "\n",
    "pp.pprint(voice_time)\n",
    "print(f'{voice_time[\"fpn\"][\"full\"] = }')\n",
    "print(f'{voice_time[\"fpn\"][\"start\"] = }')\n",
    "print(f'{voice_time[\"fpn\"][\"number\"] = }')"
   ]
  },
  {
   "cell_type": "code",
   "execution_count": 12,
   "id": "3baad9e9-b3d8-41e3-8d4f-9406703c354a",
   "metadata": {},
   "outputs": [
    {
     "name": "stdout",
     "output_type": "stream",
     "text": [
      "[0, 0, 0, 0, 0, 0, 0, 0, 0, 0]\n",
      "result = 0\n",
      "[0, 0, 0, 0, 0, 0, 0, 0, 0, 0]\n"
     ]
    }
   ],
   "source": [
    "def init_voice_time_start():\n",
    "    for short_name in voice_time:\n",
    "        voice_time[short_name][\"start\"] = 0\n",
    "    return 0\n",
    "\n",
    "print(f'{[voice_time[short_name][\"start\"] for short_name in voice_time.keys()]}')\n",
    "result = init_voice_time_start()\n",
    "print(f'{result = }')\n",
    "print(f'{[voice_time[short_name][\"start\"] for short_name in voice_time.keys()]}')"
   ]
  },
  {
   "cell_type": "code",
   "execution_count": 13,
   "id": "2ffcff7d-4a28-4546-81e8-20ac68af076e",
   "metadata": {},
   "outputs": [
    {
     "name": "stdout",
     "output_type": "stream",
     "text": [
      "distance from 3/2 to 9/8 is 3/2\n",
      "distance from 32/21 to 8/7 is 3/2\n",
      "default behavior find_closest = True\n",
      "distance from 1/1 to 15/8 is 0.9375 = 15/16\n",
      "distance from 15/8 to 1/1 is 1.0666666666666667 = 16/15\n",
      "find_closest = False - just return the caluculated ratio without looking for a closer note by adjusting octaves of either note\n",
      "distance from 1/1 to 15/8 is 1.875 = 15/8\n",
      "distance from 15/8 to 1/1 is 0.5333333333333333 = 8/15\n"
     ]
    }
   ],
   "source": [
    "# show what ratio_distance can do. It was designed to handle slides from one chord to another, and seeks to move to the closest note even if it crosses an octave boundary\n",
    "# If you don't want that control, set find_closest to False\n",
    "print(f'distance from {ratio_strings[0,8]} to {ratio_strings[0,2]} is {Fraction(dmu.ratio_distance(ratio_strings[0,8], ratio_strings[0,2])).limit_denominator(100)}')\n",
    "print(f'distance from {ratio_strings[5,0]} to {ratio_strings[12,0]} is {Fraction(dmu.ratio_distance(ratio_strings[5,0], ratio_strings[12,0])).limit_denominator(100)}')\n",
    "ratio1 = all_ratio_strings[0]\n",
    "ratio2 = all_ratio_strings[14]\n",
    "print(f'default behavior find_closest = True')\n",
    "print(f'distance from {ratio1} to {ratio2} is {dmu.ratio_distance(ratio1, ratio2)} = {Fraction(dmu.ratio_distance(ratio1, ratio2)).limit_denominator(100)}')\n",
    "print(f'distance from {ratio2} to {ratio1} is {dmu.ratio_distance(ratio2, ratio1)} = {Fraction(dmu.ratio_distance(ratio2, ratio1)).limit_denominator(100)}')\n",
    "print(f'find_closest = False - just return the caluculated ratio without looking for a closer note by adjusting octaves of either note')\n",
    "print(f'distance from {ratio1} to {ratio2} is {dmu.ratio_distance(ratio1, ratio2, find_closest = False)} = {Fraction(dmu.ratio_distance(ratio1, ratio2, find_closest = False)).limit_denominator(100)}')\n",
    "print(f'distance from {ratio2} to {ratio1} is {dmu.ratio_distance(ratio2, ratio1, find_closest = False)} = {Fraction(dmu.ratio_distance(ratio2, ratio1, find_closest = False)).limit_denominator(100)}')"
   ]
  },
  {
   "cell_type": "code",
   "execution_count": 14,
   "id": "577c01c7-b727-4988-b3eb-ccd0f867b4e9",
   "metadata": {},
   "outputs": [
    {
     "name": "stdout",
     "output_type": "stream",
     "text": [
      "A, oton. third ratio: 5/4\t decimal: 1.25\tfifth ratio: 3/2\tdecimal: 1.5\n",
      "A, uton. third ratio: 6/5\t decimal: 1.2\tfifth ratio: 3/2\tdecimal: 1.5\n",
      "B, oton. third ratio: 11/9\t decimal: 1.222\tfifth ratio: 13/9\tdecimal: 1.444\n",
      "B, uton. third ratio: 15/13\t decimal: 1.154\tfifth ratio: 15/11\tdecimal: 1.364\n",
      "C, oton. third ratio: 21/17\t decimal: 1.235\tfifth ratio: 25/17\tdecimal: 1.471\n",
      "C, uton. third ratio: 29/25\t decimal: 1.16\tfifth ratio: 29/21\tdecimal: 1.381\n",
      "D, oton. third ratio: 23/19\t decimal: 1.211\tfifth ratio: 27/19\tdecimal: 1.421\n",
      "D, uton. third ratio: 31/27\t decimal: 1.148\tfifth ratio: 31/23\tdecimal: 1.348\n",
      "E, oton. third ratio: 11/9\t decimal: 1.222\tfifth ratio: 3/2\tdecimal: 1.5\n",
      "E, uton. third ratio: 6/5\t decimal: 1.2\tfifth ratio: 3/2\tdecimal: 1.5\n",
      "F, oton. third ratio: 7/6\t decimal: 1.167\tfifth ratio: 4/3\tdecimal: 1.333\n",
      "F, uton. third ratio: 8/7\t decimal: 1.143\tfifth ratio: 4/3\tdecimal: 1.333\n",
      "G, oton. third ratio: 6/5\t decimal: 1.2\tfifth ratio: 3/2\tdecimal: 1.5\n",
      "G, uton. third ratio: 5/4\t decimal: 1.25\tfifth ratio: 3/2\tdecimal: 1.5\n",
      "H, oton. third ratio: 8/7\t decimal: 1.143\tfifth ratio: 3/2\tdecimal: 1.5\n",
      "H, uton. third ratio: 21/17\t decimal: 1.235\tfifth ratio: 3/2\tdecimal: 1.5\n"
     ]
    }
   ],
   "source": [
    "# List the thirds and fifths in all ranks and modes. In general, if a scale doesn't have a solid 3:2 as a fifth and a reasonable third it won't work on its own.\n",
    "# A is great both otonal and utonal\n",
    "# B doesn't stand on its own.\n",
    "# B works with A as both are part of the 15-limit diamond, and B is a complement to the clean sound of A. \n",
    "# C and D are scales that are only in the 31-limit, and don't need to stand on their own.\n",
    "# E, F, G, H are supposed to stand on their own, and they need clean 3rd's and 5th's\n",
    "# so why is F have a 4:3 fifth?  That's because the ratio_distance doesn't notice that the 4th element of the scale is an octave too low. \n",
    "root = '1/1'\n",
    "for rank in dmu.show_scales(): # A, B, C, D, E, F, G, H\n",
    "    for mode in dmu.show_scales()[rank]: # 'oton', 'uton'\n",
    "        scale_index = dmu.build_scales(mode, root, rank) # build the 8 note scale\n",
    "        print(f'{rank}, {mode}. '\n",
    "              f'third ratio: {Fraction(dmu.ratio_distance(all_ratio_strings[scale_index[0]], all_ratio_strings[scale_index[2]])).limit_denominator(100)}'\n",
    "              f'\\t decimal: {round(dmu.ratio_distance(all_ratio_strings[scale_index[0]], all_ratio_strings[scale_index[2]]),3)}'\n",
    "              f'\\tfifth ratio: {Fraction(dmu.ratio_distance(all_ratio_strings[scale_index[0]], all_ratio_strings[scale_index[4]])).limit_denominator(100)}'\n",
    "              f'\\tdecimal: {round(dmu.ratio_distance(all_ratio_strings[scale_index[0]], all_ratio_strings[scale_index[4]]),3)}'\n",
    "             )"
   ]
  },
  {
   "cell_type": "code",
   "execution_count": 15,
   "id": "8b9a817f-5f06-4abb-8b32-9b399ea39fee",
   "metadata": {},
   "outputs": [
    {
     "name": "stdout",
     "output_type": "stream",
     "text": [
      "\t0\t\t1\t\t2\t\t3\t\t4\t\t5\t\t6\t\t7\n",
      "oton [(1.5, '3/2'), (1.625, '13/8'), (1.75, '7/4'), (1.875, '15/8'), (1.0, '1/1'), (1.125, '9/8'), (1.25, '5/4'), (1.375, '11/8')]\n",
      "uton [(1.0, '1/1'), (1.067, '16/15'), (1.143, '8/7'), (1.231, '16/13'), (1.333, '4/3'), (1.455, '16/11'), (1.6, '8/5'), (1.778, '16/9')]\n"
     ]
    }
   ],
   "source": [
    "# list the ratios in decimal and fraction for two scales in the 'F' rank on root '1/1' in both 'oton' & 'uton' modes \n",
    "root = '1/1'\n",
    "mode = 'oton'\n",
    "rank = 'F'\n",
    "scale_index = dmu.build_scales(mode, root, rank)\n",
    "print(f'\\t0\\t\\t1\\t\\t2\\t\\t3\\t\\t4\\t\\t5\\t\\t6\\t\\t7')\n",
    "print(f'{mode} {[(round(dmu.ratio_string_to_float(ratio),3),ratio) for ratio in dmu.show_scale_ratios(scale_index)]}')\n",
    "mode = 'uton'\n",
    "scale_index = dmu.build_scales(mode, root, rank)\n",
    "print(f'{mode} {[(round(dmu.ratio_string_to_float(ratio),3),ratio) for ratio in dmu.show_scale_ratios(scale_index)]}')"
   ]
  },
  {
   "cell_type": "code",
   "execution_count": 16,
   "id": "4d7e4143-f66f-449e-ab61-15158ec1fb51",
   "metadata": {},
   "outputs": [
    {
     "name": "stdout",
     "output_type": "stream",
     "text": [
      "A, oton, 1/1, ratios in scale_index: ['1/1', '9/8', '5/4', '11/8', '3/2', '13/8', '7/4', '15/8'] floating point ratios in scale_index: [1.0, 1.12, 1.25, 1.38, 1.5, 1.62, 1.75, 1.88] mask: [0 0 0 0 0 0 0 0]\n",
      "A, uton, 1/1, ratios in my_scale: ['4/3', '16/11', '8/5', '16/9', '1/1', '16/15', '8/7', '16/13'] floating point ratios in my_scale: [1.33, 1.45, 1.6, 1.78, 1.0, 1.07, 1.14, 1.23] mask: [0 0 0 0 1 0 0 0]\n",
      "B, oton, 1/1, ratios in scale_index: ['9/8', '5/4', '11/8', '3/2', '13/8', '7/4', '15/8', '1/1'] floating point ratios in scale_index: [1.12, 1.25, 1.38, 1.5, 1.62, 1.75, 1.88, 1.0] mask: [0 0 0 0 0 0 0 1]\n",
      "B, uton, 1/1, ratios in my_scale: ['16/15', '8/7', '16/13', '4/3', '16/11', '8/5', '16/9', '1/1'] floating point ratios in my_scale: [1.07, 1.14, 1.23, 1.33, 1.45, 1.6, 1.78, 1.0] mask: [0 0 0 0 0 0 0 1]\n",
      "C, oton, 1/1, ratios in scale_index: ['17/16', '19/16', '21/16', '23/16', '25/16', '27/16', '29/16', '31/16'] floating point ratios in scale_index: [1.06, 1.19, 1.31, 1.44, 1.56, 1.69, 1.81, 1.94] mask: [0 0 0 0 0 0 0 0]\n",
      "C, uton, 1/1, ratios in my_scale: ['32/29', '32/27', '32/25', '32/23', '32/21', '32/19', '32/17', '32/31'] floating point ratios in my_scale: [1.1, 1.19, 1.28, 1.39, 1.52, 1.68, 1.88, 1.03] mask: [0 0 0 0 0 0 0 1]\n",
      "D, oton, 1/1, ratios in scale_index: ['19/16', '21/16', '23/16', '25/16', '27/16', '29/16', '31/16', '17/16'] floating point ratios in scale_index: [1.19, 1.31, 1.44, 1.56, 1.69, 1.81, 1.94, 1.06] mask: [0 0 0 0 0 0 0 1]\n",
      "D, uton, 1/1, ratios in my_scale: ['32/31', '32/29', '32/27', '32/25', '32/23', '32/21', '32/19', '32/17'] floating point ratios in my_scale: [1.03, 1.1, 1.19, 1.28, 1.39, 1.52, 1.68, 1.88] mask: [0 0 0 0 0 0 0 0]\n",
      "E, oton, 1/1, ratios in scale_index: ['9/8', '5/4', '11/8', '3/2', '27/16', '29/16', '31/16', '1/1'] floating point ratios in scale_index: [1.12, 1.25, 1.38, 1.5, 1.69, 1.81, 1.94, 1.0] mask: [0 0 0 0 0 0 0 1]\n",
      "E, uton, 1/1, ratios in my_scale: ['4/3', '16/11', '8/5', '16/9', '1/1', '32/31', '32/29', '32/27'] floating point ratios in my_scale: [1.33, 1.45, 1.6, 1.78, 1.0, 1.03, 1.1, 1.19] mask: [0 0 0 0 1 0 0 0]\n",
      "F, oton, 1/1, ratios in scale_index: ['3/2', '13/8', '7/4', '15/8', '1/1', '9/8', '5/4', '11/8'] floating point ratios in scale_index: [1.5, 1.62, 1.75, 1.88, 1.0, 1.12, 1.25, 1.38] mask: [0 0 0 0 1 0 0 0]\n",
      "F, uton, 1/1, ratios in my_scale: ['1/1', '16/15', '8/7', '16/13', '4/3', '16/11', '8/5', '16/9'] floating point ratios in my_scale: [1.0, 1.07, 1.14, 1.23, 1.33, 1.45, 1.6, 1.78] mask: [0 0 0 0 0 0 0 0]\n",
      "G, oton, 1/1, ratios in scale_index: ['5/4', '11/8', '3/2', '13/8', '15/8', '31/16', '1/1', '9/8'] floating point ratios in scale_index: [1.25, 1.38, 1.5, 1.62, 1.88, 1.94, 1.0, 1.12] mask: [0 0 0 0 0 0 1 0]\n",
      "G, uton, 1/1, ratios in my_scale: ['16/15', '16/13', '4/3', '16/11', '8/5', '16/9', '1/1', '32/31'] floating point ratios in my_scale: [1.07, 1.23, 1.33, 1.45, 1.6, 1.78, 1.0, 1.03] mask: [0 0 0 0 0 0 1 0]\n",
      "H, oton, 1/1, ratios in scale_index: ['7/4', '15/8', '1/1', '9/8', '21/16', '23/16', '25/16', '27/16'] floating point ratios in scale_index: [1.75, 1.88, 1.0, 1.12, 1.31, 1.44, 1.56, 1.69] mask: [0 0 1 0 0 0 0 0]\n",
      "H, uton, 1/1, ratios in my_scale: ['32/21', '32/19', '32/17', '32/31', '8/7', '16/13', '4/3', '16/11'] floating point ratios in my_scale: [1.52, 1.68, 1.88, 1.03, 1.14, 1.23, 1.33, 1.45] mask: [0 0 0 1 0 0 0 0]\n"
     ]
    }
   ],
   "source": [
    "# Here is what some scales looks like. Set first_item_only to False to show them all\n",
    "# It consists of indeciis into the f3 function table, from which csound returns the octave fraction and then the Hertz of the note.\n",
    "# this cell demonstrates how to calculate a mask that can be applied to a scale to ensure it always goes up regardless of the octave\n",
    "\n",
    "for rank in dmu.show_scales(): # A, B, C, D, E, F, G, H\n",
    "    mode = 'oton'\n",
    "    for root in ratio_strings[:,0]:\n",
    "        scale_index = dmu.build_scales(mode, root, rank)\n",
    "        print(f'{rank}, {mode}, {root}, '\n",
    "            f'ratios in scale_index: {[all_ratio_strings[step] for step in scale_index]} '      \n",
    "            f'floating point ratios in scale_index: {[round(dmu.ratio_string_to_float(all_ratio_strings[step]),2) for step in scale_index]} '\n",
    "            f'mask: {dmu.build_scale_mask(scale_index)}')                      \n",
    "        if first_item_only: break\n",
    "    mode = 'uton'\n",
    "    for root in ratio_strings[0,:]:     \n",
    "        scale_index = dmu.build_scales(mode, root, rank) # \n",
    "        print(f'{rank}, {mode}, {root}, '\n",
    "            f'ratios in my_scale: {[all_ratio_strings[step] for step in scale_index]} '      \n",
    "            f'floating point ratios in my_scale: {[round(dmu.ratio_string_to_float(all_ratio_strings[step]),2) for step in scale_index]} '\n",
    "            f'mask: {dmu.build_scale_mask(scale_index)}')    \n",
    "        if first_item_only: break"
   ]
  },
  {
   "cell_type": "code",
   "execution_count": 17,
   "id": "82494f25-f051-4561-a3da-8021a467fb53",
   "metadata": {},
   "outputs": [
    {
     "name": "stdout",
     "output_type": "stream",
     "text": [
      "[128  64   0 208]\n",
      "['4/3', '8/5', '1/1', '32/29']\n",
      "[128  64   0 208]\n",
      "['8/5', '1/1', '32/29', '4/3']\n",
      "[128  64   0 208]\n",
      "['1/1', '32/29', '4/3', '8/5']\n",
      "[128  64   0 208]\n",
      "['4/3', '8/5', '1/1', '32/29']\n"
     ]
    }
   ],
   "source": [
    "# inspect an interesting chord in different inversions\n",
    "\n",
    "for inv in dmu.show_inversions()[\"E\"][\"uton\"]:\n",
    "    print(f'{dmu.build_chords(\"uton\", \"1/1\",\"E\", chord_inversion)}')\n",
    "    print(f'{[all_ratio_strings[note] for note in dmu.build_chords(\"uton\", \"1/1\",\"E\", inv)]}')"
   ]
  },
  {
   "cell_type": "code",
   "execution_count": 18,
   "id": "3b797f6e-b465-49bc-8ed2-2689c1ef20c3",
   "metadata": {},
   "outputs": [
    {
     "name": "stdout",
     "output_type": "stream",
     "text": [
      "[('rank:', 'A', 'indeciis: ', array([128,  96,  64,  32,   0, 224, 192, 160]), 'ratios: ', array(['4/3', '16/11', '8/5', '16/9', '1/1', '16/15', '8/7', '16/13'],\n",
      "      dtype='<U5')), ('rank:', 'B', 'indeciis: ', array([224, 192, 160, 128,  96,  64,  32,   0]), 'ratios: ', array(['16/15', '8/7', '16/13', '4/3', '16/11', '8/5', '16/9', '1/1'],\n",
      "      dtype='<U5')), ('rank:', 'C', 'indeciis: ', array([208, 176, 144, 112,  80,  48,  16, 240]), 'ratios: ', array(['32/29', '32/27', '32/25', '32/23', '32/21', '32/19', '32/17',\n",
      "       '32/31'], dtype='<U5')), ('rank:', 'D', 'indeciis: ', array([240, 208, 176, 144, 112,  80,  48,  16]), 'ratios: ', array(['32/31', '32/29', '32/27', '32/25', '32/23', '32/21', '32/19',\n",
      "       '32/17'], dtype='<U5')), ('rank:', 'E', 'indeciis: ', array([128,  96,  64,  32,   0, 240, 208, 176]), 'ratios: ', array(['4/3', '16/11', '8/5', '16/9', '1/1', '32/31', '32/29', '32/27'],\n",
      "      dtype='<U5')), ('rank:', 'F', 'indeciis: ', array([  0, 224, 192, 160, 128,  96,  64,  32]), 'ratios: ', array(['1/1', '16/15', '8/7', '16/13', '4/3', '16/11', '8/5', '16/9'],\n",
      "      dtype='<U5')), ('rank:', 'G', 'indeciis: ', array([224, 160, 128,  96,  64,  32,   0, 240]), 'ratios: ', array(['16/15', '16/13', '4/3', '16/11', '8/5', '16/9', '1/1', '32/31'],\n",
      "      dtype='<U5')), ('rank:', 'H', 'indeciis: ', array([ 80,  48,  16, 240, 192, 160, 128,  96]), 'ratios: ', array(['32/21', '32/19', '32/17', '32/31', '8/7', '16/13', '4/3', '16/11'],\n",
      "      dtype='<U5'))]\n",
      "[('rank:', 'A', 'indeciis: ', array([ 0,  2,  4,  6,  8, 10, 12, 14]), 'ratios: ', array(['1/1', '9/8', '5/4', '11/8', '3/2', '13/8', '7/4', '15/8'],\n",
      "      dtype='<U5')), ('rank:', 'B', 'indeciis: ', array([ 2,  4,  6,  8, 10, 12, 14,  0]), 'ratios: ', array(['9/8', '5/4', '11/8', '3/2', '13/8', '7/4', '15/8', '1/1'],\n",
      "      dtype='<U5')), ('rank:', 'C', 'indeciis: ', array([ 1,  3,  5,  7,  9, 11, 13, 15]), 'ratios: ', array(['17/16', '19/16', '21/16', '23/16', '25/16', '27/16', '29/16',\n",
      "       '31/16'], dtype='<U5')), ('rank:', 'D', 'indeciis: ', array([ 3,  5,  7,  9, 11, 13, 15,  1]), 'ratios: ', array(['19/16', '21/16', '23/16', '25/16', '27/16', '29/16', '31/16',\n",
      "       '17/16'], dtype='<U5')), ('rank:', 'E', 'indeciis: ', array([ 2,  4,  6,  8, 11, 13, 15,  0]), 'ratios: ', array(['9/8', '5/4', '11/8', '3/2', '27/16', '29/16', '31/16', '1/1'],\n",
      "      dtype='<U5')), ('rank:', 'F', 'indeciis: ', array([ 8, 10, 12, 14,  0,  2,  4,  6]), 'ratios: ', array(['3/2', '13/8', '7/4', '15/8', '1/1', '9/8', '5/4', '11/8'],\n",
      "      dtype='<U5')), ('rank:', 'G', 'indeciis: ', array([ 4,  6,  8, 10, 14, 15,  0,  2]), 'ratios: ', array(['5/4', '11/8', '3/2', '13/8', '15/8', '31/16', '1/1', '9/8'],\n",
      "      dtype='<U5')), ('rank:', 'H', 'indeciis: ', array([12, 14,  0,  2,  5,  7,  9, 11]), 'ratios: ', array(['7/4', '15/8', '1/1', '9/8', '21/16', '23/16', '25/16', '27/16'],\n",
      "      dtype='<U5'))]\n"
     ]
    }
   ],
   "source": [
    "# show me all the ranks of the utonal 8 note scales with a root of 1:1\n",
    "ratio = '1/1'\n",
    "mode = 'uton'\n",
    "print(f'{[(\"rank:\", rank, \"indeciis: \", dmu.build_scales(mode, ratio, rank), \"ratios: \", dmu.show_scale_ratios(dmu.build_scales(mode, ratio, rank))) for rank in dmu.show_scales()]}')\n",
    "# now do the same for the otonal scales\n",
    "# show me all the ranks of the utonal 8 note scales with a root of 1:1\n",
    "ratio = '1/1'\n",
    "mode = 'oton'\n",
    "print(f'{[(\"rank:\", rank, \"indeciis: \", dmu.build_scales(mode, ratio, rank), \"ratios: \", dmu.show_scale_ratios(dmu.build_scales(mode, ratio, rank))) for rank in dmu.show_scales()]}')"
   ]
  },
  {
   "cell_type": "code",
   "execution_count": 19,
   "id": "e0f00c44-89ab-4741-9af9-465bf1d4d0e2",
   "metadata": {},
   "outputs": [
    {
     "name": "stdout",
     "output_type": "stream",
     "text": [
      "21/17\n",
      "21/17\n"
     ]
    }
   ],
   "source": [
    "# to find the distance bewteen two ratios, divide the larger ratio by the smaller ratio.\n",
    "# To divide fractions, multiply the larger ratio times the reciprocal of the smaller ratio\n",
    "print(f'{Fraction((32/17) / (32/21)).limit_denominator(100)}') # divide the larger by the smaller ratio to calculate the ratio distance between two ratios\n",
    "print(f'{Fraction((32/17) * (21/32)).limit_denominator(100)}') # the equivalent calculation is to multiply by the reciprocal of the 2nd number "
   ]
  },
  {
   "cell_type": "code",
   "execution_count": 20,
   "id": "73519ea1-178b-44a5-94c6-b5de79f8a4d4",
   "metadata": {},
   "outputs": [
    {
     "name": "stdout",
     "output_type": "stream",
     "text": [
      "oton intervals with a perfect 3:2\n",
      "(0, 8): 3/2, (2, 11): 3/2, (4, 14): 3/2, (8, 2): 3/2, (12, 5): 3/2, \n",
      "uton scales with a perfect 4:3\n",
      "(2, 8): 4/3, (5, 12): 4/3, (8, 0): 4/3, (11, 2): 4/3, (14, 4): 4/3, "
     ]
    }
   ],
   "source": [
    "# I am looking in both modes for a certain ratio (3/2 or 3/4, 2/3 or 4/3) which is required for a decent scale.\n",
    "print('oton intervals with a perfect 3:2')                \n",
    "for prev in np.arange(0,16,1):\n",
    "    for item in np.arange(0,16,1):\n",
    "        if prev != item:\n",
    "            save_ratio = dmu.ratio_distance(ratio_strings[0,prev], ratio_strings[0,item])\n",
    "            # if 0.75 < save_ratio < 1.5:\n",
    "            if save_ratio in ([3/2, 3/4]): # perfect fifth for overtone scales\n",
    "                print(f'({prev}, {item}): {Fraction(save_ratio).limit_denominator(max_denominator = 100)}',end=', ')\n",
    "print('\\nuton scales with a perfect 4:3')                \n",
    "# Otonal are inverted:\n",
    "for prev in np.arange(0,16,1):\n",
    "    for item in np.arange(0,16,1):\n",
    "        if prev != item:\n",
    "            save_ratio = dmu.ratio_distance(ratio_strings[0,prev], ratio_strings[0,item])\n",
    "            # if 0.75 < save_ratio < 1.5:\n",
    "            if save_ratio in ([4/3, 2/3]): # perfect 4th for undertone scales. These transform into perfect 5th when the scale is pulled and inverted\n",
    "                print(f'({prev}, {item}): {Fraction(save_ratio).limit_denominator(max_denominator = 100)}',end=', ')"
   ]
  },
  {
   "cell_type": "code",
   "execution_count": 21,
   "id": "a9a1c66d-12b1-4d4e-85a7-6f45b0e3cda7",
   "metadata": {},
   "outputs": [
    {
     "name": "stdout",
     "output_type": "stream",
     "text": [
      "16 note scale in keys[oton, 1/1], [ 0  1  2  3  4  5  6  7  8  9 10 11 12 13 14 15]\n",
      "A: [ 0  2  4  6  8 10 12 14]\n",
      "B: [ 2  4  6  8 10 12 14  0]\n",
      "16 note scale in keys[uton, 1/1], [  0  16  32  48  64  80  96 112 128 144 160 176 192 208 224 240]\n",
      "A: [128  96  64  32   0 224 192 160]\n",
      "B: [224 192 160 128  96  64  32   0]\n"
     ]
    }
   ],
   "source": [
    "# build_scales(\"oton\", \"16/9\", rank) - these are 8 note scales, based on the mode, root, and rank\n",
    "# build_scales(mode, ratio, rank):\n",
    "# first_item_only = True\n",
    "for mode in dmu.show_keys():\n",
    "    for root in dmu.show_keys()[mode]:\n",
    "        print(f'16 note scale in keys[{mode}, {root}], {dmu.show_keys()[mode][root]}')\n",
    "        for rank in dmu.show_scales():\n",
    "            print(f'{rank}: {dmu.build_scales(mode, root, rank)}')\n",
    "            if rank == 'B' and first_item_only: break\n",
    "        if root == '1/1' and first_item_only: break"
   ]
  },
  {
   "cell_type": "code",
   "execution_count": 22,
   "id": "787b4eda-90f6-4530-8f90-3df1b2afbb2c",
   "metadata": {},
   "outputs": [
    {
     "name": "stdout",
     "output_type": "stream",
     "text": [
      "rank = 'A'\n",
      "mode = 'oton'\n",
      "A, oton, 1/1:\t[1.0, 1.12, 1.25, 1.38, 1.5, 1.62, 1.75, 1.88]\t [0 0 0 0 0 0 0 0]\n",
      "A, oton, 32/17:\t[1.88, 1.06, 1.18, 1.29, 1.41, 1.53, 1.65, 1.76]\t [0 1 0 0 0 0 0 0]\n",
      "A, oton, 16/9:\t[1.78, 1.0, 1.11, 1.22, 1.33, 1.44, 1.56, 1.67]\t [0 1 0 0 0 0 0 0]\n",
      "A, oton, 32/19:\t[1.68, 1.89, 1.05, 1.16, 1.26, 1.37, 1.47, 1.58]\t [0 0 1 0 0 0 0 0]\n",
      "A, oton, 8/5:\t[1.6, 1.8, 1.0, 1.1, 1.2, 1.3, 1.4, 1.5]\t [0 0 1 0 0 0 0 0]\n",
      "A, oton, 32/21:\t[1.52, 1.71, 1.9, 1.05, 1.14, 1.24, 1.33, 1.43]\t [0 0 0 1 0 0 0 0]\n",
      "A, oton, 16/11:\t[1.45, 1.64, 1.82, 1.0, 1.09, 1.18, 1.27, 1.36]\t [0 0 0 1 0 0 0 0]\n",
      "A, oton, 32/23:\t[1.39, 1.57, 1.74, 1.91, 1.04, 1.13, 1.22, 1.3]\t [0 0 0 0 1 0 0 0]\n",
      "A, oton, 4/3:\t[1.33, 1.5, 1.67, 1.83, 1.0, 1.08, 1.17, 1.25]\t [0 0 0 0 1 0 0 0]\n",
      "A, oton, 32/25:\t[1.28, 1.44, 1.6, 1.76, 1.92, 1.04, 1.12, 1.2]\t [0 0 0 0 0 1 0 0]\n",
      "A, oton, 16/13:\t[1.23, 1.38, 1.54, 1.69, 1.85, 1.0, 1.08, 1.15]\t [0 0 0 0 0 1 0 0]\n",
      "A, oton, 32/27:\t[1.19, 1.33, 1.48, 1.63, 1.78, 1.93, 1.04, 1.11]\t [0 0 0 0 0 0 1 0]\n",
      "A, oton, 8/7:\t[1.14, 1.29, 1.43, 1.57, 1.71, 1.86, 1.0, 1.07]\t [0 0 0 0 0 0 1 0]\n",
      "A, oton, 32/29:\t[1.1, 1.24, 1.38, 1.52, 1.66, 1.79, 1.93, 1.03]\t [0 0 0 0 0 0 0 1]\n",
      "A, oton, 16/15:\t[1.07, 1.2, 1.33, 1.47, 1.6, 1.73, 1.87, 1.0]\t [0 0 0 0 0 0 0 1]\n",
      "A, oton, 32/31:\t[1.03, 1.16, 1.29, 1.42, 1.55, 1.68, 1.81, 1.94]\t [0 0 0 0 0 0 0 0]\n",
      "mode = 'uton'\n",
      "A, uton, 1/1:\t[1.33, 1.45, 1.6, 1.78, 1.0, 1.07, 1.14, 1.23]\t [0 0 0 0 1 0 0 0]\n",
      "A, uton, 17/16:\t[1.42, 1.55, 1.7, 1.89, 1.06, 1.13, 1.21, 1.31]\t [0 0 0 0 1 0 0 0]\n",
      "A, uton, 9/8:\t[1.5, 1.64, 1.8, 1.0, 1.12, 1.2, 1.29, 1.38]\t [0 0 0 1 0 0 0 0]\n",
      "A, uton, 19/16:\t[1.58, 1.73, 1.9, 1.06, 1.19, 1.27, 1.36, 1.46]\t [0 0 0 1 0 0 0 0]\n",
      "A, uton, 5/4:\t[1.67, 1.82, 1.0, 1.11, 1.25, 1.33, 1.43, 1.54]\t [0 0 1 0 0 0 0 0]\n",
      "A, uton, 21/16:\t[1.75, 1.91, 1.05, 1.17, 1.31, 1.4, 1.5, 1.62]\t [0 0 1 0 0 0 0 0]\n",
      "A, uton, 11/8:\t[1.83, 1.0, 1.1, 1.22, 1.38, 1.47, 1.57, 1.69]\t [0 1 0 0 0 0 0 0]\n",
      "A, uton, 23/16:\t[1.92, 1.05, 1.15, 1.28, 1.44, 1.53, 1.64, 1.77]\t [0 1 0 0 0 0 0 0]\n",
      "A, uton, 3/2:\t[1.0, 1.09, 1.2, 1.33, 1.5, 1.6, 1.71, 1.85]\t [0 0 0 0 0 0 0 0]\n",
      "A, uton, 25/16:\t[1.04, 1.14, 1.25, 1.39, 1.56, 1.67, 1.79, 1.92]\t [0 0 0 0 0 0 0 0]\n",
      "A, uton, 13/8:\t[1.08, 1.18, 1.3, 1.44, 1.62, 1.73, 1.86, 1.0]\t [0 0 0 0 0 0 0 1]\n",
      "A, uton, 27/16:\t[1.12, 1.23, 1.35, 1.5, 1.69, 1.8, 1.93, 1.04]\t [0 0 0 0 0 0 0 1]\n",
      "A, uton, 7/4:\t[1.17, 1.27, 1.4, 1.56, 1.75, 1.87, 1.0, 1.08]\t [0 0 0 0 0 0 1 0]\n",
      "A, uton, 29/16:\t[1.21, 1.32, 1.45, 1.61, 1.81, 1.93, 1.04, 1.12]\t [0 0 0 0 0 0 1 0]\n",
      "A, uton, 15/8:\t[1.25, 1.36, 1.5, 1.67, 1.88, 1.0, 1.07, 1.15]\t [0 0 0 0 0 1 0 0]\n",
      "A, uton, 31/16:\t[1.29, 1.41, 1.55, 1.72, 1.94, 1.03, 1.11, 1.19]\t [0 0 0 0 0 1 0 0]\n",
      "how many_scales = 32\n"
     ]
    }
   ],
   "source": [
    "# confirm that all scales in all keys, all ranks are all going from low to high, and distance from 0 to 7 less than OCTAVE_SIZE\n",
    "# how many scales? 8 ranks, two modes for each rank, each mode has 16 scales. 8 * 2 * 16 = 256 scales of 8 notes each. \n",
    "# print just the first few until first_item = False\n",
    "lowest_travel = 255\n",
    "highest_travel = 0\n",
    "# first_item_only = False\n",
    "first_item_only = True\n",
    "many_scales = 0\n",
    "for rank in dmu.show_scales(): # 'oton' and 'uton'\n",
    "    print(f'{rank = }')\n",
    "    for mode in dmu.show_scales()[rank]: # 'A', 'B', etc.\n",
    "        print(f'{mode = }')\n",
    "        for ratio in dmu.show_keys()[mode]: # 1/1, 16/9, etc\n",
    "            # print(f'{ratio = }')\n",
    "            built_scale = dmu.build_scales(mode, ratio, rank)\n",
    "            built_mask = dmu.build_scale_mask(built_scale)\n",
    "            print(f'{rank}, {mode}, {ratio}:\\t'\n",
    "                f'{[round(dmu.ratio_string_to_float(ratio),2) for ratio in dmu.show_scale_ratios(built_scale)]}\\t {built_mask}')\n",
    "            many_scales += 1\n",
    "    if first_item_only: break\n",
    "print(f'how {many_scales = }')"
   ]
  },
  {
   "cell_type": "code",
   "execution_count": 23,
   "id": "39e166a6-cc6f-48c7-aff1-4c73849821e9",
   "metadata": {},
   "outputs": [
    {
     "name": "stdout",
     "output_type": "stream",
     "text": [
      "rank = 'A', mode = 'oton', ratio = '1/1', inv = 1, : ['1/1' '5/4' '3/2' '7/4']\n",
      "rank = 'A', mode = 'oton', ratio = '1/1', inv = 2, : ['5/4' '3/2' '7/4' '1/1']\n",
      "rank = 'A', mode = 'oton', ratio = '1/1', inv = 3, : ['3/2' '7/4' '1/1' '5/4']\n",
      "rank = 'A', mode = 'oton', ratio = '1/1', inv = 4, : ['7/4' '1/1' '5/4' '3/2']\n",
      "rank = 'A', mode = 'uton', ratio = '1/1', inv = 1, : ['8/7' '4/3' '8/5' '1/1']\n",
      "rank = 'A', mode = 'uton', ratio = '1/1', inv = 2, : ['1/1' '8/7' '4/3' '8/5']\n",
      "rank = 'A', mode = 'uton', ratio = '1/1', inv = 3, : ['8/5' '1/1' '8/7' '4/3']\n",
      "rank = 'A', mode = 'uton', ratio = '1/1', inv = 4, : ['4/3' '8/5' '1/1' '8/7']\n"
     ]
    }
   ],
   "source": [
    "# confirm that you have created chords properly\n",
    "# dmu.build_chords(mode, ratio, rank, inversion):\n",
    "# dmu.build_chords(mode, ratio, rank, inversion):\n",
    "oct = 1\n",
    "for rank in dmu.show_inversions(): # rank A, B, C, D\n",
    "    # print(f'{rank = }')\n",
    "    for mode in dmu.show_keys(): # 'oton', 'uton'\n",
    "        # print(f'{mode = }')\n",
    "        for ratio in dmu.show_keys()[mode]: # '1/1', '32/17', '16/9', etc\n",
    "            # print(f'{ratio = }')\n",
    "            for inv in dmu.show_inversions()[rank][mode]: # 1, 2, 3, 4\n",
    "                # print(f'{inv = }')\n",
    "                print(f'{rank = }, {mode = }, {ratio = }, {inv = }, : {dmu.show_scale_ratios(dmu.build_chords(mode, ratio, rank, inv))}')\n",
    "                # if first_item_only: break\n",
    "            if first_item_only: break\n",
    "    if first_item_only: break"
   ]
  },
  {
   "cell_type": "code",
   "execution_count": 24,
   "id": "56ce5cfb-401e-4c65-971b-be6ab9bec987",
   "metadata": {},
   "outputs": [
    {
     "name": "stdout",
     "output_type": "stream",
     "text": [
      "chord = array([ 0,  4,  8, 12]), octave = array([0, 0, 0, 0])\n",
      "chord = array([ 4,  8, 12,  0]), octave = array([0, 0, 0, 1])\n",
      "chord = array([ 8, 12,  0,  4]), octave = array([0, 0, 1, 0])\n",
      "chord = array([12,  0,  4,  8]), octave = array([0, 1, 0, 0])\n"
     ]
    }
   ],
   "source": [
    "# another way to choose inversions:\n",
    "mode = 'oton'\n",
    "root = '1/1'\n",
    "rank = 'A'\n",
    "for inv in dmu.show_inversions()[rank][mode]:\n",
    "    chord = dmu.build_chords(mode, ratio, rank, inv)\n",
    "    octave = dmu.build_scale_mask(dmu.build_chords(mode, ratio, rank, inv))\n",
    "    print(f'{chord = }, {octave = }')"
   ]
  },
  {
   "cell_type": "markdown",
   "id": "3e8e0225-2548-4ee9-9801-702188f4d75b",
   "metadata": {},
   "source": [
    "## Play some sounds on Csound\n",
    "The next cells assembles a pair of chords and slides from one to the next, and back again. It calls the build_chords function, passing in the root ratio, the mode, and the rank for each of the two chords. It then builds a slide or trill between the two chords, such that each note of the first chord moves to the corresponding note of the next chord and back again. It then starts up an instance of csound, loads a skeleton csd file to make music with sample files.\n",
    "\n",
    "I then build a note dictionary with all the data elements required to make a note in the csound orchestra created in the skelton csd file. It does some tranformation of the dictionary into a numpy array, and modifies two fields of the array to fix the start times and duration values. Csound needs start time and durations, but I prefer thinking in terms of duration as the time between one note and the next, and prefer a separate value, I call 'hold', for how long the note should be held. This simplifies creating chords that sound at the same time and last a certain amount of time before the next note is played. Each instrument has a separate value for start time. In this way the instrument can play multiple notes at the same time, and moves the time forward based on the duration values. \n",
    "\n",
    "For example, suppose you want to play two separate voices, one for the flute and another for the bassoon. Each should play notes at the beginning of the piece. We can specify a set of durations, which is how long until the next note in this instrument is played (duration value) and the amount of time each note should be held (hold value). In the first case below, the hold value is set to 5, 5, 5, 5, but the duration is set to 0, 0, 0, 5. This creates a chord played across four flutes, held for 5 seconds. If the next hold value is also set to 5, 5, 5, 5 and the duration set to 0, 0, 0, 5, then the next chord is played for 5 seconds across four flutes. At the same time, we can have another note dictionary that plays a separate set of scales on the bassoon. Oh, and the chords include a slide from one chord to the next, and the next chord slides back to where it started. "
   ]
  },
  {
   "cell_type": "code",
   "execution_count": 285,
   "id": "3fb17960-e6b3-49f6-a0e2-4b2ab4e82f70",
   "metadata": {},
   "outputs": [],
   "source": [
    "#\n",
    "# Start up an instance of csound\n",
    "#\n",
    "#\n",
    "def start_csound():\n",
    "    global csound_running\n",
    "    if not csound_running: \n",
    "        dmu.start_logger(LOGNAME)\n",
    "        csd_content, lines = dmu.load_csd(CSD_FILE)\n",
    "        logging.info(f'Starting to log to {LOGNAME}')\n",
    "        logging.info(f'Loaded the csd file {CSD_FILE}. There are {lines} lines read containg {len(csd_content)} bytes')\n",
    "        cs, pt = dmu.load_csound(csd_content)\n",
    "        csound_running = True\n",
    "        return(cs, pt)\n",
    "    else: \n",
    "        print(f'csound is already running')\n",
    "        return(None, None)\n",
    "#\n",
    "#\n",
    "# stop the csound instance\n",
    "#\n",
    "#\n",
    "def stop_csound(cs, pt):\n",
    "    global csound_running\n",
    "    if csound_running:\n",
    "        dmu.printMessages(cs)\n",
    "        pt.stop() # this is important I think. It closes the output file.\n",
    "        pt.join()   \n",
    "        dmu.printMessages(cs)    \n",
    "        cs.reset()\n",
    "        csound_running = False\n",
    "    else:\n",
    "        print(f\"csound isn't running\")"
   ]
  },
  {
   "cell_type": "code",
   "execution_count": 297,
   "id": "6a410bc2-1d87-489d-a376-0cde6a128edf",
   "metadata": {},
   "outputs": [
    {
     "name": "stdout",
     "output_type": "stream",
     "text": [
      "after init_instrument(). stored_gliss = array([], shape=(0, 11), dtype=float64)\n",
      "after init_voice_time_start(). [voice_time[ins][\"start\"] for ins in voice_time] = [0, 0, 0, 0, 0, 0, 0, 0, 0, 0]\n",
      "last_gliss_table = array([804., 805., 806., 807.])\n",
      "last_gliss_table = array([804., 805., 806., 807., 808., 809., 810., 811.])\n",
      "dmu.retrieve_gliss_tables()[:,0] = array([804., 805., 806., 807., 808., 809., 810., 811.])\n",
      "scale_1 = array([ 0,  2,  4,  6,  8, 10, 12, 14]), mask_1 = array([0, 0, 0, 0, 0, 0, 0, 0])\n",
      "scale_2 = array([ 2,  4,  6,  8, 10, 12, 14,  0]), mask_2 = array([0, 0, 0, 0, 0, 0, 0, 1])\n",
      "gliss up and down values for table number and target gliss: [(804.0, 0.9), (805.0, 0.917), (806.0, 0.929), (807.0, 0.938), (808.0, 1.111), (809.0, 1.091), (810.0, 1.077), (811.0, 1.067)]\n"
     ]
    },
    {
     "name": "stderr",
     "output_type": "stream",
     "text": [
      "0dBFS level = 32768.0\n",
      "--Csound version 6.16 (double samples) Aug 10 2021\n",
      "[commit: none]\n",
      "libsndfile-1.0.31\n",
      "end of score.\t\t   overall amps:      0.0\n",
      "\t   overall samples out of range:        0\n",
      "0 errors in performance\n",
      "Elapsed time at end of performance: real: 723.897s, CPU: 0.190s\n"
     ]
    }
   ],
   "source": [
    "# create a sliding chord from one to another and back\n",
    "# reload(dmu)\n",
    "\n",
    "a, b = start_csound()\n",
    "if a is not None:\n",
    "    cs = a\n",
    "    pt = b\n",
    "stored_gliss = dmu.init_instrument() # resets the global glissando array\n",
    "print(f'after init_instrument(). {stored_gliss = }')\n",
    "result = init_voice_time_start()\n",
    "print(f'after init_voice_time_start(). {[voice_time[ins][\"start\"] for ins in voice_time] = }')\n",
    "\n",
    "oct = 4\n",
    "root = '1/1'\n",
    "mode = 'oton'\n",
    "# first chord:\n",
    "rank_1 = 'A'\n",
    "inv_1 = 2\n",
    "# second chord:\n",
    "rank_2 = 'B'\n",
    "inv_2 = 1\n",
    "gliss_type = 'slide'\n",
    "# make two chords on these values\n",
    "chord_1 = dmu.build_chords(mode, root, rank_1, inv_1)\n",
    "chord_2 = dmu.build_chords(mode, root, rank_2, inv_2)\n",
    "# make slides to move from the first chord to the second (down) and back (up)\n",
    "last_gliss_table = dmu.build_slides(chord_1, chord_2, gliss_type = gliss_type)\n",
    "print(f'{last_gliss_table = }')\n",
    "last_gliss_table = dmu.build_slides(chord_2, chord_1, gliss_type = gliss_type)\n",
    "print(f'{last_gliss_table = }')\n",
    "print(f'{dmu.retrieve_gliss_tables()[:,0] = }')\n",
    "# build the scales to be played on the bassoon\n",
    "scale_1 = dmu.build_scales(mode, root, rank_1)\n",
    "scale_2 = dmu.build_scales(mode, root, rank_2)\n",
    "mask_1 = dmu.build_scale_mask(scale_1) # which notes must be moved up an octave so that the scale goes from down to up\n",
    "mask_2 = dmu.build_scale_mask(scale_2) # same for the second scale\n",
    "print(f'{scale_1 = }, {mask_1 = }')\n",
    "print(f'{scale_2 = }, {mask_2 = }')\n",
    "print(f'gliss up and down values for table number and target gliss: {[(np.round(column[0], 3), np.round(column[8], 3)) for column in dmu.retrieve_gliss_tables()]}')"
   ]
  },
  {
   "cell_type": "code",
   "execution_count": 298,
   "id": "05199881-16f6-4b60-8dc2-c855645eceed",
   "metadata": {},
   "outputs": [],
   "source": [
    "# reload(dmu)\n",
    "# build a dictionary of instrument notes to send to csound\n",
    "notes = 8\n",
    "scale_notes = scale_1.shape[0] + scale_2.shape[0]\n",
    "scale_dur = 10 / scale_notes # count how many notes in the scales and divide 10 seconds by that amount for each duration\n",
    "chord_duration = np.array([0, 0, 0, 5.2, 0, 0, 0, 5.2], dtype = float) # I need to keep this float to support faster passages.\n",
    "scale_duration = np.ones((scale_notes,), dtype = int) * scale_dur \n",
    "hold = 5\n",
    "velocity = 60\n",
    "upsamples = np.array([1,1])\n",
    "volume = 30\n",
    "gliss1 = 0\n",
    "gliss2 = 0\n",
    "gliss3 = 0\n",
    "envelope = 1\n",
    "oct = 3\n",
    "bfl = 'bfl' # finger piano short name\n",
    "bss = 'bss'\n",
    "\n",
    "time_step_dict = {\n",
    "    bfl: {'instrument': np.ones((notes,), dtype = int), # instrument is always 1. That's what the skelton csd file expects\n",
    "          'duration': chord_duration, # We want the first four notes to start simultaneously and continue together until they end. And do that twice\n",
    "          'hold': np.ones((notes,), dtype = int) * hold, # the chords are held 5 seconds\n",
    "          'velocity': np.ones((notes,), dtype = int) * velocity,\n",
    "          'tone': np.concatenate((chord_1, chord_2)),\n",
    "          'octave': np.ones((notes,), dtype = int) * oct,\n",
    "          'voice': np.repeat(voice_time[bfl][\"number\"],notes),\n",
    "          'stereo': np.ones((notes,), dtype = int) * notes, \n",
    "          'l_envelope': np.ones((notes,), dtype = int) * envelope, \n",
    "          'gliss1': dmu.retrieve_gliss_tables()[:,0], # this will need fixing perhaps. It will provide all the slides in the whole piece. This won't scale.\n",
    "          'upsample': np.concatenate((np.repeat(upsamples[0],4), np.repeat(upsamples[1],4))),\n",
    "          'r_envelope': np.ones((notes,), dtype = int) * envelope, \n",
    "          'gliss2' : np.ones((notes,), dtype = int) * gliss2,\n",
    "          'gliss3': np.ones((notes,), dtype = int) * gliss2,\n",
    "          'volume': np.ones((notes,), dtype = int) * volume},\n",
    "    bss: {'instrument': np.ones((scale_notes,), dtype = int),\n",
    "          'duration': scale_duration,\n",
    "          'hold': np.ones((scale_notes,), dtype = int) * scale_dur + .1,\n",
    "          'velocity': np.ones((scale_notes,), dtype = int) * velocity,\n",
    "          'tone': np.concatenate((scale_1, scale_2)),\n",
    "          'octave': np.concatenate((mask_1, mask_2)) + oct,\n",
    "          'voice': np.repeat(voice_time[bss][\"number\"], scale_notes),\n",
    "          'stereo': np.ones((scale_notes,), dtype = int) * notes, \n",
    "          'l_envelope': np.ones((scale_notes,), dtype = int) * 2, \n",
    "          'gliss1': np.ones((scale_notes,), dtype = int) * gliss2, \n",
    "          'upsample': np.ones((scale_notes,), dtype = int) * 1,\n",
    "          'r_envelope': np.ones((scale_notes,), dtype = int) * 2, \n",
    "          'gliss2' : np.ones((scale_notes,), dtype = int) * gliss2,\n",
    "          'gliss3': np.ones((scale_notes,), dtype = int) * gliss2,\n",
    "          'volume': np.ones((scale_notes,), dtype = int) * volume}\n",
    "         }\n",
    "\n",
    "                \n"
   ]
  },
  {
   "cell_type": "code",
   "execution_count": 299,
   "id": "59adff10-f115-441c-970c-cd6e993b8d15",
   "metadata": {},
   "outputs": [
    {
     "name": "stdout",
     "output_type": "stream",
     "text": [
      "dmu.retrieve_gliss_tables()[:,0] = array([804., 805., 806., 807., 808., 809., 810., 811.])\n",
      "time_step_dict[bfl][\"gliss1\"] = array([804., 805., 806., 807., 808., 809., 810., 811.])\n"
     ]
    }
   ],
   "source": [
    "# What's in the gliss tables. Make sure there are the same number of glisses as number of notes\n",
    "print(f'{dmu.retrieve_gliss_tables()[:,0] = }') # this is the global set of glissando tables\n",
    "print(f'{time_step_dict[bfl][\"gliss1\"] = }') # this is the local dictionary set of gliss tables."
   ]
  },
  {
   "cell_type": "code",
   "execution_count": 300,
   "id": "f868bbea-97d5-4d00-b042-435e94130f79",
   "metadata": {},
   "outputs": [
    {
     "name": "stdout",
     "output_type": "stream",
     "text": [
      "[array([0. , 0. , 0. , 5.2, 0. , 0. , 0. , 5.2]), array([0.625, 0.625, 0.625, 0.625, 0.625, 0.625, 0.625, 0.625, 0.625,\n",
      "       0.625, 0.625, 0.625, 0.625, 0.625, 0.625, 0.625])]\n",
      "[array([5, 5, 5, 5, 5, 5, 5, 5]), array([0.725, 0.725, 0.725, 0.725, 0.725, 0.725, 0.725, 0.725, 0.725,\n",
      "       0.725, 0.725, 0.725, 0.725, 0.725, 0.725, 0.725])]\n"
     ]
    }
   ],
   "source": [
    "print(f'{[time_step_dict[inst][\"duration\"] for inst in time_step_dict]}')\n",
    "print(f'{[time_step_dict[inst][\"hold\"] for inst in time_step_dict]}')"
   ]
  },
  {
   "cell_type": "code",
   "execution_count": 301,
   "id": "f7b43105-415a-4edd-af39-3bd357e84bff",
   "metadata": {},
   "outputs": [
    {
     "name": "stdout",
     "output_type": "stream",
     "text": [
      "time_step_dict.keys() = dict_keys(['bfl', 'bss'])\n",
      "voice_time[bfl][\"start\"] = 5.2\n",
      "voice_time[bss][\"start\"] = 9.375\n"
     ]
    }
   ],
   "source": [
    "# if you run this cell more than once, it increases the start time each time through.\n",
    "# If I have time I will try to fix it, but my plan is to change the logic\n",
    "print(f'{time_step_dict.keys() = }') # what instruments are in this dictionary\n",
    "time_step_flute = dmu.fix_start_duration_values(dmu.array_from_dict(time_step_dict[bfl]), voice_time, bfl)  # convert duration and hold into start time and duration\n",
    "print(f'{voice_time[bfl][\"start\"] = }')\n",
    "# voice_time()[bfl][\"start\"] = 78.00000000000001\n",
    "time_step_bassoon = dmu.fix_start_duration_values(dmu.array_from_dict(time_step_dict[bss]), voice_time, bss)   \n",
    "print(f'{voice_time[bss][\"start\"] = }')\n",
    "# voice_time()[bss][\"start\"] = 65.625"
   ]
  },
  {
   "cell_type": "code",
   "execution_count": 302,
   "id": "9ead4ce1-565d-42c8-a3db-06790907c653",
   "metadata": {},
   "outputs": [
    {
     "name": "stdout",
     "output_type": "stream",
     "text": [
      "glide ratios for slides down and up. In fact this will handle all the slides in the whole piece:\n",
      "0.9\n",
      "0.917\n",
      "0.929\n",
      "0.938\n",
      "1.111\n",
      "1.091\n",
      "1.077\n",
      "1.067\n",
      "bass flute plays [start_time, note_index, glide_index]:\n",
      "[0, 4, 804]\n",
      "[0, 8, 805]\n",
      "[0, 12, 806]\n",
      "[0, 0, 807]\n",
      "[5, 2, 808]\n",
      "[5, 6, 809]\n",
      "[5, 10, 810]\n",
      "[5, 14, 811]\n",
      "bassoon plays two scales [start_time, note, octave]:\n",
      "[0, 0, 3]\n",
      "[0, 2, 3]\n",
      "[1, 4, 3]\n",
      "[1, 6, 3]\n",
      "[2, 8, 3]\n",
      "[3, 10, 3]\n",
      "[3, 12, 3]\n",
      "[4, 14, 3]\n",
      "[5, 2, 3]\n",
      "[5, 4, 3]\n",
      "[6, 6, 3]\n",
      "[6, 8, 3]\n",
      "[7, 10, 3]\n",
      "[8, 12, 3]\n",
      "[8, 14, 3]\n",
      "[9, 0, 4]\n"
     ]
    }
   ],
   "source": [
    "print(f'glide ratios for slides down and up. In fact this will handle all the slides in the whole piece:')\n",
    "for row in dmu.retrieve_gliss_tables(): # pass some f tables for glissandi to the instance of csound\n",
    "    pt.scoreEvent(0, 'f', row)\n",
    "    print(f'{round(row[8],3)}')\n",
    "\n",
    "print(f'bass flute plays [start_time, note_index, glide_index]:')\n",
    "for row in time_step_flute: # send the note information to csound\n",
    "    pt.scoreEvent(0, 'i', row)\n",
    "    print(f'{[int(row[item]) for item in ([1, 4, 9])]}') # print some of the values, start time, note index, glide index\n",
    "print(f'bassoon plays two scales [start_time, note, octave]:')\n",
    "for row in time_step_bassoon: # send the note information to csound\n",
    "    pt.scoreEvent(0, 'i', row)\n",
    "    print(f'{[int(row[item]) for item in ([1, 4, 5])]}') # print some of the values, start time, note index, glide index    "
   ]
  },
  {
   "cell_type": "code",
   "execution_count": 303,
   "id": "e36694ee-f3ab-41cd-92dd-de40d564a45b",
   "metadata": {},
   "outputs": [
    {
     "name": "stdout",
     "output_type": "stream",
     "text": [
      "csound_running = False\n"
     ]
    },
    {
     "name": "stderr",
     "output_type": "stream",
     "text": [
      "0dBFS level = 32768.0\n",
      "--Csound version 6.16 (double samples) Aug 10 2021\n",
      "[commit: none]\n",
      "libsndfile-1.0.31\n"
     ]
    }
   ],
   "source": [
    "stop_csound(cs, pt)\n",
    "print(f'{csound_running = }')"
   ]
  },
  {
   "cell_type": "markdown",
   "id": "2447e412-823c-4475-9ed6-27a1bd492596",
   "metadata": {},
   "source": [
    "## Make a multivoice piece\n",
    "This is the first attempt at composing a multivoice piece where every note is written out. Later I can automate the process of choosing variables"
   ]
  },
  {
   "cell_type": "code",
   "execution_count": 951,
   "id": "5aed8aee-edb1-4000-8034-d4d1005ed677",
   "metadata": {},
   "outputs": [
    {
     "name": "stdout",
     "output_type": "stream",
     "text": [
      "[]\n",
      "['A', 'A', 1, 2]\n",
      "['A', 'A', 1, 4]\n",
      "['A', 'A', 2, 1]\n",
      "['A', 'A', 2, 3]\n",
      "['A', 'A', 3, 2]\n",
      "['A', 'A', 3, 4]\n",
      "['A', 'A', 4, 1]\n",
      "['A', 'A', 4, 3]\n",
      "['A', 'B', 1, 1]\n",
      "['A', 'B', 1, 4]\n",
      "['A', 'B', 2, 1]\n",
      "['A', 'B', 2, 2]\n",
      "['A', 'B', 3, 2]\n",
      "['A', 'B', 3, 3]\n",
      "['A', 'B', 4, 3]\n",
      "['A', 'B', 4, 4]\n",
      "['B', 'A', 1, 1]\n",
      "['B', 'A', 1, 2]\n",
      "['B', 'A', 2, 2]\n",
      "['B', 'A', 2, 3]\n",
      "['B', 'A', 3, 3]\n",
      "['B', 'A', 3, 4]\n",
      "['B', 'A', 4, 1]\n",
      "['B', 'A', 4, 4]\n",
      "['B', 'B', 1, 2]\n",
      "['B', 'B', 1, 4]\n",
      "['B', 'B', 2, 1]\n",
      "['B', 'B', 2, 3]\n",
      "['B', 'B', 3, 2]\n",
      "['B', 'B', 3, 4]\n",
      "['B', 'B', 4, 1]\n",
      "['B', 'B', 4, 3]\n"
     ]
    }
   ],
   "source": [
    "# This cell was used to systematically choose slides that did not exceed preferred ranges\n",
    "# reload(dmu)\n",
    "print(dmu.init_instrument())\n",
    "# print(f'{dmu.retrieve_gliss_tables() = }')\n",
    "\n",
    "mode = 'oton'\n",
    "root = '16/15'\n",
    "inx = 0\n",
    "fourples = []\n",
    "gliss_type = 'trill_2_step'\n",
    "for rank1 in ([\"A','B\"]):\n",
    "    for rank2 in ([\"A','B\"]):\n",
    "        # if rank1 == rank2: break\n",
    "        for inv1 in (1,2,3,4):\n",
    "            for inv2 in (1,2,3,4):\n",
    "                chord1 = dmu.build_chords(mode, root, rank1, inv1)\n",
    "                chord2 = dmu.build_chords(mode, root, rank2, inv2)\n",
    "                gliss = dmu.build_slides(chord1, chord2, gliss_type = gliss_type)\n",
    "                # print(f'{gliss = }')\\n\",\n",
    "                # print(f'{inx}, {inx+1}, {inx+2}, {inx+3}, {rank1}, {rank2}, {inv1}, {inv2}')\n",
    "                fourples.append([rank1, rank2, inv1, inv2])\n",
    "                inx += 4\n",
    "                \n",
    "# print(f'{len(fourples) = }, {fourples[-5] = }')\n",
    "      \n",
    "for table in np.arange(0,256,4):\n",
    "    biggest = 0\n",
    "    smallest = 2\n",
    "    for note in np.arange(4): # check all four f tables for max and minimum slides\n",
    "        this_table_row = dmu.retrieve_gliss_tables()[table + note]\n",
    "        biggest = max(biggest, np.abs(this_table_row[8]))\n",
    "        smallest = min(smallest, np.abs(this_table_row[8]))\n",
    "    if biggest > 1.3:  # after looking at all four slides, which was the largest\n",
    "        pass\n",
    "        # print(f'{round(biggest,3) = }, {fourples[table // 4]}, {[round(this_table_row[column],3) for column in ([0, 8])]}')\n",
    "    elif smallest < 0.76:  # after looking at all four slides, which was the smallest \n",
    "        pass\n",
    "        # print(f'{round(smallest,3) = }, {fourples[table // 4]}, {[round(this_table_row[column],3) for column in ([0, 8])]}')\n",
    "    elif (fourples[table // 4][0] !=  fourples[table // 4][1]) or (fourples[table // 4][2] !=  fourples[table // 4][3]):\n",
    "        print(f'{fourples[table // 4]}')"
   ]
  },
  {
   "cell_type": "code",
   "execution_count": 2136,
   "id": "02299543-76c8-46ae-b7be-4c1067b8bd92",
   "metadata": {},
   "outputs": [
    {
     "name": "stdout",
     "output_type": "stream",
     "text": [
      "[['A' 'A' '1' '2']\n",
      " ['A' 'A' '1' '4']\n",
      " ['A' 'A' '2' '1']\n",
      " ['A' 'A' '2' '3']\n",
      " ['A' 'A' '3' '2']\n",
      " ['A' 'A' '3' '4']\n",
      " ['A' 'A' '4' '1']\n",
      " ['A' 'A' '4' '3']\n",
      " ['A' 'B' '1' '1']\n",
      " ['A' 'B' '1' '4']\n",
      " ['A' 'B' '2' '1']\n",
      " ['A' 'B' '2' '2']\n",
      " ['A' 'B' '3' '2']\n",
      " ['A' 'B' '3' '3']\n",
      " ['A' 'B' '4' '3']\n",
      " ['A' 'B' '4' '4']\n",
      " ['B' 'A' '1' '1']\n",
      " ['B' 'A' '1' '2']\n",
      " ['B' 'A' '2' '2']\n",
      " ['B' 'A' '2' '3']\n",
      " ['B' 'A' '3' '3']\n",
      " ['B' 'A' '3' '4']\n",
      " ['B' 'A' '4' '1']\n",
      " ['B' 'A' '4' '4']\n",
      " ['B' 'B' '1' '2']\n",
      " ['B' 'B' '1' '4']\n",
      " ['B' 'B' '2' '1']\n",
      " ['B' 'B' '2' '3']\n",
      " ['B' 'B' '3' '2']\n",
      " ['B' 'B' '3' '4']\n",
      " ['B' 'B' '4' '1']\n",
      " ['B' 'B' '4' '3']], best_combos.shape = (32, 4)\n",
      "combo_trills = array([[15,  4, 20],\n",
      "       [14,  4, 16],\n",
      "       [13,  4,  8],\n",
      "       [12,  4,  6],\n",
      "       [11,  4,  5],\n",
      "       [ 1,  4,  4]])\n"
     ]
    }
   ],
   "source": [
    "best_combos = np.array([[\"A\", \"A\", 1, 2],\n",
    "[\"A\", \"A\", 1, 4],\n",
    "[\"A\", \"A\", 2, 1],\n",
    "[\"A\", \"A\", 2, 3],\n",
    "[\"A\", \"A\", 3, 2],\n",
    "[\"A\", \"A\", 3, 4],\n",
    "[\"A\", \"A\", 4, 1],\n",
    "[\"A\", \"A\", 4, 3],\n",
    "[\"A\", \"B\", 1, 1],\n",
    "[\"A\", \"B\", 1, 4],\n",
    "[\"A\", \"B\", 2, 1],\n",
    "[\"A\", \"B\", 2, 2],\n",
    "[\"A\", \"B\", 3, 2],\n",
    "[\"A\", \"B\", 3, 3],\n",
    "[\"A\", \"B\", 4, 3],\n",
    "[\"A\", \"B\", 4, 4],\n",
    "[\"B\", \"A\", 1, 1],\n",
    "[\"B\", \"A\", 1, 2],\n",
    "[\"B\", \"A\", 2, 2],\n",
    "[\"B\", \"A\", 2, 3],\n",
    "[\"B\", \"A\", 3, 3],\n",
    "[\"B\", \"A\", 3, 4],\n",
    "[\"B\", \"A\", 4, 1],\n",
    "[\"B\", \"A\", 4, 4],\n",
    "[\"B\", \"B\", 1, 2],\n",
    "[\"B\", \"B\", 1, 4],\n",
    "[\"B\", \"B\", 2, 1],\n",
    "[\"B\", \"B\", 2, 3],\n",
    "[\"B\", \"B\", 3, 2],\n",
    "[\"B\", \"B\", 3, 4],\n",
    "[\"B\", \"B\", 4, 1],\n",
    "[\"B\", \"B\", 4, 3],\n",
    "])\n",
    "print(f'{best_combos}, {best_combos.shape = }')\n",
    "combo_trills = np.array([[15,4, 20], [14, 4, 16], [13, 4, 8],[12, 4, 6],[11, 4, 5],[1, 4, 4]])\n",
    "print(f'{combo_trills = }')"
   ]
  },
  {
   "cell_type": "code",
   "execution_count": 1558,
   "id": "062aa5d4-caac-4593-9587-fc990a0d9873",
   "metadata": {},
   "outputs": [],
   "source": [
    "# select a random combination of ranks and intervals and return them as an array\n",
    "def choose_combo():\n",
    "    return(best_combos[rng.integers(low = 0, high = best_combos.shape[0])])\n",
    "def choose_combo_trills():\n",
    "    return(combo_trills[rng.integers(low = 0, high = combo_trills.shape[0])])\n",
    "def choose_valid_rank():\n",
    "    # return a valid rank\n",
    "    return rng.choice([rank for rank in dmu.show_inversions().keys()])\n",
    "def choose_valid_mode(rank):\n",
    "    return(rng.choice([mode for mode in dmu.show_scales()[rank].keys()]))"
   ]
  },
  {
   "cell_type": "code",
   "execution_count": 1561,
   "id": "03bc8b5b-2f01-4570-b973-de2176260c2f",
   "metadata": {},
   "outputs": [
    {
     "name": "stdout",
     "output_type": "stream",
     "text": [
      "rng.choice([mode for mode in dmu.show_scales().keys()]) = 'E'\n",
      "choose_valid_rank() = 'C'\n",
      "choose_valid_mode(choose_valid_rank()) = 'oton'\n"
     ]
    }
   ],
   "source": [
    "print(f'{rng.choice([mode for mode in dmu.show_scales().keys()]) = }')\n",
    "print(f'{choose_valid_rank() = }')\n",
    "print(f'{choose_valid_mode(choose_valid_rank()) = }')"
   ]
  },
  {
   "cell_type": "code",
   "execution_count": 1403,
   "id": "e8be7825-cbf3-49d6-be43-608731d852a6",
   "metadata": {},
   "outputs": [],
   "source": [
    "# this makes one note with all 15 features - it also updates voice_time with new \"start\" values\n",
    "def instrument(tone, octave, duration, hold, gliss, voice_name, \\\n",
    "               velocity = 60, stereo = 8, env =  1, \\\n",
    "               upsample = 1, renv = 1, gliss2 = 0, gliss3 = 0, volume = 30):\n",
    "    \n",
    "    voice = voice_time[voice_name][\"number\"] # this is the instrument number passed to csound\n",
    "    \n",
    "    # load an array with everything csound needs to create a note - the instrument number expected by the csound file has to be 1\n",
    "    next_note = np.array((1, duration, hold, velocity, tone, octave, voice, stereo, \\\n",
    "                          env, gliss, upsample, renv, gliss2, gliss3, volume))\n",
    "    \n",
    "    # Before you return the note:\n",
    "    # hold affects how long the instrument plays, duration is how much time until the next note in this voice plays\n",
    "    # start time is calculated in this function by setting it to the \"start\" time for this voice plus the note's duration value\n",
    "    \n",
    "    current_time = voice_time[voice_name][\"start\"] # what is this voice's current start time\n",
    "    \n",
    "    voice_time[voice_name][\"start\"] += next_note[1] # add duration to the current voice's start time\n",
    "    next_note[1] = current_time # overwrite column 1 (duration) with the new start_time\n",
    "    return next_note"
   ]
  },
  {
   "cell_type": "code",
   "execution_count": 2103,
   "id": "99c73029-1231-484f-b50f-64bff5e52c0c",
   "metadata": {},
   "outputs": [],
   "source": [
    "# pass a set of parameters and get back an array of notes\n",
    "def chord_slide(note_dict):\n",
    "    # Build a set of notes \n",
    "    tones_1 = dmu.build_chords(note_dict[\"mode\"], note_dict[\"root\"], note_dict[\"combo\"][0], int(note_dict[\"combo\"][2])) # get four notes \n",
    "    tones_2 = dmu.build_chords(note_dict[\"mode\"], note_dict[\"root\"], note_dict[\"combo\"][1], int(note_dict[\"combo\"][3])) # get another four notes \n",
    "    octave = dmu.build_scale_mask(tones_1) + note_dict[\"octv\"] # get the octave mask\n",
    "    print(f'{note_dict[\"octv\"] = }')\n",
    "    # build_slides returns an ftable number for each note in the chord and updates global stored_gliss table\n",
    "    \n",
    "    gliss = dmu.build_slides(tones_1, tones_2, gliss_type = note_dict[\"gliss_type\"]) \n",
    "    # The number of notes may not be the same as the number of instruments. We may need to duplicate some notes to reach the number of instruments\n",
    "    num_inst = note_dict[\"instruments\"].shape[0]\n",
    "    num_notes = tones_1.shape[0]\n",
    "    while num_notes < num_inst:\n",
    "        # print(f'{num_inst = }, {num_notes = }, {tones_1.shape = }')\n",
    "        # copy the duplicate the first element (0) to be the last element until the number of notes = number of instruments\n",
    "        tones_1 = np.append(tones_1, tones_1[0], axis = None)\n",
    "        octave = np.append(octave, octave[0], axis = None)\n",
    "        gliss = np.append(gliss, gliss[0], axis = None)\n",
    "        num_notes = tones_1.shape[0]\n",
    "    if num_inst < num_notes:\n",
    "        print(f'Not enough instruments specified in {note_dict[\"instruments\"] = }, {num_notes = }')\n",
    "        return None\n",
    "    \n",
    "    dur = np.ones((num_inst,), dtype = float) * note_dict[\"dur\"] # all the notes have the same duration\n",
    "    # print(f'in chord_slides. {note_dict[\"hold\"] = }')\n",
    "    hold = np.ones((num_inst,), dtype = float) * note_dict[\"hold\"] # how long to hold them\n",
    "    # print(f'in chord_slides. {hold = }')\n",
    "    env = np.ones((num_inst,), dtype = float) * note_dict[\"env\"] # what envelope to use for all of them\n",
    "    renv = np.ones((num_inst,), dtype = float) * note_dict[\"renv\"] # what should the right envelope be\n",
    "    \n",
    "    instruments = np.empty((num_inst * note_dict[\"repeats\"], 15), dtype = float)\n",
    "    for repeats in np.arange((note_dict[\"repeats\"])):\n",
    "        # repeat\n",
    "        for inx in np.arange(num_inst):\n",
    "            # spread the notes across the different instruments\n",
    "            # instruments[:,inx] = instrument(tones_1[inx], octave[inx], dur[inx], hold[inx], gliss[inx], \\\n",
    "            #                     note_dict[\"instruments\"][inx], env = env[inx], renv = renv[inx])\n",
    "            \n",
    "            instruments[repeats * num_inst + inx] = instrument(tones_1[inx], octave[inx], dur[inx], hold[inx],  gliss[inx], \\\n",
    "                                    note_dict[\"instruments\"][inx], env = env[inx], renv = renv[inx])\n",
    "            # print(f'{hold[inx] = }, {gliss[inx] = }')\n",
    "            \n",
    "    print(f'{instruments.shape = }')\n",
    "    return instruments"
   ]
  },
  {
   "cell_type": "code",
   "execution_count": 2934,
   "id": "d033af9f-60c0-4b82-9328-dac2460d6eb8",
   "metadata": {},
   "outputs": [],
   "source": [
    "# pass a set of parameters and get back an array of notes\n",
    "def triad_arpeggio(note_dict):\n",
    "    if note_dict[\"delay\"] < 1: \n",
    "        print(f'In triad_arpeggio. {note_dict[\"delay\"] = }. Minimum accepted is 1')\n",
    "        return None\n",
    "              \n",
    "    # Build a set of notes                mode               root          random A or B              and random inversion\n",
    "    tones_1 = dmu.build_chords(note_dict[\"mode\"], note_dict[\"root\"], rng.choice([\"A\",\"B\"]), rng.choice([1,2,3,4])) # get four notes \n",
    "    octave = dmu.build_scale_mask(tones_1) + note_dict[\"octv\"] # get the octave mask\n",
    "\n",
    "    num_inst = note_dict[\"instruments\"].shape[0]\n",
    "    num_notes = tones_1.shape[0]\n",
    "    \n",
    "    dur = note_dict[\"dur\"] # all the notes have the same duration\n",
    "    hold = note_dict[\"hold\"] # how long to hold them\n",
    "    env = np.ones((num_inst,), dtype = float) * note_dict[\"env\"] # what envelope to use for all of them\n",
    "    renv = np.ones((num_inst,), dtype = float) * note_dict[\"renv\"] # what should the right envelope be\n",
    "    #                                          4 notes 5 instruments 3 repeats\n",
    "    print(f'creating empty instruments array. {num_notes = }, {num_inst = }')\n",
    "    \n",
    "    instruments = np.zeros((num_notes * num_inst, 15), dtype = float)\n",
    "    print(f'{instruments.shape = }') # 20 slots\n",
    "\n",
    "    # for repeats in np.arange(note_dict[\"repeats\"]): \n",
    "    #     print(f'{repeats = }')\n",
    "    roll = rng.choice([2,0,-2])\n",
    "    iterations = 0\n",
    "\n",
    "\n",
    "    for v_num, voice_string in zip(np.arange(num_inst), note_dict[\"instruments\"]): # each instrument plays\n",
    "        # print(f'{v_num = }, {voice_string = }')\n",
    "        tones_1 = np.roll(tones_1, roll)\n",
    "        # we need to update the start time for each instrument to account for the delay introduced between each instrument\n",
    "        voice_time[note_dict[\"instruments\"][v_num]][\"start\"] += dur[v_num] * note_dict[\"delay\"] * v_num\n",
    "\n",
    "        for note, octv in zip(tones_1, octave):\n",
    "            # print(f'{note = }, {octv = }')\n",
    "            instruments[iterations] = instrument(note, octv, dur[v_num], hold[v_num],\\\n",
    "                                         799, voice_string, env = env[v_num], renv = renv[v_num])\n",
    "            iterations += 1\n",
    "\n",
    "\n",
    "    print(f'{iterations = }') # 20.\n",
    "    return instruments"
   ]
  },
  {
   "cell_type": "code",
   "execution_count": 2916,
   "id": "c451f185-b5ab-48a1-b4bd-8527d5c981dd",
   "metadata": {},
   "outputs": [],
   "source": [
    "# pass a set of parameters and get back an array of notes\n",
    "def chord_chop(note_dict):\n",
    "    # Build a set of notes                mode               root                 A or B                and inversion\n",
    "    tones_1 = dmu.build_chords(note_dict[\"mode\"], note_dict[\"root\"], rng.choice([\"A\",\"B\"]), rng.choice([1,2,3,4])) # get four notes \n",
    "    octave = dmu.build_scale_mask(tones_1) + note_dict[\"octv\"] # get the octave mask\n",
    "    # The number of notes may not be the same as the number of instruments. We may need to duplicate some notes to reach the number of instruments\n",
    "    # num_inst = note_dict[\"instruments\"].shape[0]\n",
    "    num_notes = tones_1.shape[0]\n",
    "    while num_notes < num_inst:\n",
    "        # print(f'{num_inst = }, {num_notes = }, {tones_1.shape = }')\n",
    "        # copy the duplicate the first element (0) to be the last element until the number of notes = number of instruments\n",
    "        tones_1 = np.append(tones_1, tones_1[0], axis = None)\n",
    "        octave = np.append(octave, octave[0], axis = None)\n",
    "        num_notes = tones_1.shape[0]\n",
    "    if num_inst < num_notes:\n",
    "        print(f'Not enough instruments specified in {note_dict[\"instruments\"] = }, {num_notes = }')\n",
    "        return None\n",
    "    \n",
    "    dur = np.ones((num_inst,), dtype = float) * note_dict[\"dur\"] # all the notes have the same duration\n",
    "    hold = np.ones((num_inst,), dtype = float) * note_dict[\"hold\"] # how long to hold them\n",
    "    env = np.ones((num_inst,), dtype = float) * note_dict[\"env\"] # what envelope to use for all of them\n",
    "    renv = np.ones((num_inst,), dtype = float) * note_dict[\"renv\"] # what should the right envelope be\n",
    "    instruments = np.empty((num_inst * note_dict[\"repeats\"], 15), dtype = float)\n",
    "    print(f'{instruments.shape = }')\n",
    "    \n",
    "    for repeats in np.arange((note_dict[\"repeats\"])):\n",
    "        for inx in np.arange(num_inst):\n",
    "            # spread the notes across the different instruments\n",
    "            instruments[repeats * num_inst + inx] = instrument(tones_1[inx], octave[inx], dur[inx], hold[inx], 799, \\\n",
    "                                    note_dict[\"instruments\"][inx], env = env[inx], renv = renv[inx])\n",
    "            \n",
    "    print(f'{instruments.shape = }')\n",
    "    return instruments"
   ]
  },
  {
   "cell_type": "code",
   "execution_count": 2917,
   "id": "1aefb863-4b26-4063-ba0a-12967a4331df",
   "metadata": {},
   "outputs": [],
   "source": [
    "# pass a set of parameters and get back an array of notes\n",
    "def simple_hexad_arpeggio(note_dict):\n",
    "    # Build a set of notes                mode               root         rank           and random inversion\n",
    "    tones_1 = dmu.build_chords(note_dict[\"mode\"], note_dict[\"root\"], note_dict[\"rank\"], rng.choice([1,2,3,4])) # get four notes \n",
    "    octave = dmu.build_scale_mask(tones_1) + note_dict[\"octv\"] # get the octave mask and add it to the passed octave\n",
    "    \n",
    "    num_inst = note_dict[\"instruments\"].shape[0]\n",
    "    num_notes = tones_1.shape[0]\n",
    "    dur = note_dict[\"dur\"]   # each instrument can have it's own duration, the same for all repeats. But things get complicated if they don't\n",
    "    hold = note_dict[\"hold\"] # each instrument can have it's own hold value, repeated each repeat\n",
    "    env = np.ones((num_inst,), dtype = float) * note_dict[\"env\"] # same envelope for all of the instruments\n",
    "    renv = np.ones((num_inst,), dtype = float) * note_dict[\"renv\"] # same envelope for all of the instruments\n",
    "    instruments = np.empty((num_notes * num_inst * note_dict[\"repeats\"], 15), dtype = float)\n",
    "    mix_mask = rng.choice(2, size=(instruments.shape[0]), p = [1 - note_dict[\"density\"], note_dict[\"density\"]])\n",
    "    # print(f'{np.sum(mix_mask) = }')\n",
    "    # print(f'{mix_mask.shape = }')\n",
    "    iterations = 0\n",
    "    for repeats in np.arange(note_dict[\"repeats\"]): \n",
    "        roll = rng.choice([2, 0, -2])\n",
    "        tones_1 = np.roll(tones_1, roll)\n",
    "        for (note, octv) in zip(tones_1,octave): # iterate a match between a note and it's octave\n",
    "            for inst in np.arange(num_inst):\n",
    "                instruments[iterations] = instrument(note, octv, dur[inst], hold[inst] * mix_mask[iterations], \\\n",
    "                                        799, note_dict[\"instruments\"][inst], env = env[inst], renv = env[inst])\n",
    "                iterations += 1\n",
    "    return instruments"
   ]
  },
  {
   "cell_type": "code",
   "execution_count": 2918,
   "id": "14820bf5-8c3a-4052-aa1f-13162027bf9a",
   "metadata": {},
   "outputs": [],
   "source": [
    "# pass a set of parameters and get back an array of notes\n",
    "def scale_arpeggio(note_dict):\n",
    "              \n",
    "    # set of notes from a scale based on  mode            root             rank \n",
    "    tones_1 = dmu.build_scale(note_dict[\"mode\"], note_dict[\"root\"], note_dict[\"rank\"]) # get 8 notes \n",
    "    octave = dmu.build_scale_mask(tones_1) + note_dict[\"octv\"] # get the octave mask\n",
    "    \n",
    "    num_inst = note_dict[\"instruments\"].shape[0]\n",
    "    num_notes = tones_1.shape[0]\n",
    "    \n",
    "    dur = note_dict[\"dur\"] # each instrument has its own duration\n",
    "    hold = note_dict[\"hold\"] # each instrument has its own hold value\n",
    "    env = np.ones((num_inst,), dtype = float) * note_dict[\"env\"] # what envelope to use for instruments\n",
    "    renv = np.ones((num_inst,), dtype = float) * note_dict[\"renv\"] # right envelope \n",
    "    instruments = np.empty((num_notes * num_inst * 2, 15), dtype = float)\n",
    "\n",
    "    # for repeats in np.arange(note_dict[\"repeats\"]): # if I try to repeat, it screws up the timing and doesn't repeat\n",
    "    #     print(f'{repeats = }')\n",
    "    roll = rng.choice([2,0,-2])\n",
    "    iteration = 0\n",
    "    v_num = 0\n",
    "    for voice_string in note_dict[\"instruments\"]: # each instrument plays\n",
    "        # we need to update the start time for each instrument to account for the delay introduced between each instrument\n",
    "        voice_time[note_dict[\"instruments\"][v_num]][\"start\"] += dur[v_num] * note_dict[\"delay\"] * v_num\n",
    "        # print(f'{voice_time[note_dict[\"instruments\"][v_num]][\"start\"] = }')\n",
    "        for inx in np.arange(num_notes):\n",
    "            tones_1 = np.roll(tones_1, roll)\n",
    "            instruments[iteration] = \\\n",
    "                instrument(tones_1[inx], octave[inx], dur[v_num], hold[v_num], 799, voice_string, env = env[v_num], renv = renv[v_num])\n",
    "            iteration += 1\n",
    "        v_num += 1\n",
    "        \n",
    "    return instruments"
   ]
  },
  {
   "cell_type": "code",
   "execution_count": 2931,
   "id": "f17afb01-8d1e-4819-ab4c-3843bcde9c79",
   "metadata": {},
   "outputs": [
    {
     "name": "stdout",
     "output_type": "stream",
     "text": [
      "creating empty instruments array. num_notes = 4, num_inst = 5\n",
      "instruments.shape = (20, 15)\n",
      "v_num = 0, voice_string = 'obo'\n",
      "note = 38, octv = 4\n",
      "note = 42, octv = 4\n",
      "note = 46, octv = 4\n",
      "note = 34, octv = 5\n",
      "v_num = 1, voice_string = 'cla'\n",
      "note = 38, octv = 4\n",
      "note = 42, octv = 4\n",
      "note = 46, octv = 4\n",
      "note = 34, octv = 5\n",
      "v_num = 2, voice_string = 'bfl'\n",
      "note = 38, octv = 4\n",
      "note = 42, octv = 4\n",
      "note = 46, octv = 4\n",
      "note = 34, octv = 5\n",
      "v_num = 3, voice_string = 'bss'\n",
      "note = 38, octv = 4\n",
      "note = 42, octv = 4\n",
      "note = 46, octv = 4\n",
      "note = 34, octv = 5\n",
      "v_num = 4, voice_string = 'frn'\n",
      "note = 38, octv = 4\n",
      "note = 42, octv = 4\n",
      "note = 46, octv = 4\n",
      "note = 34, octv = 5\n",
      "iterations = 20\n",
      "winds.shape = (20, 15)\n"
     ]
    }
   ],
   "source": [
    "# reload(dmu)\n",
    "init_voice_time_start()\n",
    "stored_gliss = dmu.init_instrument() # resets the global glissando array and the global current_gliss_table variable to 800\n",
    "winds = np.empty((0,15), dtype = float)\n",
    "# reload(dmu)\n",
    "woodwinds = np.array([\"obo\",\"cla\",\"bfl\",\"bss\",\"frn\"])\n",
    "# This is a dictionary of note sequence generators, including a function to call, and all the values that that function requires\n",
    "note_dict = {0: {'exec': chord_slide, 'mode': 'oton', 'root': '16/9', 'repeats': 1, 'combo': choose_combo(), 'dur': combo_trills[0,1]/8, \n",
    "                 'hold': combo_trills[0,2] / 8, 'octv': rng.choice([3, 4]), 'gliss_type':'trill_8_step', 'env': combo_trills[0,0], \n",
    "                 'renv': combo_trills[0,0], 'instruments': woodwinds},\n",
    "             1: {'exec': chord_slide, 'mode': 'oton', 'root': '16/9', 'combo': choose_combo(), 'dur': combo_trills[1,1], \n",
    "                 'hold': combo_trills[1,2], 'octv': 3, 'gliss_type':'trill_8_step', 'env': combo_trills[1,0], \n",
    "                 'renv': combo_trills[1,0], 'instruments': woodwinds},\n",
    "             2: {'exec': chord_slide, 'mode': 'oton', 'root': '16/9', 'combo': choose_combo(), 'dur': combo_trills[2,1], \n",
    "                 'hold': combo_trills[2,2], 'octv': 3, 'gliss_type':'trill_8_step', 'env': combo_trills[2,0], \n",
    "                 'renv': combo_trills[2,0], 'instruments': woodwinds},\n",
    "             3: {'exec': chord_slide, 'mode': 'oton', 'root': '16/9', 'combo': choose_combo(), 'dur': combo_trills[3,1], \n",
    "                 'hold': combo_trills[3,2], 'octv': 3, 'gliss_type':'trill_8_step', 'env': combo_trills[3,0], \n",
    "                 'renv': combo_trills[3,0], 'instruments': woodwinds},\n",
    "             4: {'exec': chord_slide, 'mode': 'oton', 'root': '16/9', 'combo': choose_combo(), 'dur': combo_trills[4,1], \n",
    "                 'hold': combo_trills[4,2], 'octv': 3, 'gliss_type':'trill_8_step', 'env': combo_trills[4,0], \n",
    "                 'renv': combo_trills[4,0], 'instruments': woodwinds},\n",
    "             5: {'exec': chord_chop, 'mode': 'oton', 'root': '16/9', 'repeats': 3, 'dur': .15, 'hold': .45, 'octv': rng.choice([3, 4]), \n",
    "                 'env': 2, 'renv': 2, 'instruments': np.array([\"obo\",\"cla\",\"bfl\",\"bss\",\"frn\"])},\n",
    "             6: {'exec': simple_hexad_arpeggio, 'mode': 'oton', 'root': '16/9', 'rank': rng.choice(['A','B']), 'repeats': 25, \n",
    "                 'dur': np.array([.15, .15, .15, .15, .15]), 'hold': np.array([.14, .14, .14, .14, .14]), \n",
    "                 'octv': rng.choice([3, 4]), 'env': 8, 'renv': 8, 'instruments': woodwinds, 'density': 0.4 }, \n",
    "             7: {'exec': triad_arpeggio, 'mode': 'oton', 'root': '16/9', 'rank': rng.choice(['A','B']), \n",
    "                 'dur': np.array([.15, .15, .15, .15, .15]), 'hold': np.array([.14, .14, .14, .14, .14]), \n",
    "                 'octv': rng.choice([3, 4]), 'env': 8, 'renv': 8, 'instruments': woodwinds, 'delay': 4 }, \n",
    "             8: {'exec': scale_arpeggio, 'mode': 'oton', 'root': '16/9', 'rank': rng.choice(['A','B']), 'repeats': 2, \n",
    "                 'dur': np.array([.15, .15, .15, .15, .15]), 'hold': np.array([.14, .14, .14, .14, .14]), 'octv': rng.choice([3, 4]), \n",
    "                 'env': 1, 'renv': 1, 'instruments': woodwinds, 'density': 0.7},   \n",
    "            }\n",
    "for inx in np.arange(1):\n",
    "    ind = 7              #  +-- existing winds array\n",
    "    #                       |      +-- the new array created by calling note_dict with the exec value\n",
    "    #                       |      |                      +-- argument passed to the specified function\n",
    "    winds = np.concatenate((winds, note_dict[ind][\"exec\"](note_dict[ind])),axis = 0)\n",
    "print(f'{winds.shape = }')"
   ]
  },
  {
   "cell_type": "code",
   "execution_count": 2932,
   "id": "63494388-7f36-4423-9bec-085b71959fae",
   "metadata": {},
   "outputs": [
    {
     "name": "stdout",
     "output_type": "stream",
     "text": [
      "csound is already running\n"
     ]
    }
   ],
   "source": [
    "a, b = start_csound()\n",
    "if a is not None:\n",
    "    cs = a\n",
    "    pt = b"
   ]
  },
  {
   "cell_type": "code",
   "execution_count": 2933,
   "id": "fc8eca7f-74b4-413f-9406-24a0c15bf899",
   "metadata": {},
   "outputs": [
    {
     "name": "stdout",
     "output_type": "stream",
     "text": [
      "glide ratios for all the slides in the whole piece:\n",
      "here are the notes sent to csound\n",
      "InsSta Dur VelTon OctVoiSteEn1 Gls UpsRen2gl 3glVol\n",
      "[1, 0, 0, 60, 38, 4, 7, 8, 8, 799, 1, 8, 0, 0, 30]\tstart: 0.0,\tdur: 0.14\n",
      "[1, 0, 0, 60, 42, 4, 7, 8, 8, 799, 1, 8, 0, 0, 30]\tstart: 0.15,\tdur: 0.14\n",
      "[1, 0, 0, 60, 46, 4, 7, 8, 8, 799, 1, 8, 0, 0, 30]\tstart: 0.3,\tdur: 0.14\n",
      "[1, 0, 0, 60, 34, 5, 7, 8, 8, 799, 1, 8, 0, 0, 30]\tstart: 0.45,\tdur: 0.14\n",
      "[1, 0, 0, 60, 38, 4, 8, 8, 8, 799, 1, 8, 0, 0, 30]\tstart: 0.6,\tdur: 0.14\n",
      "[1, 0, 0, 60, 42, 4, 8, 8, 8, 799, 1, 8, 0, 0, 30]\tstart: 0.75,\tdur: 0.14\n",
      "[1, 0, 0, 60, 46, 4, 8, 8, 8, 799, 1, 8, 0, 0, 30]\tstart: 0.9,\tdur: 0.14\n",
      "[1, 1, 0, 60, 34, 5, 8, 8, 8, 799, 1, 8, 0, 0, 30]\tstart: 1.05,\tdur: 0.14\n",
      "[1, 1, 0, 60, 38, 4, 6, 8, 8, 799, 1, 8, 0, 0, 30]\tstart: 1.2,\tdur: 0.14\n",
      "[1, 1, 0, 60, 42, 4, 6, 8, 8, 799, 1, 8, 0, 0, 30]\tstart: 1.35,\tdur: 0.14\n",
      "[1, 1, 0, 60, 46, 4, 6, 8, 8, 799, 1, 8, 0, 0, 30]\tstart: 1.5,\tdur: 0.14\n",
      "[1, 1, 0, 60, 34, 5, 6, 8, 8, 799, 1, 8, 0, 0, 30]\tstart: 1.65,\tdur: 0.14\n",
      "[1, 1, 0, 60, 38, 4, 9, 8, 8, 799, 1, 8, 0, 0, 30]\tstart: 1.8,\tdur: 0.14\n",
      "[1, 1, 0, 60, 42, 4, 9, 8, 8, 799, 1, 8, 0, 0, 30]\tstart: 1.95,\tdur: 0.14\n",
      "[1, 2, 0, 60, 46, 4, 9, 8, 8, 799, 1, 8, 0, 0, 30]\tstart: 2.1,\tdur: 0.14\n",
      "[1, 2, 0, 60, 34, 5, 9, 8, 8, 799, 1, 8, 0, 0, 30]\tstart: 2.25,\tdur: 0.14\n",
      "[1, 2, 0, 60, 38, 4, 10, 8, 8, 799, 1, 8, 0, 0, 30]\tstart: 2.4,\tdur: 0.14\n",
      "[1, 2, 0, 60, 42, 4, 10, 8, 8, 799, 1, 8, 0, 0, 30]\tstart: 2.55,\tdur: 0.14\n",
      "[1, 2, 0, 60, 46, 4, 10, 8, 8, 799, 1, 8, 0, 0, 30]\tstart: 2.7,\tdur: 0.14\n",
      "[1, 2, 0, 60, 34, 5, 10, 8, 8, 799, 1, 8, 0, 0, 30]\tstart: 2.85,\tdur: 0.14\n"
     ]
    }
   ],
   "source": [
    "print(f'glide ratios for all the slides in the whole piece:')\n",
    "for row in dmu.retrieve_gliss_tables(): # pass some f tables for glissandi to the instance of csound\n",
    "    pt.scoreEvent(0, 'f', row)\n",
    "    print(f'{round(row[8],3)}')\n",
    "print(f'here are the notes sent to csound')\n",
    "print(f'InsSta Dur VelTon OctVoiSteEn1 Gls UpsRen2gl 3glVol')\n",
    "for row in winds: # send the note information to csound\n",
    "    pt.scoreEvent(0, 'i', row)\n",
    "    print(f'{[int(row[item]) for item in np.arange(15)]}', end = '\\t') # print the note values\n",
    "    print(f'start: {round(row[1],3)},\\tdur: {round(row[2],3)}')"
   ]
  },
  {
   "cell_type": "code",
   "execution_count": 2890,
   "id": "61cc7d31-6fa6-4ad1-81ef-3cc097527c01",
   "metadata": {},
   "outputs": [
    {
     "name": "stderr",
     "output_type": "stream",
     "text": [
      "0dBFS level = 32768.0\n",
      "--Csound version 6.16 (double samples) Aug 10 2021\n",
      "[commit: none]\n",
      "libsndfile-1.0.31\n"
     ]
    }
   ],
   "source": [
    "stop_csound(cs, pt)"
   ]
  },
  {
   "cell_type": "code",
   "execution_count": null,
   "id": "8a7f210a-958c-4869-8785-bc1e88c169e2",
   "metadata": {},
   "outputs": [],
   "source": []
  },
  {
   "cell_type": "code",
   "execution_count": null,
   "id": "c2ea5d4a-62f8-4803-babc-38563e523bdb",
   "metadata": {},
   "outputs": [],
   "source": []
  }
 ],
 "metadata": {
  "kernelspec": {
   "display_name": "Python 3 (ipykernel)",
   "language": "python",
   "name": "python3"
  },
  "language_info": {
   "codemirror_mode": {
    "name": "ipython",
    "version": 3
   },
   "file_extension": ".py",
   "mimetype": "text/x-python",
   "name": "python",
   "nbconvert_exporter": "python",
   "pygments_lexer": "ipython3",
   "version": "3.9.12"
  }
 },
 "nbformat": 4,
 "nbformat_minor": 5
}
