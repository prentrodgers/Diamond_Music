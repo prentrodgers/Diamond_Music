{
 "cells": [
  {
   "cell_type": "markdown",
   "id": "544e1fc1-eade-4bfb-b606-e65b8d269bd6",
   "metadata": {},
   "source": [
    "# Introduction to Microtonal Music Making through the Tonality Diamond\n",
    "\n",
    "This notebook introduces several concepts and realizes music using those concepts\n",
    "- Intro to the Tonality Diamond to the 31-limit\n",
    "- Creating some structures that will assist in making music\n",
    "- building the csound orchestra\n",
    "- making some music\n",
    "- adding some glissandos and trills"
   ]
  },
  {
   "cell_type": "markdown",
   "id": "37f352ec-8289-4ea9-825f-228174f6631a",
   "metadata": {},
   "source": [
    "## Introduction to the Tonality Diamond\n",
    "\n",
    "Harry Partch was a microtonal theoretician, composer, instrument builder, sometimes hobo, and all around genius. His book, Genesis of a Music, is a guide to his musical ideas. The wiki page is helpful guide to the book: __[wiki page](https://en.wikipedia.org/wiki/Genesis_of_a_Music)__\n",
    "\n",
    "This notebook carries on with one of his ideas, namely the tonality diamond. I've been playing around with tuning systems derived from this concept for many years. The basic idea is that you calculate the overtones of a root note, in Partch's case 'G' to some arbitrary limit. Partch's \"Incipient Tonality Diamond\" took the overtones to the 5 limit. Partch further postulated what he called undertones, the inverse of an overtone, to the same limit based on notes in the overtone series. This gave him a structure of overtones on the undertones, and overtones on the undertones. Here is an image of the 5-limit diamond, with unison in the middle from top to bottom (3:3, 5:5, and 1:1), overtones going up and to the right (1:1, 5:4 3:2) and undertones on those going up and to the left (1:1, 8:5, 4:3).\n",
    "\n",
    "<img src='http://tonalsoft.com/enc/t/images/diamond.gif'>\n",
    "\n",
    "He quickly expanded to the 11-limit to find more tones. I continued with this exploration with pieces in the 15-limit, and now the 31-limit. As the limit rises, the number of tones per octave also increase. Which leads to the sizing exercise in the next few cells.\n",
    "\n",
    "## Size of the Tonality Diamond\n",
    "\n",
    "Wikipedia: https://en.wikipedia.org/wiki/Tonality_diamond \n",
    "\n",
    "According to wiki, there is a direct way to calculate how many unique pitches in a tonality diamond. <blockquote>\n",
    "    If φ(n) is Euler's totient function, which gives the number of positive integers less than n and relatively prime to n, that is, it counts the integers less than n which share no common factor with n, and if d(n) denotes the size of the n-limit tonality diamond, we have the formula.\n",
    "</blockquote>\n",
    "\n",
    "They go on to describe Euler's Totient:\n",
    "<img src='http://ripnread.com/listen/EulerTotientFunction.svg'>\n",
    "Again according to wiki, there are \n",
    "- 7 members to the 5-limit diamond, \n",
    "- 13 to the 7-limit diamond, \n",
    "- 19 to the 9-limit diamond, \n",
    "- 29 to the 11-limit diamond, \n",
    "- 41 to the 13-limit diamond, and \n",
    "- 49 to the 15-limit diamond; \n",
    "And they further state that \"that these suffice for most purposes.\"\n",
    "\n",
    "I disagree, and have been using the tonality diamond to the 31 limit for about five years or so.\n",
    "\n",
    "First let's load all the functions I might need"
   ]
  },
  {
   "cell_type": "code",
   "execution_count": 1,
   "id": "78482523-4770-445c-8d01-8ad150af1bcd",
   "metadata": {
    "colab": {},
    "colab_type": "code",
    "id": "gTZ5xE7jaVy0"
   },
   "outputs": [],
   "source": [
    "import numpy as np\n",
    "import numpy.testing as npt\n",
    "import pprint\n",
    "pp = pprint.PrettyPrinter(sort_dicts=False)\n",
    "import copy\n",
    "import mido\n",
    "import time\n",
    "from importlib import reload\n",
    "from IPython.display import Audio, display\n",
    "import os\n",
    "import muspy\n",
    "import pandas as pd\n",
    "import sys\n",
    "import logging\n",
    "import ctcsound\n",
    "# sys.path.insert(0, '/home/prent/Dropbox/Tutorials/coconet-pytorch/coconet-pytorch-csound')\n",
    "# import piano as p\n",
    "# import selective_stretching_codes as stretch\n",
    "# import samples_used as su\n",
    "import subprocess\n",
    "from numpy.random import default_rng\n",
    "rng = np.random.default_rng()\n",
    "from fractions import Fraction\n",
    "CSD_FILE = 'ball3.csd'\n",
    "LOGNAME = 'ball3.log'\n",
    "WAV_OUT = '/home/prent/Music/sflib/ball3.wav'\n",
    "CON_OUT = '/home/prent/Music/sflib/ball3-t'\n",
    "\n",
    "OCTAVE_SIZE = 256 # there are 213 distinct pictches per octave in the tonality diamond to the 31-limit, but the array storing cents is 256\n",
    "first_item_only = True # limits the output to the first few of a set\n",
    "csound_running = False # lets me know if we already have an instance of csound available to ctcsound"
   ]
  },
  {
   "cell_type": "code",
   "execution_count": 2,
   "id": "013aa0a7-824a-41c6-920b-ff8086854d61",
   "metadata": {},
   "outputs": [
    {
     "name": "stdout",
     "output_type": "stream",
     "text": [
      "Tonality Diamond in the Cassandra orientation to the 5-limit\n",
      "1\t4/3\t5/3\t\n",
      "3/2\t1\t5/4\t\n",
      "6/5\t8/5\t1\t\n",
      "There are 7 unique members in the 5-limit diamond\n",
      "\n",
      "\n",
      "Tonality Diamond in the Cassandra orientation to the 7-limit\n",
      "1\t5/4\t3/2\t7/4\t\n",
      "8/5\t1\t6/5\t7/5\t\n",
      "4/3\t5/3\t1\t7/6\t\n",
      "8/7\t10/7\t12/7\t1\t\n",
      "There are 13 unique members in the 7-limit diamond\n",
      "\n",
      "\n",
      "Tonality Diamond in the Cassandra orientation to the 9-limit\n",
      "1\t6/5\t7/5\t8/5\t9/5\t\n",
      "5/3\t1\t7/6\t4/3\t3/2\t\n",
      "10/7\t12/7\t1\t8/7\t9/7\t\n",
      "5/4\t3/2\t7/4\t1\t9/8\t\n",
      "10/9\t4/3\t14/9\t16/9\t1\t\n",
      "There are 19 unique members in the 9-limit diamond\n",
      "\n",
      "\n",
      "Tonality Diamond in the Cassandra orientation to the 11-limit\n",
      "1\t7/6\t4/3\t3/2\t5/3\t11/6\t\n",
      "12/7\t1\t8/7\t9/7\t10/7\t11/7\t\n",
      "3/2\t7/4\t1\t9/8\t5/4\t11/8\t\n",
      "4/3\t14/9\t16/9\t1\t10/9\t11/9\t\n",
      "6/5\t7/5\t8/5\t9/5\t1\t11/10\t\n",
      "12/11\t14/11\t16/11\t18/11\t20/11\t1\t\n",
      "There are 29 unique members in the 11-limit diamond\n",
      "\n",
      "\n",
      "Tonality Diamond in the Cassandra orientation to the 13-limit\n",
      "1\t8/7\t9/7\t10/7\t11/7\t12/7\t13/7\t\n",
      "7/4\t1\t9/8\t5/4\t11/8\t3/2\t13/8\t\n",
      "14/9\t16/9\t1\t10/9\t11/9\t4/3\t13/9\t\n",
      "7/5\t8/5\t9/5\t1\t11/10\t6/5\t13/10\t\n",
      "14/11\t16/11\t18/11\t20/11\t1\t12/11\t13/11\t\n",
      "7/6\t4/3\t3/2\t5/3\t11/6\t1\t13/12\t\n",
      "14/13\t16/13\t18/13\t20/13\t22/13\t24/13\t1\t\n",
      "There are 41 unique members in the 13-limit diamond\n",
      "\n",
      "\n",
      "Tonality Diamond in the Cassandra orientation to the 15-limit\n",
      "1\t9/8\t5/4\t11/8\t3/2\t13/8\t7/4\t15/8\t\n",
      "16/9\t1\t10/9\t11/9\t4/3\t13/9\t14/9\t5/3\t\n",
      "8/5\t9/5\t1\t11/10\t6/5\t13/10\t7/5\t3/2\t\n",
      "16/11\t18/11\t20/11\t1\t12/11\t13/11\t14/11\t15/11\t\n",
      "4/3\t3/2\t5/3\t11/6\t1\t13/12\t7/6\t5/4\t\n",
      "16/13\t18/13\t20/13\t22/13\t24/13\t1\t14/13\t15/13\t\n",
      "8/7\t9/7\t10/7\t11/7\t12/7\t13/7\t1\t15/14\t\n",
      "16/15\t6/5\t4/3\t22/15\t8/5\t26/15\t28/15\t1\t\n",
      "There are 49 unique members in the 15-limit diamond\n",
      "\n",
      "\n",
      "Tonality Diamond in the Cassandra orientation to the 31-limit\n",
      "1\t17/16\t9/8\t19/16\t5/4\t21/16\t11/8\t23/16\t3/2\t25/16\t13/8\t27/16\t7/4\t29/16\t15/8\t31/16\t\n",
      "32/17\t1\t18/17\t19/17\t20/17\t21/17\t22/17\t23/17\t24/17\t25/17\t26/17\t27/17\t28/17\t29/17\t30/17\t31/17\t\n",
      "16/9\t17/9\t1\t19/18\t10/9\t7/6\t11/9\t23/18\t4/3\t25/18\t13/9\t3/2\t14/9\t29/18\t5/3\t31/18\t\n",
      "32/19\t34/19\t36/19\t1\t20/19\t21/19\t22/19\t23/19\t24/19\t25/19\t26/19\t27/19\t28/19\t29/19\t30/19\t31/19\t\n",
      "8/5\t17/10\t9/5\t19/10\t1\t21/20\t11/10\t23/20\t6/5\t5/4\t13/10\t27/20\t7/5\t29/20\t3/2\t31/20\t\n",
      "32/21\t34/21\t12/7\t38/21\t40/21\t1\t22/21\t23/21\t8/7\t25/21\t26/21\t9/7\t4/3\t29/21\t10/7\t31/21\t\n",
      "16/11\t17/11\t18/11\t19/11\t20/11\t21/11\t1\t23/22\t12/11\t25/22\t13/11\t27/22\t14/11\t29/22\t15/11\t31/22\t\n",
      "32/23\t34/23\t36/23\t38/23\t40/23\t42/23\t44/23\t1\t24/23\t25/23\t26/23\t27/23\t28/23\t29/23\t30/23\t31/23\t\n",
      "4/3\t17/12\t3/2\t19/12\t5/3\t7/4\t11/6\t23/12\t1\t25/24\t13/12\t9/8\t7/6\t29/24\t5/4\t31/24\t\n",
      "32/25\t34/25\t36/25\t38/25\t8/5\t42/25\t44/25\t46/25\t48/25\t1\t26/25\t27/25\t28/25\t29/25\t6/5\t31/25\t\n",
      "16/13\t17/13\t18/13\t19/13\t20/13\t21/13\t22/13\t23/13\t24/13\t25/13\t1\t27/26\t14/13\t29/26\t15/13\t31/26\t\n",
      "32/27\t34/27\t4/3\t38/27\t40/27\t14/9\t44/27\t46/27\t16/9\t50/27\t52/27\t1\t28/27\t29/27\t10/9\t31/27\t\n",
      "8/7\t17/14\t9/7\t19/14\t10/7\t3/2\t11/7\t23/14\t12/7\t25/14\t13/7\t27/14\t1\t29/28\t15/14\t31/28\t\n",
      "32/29\t34/29\t36/29\t38/29\t40/29\t42/29\t44/29\t46/29\t48/29\t50/29\t52/29\t54/29\t56/29\t1\t30/29\t31/29\t\n",
      "16/15\t17/15\t6/5\t19/15\t4/3\t7/5\t22/15\t23/15\t8/5\t5/3\t26/15\t9/5\t28/15\t29/15\t1\t31/30\t\n",
      "32/31\t34/31\t36/31\t38/31\t40/31\t42/31\t44/31\t46/31\t48/31\t50/31\t52/31\t54/31\t56/31\t58/31\t60/31\t1\t\n",
      "There are 213 unique members in the 31-limit diamond\n",
      "\n",
      "\n"
     ]
    }
   ],
   "source": [
    "# brute force method to calculate the size of a tonality diamond\n",
    "\n",
    "for limit in (5, 7, 9, 11, 13, 15, 31): # calculate the size of a variety of standard limits, including 31-limit\n",
    "    end_denom = limit + 1\n",
    "    start_denom = (end_denom) // 2\n",
    "    o_numerator = np.arange(start_denom, end_denom, 1) # create a list of overtones\n",
    "    u_denominator = np.arange(start_denom, end_denom, 1) # create a list of undertones\n",
    "    print(f'Tonality Diamond in the Cassandra orientation to the {limit}-limit', end='')\n",
    "    all_ratios = []\n",
    "    for oton_root in u_denominator:\n",
    "        print()\n",
    "        for overtone in o_numerator:\n",
    "            if overtone < oton_root: oton = overtone * 2\n",
    "            else: oton = overtone\n",
    "            print(f'{str(Fraction(oton / oton_root).limit_denominator())}', end = '\\t')\n",
    "            all_ratios.append(oton / oton_root)\n",
    "\n",
    "    no_dupes = list(dict.fromkeys(all_ratios)) # eliminate duplicates\n",
    "    \n",
    "    print(f'\\nThere are {len(no_dupes)} unique members in the {limit}-limit diamond\\n\\n')      "
   ]
  },
  {
   "cell_type": "markdown",
   "id": "26487b59-140b-40ed-89a5-756264b2b454",
   "metadata": {},
   "source": [
    "Here is an image of the cassandra representation of the 31-limit tonality diamond including the note names with Sagittal accidentals and the index into the 256-member array of notes. The index is used to pull cent values from a table when using Csound. They don't reflect the relative pitch, just the index into a 256 member array.\n",
    "The overtone series runs from left to right, and the undertone from top to bottom.\n",
    "![31-limit Cassandra](31-limit_cassandra.jpg)"
   ]
  },
  {
   "cell_type": "code",
   "execution_count": 3,
   "id": "5a60821a-d880-4f9f-8527-eba3e67e6018",
   "metadata": {},
   "outputs": [
    {
     "name": "stdout",
     "output_type": "stream",
     "text": [
      "256\n"
     ]
    }
   ],
   "source": [
    "# We now have an list with all the ratios in the diamond to the 31-limit in all_ratios. \n",
    "# This list does not have duplicates removed. I don't mind having a few extra of the same ratio.\n",
    "print(len(all_ratios))"
   ]
  },
  {
   "cell_type": "markdown",
   "id": "2ab83944-a7e9-4b73-8e03-a0f18286107d",
   "metadata": {},
   "source": [
    "In the skeleton csound file provided, we need these ratios as values that the csound function cpspch can convert to frequency in Hertz.\n",
    "\n",
    "Here is the csound code that converts a note in the Tonality Diamond to the 31-limit into fractions of an octave, that csound can turn into a frequency that can be performed.\n",
    "<code>\n",
    "   ipitch table p5, 3 ; convert note number 0-256 to oct.fract format in a table of values\n",
    "   kcps = cpspch(ioct + ipitch) ; convert oct.fract to Hz at krate \n",
    "</code>\n",
    "<p>To build that table, we need these ratios converted into cents, then divide that by 10,000. The formula for converting a ratio into cents is shown in use in the next cell."
   ]
  },
  {
   "cell_type": "code",
   "execution_count": 4,
   "id": "58affc47-002f-4757-a139-9b81916add96",
   "metadata": {},
   "outputs": [
    {
     "name": "stdout",
     "output_type": "stream",
     "text": [
      "convert the ratio 51/50 to cents: 34.3\n",
      "convert 34.3 cents to a ratio: 51/50\n"
     ]
    }
   ],
   "source": [
    "# conversion between ratios (just) and cents (1200 equal per octave)\n",
    "ratio = 51/50\n",
    "print(f'convert the ratio {str(Fraction(ratio).limit_denominator(max_denominator = 100))} to cents: {round(1200 * np.log(ratio)/np.log(2),1)}')\n",
    "# cents to ratio\n",
    "cents = 34.3\n",
    "print(f'convert {cents} cents to a ratio: {str(Fraction(np.power(2, cents/1200)).limit_denominator(max_denominator = 100))}')"
   ]
  },
  {
   "cell_type": "code",
   "execution_count": 56,
   "id": "47ad2843-4cc6-4b7b-bc0e-e1b89d104802",
   "metadata": {},
   "outputs": [
    {
     "name": "stdout",
     "output_type": "stream",
     "text": [
      "first five ratios: ['1', '17/16', '9/8', '19/16', '5/4']\n",
      "last five ratios: ['54/31', '56/31', '58/31', '60/31', '1']\n"
     ]
    }
   ],
   "source": [
    "# let's take a look at the list of ratios, converted into ratios we can see:\n",
    "# first five ratios\n",
    "print(f'first five ratios: {[str(Fraction(ratio).limit_denominator(max_denominator = 100)) for ratio in all_ratios[:5]] }')\n",
    "# last five ratios\n",
    "print(f'last five ratios: {[str(Fraction(ratio).limit_denominator(max_denominator = 100)) for ratio in all_ratios[-5:]] }')"
   ]
  },
  {
   "cell_type": "code",
   "execution_count": 57,
   "id": "34745bb7-bb6e-4b77-aef8-1699f43a7e44",
   "metadata": {},
   "outputs": [
    {
     "name": "stdout",
     "output_type": "stream",
     "text": [
      "first five fractions that csound needs: [0.0, 0.010495540950040728, 0.020391000173077486, 0.02975130161323026, 0.03863137138648348]\n",
      "last five fractions that csound needs: [0.0960829430131912, 0.10237903340048746, 0.10845416216888361, 0.11432331422659722, 0.0]\n"
     ]
    }
   ],
   "source": [
    "print(f'first five fractions that csound needs: {[1200 * np.log(ratio)/np.log(2)/10_000 for ratio in all_ratios[:5]]}')\n",
    "print(f'last five fractions that csound needs: {[1200 * np.log(ratio)/np.log(2)/10_000 for ratio in all_ratios[-5:]]}')"
   ]
  },
  {
   "cell_type": "code",
   "execution_count": 58,
   "id": "b96008e6-451b-4361-8779-51c22f846538",
   "metadata": {},
   "outputs": [
    {
     "name": "stdout",
     "output_type": "stream",
     "text": [
      "temp_array[0:5] = array([1.    , 1.0625, 1.125 , 1.1875, 1.25  ])\n",
      "t_array[0:5] = array([1.    , 1.0625, 1.125 , 1.1875, 1.25  ])\n"
     ]
    }
   ],
   "source": [
    "temp_array = np.array(all_ratios, dtype = float)\n",
    "print(f'{temp_array[0:5] = }')\n",
    "t_array = np.array([i for i in temp_array])\n",
    "print(f'{t_array[0:5] = }')"
   ]
  },
  {
   "cell_type": "code",
   "execution_count": 59,
   "id": "a79d0c0f-8efc-4140-a363-b9a96c4b3e15",
   "metadata": {},
   "outputs": [],
   "source": [
    "f3_array = np.array([1200 * np.log(ratio)/np.log(2)/10_000 for ratio in all_ratios]) # convert it into a numpy array"
   ]
  },
  {
   "cell_type": "code",
   "execution_count": 60,
   "id": "013f5b59-1b08-41bf-9f51-70c2a048ccd3",
   "metadata": {},
   "outputs": [
    {
     "name": "stdout",
     "output_type": "stream",
     "text": [
      "first 25 values [0.0, 0.010495540950040728, 0.020391000173077486, 0.02975130161323026, 0.03863137138648348, 0.04707809073345123, 0.05513179423647566, 0.06282743472684155, 0.07019550008653874, 0.07726274277296696, 0.08405276617693107, 0.09058650025961625, 0.09688259064691249, 0.10295771941530865, 0.10882687147302222, 0.11450355724642503, 0.10950445904995929, 0.0, 0.009895459223036756, 0.019255760663189535, 0.028135830436442757, 0.036582549783410516, 0.04463625328643495, 0.05233189377680082, 0.059699959136498025]\n"
     ]
    }
   ],
   "source": [
    "print(f'first 25 values {[fract for fract in f3_array[:25]]}')"
   ]
  },
  {
   "cell_type": "code",
   "execution_count": 10,
   "id": "c925e954-afd0-46e9-bfab-302efd903e2b",
   "metadata": {},
   "outputs": [],
   "source": [
    "# to load a function table, we have to give csound some information about it in a preface:\n",
    "#                      +-- the function table number we are creating (3)\n",
    "#                      |  +-- 0 start immediately\n",
    "#                      |  |  +-- the size of the array (prefers a power of two)\n",
    "#                      |  |  |     +-- the type of table format, in this case values that will serve as a lookup table indexed by the note number\n",
    "#                      |  |  |     |   that returns an octave fraction to use to build a frequency in Hertz. negative to supress normalization\n",
    "#                      |  |  |     |     \n",
    "f3_preface = np.array([3, 0, 256, -2])\n",
    "\n",
    "f3_array_ready_to_load = np.concatenate((f3_preface,f3_array)) \n",
    "# now it is ready to pass to csound. "
   ]
  },
  {
   "cell_type": "code",
   "execution_count": 222,
   "id": "f5c14040-0495-4227-8092-c9fe56fd572c",
   "metadata": {},
   "outputs": [
    {
     "name": "stdout",
     "output_type": "stream",
     "text": [
      "first 6 values [3.0, 0.0, 256.0, -2.0, 0.0, 0.010495540950040728]\n",
      "last 3 values [0.11432331422659722, 0.0, 0.12]\n"
     ]
    }
   ],
   "source": [
    "print(f'first 6 values {[fract for fract in f3_array_ready_to_load[:6]]}') # should be [3.0, 0.0, 256.0, -2.0, 0.0, 0.010495540950040728]\n",
    "print(f'last 3 values {[fract for fract in f3_array_ready_to_load[-3:]]}') # should be [0.11432331422659722, 0.11450355724642503, 0.12]"
   ]
  },
  {
   "cell_type": "code",
   "execution_count": 223,
   "id": "e800567d-480b-4821-b552-6d77ccdd3f0b",
   "metadata": {},
   "outputs": [],
   "source": [
    "# let's go back to our initial tonality diamond ratios.\n",
    "# They are not sorted, neither were the fractions we are ready to load into csound \n",
    "# we need a way to look up fraction values in the csound table f3_array_ready_to_load by their position in the csound table"
   ]
  },
  {
   "cell_type": "code",
   "execution_count": 62,
   "id": "88436d84-1061-40b2-ad11-50c56f81f398",
   "metadata": {},
   "outputs": [
    {
     "name": "stdout",
     "output_type": "stream",
     "text": [
      "first 16 values will be the notes of the first otonal scale: ratio_strings[0,:16] = array(['1', '17/16', '9/8', '19/16', '5/4', '21/16', '11/8', '23/16',\n",
      "       '3/2', '25/16', '13/8', '27/16', '7/4', '29/16', '15/8', '31/16'],\n",
      "      dtype='<U5')\n"
     ]
    }
   ],
   "source": [
    "ratio_strings = np.array([str(Fraction(ratio).limit_denominator(max_denominator = 100)) for ratio in all_ratios]).reshape(16,16)\n",
    "print(f'first 16 values will be the notes of the first otonal scale: {ratio_strings[0,:16] = }')"
   ]
  },
  {
   "cell_type": "code",
   "execution_count": 64,
   "id": "010e231f-64ab-4904-a1c3-375cafb1699d",
   "metadata": {},
   "outputs": [
    {
     "name": "stdout",
     "output_type": "stream",
     "text": [
      "the first 15 values in all_ratios [1.0, 1.0625, 1.125, 1.1875, 1.25, 1.3125, 1.375, 1.4375, 1.5, 1.5625, 1.625, 1.6875, 1.75, 1.8125, 1.875]\n",
      "first 15 values in f3_array_ready_to_load [3.0, 0.0, 256.0, -2.0, 0.0, 0.010495540950040728, 0.020391000173077486, 0.02975130161323026, 0.03863137138648348, 0.04707809073345123, 0.05513179423647566, 0.06282743472684155, 0.07019550008653874, 0.07726274277296696, 0.08405276617693107, 0.09058650025961625, 0.09688259064691249, 0.10295771941530865, 0.10882687147302222, 0.11450355724642503, 0.10950445904995929, 0.0, 0.009895459223036756, 0.019255760663189535, 0.028135830436442757]\n"
     ]
    }
   ],
   "source": [
    "print(f'the first 15 values in all_ratios {[ratio for ratio in all_ratios[:15]]}')\n",
    "print(f'first 15 values in f3_array_ready_to_load {[fract for fract in f3_array_ready_to_load[:25]]}') "
   ]
  },
  {
   "cell_type": "code",
   "execution_count": 65,
   "id": "396ff721-e3fb-4699-879e-7fd9e2534176",
   "metadata": {},
   "outputs": [
    {
     "name": "stdout",
     "output_type": "stream",
     "text": [
      "ratio_strings[0] = array(['1/1', '17/16', '9/8', '19/16', '5/4', '21/16', '11/8', '23/16',\n",
      "       '3/2', '25/16', '13/8', '27/16', '7/4', '29/16', '15/8', '31/16'],\n",
      "      dtype='<U5')\n"
     ]
    }
   ],
   "source": [
    "# fix the ratio strings that are '1' to be '1/1' like all the other ratios\n",
    "i = 0\n",
    "for ratio in ratio_strings:\n",
    "    j = 0\n",
    "    for r in ratio:\n",
    "        if ratio_strings[i,j] == '1': \n",
    "            ratio_strings[i,j] = '1/1'\n",
    "        j += 1\n",
    "    i += 1\n",
    "print(f'{ratio_strings[0] = }')"
   ]
  },
  {
   "cell_type": "code",
   "execution_count": null,
   "id": "ce9bd1e6-f92e-451d-a496-c1902721af09",
   "metadata": {},
   "outputs": [],
   "source": [
    "# build the chord structures for the different modes for the 16 keys\n",
    "# build the 16 tone scales in each of the keys in the diamond. otonal first, then utonal\n",
    "# nested dictionary keys[mode][ratio_name] \n",
    "keys = {'oton': {ratio_strings[0, 0]: np.arange(0 * 16, 1 * 16, 1),\n",
    "                 ratio_strings[1 ,0]: np.arange(1 * 16, 2 * 16, 1),\n",
    "                 ratio_strings[2 ,0]: np.arange(2 * 16, 3 * 16, 1),\n",
    "                 ratio_strings[3 ,0]: np.arange(3 * 16, 4 * 16, 1),\n",
    "                 ratio_strings[4 ,0]: np.arange(4 * 16, 5 * 16, 1),\n",
    "                 ratio_strings[5 ,0]: np.arange(5 * 16, 6 * 16, 1),\n",
    "                 ratio_strings[6 ,0]: np.arange(6 * 16, 7 * 16, 1),\n",
    "                 ratio_strings[7 ,0]: np.arange(7 * 16, 8 * 16, 1),\n",
    "                 ratio_strings[8 ,0]: np.arange(8 * 16, 9 * 16, 1),\n",
    "                 ratio_strings[9 ,0]: np.arange(9 * 16, 10 * 16, 1),\n",
    "                 ratio_strings[10, 0]: np.arange(10 * 16, 11 * 16, 1),\n",
    "                 ratio_strings[11, 0]: np.arange(11 * 16, 12 * 16, 1),\n",
    "                 ratio_strings[12, 0]: np.arange(12 * 16, 13 * 16, 1),\n",
    "                 ratio_strings[13, 0]: np.arange(13 * 16, 14 * 16, 1),\n",
    "                 ratio_strings[14, 0]: np.arange(14 * 16, 15 * 16, 1),\n",
    "                 ratio_strings[15, 0]: np.arange(15 * 16, 16 * 16, 1)\n",
    "                },\n",
    "        'uton': {ratio_strings[0, 0]: np.arange(0, 256, 16),\n",
    "                 ratio_strings[0, 1]: np.arange(1, 256, 16),\n",
    "                 ratio_strings[0, 2]: np.arange(2, 256, 16),\n",
    "                 ratio_strings[0, 3]: np.arange(3, 256, 16),\n",
    "                 ratio_strings[0, 4]: np.arange(4, 256, 16),\n",
    "                 ratio_strings[0, 5]: np.arange(5, 256, 16),\n",
    "                 ratio_strings[0, 6]: np.arange(6, 256, 16),\n",
    "                 ratio_strings[0, 7]: np.arange(7, 256, 16),\n",
    "                 ratio_strings[0, 8]: np.arange(8, 256, 16),\n",
    "                 ratio_strings[0, 9]: np.arange(9, 256, 16),\n",
    "                 ratio_strings[0, 10]: np.arange(10, 256, 16),\n",
    "                 ratio_strings[0, 11]: np.arange(11, 256, 16),\n",
    "                 ratio_strings[0, 12]: np.arange(12, 256, 16),\n",
    "                 ratio_strings[0, 13]: np.arange(13, 256, 16),\n",
    "                 ratio_strings[0, 14]: np.arange(14, 256, 16),\n",
    "                 ratio_strings[0, 15]: np.arange(15, 256, 16)                 \n",
    "                }\n",
    "                }"
   ]
  },
  {
   "cell_type": "code",
   "execution_count": 67,
   "id": "ee9754a1-e653-495a-98c6-5f7c91ff6c8d",
   "metadata": {},
   "outputs": [
    {
     "name": "stdout",
     "output_type": "stream",
     "text": [
      "scale degrees: scale_index = array([  1,  17,  33,  49,  65,  81,  97, 113, 129, 145, 161, 177, 193,\n",
      "       209, 225, 241])\n",
      "ratios from scale_degrees: ['17/16', '1/1', '17/9', '34/19', '17/10', '34/21', '17/11', '34/23', '17/12', '34/25', '17/13', '34/27', '17/14', '34/29', '17/15', '34/31']\n",
      "All the uton roots: keys[\"uton\"].keys() = dict_keys(['1/1', '17/16', '9/8', '19/16', '5/4', '21/16', '11/8', '23/16', '3/2', '25/16', '13/8', '27/16', '7/4', '29/16', '15/8', '31/16'])\n",
      "All the oton roots: keys[\"oton\"].keys() = dict_keys(['1/1', '32/17', '16/9', '32/19', '8/5', '32/21', '16/11', '32/23', '4/3', '32/25', '16/13', '32/27', '8/7', '32/29', '16/15', '32/31'])\n",
      "mode = 'oton', ratio = '1/1', keys[mode][ratio] = array([ 0,  1,  2,  3,  4,  5,  6,  7,  8,  9, 10, 11, 12, 13, 14, 15])\n",
      "mode = 'uton', ratio = '1/1', keys[mode][ratio] = array([  0,  16,  32,  48,  64,  80,  96, 112, 128, 144, 160, 176, 192,\n",
      "       208, 224, 240])\n",
      "scale degrees: scale_index = array([32, 33, 34, 35, 36, 37, 38, 39, 40, 41, 42, 43, 44, 45, 46, 47])\n",
      "ratios in scale_index: ['16/9', '17/9', '1/1', '19/18', '10/9', '7/6', '11/9', '23/18', '4/3', '25/18', '13/9', '3/2', '14/9', '29/18', '5/3', '31/18']\n",
      "all_ratio_strings[scale_index] = array(['16/9', '17/9', '1/1', '19/18', '10/9', '7/6', '11/9', '23/18',\n",
      "       '4/3', '25/18', '13/9', '3/2', '14/9', '29/18', '5/3', '31/18'],\n",
      "      dtype='<U5')\n"
     ]
    }
   ],
   "source": [
    "# with the keys() dictionary, we have a way to build 16 note sequences of indexes to note in the overtones or undertones. \n",
    "# We can find the ratios by accessing the converting those indeciis to ratio strings using the all_ratio_strings array\n",
    "all_ratio_strings = ratio_strings.reshape(256,)\n",
    "# here is an example of pulling an undertone scale sequence on the 17:16 overtone root\n",
    "scale_index = keys[\"uton\"][\"17/16\"] # 16 indeciis into the 256 member index array\n",
    "print(f'scale degrees: {scale_index = }') # show the indeciis\n",
    "print(f'ratios from scale_degrees: {[all_ratio_strings[degree] for degree in scale_index]}') # show the ratios \n",
    "print(f'All the uton roots: {keys[\"uton\"].keys() = }') # what are the roots available in the undertone series\n",
    "print(f'All the oton roots: {keys[\"oton\"].keys() = }') # what are the roots available in the overtone series\n",
    "\n",
    "for mode in keys.keys(): # 'oton', 'uton'\n",
    "    for ratio in keys[mode]:\n",
    "        print(f'{mode = }, {ratio = }, {keys[mode][ratio] = }')\n",
    "        if first_item_only: break    \n",
    "\n",
    "# check if a key is available in the mode before accessing it:\n",
    "if '16/9' in keys['oton']: \n",
    "    scale_index = keys[\"oton\"][\"16/9\"]\n",
    "    print(f'scale degrees: {scale_index = }')\n",
    "    print(f'ratios in scale_index: {[all_ratio_strings[degree] for degree in scale_index]}')\n",
    "\n",
    "print(f'{all_ratio_strings[scale_index] = }')"
   ]
  },
  {
   "cell_type": "markdown",
   "id": "397b6f7a-ee95-44f0-a495-d7332888861e",
   "metadata": {},
   "source": [
    "## Scale alternatives in the Tonality Diamond to the 31-limit\n",
    "\n",
    "It can be challenging to approach a scale with 213 distinct pitches. I divide the scale into different sets. The first of these is the mode. The 'oton' mode is for the overtone series. The 'uton' mode is for the inverse, the undertone series. It is possible to create a very strong major scale out of the 16 notes of the 'oton' mode. But there are equally interesting major scales to be found elsewhere in both the 'oton' mode and the 'uton' mode. Each has a different character. There are also several interesting minor scales in the 'oton' mode.\n",
    "\n",
    "The same is true with the 'uton' mode. There is a strong minor scale made by starting at the root of the undertone series and descending down a 3:2 from there. And there are a few interesting major scales and some odd minor scales in the 'uton' mode. \n",
    "\n",
    "A Rank is an 8 note scale derived from the 16 notes in the 'oton' or 'uton' mode. \n",
    "\n",
    "- Rank A is made up of overtones 8, 9, 10, 11, 12, 13, 14, 15/16 of each 'oton' or 16/15, 14, 13, 12, 11, 10, 9, 8 of the 'uton' mode\n",
    "- Rank B is made up of overtones 9, 10, 11, 12, 13, 14, 15, 16/16 of each 'oton' or 16/16, 15, 14, 13, 12, 11, 10, 9 of the 'uton' mode\n",
    "- Rank C is made up of overtones 17, 19, 11, 23, 25, 27, 29, 31/32 of each otonal ratio or 32/31, 29, 27, 25, 23, 21, 19, 17 of the 'uton' \n",
    "- Rank D is made up of overtones 19, 11, 23, 25, 27, 29, 31, 17/32 of each otonal ratio or 32/17, 31, 29, 27, 25, 23, 21, 19 of the 'uton'\n",
    "- Rank E through H are additional 8-note scales that each has a perfect 3:2 and a variety of third degrees. These two intervals are key to the mood of a scale.\n",
    "\n",
    "Ranks A & B are made up a tonality diamond to the 15-limit. Ranks C & D take it to the 31-limit. Ranks E through H pull from both 15 and 31-limit sources. A simple switch of ranks creates drastically different moods. "
   ]
  },
  {
   "cell_type": "markdown",
   "id": "eef89e99-1f08-4263-91f1-4f72379522b3",
   "metadata": {},
   "source": [
    "The next cell creates an array called 'scales' that simplifies the process of pulling those scale ranks out of the 31-limit diamond."
   ]
  },
  {
   "cell_type": "code",
   "execution_count": 68,
   "id": "e73ce7fd-650f-4584-a8f1-17eb114bcbba",
   "metadata": {},
   "outputs": [
    {
     "name": "stdout",
     "output_type": "stream",
     "text": [
      "{'A': {'oton': array([ 0,  2,  4,  6,  8, 10, 12, 14]),\n",
      "       'uton': array([ 8,  6,  4,  2,  0, 14, 12, 10])},\n",
      " 'B': {'oton': array([ 2,  4,  6,  8, 10, 12, 14,  0]),\n",
      "       'uton': array([14, 12, 10,  8,  6,  4,  2,  0])},\n",
      " 'C': {'oton': array([ 1,  3,  5,  7,  9, 11, 13, 15]),\n",
      "       'uton': array([13, 11,  9,  7,  5,  3,  1, 15])},\n",
      " 'D': {'oton': array([ 3,  5,  7,  9, 11, 13, 15,  1]),\n",
      "       'uton': array([15, 13, 11,  9,  7,  5,  3,  1])},\n",
      " 'E': {'oton': array([ 2,  4,  6,  8, 11, 13, 15,  0]),\n",
      "       'uton': array([ 8,  6,  4,  2,  0, 15, 13, 11])},\n",
      " 'F': {'oton': array([ 8, 10, 12, 14,  0,  2,  4,  6]),\n",
      "       'uton': array([ 0, 14, 12, 10,  8,  6,  4,  2])},\n",
      " 'G': {'oton': array([ 4,  6,  8, 10, 14, 15,  0,  2]),\n",
      "       'uton': array([14, 10,  8,  6,  4,  2,  0, 15])},\n",
      " 'H': {'oton': array([12, 14,  0,  2,  5,  7,  9, 11]),\n",
      "       'uton': array([ 5,  3,  1, 15, 12, 10,  8,  6])}}\n",
      "\n",
      "scales.keys() = dict_keys(['A', 'B', 'C', 'D', 'E', 'F', 'G', 'H'])\n"
     ]
    }
   ],
   "source": [
    "# build the 8 note scales for each of the rank A, B, C, D otonal and utonal out of the 16 note scales\n",
    "#                                                        start, end, step size\n",
    "# make this dictionary nested: rank, mode\n",
    "scales = {'A': {'oton': np.array([note % 16 for note in np.arange(0, 16, 2)]),\n",
    "                'uton': np.array([note % 16 for note in np.arange(8, -8, -2)])}, # utonal goes down, so that the scale will go up.\n",
    "          'B': {'oton': np.array([note % 16 for note in np.arange(2, 18, 2)]),\n",
    "                'uton': np.array([note % 16 for note in np.arange(14, -2, -2)])},\n",
    "          'C': {'oton': np.array([note % 16 for note in np.arange(1, 17, 2)]),\n",
    "                'uton': np.array([note % 16 for note in np.arange(13, -2, -2)])},\n",
    "          'D': {'oton': np.array([note % 16 for note in np.arange(3, 19, 2)]),\n",
    "                'uton': np.array([note % 16 for note in np.arange(15, 0, -2)])},\n",
    "          # the next 8 are additional 8 note scales that have good 3:2, and interesting thirds\n",
    "          'E': {'oton': np.array([ 2,  4,  6,  8, 11, 13, 15,  0]), # 3rd: 11:9 neutral\n",
    "                'uton': np.array([ 8,  6,  4,  2,  0, 15, 13, 11])}, # 3rd: 6:5 minor\n",
    "          'F': {'oton': np.array([ 8, 10, 12, 14,  0,  2,  4,  6]), # 3rd: 7:6 subminor\n",
    "                'uton': np.array([ 0, 14, 12, 10,  8,  6,  4,  2])}, # 3rd: 8:7 subminor\n",
    "          'G': {'oton': np.array([ 4,  6,  8, 10, 14, 15,  0,  2]), # 3rd: 6:5 minor\n",
    "                'uton': np.array([14, 10,  8,  6,  4,  2,  0, 15])}, # 3rd: 5:4 major\n",
    "          'H': {'oton': np.array([12, 14,  0,  2,  5,  7,  9, 11]), # 3rd: 8:7 sub-subminor\n",
    "                'uton': np.array([5,  3,   1, 15, 12, 10,  8,  6])} # 3rd: 21/17 neutral\n",
    "               }\n",
    "pp.pprint(scales)\n",
    "print()\n",
    "print(f'{scales.keys() = }')"
   ]
  },
  {
   "cell_type": "code",
   "execution_count": 69,
   "id": "3344fa21-61b2-41a2-b5cc-9a4c3b8e18de",
   "metadata": {},
   "outputs": [
    {
     "name": "stdout",
     "output_type": "stream",
     "text": [
      "inversions.keys() = dict_keys(['A', 'B', 'C', 'D', 'E', 'F', 'G', 'H'])\n",
      "rank = 'A'\n",
      "mode = 'oton'\n",
      "inversion: 1: inversions[rank][mode][chord_inversion] = array([ 0,  4,  8, 12])\n",
      "inversion: 2: inversions[rank][mode][chord_inversion] = array([ 4,  8, 12,  0])\n",
      "inversion: 3: inversions[rank][mode][chord_inversion] = array([ 8, 12,  0,  4])\n",
      "inversion: 4: inversions[rank][mode][chord_inversion] = array([12,  0,  4,  8])\n",
      "mode = 'uton'\n",
      "inversion: 1: inversions[rank][mode][chord_inversion] = array([12,  8,  4,  0])\n",
      "inversion: 2: inversions[rank][mode][chord_inversion] = array([ 0, 12,  8,  4])\n",
      "inversion: 3: inversions[rank][mode][chord_inversion] = array([ 4,  0, 12,  8])\n",
      "inversion: 4: inversions[rank][mode][chord_inversion] = array([ 8,  4,  0, 12])\n"
     ]
    }
   ],
   "source": [
    "# this dictionary is helpful in doing a lookup of different inversions of a chord\n",
    "# choose the notes in scale for each rank (A, B, C, D), mode (oton, uton), & inversion (1, 2, 3, 4)\n",
    "# access the four note chords by specifying inversions[rank][mode][inv]\n",
    "# where rank is in (A, B, C, D) mode is in (oton, uton), and inv is in (1, 2, 3, 4)\n",
    "# use the resulting array as the index into a keys[mode][ratio]\n",
    "\n",
    "inversions = {'A': {'oton': {1: np.array([0, 4, 8, 12]),\n",
    "                             2: np.array([4, 8, 12, 0]),\n",
    "                             3: np.array([8, 12, 0, 4]),\n",
    "                             4: np.array([12, 0, 4, 8])},\n",
    "                    'uton': {1: np.flip(np.array([0, 4, 8, 12])),\n",
    "                             2: np.flip(np.array([4, 8, 12, 0])),\n",
    "                             3: np.flip(np.array([8, 12, 0, 4])),\n",
    "                             4: np.flip(np.array([12, 0, 4, 8]))}}, \n",
    "              'B': {'oton': {1: np.array([2, 6, 10, 14]),\n",
    "                             2: np.array([6, 10, 14, 2]),\n",
    "                             3: np.array([10, 14, 2, 6]),\n",
    "                             4: np.array([14, 2, 6, 10])},\n",
    "                    'uton': {1: np.flip(np.array([2, 6, 10, 14])),\n",
    "                             2: np.flip(np.array([6, 10, 14, 2])),\n",
    "                             3: np.flip(np.array([10, 14, 2, 6])),\n",
    "                             4: np.flip(np.array([14, 2, 6, 10]))}}, \n",
    "              'C': {'oton': {1: np.array([1, 5, 9, 13]),\n",
    "                             2: np.array([5, 9, 13, 1]),\n",
    "                             3: np.array([9, 13, 1, 5]),\n",
    "                             4: np.array([13, 1, 5, 9])},\n",
    "                    'uton': {1: np.flip(np.array([2, 6, 10, 14])),\n",
    "                             2: np.flip(np.array([6, 10, 14, 2])),\n",
    "                             3: np.flip(np.array([10, 14, 2, 6])),\n",
    "                             4: np.flip(np.array([14, 2, 6, 10]))}}, \n",
    "              'D': {'oton': {1: np.array([3, 7, 11, 15]),\n",
    "                             2: np.array([7, 11, 15, 3]),\n",
    "                             3: np.array([11, 15, 3, 7]),\n",
    "                             4: np.array([15, 3, 7, 11])},\n",
    "                    'uton': {1: np.flip(np.array([3, 7, 11, 15])),\n",
    "                             2: np.flip(np.array([7, 11, 15, 3])),\n",
    "                             3: np.flip(np.array([11, 15, 3, 7])),\n",
    "                             4: np.flip(np.array([15, 3, 7, 11]))}},\n",
    "              'E': {'oton': {1: np.array([ 2,  6, 11, 15]),\n",
    "                             2: np.array([ 6, 11, 15,  2]),\n",
    "                             3: np.array([11, 15,  2,  6]),\n",
    "                             4: np.array([15,  2,  6, 11])},\n",
    "                    'uton': {1: np.array([8,  4,  0, 13]),\n",
    "                             2: np.array([4,  0, 13,  8]),\n",
    "                             3: np.array([0, 13,  8,  4]),\n",
    "                             4: np.array([8,  4,  0, 13])}},\n",
    "              'F': {'oton': {1: np.array([ 8, 12,  0,  4]),\n",
    "                             2: np.array([12, 0,  4, 8]),\n",
    "                             3: np.array([ 0, 4, 8, 12]),\n",
    "                             4: np.array([ 4, 8, 12,  0])},\n",
    "                    'uton': {1: np.array([ 0, 12,  8,  2]),\n",
    "                             2: np.array([12,  8,  2,  0]),\n",
    "                             3: np.array([ 8,  2,  0, 12]),\n",
    "                             4: np.array([ 2,  0, 12,  8])}},\n",
    "              'G': {'oton': {1: np.array([ 4,  8, 14,  0]),\n",
    "                             2: np.array([ 8, 14,  0,  4]),\n",
    "                             3: np.array([14,  0,  4,  8]),\n",
    "                             4: np.array([ 0,  4,  8, 14])},\n",
    "                    'uton': {1: np.array([14,  8,  4,  0]),\n",
    "                             2: np.array([ 8,  4,  0, 14]),\n",
    "                             3: np.array([ 4,  0, 14,  8]),\n",
    "                             4: np.array([ 0, 14,  8,  4])}},\n",
    "              'H': {'oton': {1: np.array([12,  0,  5,  9]),\n",
    "                             2: np.array([ 0,  5,  9, 12]),\n",
    "                             3: np.array([ 5,  9, 12,  0]),\n",
    "                             4: np.array([ 9, 12,  0,  5])},\n",
    "                    'uton': {1: np.array([ 5,  1, 12,  8]),\n",
    "                             2: np.array([ 1, 12,  8,  5]),\n",
    "                             3: np.array([12,  8,  5,  1]),\n",
    "                             4: np.array([ 8,  5,  1, 12])}}}\n",
    "             \n",
    "\n",
    "print(f'{inversions.keys() = }')\n",
    "for rank in inversions.keys():\n",
    "    print(f'{rank = }')\n",
    "    # print(f'{rank = }: {[inversions[rank][mode] for mode in inversions[rank].keys()]}')\n",
    "    for mode in inversions[rank]:\n",
    "        print(f'{mode = }')\n",
    "        for chord_inversion in inversions[rank][mode]:\n",
    "            print(f'inversion: {chord_inversion}: {inversions[rank][mode][chord_inversion] = }')\n",
    "    if first_item_only: break"
   ]
  },
  {
   "cell_type": "code",
   "execution_count": 70,
   "id": "416903f1-4466-417a-9288-495cff7fb685",
   "metadata": {},
   "outputs": [
    {
     "name": "stdout",
     "output_type": "stream",
     "text": [
      "{'fpn': {'full': 'finger piano', 'start': 0, 'number': 1},\n",
      " 'bnp': {'full': 'bass finger piano', 'start': 0, 'number': 2},\n",
      " 'bdl': {'full': 'bass balloon drum', 'start': 0, 'number': 3},\n",
      " 'bdm': {'full': 'medium balloon drum', 'start': 0, 'number': 4},\n",
      " 'bdh': {'full': 'high balloon drum', 'start': 0, 'number': 5},\n",
      " 'bfl': {'full': 'bass flute', 'start': 0, 'number': 6},\n",
      " 'obo': {'full': 'oboe', 'start': 0, 'number': 7},\n",
      " 'cla': {'full': 'clarinet', 'start': 0, 'number': 8},\n",
      " 'bss': {'full': 'bassoon', 'start': 0, 'number': 9},\n",
      " 'frn': {'full': 'french horn', 'start': 0, 'number': 10}}\n",
      "voice_time[\"fpn\"][\"full\"] = 'finger piano'\n",
      "voice_time[\"fpn\"][\"start\"] = 0\n",
      "voice_time[\"fpn\"][\"number\"] = 1\n"
     ]
    }
   ],
   "source": [
    "# Is there anything else I need to track about the voice? If not, this could be simplified\n",
    "voice_time = {'fpn': {'full': 'finger piano', 'start': 0, 'number': 1},\n",
    " 'bnp': {'full': 'bass finger piano', 'start': 0, 'number': 2},\n",
    " 'bdl': {'full': 'bass balloon drum', 'start': 0, 'number': 3},\n",
    " 'bdm': {'full': 'medium balloon drum', 'start': 0, 'number': 4},\n",
    " 'bdh': {'full': 'high balloon drum', 'start': 0, 'number': 5},\n",
    " 'bfl': {'full': 'bass flute', 'start': 0, 'number': 6},\n",
    " 'obo': {'full': 'oboe', 'start': 0, 'number': 7},\n",
    " 'cla': {'full': 'clarinet', 'start': 0, 'number': 8},\n",
    " 'bss': {'full': 'bassoon', 'start': 0, 'number': 9},\n",
    " 'frn': {'full': 'french horn', 'start': 0, 'number': 10}}\n",
    "\n",
    "pp.pprint(voice_time)\n",
    "print(f'{voice_time[\"fpn\"][\"full\"] = }')\n",
    "print(f'{voice_time[\"fpn\"][\"start\"] = }')\n",
    "print(f'{voice_time[\"fpn\"][\"number\"] = }')"
   ]
  },
  {
   "cell_type": "markdown",
   "id": "bfa1796b-56bf-438c-8dcd-a9e8f6e587cc",
   "metadata": {},
   "source": [
    "## Create the helper functions to assemble notes and chords\n",
    "Each of these functions provide some capability that simplifies the creation of music to some degree. At some point, once I've had some experience with them, I'll move them in to a python library to reduce the size of the notebook."
   ]
  },
  {
   "cell_type": "code",
   "execution_count": 71,
   "id": "71269629-0162-49af-81b6-0e0c74a19d13",
   "metadata": {},
   "outputs": [],
   "source": [
    "pp.pprint(voice_time)\n",
    "print(f'{voice_time[\"fpn\"][\"full\"] = }')\n",
    "print(f'{voice_time[\"fpn\"][\"start\"] = }')\n",
    "print(f'{voice_time[\"fpn\"][\"number\"] = }')"
   ]
  },
  {
   "cell_type": "code",
   "execution_count": 72,
   "id": "02ea3cba-2927-4f05-a40e-260a04d87fce",
   "metadata": {},
   "outputs": [],
   "source": [
    "def build_scales(mode, ratio, rank):\n",
    "    # print(f'{mode = }, {ratio = }, {rank = }')\n",
    "    # if rank in (['A', 'B', 'C', 'D']):\n",
    "    if ratio in keys[mode]: \n",
    "        scale = np.array([keys[mode][ratio][note] for note in (scales[rank][mode])])\n",
    "    else: \n",
    "        print(f'in build_scales. Could not find {ratio = } with {mode} in {keys[mode] = } with {rank = }')\n",
    "        scale = None\n",
    "    return scale"
   ]
  },
  {
   "cell_type": "code",
   "execution_count": 73,
   "id": "f92e4951-d749-45da-9510-0e278abec769",
   "metadata": {},
   "outputs": [],
   "source": [
    "def ratio_string_to_float(ratio):\n",
    "    n, d = ratio.split('/')\n",
    "    return float(float(n) / float(d))"
   ]
  },
  {
   "cell_type": "code",
   "execution_count": 221,
   "id": "255a3a92-3681-440f-be3f-4e1eea96a053",
   "metadata": {},
   "outputs": [
    {
     "name": "stdout",
     "output_type": "stream",
     "text": [
      "distance from 3/2 to 9/8 is 3/2\n",
      "distance from 32/21 to 8/7 is 3/2\n",
      "distance from 1/1 to 15/8 is 1.875 = 15/16\n",
      "distance from 15/8 to 1/1 is 0.5333333333333333 = 16/15\n",
      "distance from 1/1 to 15/8 is 1.875 = 15/8\n",
      "distance from 15/8 to 1/1 is 0.5333333333333333 = 8/15\n"
     ]
    }
   ],
   "source": [
    "# note that this function tries to find the closest end note to the start note. It might be up or down, it might cross an octave boundary.\n",
    "# for example, from 15:8 to 1:1 would ordinarily return 15:8 distance between the two notes, but the closest one is from 15:8 to 2:1, moving up an octave, multiplying the second ratio by 2\n",
    "# to accomodate that, the function tests the size of the ratio returned from the normal calculation, and multiplies either the start or the end note by 2 before recalculating the ratio.\n",
    "# this can cause problems if you are looking for that large leap. You can override the default behavior by setting find_closest = False\n",
    "def ratio_distance(start, end, find_closest = True):\n",
    "    start_ratio = ratio_string_to_float(start)\n",
    "    end_ratio = ratio_string_to_float(end)\n",
    "    ratio = end_ratio / start_ratio \n",
    "    # print(f'calculated ratio is {ratio = }')\n",
    "    if not find_closest: return (ratio)\n",
    "    if .76 < ratio <= 1.6:\n",
    "        return ratio\n",
    "        # print(f'ratio in proper range {ratio = }')\n",
    "    else:\n",
    "        # print(f'out of range: {ratio = }')\n",
    "        if ratio >= 1.5: \n",
    "            ratio = end_ratio / (start_ratio * 2)\n",
    "            # print(f'new {ratio = }')\n",
    "        elif ratio <= .75: \n",
    "            ratio = end_ratio * 2 / start_ratio\n",
    "            # print(f'new {ratio = }')\n",
    "    return (ratio)\n",
    "\n",
    "print(f'distance from {ratio_strings[0,8]} to {ratio_strings[0,2]} is {Fraction(ratio_distance(ratio_strings[0,8], ratio_strings[0,2])).limit_denominator(100)}')\n",
    "print(f'distance from {ratio_strings[5,0]} to {ratio_strings[12,0]} is {Fraction(ratio_distance(ratio_strings[5,0], ratio_strings[12,0])).limit_denominator(100)}')\n",
    "ratio1 = all_ratio_strings[0]\n",
    "ratio2 = all_ratio_strings[14]\n",
    "# default behavior\n",
    "print(f'distance from {ratio1} to {ratio2} is {ratio_distance(ratio1, ratio2, find_closest = False)} = {Fraction(ratio_distance(ratio1, ratio2)).limit_denominator(100)}')\n",
    "print(f'distance from {ratio2} to {ratio1} is {ratio_distance(ratio2, ratio1, find_closest = False)} = {Fraction(ratio_distance(ratio2, ratio1)).limit_denominator(100)}')\n",
    "# find_closest = False - just return the caluculated ratio without looking for a closer note by adjusting octaves of either note\n",
    "print(f'distance from {ratio1} to {ratio2} is {ratio_distance(ratio1, ratio2, find_closest = False)} = {Fraction(ratio_distance(ratio1, ratio2, find_closest = False)).limit_denominator(100)}')\n",
    "print(f'distance from {ratio2} to {ratio1} is {ratio_distance(ratio2, ratio1, find_closest = False)} = {Fraction(ratio_distance(ratio2, ratio1, find_closest = False)).limit_denominator(100)}')"
   ]
  },
  {
   "cell_type": "code",
   "execution_count": 75,
   "id": "211a853b-cc37-43f7-9c04-57934a598681",
   "metadata": {},
   "outputs": [],
   "source": [
    "# for each of the keys, build the chords from the scales created above.\n",
    "# key is a string index into the keys dictionary: e.g. mode, ratio\n",
    "# inversion is the string index into the inversions dictionary e.g. 'A_oton_1'\n",
    "# the inversion includes the rank is which of the four tetrachords in each scale, A, B, C, or D\n",
    "# And it specifies which note is on top\n",
    "\n",
    "def build_chords(mode, ratio, rank, inversion):\n",
    "    if (ratio in keys[mode]) and (inversion in inversions[rank][mode]): \n",
    "        chord = np.array([keys[mode][ratio][note] for note in (inversions[rank][mode][inversion])]) \n",
    "    else:\n",
    "        print(f'in build_chords. Could not find {ratio = } with {mode} in {keys[mode] = } with {rank = }')\n",
    "        chord = None\n",
    "    return chord"
   ]
  },
  {
   "cell_type": "code",
   "execution_count": 76,
   "id": "b1cc6d3a-d932-44bb-85d5-636f7e39a50f",
   "metadata": {},
   "outputs": [],
   "source": [
    "# this function transform a note sequence dictionary into an array that can be passed to csound\n",
    "# as I remember it also translates the duration and hold values into start time and duration \n",
    "def array_from_dict(time_step_dict):\n",
    "    \n",
    "    time_step_array = np.empty((len(time_step_dict), len(time_step_dict[\"instrument\"])), dtype = float) # I may need all these to ge integer, but then create a t0 600 make it 10x faster\n",
    "    # make sure you have the same number of values in each dictionary entry\n",
    "    assert all([len(time_step_dict[time_step]) == len(time_step_dict[\"instrument\"]) for time_step in time_step_dict.keys()]),\\\n",
    "        \"not all items are same quantity\"\n",
    "    \n",
    "    inx = 0\n",
    "    for column in time_step_dict:\n",
    "        time_step_array[inx] = time_step_dict[column]\n",
    "        inx += 1\n",
    "        \n",
    "    \n",
    "    return (time_step_array.T)"
   ]
  },
  {
   "cell_type": "code",
   "execution_count": 77,
   "id": "3384166a-0501-49e2-bab3-90fa65b3f543",
   "metadata": {},
   "outputs": [],
   "source": [
    "# This function takes a table number, glissando type, and ratio and returns an array that can be passed to csound to bend a note\n",
    "def make_ftable_glissando(t_num, gliss_type, ratio):\n",
    "    # to load a function table, we have to give csound some information about it in a preface:\n",
    "    #                          +-- the function table number we are creating (passed to function)\n",
    "    #                          |      +-- 0 start moving immediately\n",
    "    #                          |      |  +-- the size of the array (prefers a power of two)\n",
    "    #                          |      |  |    +-- the type of table format, in this case values that describe linear movement, negative means do not normalize\n",
    "    #                          |      |  |    |     \n",
    "    if gliss_type == 'slide':# |      |  |    |\n",
    "        fn_preface = np.array([t_num, 0, 256, -7])\n",
    "        # ;                  +-- start at 1:1, which is the current note\n",
    "        # ;                  |  +-- take this amount of time at 1:1 16 out of 256 is 1/16 of the duration of the note\n",
    "        # ;                  |  |   +-- stay at 1:1\n",
    "        # ;                  |  |   |  +-- take this long to reach the next \n",
    "        # ;                  |  |   |  |    +-- target ratio, you want to go up or down this amount\n",
    "        # ;                  |  |   |  |    |      +-- stay at 2nd note this long\n",
    "        # ;                  |  |   |  |    |      |    + \n",
    "        #                    |  |   |  |    |      |    |\n",
    "        fn_array = np.array([1, 16, 1, 128, ratio, 112, ratio])\n",
    "    elif gliss_type == 'trill_2_step':\n",
    "        fn_preface = np.array([t_num, 0, 256, -7])\n",
    "        fn_array = np.array([1, 32, 1, 0, ratio, 32, ratio, 0, 1, 32, 1, 0, ratio, 160, ratio])\n",
    "    elif gliss_type == 'trill_8_step':\n",
    "        fn_preface = np.array([t_num, 0, 256, -7])\n",
    "        fn_array = np.array([1, 16, 1, 0, ratio, 16, ratio, 0, 1, 16, 1, 0, ratio, 16, ratio, 0, 1, 16, 1, 0, ratio, 16, ratio, 0, 1, 16, 1, 0, ratio, 16, ratio, \n",
    "                             0, 1, 16, 1, 0, ratio, 16, ratio, 0, 1, 16, 1, 0, ratio, 16, ratio, 0, 1, 16, 1, 0, ratio, 16, ratio, 0, 1, 16, 1, 0, ratio, 16, ratio])\n",
    "    else: print(f'invalid gliss type: {gliss_type}')\n",
    "    fn_array_ready_to_load = np.concatenate((fn_preface,fn_array)) \n",
    "    return fn_array_ready_to_load"
   ]
  },
  {
   "cell_type": "code",
   "execution_count": 78,
   "id": "f1eb00c2-7716-45ac-b936-adbe117a6a26",
   "metadata": {},
   "outputs": [],
   "source": [
    "# take a scale as indexes and return the ratios as strings\n",
    "def show_scale_ratios(scale):\n",
    "    for note in scale:\n",
    "        return(all_ratio_strings[scale])"
   ]
  },
  {
   "cell_type": "code",
   "execution_count": 79,
   "id": "4bbe5c6d-ce84-45c9-b100-12083182722f",
   "metadata": {},
   "outputs": [],
   "source": [
    "def start_logger(fname = LOGNAME):\n",
    "    if os.path.exists(LOGNAME):\n",
    "            os.remove(LOGNAME) # make sure the log starts over with a fresh log file. Next line starts the logger.\n",
    "    logger = logging.getLogger()\n",
    "    fhandler = logging.FileHandler(filename=fname, mode='w')\n",
    "    formatter = logging.Formatter('%(asctime)s - %(name)s - %(levelname)s - %(message)s')\n",
    "    fhandler.setFormatter(formatter)\n",
    "    logger.addHandler(fhandler)\n",
    "    logger.setLevel(logging.DEBUG)"
   ]
  },
  {
   "cell_type": "code",
   "execution_count": 80,
   "id": "823cb9a3-6858-4966-bcaa-e42230d5f59a",
   "metadata": {},
   "outputs": [],
   "source": [
    "def flushMessages(cs, delay=0):\n",
    "    s = \"\"\n",
    "    if delay > 0:\n",
    "        time.sleep(delay)\n",
    "    for i in range(cs.messageCnt()):\n",
    "        s += cs.firstMessage()\n",
    "        cs.popFirstMessage()\n",
    "    return s\n",
    "\n",
    "def printMessages(cs, delay=0):\n",
    "    s = flushMessages(cs, delay)\n",
    "    this_many = 0\n",
    "    if len(s)>0:\n",
    "        logging.info(s)"
   ]
  },
  {
   "cell_type": "code",
   "execution_count": 81,
   "id": "2e37b7d5-7744-48ce-a73e-34754c07234c",
   "metadata": {},
   "outputs": [],
   "source": [
    "# load the orchestra .csd file in to a long string that can be passed to csound\n",
    "def load_csd(csd_file, strip_f0 = False):\n",
    "    csd_content = \"\"\n",
    "    lines = 0\n",
    "    empty = False\n",
    "    with open(csd_file,'r') as csd:\n",
    "        while not empty:\n",
    "            skip = False\n",
    "            read_str = csd.readline()\n",
    "            empty = not read_str\n",
    "            lines += 1\n",
    "            if (read_str.startswith('f0') or read_str.startswith('</CsScore' or read_str.startswith('</CsoundS'))) and strip_f0:\n",
    "                skip = True\n",
    "            if read_str.startswith('i') or read_str.startswith('t'):\n",
    "                skip = True\n",
    "                \n",
    "            if not skip: csd_content += read_str\n",
    "    csd.close()        \n",
    "    return(csd_content, lines)\n"
   ]
  },
  {
   "cell_type": "code",
   "execution_count": 82,
   "id": "1a149370-324a-4cf6-bf16-61dd7d4114ff",
   "metadata": {},
   "outputs": [],
   "source": [
    "# start up an instance of csound so that you can pass commands to the started orchestra\n",
    "def load_csound(csd_content):\n",
    "    cs = ctcsound.Csound()    # create an instance of Csound\n",
    "    cs.createMessageBuffer(0)    \n",
    "    cs.setOption('-odac')\n",
    "    cs.setOption(\"-G\")  # Postscript output\n",
    "    cs.setOption(\"-W\")  # create a WAV format output soundfile\n",
    "    printMessages(cs)\n",
    "    cs.compileCsdText(csd_content)       # Compile Orchestra from String - already read in from a file \n",
    "    printMessages(cs)\n",
    "    cs.start()             # When compiling from strings, this call is necessary before doing any performing\n",
    "    flushMessages(cs)\n",
    "\n",
    "    pt = ctcsound.CsoundPerformanceThread(cs.csound()) # Create a new CsoundPerformanceThread, passing in the Csound object\n",
    "    pt.play()              # starts the thread, which is now running separately from the main thread. This \n",
    "                    # call is asynchronous and will immediately return back here to continue code\n",
    "                    # execution.\n",
    "    return (cs, pt)\n"
   ]
  },
  {
   "cell_type": "code",
   "execution_count": 83,
   "id": "12e05716-7c37-43f6-8d87-f17a42f3cc7c",
   "metadata": {
    "tags": []
   },
   "outputs": [],
   "source": [
    "# convert the durations into start_time[\"flute\"] for when the note begins to play based on the sum of the prior durations.\n",
    "def fix_start_duration_values(time_step_array, short_name):\n",
    "    current_time = voice_time[short_name][\"start_time\"]\n",
    "    temp_array = copy.deepcopy(time_step_array) # this is necessary because I mess with the start column in the time_step_array \n",
    "    inx = 0\n",
    "    for row in temp_array:\n",
    "        voice_time[short_name][\"start_time\"] += current_time\n",
    "        current_time = row[1] # the 'start' column\n",
    "        temp_array[inx,1] = voice_time[short_name][\"start_time\"]\n",
    "        inx += 1\n",
    "    return (temp_array)"
   ]
  },
  {
   "cell_type": "code",
   "execution_count": 84,
   "id": "573cedb9-7517-4bc6-b64d-92f4ef587dba",
   "metadata": {},
   "outputs": [],
   "source": [
    "# send in a starting table number, and two arrays of note indeciiss, and it will return an ftable that can be passed to csound with a set of slides for each note to reach the second set of notes\n",
    "# for example, start_table = 800, chord_1 = np.array([36, 40, 44, 32]), chord_2 = np.array([34, 38, 42, 46]), slide='slide'\n",
    "# will return four slide arrays to pass to csound making ftables 800, 801, 802, & 803\n",
    "def build_slides(start_table, chord_1, chord_2, gliss_type = 'slide'):\n",
    "    if gliss_type in (['slide', 'trill_2_step', 'trill_8_step']):\n",
    "        gliss_f_table = np.array([make_ftable_glissando(start_table + i, gliss_type, ratio_distance(all_ratio_strings[a],all_ratio_strings[b])) for i, (a, b) in enumerate(zip(chord_1, chord_2))])\n",
    "        \n",
    "    else: \n",
    "        print(f'invalid gliss type: {gliss_type = }')\n",
    "        gliss_f_table = 1.0\n",
    "    return gliss_f_table"
   ]
  },
  {
   "cell_type": "code",
   "execution_count": 227,
   "id": "f985e47c-b4dc-424c-95b4-8bb55c3d1ba0",
   "metadata": {},
   "outputs": [],
   "source": [
    "# this is a function call to build an octave boost mask that can be applied to keep scales always moving up.\\n\",\n",
    "# scale is an array of (note,) \n",
    "# return a mask that indicates by a 1 that the note should be increased an octave, or a zero that it should not\\n\",\n",
    "def build_scale_mask(scale):\n",
    "    boost_octave = 1\n",
    "    no_boost = 0\n",
    "    mask = np.zeros(scale.shape,dtype=int) \n",
    "    prev_note = ratio_string_to_float(all_ratio_strings[scale[0]]) # this assumes shape in (note,) dangerous\n",
    "    n = 0\n",
    "    for note in scale:\n",
    "        note_ratio = ratio_string_to_float(all_ratio_strings[note])\n",
    "        if note_ratio < prev_note:\n",
    "            mask[n] = boost_octave\n",
    "        else: mask[n] = no_boost\n",
    "        n += 1\n",
    "    return (mask)"
   ]
  },
  {
   "cell_type": "markdown",
   "id": "4fa18a60-3018-40a3-9df1-bf8a0030c688",
   "metadata": {},
   "source": [
    "## Explore the Dictionaries and Functions we have created\n",
    "The next cells are optional to show what we have created so far. It shows how the dictionaries that describe scales can be used to generate sequences of notes. The cells produce examples of the available scales and chords. To see all the possible combinations, set variable first_item_only to False. To limit the output, set it to True."
   ]
  },
  {
   "cell_type": "code",
   "execution_count": 85,
   "id": "a956aca7-eabd-4e59-b65d-e01a9aabcc10",
   "metadata": {},
   "outputs": [
    {
     "name": "stdout",
     "output_type": "stream",
     "text": [
      "ratio_string_to_float(\"5/4\") = 1.25\n",
      "ratio_string_to_float(\"21/17\") = 1.2352941176470589\n",
      "ratio_string_to_float(\"11/9\") = 1.2222222222222223\n",
      "ratio_string_to_float(\"6/5\") = 1.2\n",
      "ratio_string_to_float(\"7/6\") = 1.1666666666666667\n",
      "ratio_string_to_float(\"8/7\") = 1.1428571428571428\n"
     ]
    }
   ],
   "source": [
    "# List the thirds in ranks E, F, G, H\n",
    "print(f'{ratio_string_to_float(\"5/4\") = }')\n",
    "print(f'{ratio_string_to_float(\"21/17\") = }')\n",
    "print(f'{ratio_string_to_float(\"11/9\") = }')\n",
    "print(f'{ratio_string_to_float(\"6/5\") = }')\n",
    "print(f'{ratio_string_to_float(\"7/6\") = }')\n",
    "print(f'{ratio_string_to_float(\"8/7\") = }')"
   ]
  },
  {
   "cell_type": "code",
   "execution_count": 86,
   "id": "4ad04874-fad8-49d5-8750-6e8bb9b5e55e",
   "metadata": {},
   "outputs": [
    {
     "name": "stdout",
     "output_type": "stream",
     "text": [
      "A, oton, 1/1, ratios in scale_index: ['1/1', '9/8', '5/4', '11/8', '3/2', '13/8', '7/4', '15/8'] floating point ratios in scale_index: [1.0, 1.12, 1.25, 1.38, 1.5, 1.62, 1.75, 1.88] mask: [0 0 0 0 0 0 0 0]\n",
      "A, uton, 1/1, ratios in my_scale: ['4/3', '16/11', '8/5', '16/9', '1/1', '16/15', '8/7', '16/13'] floating point ratios in my_scale: [1.33, 1.45, 1.6, 1.78, 1.0, 1.07, 1.14, 1.23] mask: [0 0 0 0 1 1 1 1]\n",
      "B, oton, 1/1, ratios in scale_index: ['9/8', '5/4', '11/8', '3/2', '13/8', '7/4', '15/8', '1/1'] floating point ratios in scale_index: [1.12, 1.25, 1.38, 1.5, 1.62, 1.75, 1.88, 1.0] mask: [0 0 0 0 0 0 0 1]\n",
      "B, uton, 1/1, ratios in my_scale: ['16/15', '8/7', '16/13', '4/3', '16/11', '8/5', '16/9', '1/1'] floating point ratios in my_scale: [1.07, 1.14, 1.23, 1.33, 1.45, 1.6, 1.78, 1.0] mask: [0 0 0 0 0 0 0 1]\n",
      "C, oton, 1/1, ratios in scale_index: ['17/16', '19/16', '21/16', '23/16', '25/16', '27/16', '29/16', '31/16'] floating point ratios in scale_index: [1.06, 1.19, 1.31, 1.44, 1.56, 1.69, 1.81, 1.94] mask: [0 0 0 0 0 0 0 0]\n",
      "C, uton, 1/1, ratios in my_scale: ['32/29', '32/27', '32/25', '32/23', '32/21', '32/19', '32/17', '32/31'] floating point ratios in my_scale: [1.1, 1.19, 1.28, 1.39, 1.52, 1.68, 1.88, 1.03] mask: [0 0 0 0 0 0 0 1]\n",
      "D, oton, 1/1, ratios in scale_index: ['19/16', '21/16', '23/16', '25/16', '27/16', '29/16', '31/16', '17/16'] floating point ratios in scale_index: [1.19, 1.31, 1.44, 1.56, 1.69, 1.81, 1.94, 1.06] mask: [0 0 0 0 0 0 0 1]\n",
      "D, uton, 1/1, ratios in my_scale: ['32/31', '32/29', '32/27', '32/25', '32/23', '32/21', '32/19', '32/17'] floating point ratios in my_scale: [1.03, 1.1, 1.19, 1.28, 1.39, 1.52, 1.68, 1.88] mask: [0 0 0 0 0 0 0 0]\n",
      "E, oton, 1/1, ratios in scale_index: ['9/8', '5/4', '11/8', '3/2', '27/16', '29/16', '31/16', '1/1'] floating point ratios in scale_index: [1.12, 1.25, 1.38, 1.5, 1.69, 1.81, 1.94, 1.0] mask: [0 0 0 0 0 0 0 1]\n",
      "E, uton, 1/1, ratios in my_scale: ['4/3', '16/11', '8/5', '16/9', '1/1', '32/31', '32/29', '32/27'] floating point ratios in my_scale: [1.33, 1.45, 1.6, 1.78, 1.0, 1.03, 1.1, 1.19] mask: [0 0 0 0 1 1 1 1]\n",
      "F, oton, 1/1, ratios in scale_index: ['3/2', '13/8', '7/4', '15/8', '1/1', '9/8', '5/4', '11/8'] floating point ratios in scale_index: [1.5, 1.62, 1.75, 1.88, 1.0, 1.12, 1.25, 1.38] mask: [0 0 0 0 1 1 1 1]\n",
      "F, uton, 1/1, ratios in my_scale: ['1/1', '16/15', '8/7', '16/13', '4/3', '16/11', '8/5', '16/9'] floating point ratios in my_scale: [1.0, 1.07, 1.14, 1.23, 1.33, 1.45, 1.6, 1.78] mask: [0 0 0 0 0 0 0 0]\n",
      "G, oton, 1/1, ratios in scale_index: ['5/4', '11/8', '3/2', '13/8', '15/8', '31/16', '1/1', '9/8'] floating point ratios in scale_index: [1.25, 1.38, 1.5, 1.62, 1.88, 1.94, 1.0, 1.12] mask: [0 0 0 0 0 0 1 1]\n",
      "G, uton, 1/1, ratios in my_scale: ['16/15', '16/13', '4/3', '16/11', '8/5', '16/9', '1/1', '32/31'] floating point ratios in my_scale: [1.07, 1.23, 1.33, 1.45, 1.6, 1.78, 1.0, 1.03] mask: [0 0 0 0 0 0 1 1]\n",
      "H, oton, 1/1, ratios in scale_index: ['7/4', '15/8', '1/1', '9/8', '21/16', '23/16', '25/16', '27/16'] floating point ratios in scale_index: [1.75, 1.88, 1.0, 1.12, 1.31, 1.44, 1.56, 1.69] mask: [0 0 1 1 1 1 1 1]\n",
      "H, uton, 1/1, ratios in my_scale: ['32/21', '32/19', '32/17', '32/31', '8/7', '16/13', '4/3', '16/11'] floating point ratios in my_scale: [1.52, 1.68, 1.88, 1.03, 1.14, 1.23, 1.33, 1.45] mask: [0 0 0 1 1 1 1 1]\n"
     ]
    }
   ],
   "source": [
    "# Here is what some scales looks like. Set first_item_only to False to show them all\n",
    "# It consists of indeciis into the f3 function table, from which csound returns the octave fraction and then the Hertz of the note.\n",
    "# this cell demonstrates how to calculate a mask that can be applied to a scale to ensure it always goes up regardless of the octave\n",
    "\n",
    "for rank in scales.keys(): # A, B, C, D, E, F, G, H\n",
    "    mode = 'oton'\n",
    "    for root in ratio_strings[:,0]:\n",
    "        scale_index = build_scales(mode, root, rank)\n",
    "        print(f'{rank}, {mode}, {root}, '\n",
    "            f'ratios in scale_index: {[all_ratio_strings[step] for step in scale_index]} '      \n",
    "            f'floating point ratios in scale_index: {[round(ratio_string_to_float(all_ratio_strings[step]),2) for step in scale_index]} '\n",
    "            f'mask: {build_scale_mask(scale_index)}')                      \n",
    "        if first_item_only: break\n",
    "    mode = 'uton'\n",
    "    for root in ratio_strings[0,:]:     \n",
    "        scale_index = build_scales(mode, root, rank) # \n",
    "        print(f'{rank}, {mode}, {root}, '\n",
    "            f'ratios in my_scale: {[all_ratio_strings[step] for step in scale_index]} '      \n",
    "            f'floating point ratios in my_scale: {[round(ratio_string_to_float(all_ratio_strings[step]),2) for step in scale_index]} '\n",
    "            f'mask: {build_scale_mask(scale_index)}')    \n",
    "        if first_item_only: break"
   ]
  },
  {
   "cell_type": "code",
   "execution_count": 87,
   "id": "f2771f6a-d0d8-4f94-b4b6-1f41f02643cf",
   "metadata": {},
   "outputs": [
    {
     "name": "stdout",
     "output_type": "stream",
     "text": [
      "[128  64   0 208]\n",
      "['4/3', '8/5', '1/1', '32/29']\n",
      "[128  64   0 208]\n",
      "['8/5', '1/1', '32/29', '4/3']\n",
      "[128  64   0 208]\n",
      "['1/1', '32/29', '4/3', '8/5']\n",
      "[128  64   0 208]\n",
      "['4/3', '8/5', '1/1', '32/29']\n"
     ]
    }
   ],
   "source": [
    "# print(f'{[build_chords(\"oton\", \"16/9\",\"A\", chord_inversion) for chord_inversion in inversions[\"A\"][\"oton\"]]}')\n",
    "# the resulting notes are the scale degree in the 256 notes in the tonality diamond and can be sent to csound to create that note or chord\n",
    "# or if you just want to know the ratios, use the results to index the ratio_strings array.\n",
    "# inspect an interesting chord in different inversions\n",
    "for inv in inversions[\"E\"][\"uton\"]:\n",
    "    print(f'{build_chords(\"uton\", \"1/1\",\"E\", chord_inversion)}')\n",
    "    print(f'{[all_ratio_strings[note] for note in build_chords(\"uton\", \"1/1\",\"E\", inv)]}')"
   ]
  },
  {
   "cell_type": "code",
   "execution_count": 88,
   "id": "e61fa54b-7b3c-410b-982e-8dbc6c5cac0a",
   "metadata": {},
   "outputs": [
    {
     "name": "stdout",
     "output_type": "stream",
     "text": [
      "[('rank:', 'A', 'indeciis: ', array([128,  96,  64,  32,   0, 224, 192, 160]), 'ratios: ', array(['4/3', '16/11', '8/5', '16/9', '1/1', '16/15', '8/7', '16/13'],\n",
      "      dtype='<U5')), ('rank:', 'B', 'indeciis: ', array([224, 192, 160, 128,  96,  64,  32,   0]), 'ratios: ', array(['16/15', '8/7', '16/13', '4/3', '16/11', '8/5', '16/9', '1/1'],\n",
      "      dtype='<U5')), ('rank:', 'C', 'indeciis: ', array([208, 176, 144, 112,  80,  48,  16, 240]), 'ratios: ', array(['32/29', '32/27', '32/25', '32/23', '32/21', '32/19', '32/17',\n",
      "       '32/31'], dtype='<U5')), ('rank:', 'D', 'indeciis: ', array([240, 208, 176, 144, 112,  80,  48,  16]), 'ratios: ', array(['32/31', '32/29', '32/27', '32/25', '32/23', '32/21', '32/19',\n",
      "       '32/17'], dtype='<U5')), ('rank:', 'E', 'indeciis: ', array([128,  96,  64,  32,   0, 240, 208, 176]), 'ratios: ', array(['4/3', '16/11', '8/5', '16/9', '1/1', '32/31', '32/29', '32/27'],\n",
      "      dtype='<U5')), ('rank:', 'F', 'indeciis: ', array([  0, 224, 192, 160, 128,  96,  64,  32]), 'ratios: ', array(['1/1', '16/15', '8/7', '16/13', '4/3', '16/11', '8/5', '16/9'],\n",
      "      dtype='<U5')), ('rank:', 'G', 'indeciis: ', array([224, 160, 128,  96,  64,  32,   0, 240]), 'ratios: ', array(['16/15', '16/13', '4/3', '16/11', '8/5', '16/9', '1/1', '32/31'],\n",
      "      dtype='<U5')), ('rank:', 'H', 'indeciis: ', array([ 80,  48,  16, 240, 192, 160, 128,  96]), 'ratios: ', array(['32/21', '32/19', '32/17', '32/31', '8/7', '16/13', '4/3', '16/11'],\n",
      "      dtype='<U5'))]\n"
     ]
    }
   ],
   "source": [
    "# show me all the ranks of the otonal 8 note scales with a root of 1:1\n",
    "ratio = '1/1'\n",
    "mode = 'uton'\n",
    "print(f'{[(\"rank:\", rank, \"indeciis: \", build_scales(mode, ratio, rank), \"ratios: \", show_scale_ratios(build_scales(mode, ratio, rank))) for rank in scales.keys()]}')"
   ]
  },
  {
   "cell_type": "code",
   "execution_count": 89,
   "id": "456887f4-5ada-432f-b077-99ca74b72bcf",
   "metadata": {},
   "outputs": [
    {
     "name": "stdout",
     "output_type": "stream",
     "text": [
      "21/17\n",
      "71/66\n"
     ]
    }
   ],
   "source": [
    "# to find the distance bewteen two ratios, divide the larger ratio by the smaller ratio.\n",
    "# To divide fractions, multiply the larger ratio times the reciprocal of the smaller ratio\n",
    "print(f'{Fraction((32/17) / (32/21)).limit_denominator(100)}') # divide the larger by the smaller ratio\n",
    "print(f'{Fraction((16/17) * (8/7)).limit_denominator(100)}') # the equivalent calculation is to multiply by the reciprocal of the 2nd number "
   ]
  },
  {
   "cell_type": "code",
   "execution_count": 90,
   "id": "3efd73f1-652e-4e7d-95f4-b8c0bae4a596",
   "metadata": {},
   "outputs": [
    {
     "name": "stdout",
     "output_type": "stream",
     "text": [
      "oton intervals with a perfect 3:2\n",
      "(0, 8): 3/2, (2, 11): 3/2, (4, 14): 3/2, (8, 2): 3/4, (12, 5): 3/4, \n",
      "uton scales with a perfect 4:3\n",
      "(2, 8): 4/3, (5, 12): 4/3, (8, 0): 2/3, (11, 2): 2/3, (14, 4): 2/3, "
     ]
    }
   ],
   "source": [
    "# I am looking for a certain ratio (3/2 or 3/4, 2/3 or 4/3) which is required for a decent scale.\n",
    "print('oton intervals with a perfect 3:2')                \n",
    "for prev in np.arange(0,16,1):\n",
    "    for item in np.arange(0,16,1):\n",
    "        if prev != item:\n",
    "            save_ratio = ratio_distance(ratio_strings[0,prev], ratio_strings[0,item])\n",
    "            # if 0.75 < save_ratio < 1.5:\n",
    "            if save_ratio in ([3/2, 3/4]): # perfect fifth for overtone scales\n",
    "                print(f'({prev}, {item}): {Fraction(save_ratio).limit_denominator(max_denominator = 100)}',end=', ')\n",
    "print('\\nuton scales with a perfect 4:3')                \n",
    "# Otonal are inverted:\n",
    "for prev in np.arange(0,16,1):\n",
    "    for item in np.arange(0,16,1):\n",
    "        if prev != item:\n",
    "            save_ratio = ratio_distance(ratio_strings[0,prev], ratio_strings[0,item])\n",
    "            # if 0.75 < save_ratio < 1.5:\n",
    "            if save_ratio in ([4/3, 2/3]): # perfect 4th for undertone scales. These transform into perfect 5th when the scale is pulled\n",
    "                print(f'({prev}, {item}): {Fraction(save_ratio).limit_denominator(max_denominator = 100)}',end=', ')"
   ]
  },
  {
   "cell_type": "code",
   "execution_count": 92,
   "id": "5d3f79e2-226b-444e-baa9-46240953dc85",
   "metadata": {},
   "outputs": [
    {
     "name": "stdout",
     "output_type": "stream",
     "text": [
      "16 note scale in keys[oton, 1/1], [ 0  1  2  3  4  5  6  7  8  9 10 11 12 13 14 15]\n",
      "A: [ 0  2  4  6  8 10 12 14]\n",
      "B: [ 2  4  6  8 10 12 14  0]\n",
      "16 note scale in keys[uton, 1/1], [  0  16  32  48  64  80  96 112 128 144 160 176 192 208 224 240]\n",
      "A: [128  96  64  32   0 224 192 160]\n",
      "B: [224 192 160 128  96  64  32   0]\n"
     ]
    }
   ],
   "source": [
    "# build_scales(\"oton\", \"16/9\", rank) - these are 8 note scales, based on the mode, root, and rank\n",
    "# build_scales(mode, ratio, rank):\n",
    "# first_item_only = True\n",
    "for mode in keys:\n",
    "    for root in keys[mode]:\n",
    "        print(f'16 note scale in keys[{mode}, {root}], {keys[mode][root]}')\n",
    "        for rank in scales:\n",
    "            print(f'{rank}: {build_scales(mode, root, rank)}')\n",
    "            if rank == 'B' and first_item_only: break\n",
    "        if root == '1/1' and first_item_only: break"
   ]
  },
  {
   "cell_type": "code",
   "execution_count": 225,
   "id": "80485e08-8492-4c28-8b55-c3c198c14841",
   "metadata": {},
   "outputs": [
    {
     "name": "stdout",
     "output_type": "stream",
     "text": [
      "rank = 'A'\n",
      "mode = 'oton'\n",
      "A, oton, 1/1:\t[1.0, 1.12, 1.25, 1.38, 1.5, 1.62, 1.75, 1.88]\t [0 0 0 0 0 0 0 0]\n",
      "A, oton, 32/17:\t[1.88, 1.06, 1.18, 1.29, 1.41, 1.53, 1.65, 1.76]\t [0 1 1 1 1 1 1 1]\n",
      "A, oton, 16/9:\t[1.78, 1.0, 1.11, 1.22, 1.33, 1.44, 1.56, 1.67]\t [0 1 1 1 1 1 1 1]\n",
      "A, oton, 32/19:\t[1.68, 1.89, 1.05, 1.16, 1.26, 1.37, 1.47, 1.58]\t [0 0 1 1 1 1 1 1]\n",
      "A, oton, 8/5:\t[1.6, 1.8, 1.0, 1.1, 1.2, 1.3, 1.4, 1.5]\t [0 0 1 1 1 1 1 1]\n",
      "A, oton, 32/21:\t[1.52, 1.71, 1.9, 1.05, 1.14, 1.24, 1.33, 1.43]\t [0 0 0 1 1 1 1 1]\n",
      "A, oton, 16/11:\t[1.45, 1.64, 1.82, 1.0, 1.09, 1.18, 1.27, 1.36]\t [0 0 0 1 1 1 1 1]\n",
      "A, oton, 32/23:\t[1.39, 1.57, 1.74, 1.91, 1.04, 1.13, 1.22, 1.3]\t [0 0 0 0 1 1 1 1]\n",
      "A, oton, 4/3:\t[1.33, 1.5, 1.67, 1.83, 1.0, 1.08, 1.17, 1.25]\t [0 0 0 0 1 1 1 1]\n",
      "A, oton, 32/25:\t[1.28, 1.44, 1.6, 1.76, 1.92, 1.04, 1.12, 1.2]\t [0 0 0 0 0 1 1 1]\n",
      "A, oton, 16/13:\t[1.23, 1.38, 1.54, 1.69, 1.85, 1.0, 1.08, 1.15]\t [0 0 0 0 0 1 1 1]\n",
      "A, oton, 32/27:\t[1.19, 1.33, 1.48, 1.63, 1.78, 1.93, 1.04, 1.11]\t [0 0 0 0 0 0 1 1]\n",
      "A, oton, 8/7:\t[1.14, 1.29, 1.43, 1.57, 1.71, 1.86, 1.0, 1.07]\t [0 0 0 0 0 0 1 1]\n",
      "A, oton, 32/29:\t[1.1, 1.24, 1.38, 1.52, 1.66, 1.79, 1.93, 1.03]\t [0 0 0 0 0 0 0 1]\n",
      "A, oton, 16/15:\t[1.07, 1.2, 1.33, 1.47, 1.6, 1.73, 1.87, 1.0]\t [0 0 0 0 0 0 0 1]\n",
      "A, oton, 32/31:\t[1.03, 1.16, 1.29, 1.42, 1.55, 1.68, 1.81, 1.94]\t [0 0 0 0 0 0 0 0]\n",
      "mode = 'uton'\n",
      "A, uton, 1/1:\t[1.33, 1.45, 1.6, 1.78, 1.0, 1.07, 1.14, 1.23]\t [0 0 0 0 1 1 1 1]\n",
      "A, uton, 17/16:\t[1.42, 1.55, 1.7, 1.89, 1.06, 1.13, 1.21, 1.31]\t [0 0 0 0 1 1 1 1]\n",
      "A, uton, 9/8:\t[1.5, 1.64, 1.8, 1.0, 1.12, 1.2, 1.29, 1.38]\t [0 0 0 1 1 1 1 1]\n",
      "A, uton, 19/16:\t[1.58, 1.73, 1.9, 1.06, 1.19, 1.27, 1.36, 1.46]\t [0 0 0 1 1 1 1 1]\n",
      "A, uton, 5/4:\t[1.67, 1.82, 1.0, 1.11, 1.25, 1.33, 1.43, 1.54]\t [0 0 1 1 1 1 1 1]\n",
      "A, uton, 21/16:\t[1.75, 1.91, 1.05, 1.17, 1.31, 1.4, 1.5, 1.62]\t [0 0 1 1 1 1 1 1]\n",
      "A, uton, 11/8:\t[1.83, 1.0, 1.1, 1.22, 1.38, 1.47, 1.57, 1.69]\t [0 1 1 1 1 1 1 1]\n",
      "A, uton, 23/16:\t[1.92, 1.05, 1.15, 1.28, 1.44, 1.53, 1.64, 1.77]\t [0 1 1 1 1 1 1 1]\n",
      "A, uton, 3/2:\t[1.0, 1.09, 1.2, 1.33, 1.5, 1.6, 1.71, 1.85]\t [0 0 0 0 0 0 0 0]\n",
      "A, uton, 25/16:\t[1.04, 1.14, 1.25, 1.39, 1.56, 1.67, 1.79, 1.92]\t [0 0 0 0 0 0 0 0]\n",
      "A, uton, 13/8:\t[1.08, 1.18, 1.3, 1.44, 1.62, 1.73, 1.86, 1.0]\t [0 0 0 0 0 0 0 1]\n",
      "A, uton, 27/16:\t[1.12, 1.23, 1.35, 1.5, 1.69, 1.8, 1.93, 1.04]\t [0 0 0 0 0 0 0 1]\n",
      "A, uton, 7/4:\t[1.17, 1.27, 1.4, 1.56, 1.75, 1.87, 1.0, 1.08]\t [0 0 0 0 0 0 1 1]\n",
      "A, uton, 29/16:\t[1.21, 1.32, 1.45, 1.61, 1.81, 1.93, 1.04, 1.12]\t [0 0 0 0 0 0 1 1]\n",
      "A, uton, 15/8:\t[1.25, 1.36, 1.5, 1.67, 1.88, 1.0, 1.07, 1.15]\t [0 0 0 0 0 1 1 1]\n",
      "A, uton, 31/16:\t[1.29, 1.41, 1.55, 1.72, 1.94, 1.03, 1.11, 1.19]\t [0 0 0 0 0 1 1 1]\n",
      "how many_scales = 32\n"
     ]
    }
   ],
   "source": [
    "# confirm that all scales in all used keys, all ranks are all going from low to high, and distance from 0 to 7 less than OCTAVE_SIZE\n",
    "# how many scales? 8 ranks, two modes for each rank, each mode has 16 scales. 8 * 2 * 16 = 256 scales of 8 notes each. \n",
    "lowest_travel = 255\n",
    "highest_travel = 0\n",
    "# iterate on scale_mask[rank, mode, key] \n",
    "# first_item_only = False\n",
    "first_item_only = True\n",
    "many_scales = 0\n",
    "for rank in scales: # 'oton' and 'uton'\n",
    "    print(f'{rank = }')\n",
    "    for mode in scales[rank]: # 'A', 'B', etc.\n",
    "        print(f'{mode = }')\n",
    "        for ratio in keys[mode]: # 1/1, 16/9, etc\n",
    "            # print(f'{ratio = }')\n",
    "            built_scale = build_scales(mode, ratio, rank)\n",
    "            built_mask = build_scale_mask(built_scale)\n",
    "            print(f'{rank}, {mode}, {ratio}:\\t'\n",
    "                f'{[round(ratio_string_to_float(ratio),2) for ratio in show_scale_ratios(built_scale)]}\\t {built_mask}')\n",
    "            many_scales += 1\n",
    "    if first_item_only: break\n",
    "print(f'how {many_scales = }')"
   ]
  },
  {
   "cell_type": "code",
   "execution_count": 94,
   "id": "bfd5dead-8d38-4e5f-a507-b752ad86f6c9",
   "metadata": {},
   "outputs": [
    {
     "name": "stdout",
     "output_type": "stream",
     "text": [
      "rank = 'A', mode = 'oton', ratio = '1/1', inv = 1, : ['1/1' '5/4' '3/2' '7/4']\n",
      "rank = 'A', mode = 'oton', ratio = '1/1', inv = 2, : ['5/4' '3/2' '7/4' '1/1']\n",
      "rank = 'A', mode = 'oton', ratio = '1/1', inv = 3, : ['3/2' '7/4' '1/1' '5/4']\n",
      "rank = 'A', mode = 'oton', ratio = '1/1', inv = 4, : ['7/4' '1/1' '5/4' '3/2']\n",
      "rank = 'A', mode = 'uton', ratio = '1/1', inv = 1, : ['8/7' '4/3' '8/5' '1/1']\n",
      "rank = 'A', mode = 'uton', ratio = '1/1', inv = 2, : ['1/1' '8/7' '4/3' '8/5']\n",
      "rank = 'A', mode = 'uton', ratio = '1/1', inv = 3, : ['8/5' '1/1' '8/7' '4/3']\n",
      "rank = 'A', mode = 'uton', ratio = '1/1', inv = 4, : ['4/3' '8/5' '1/1' '8/7']\n"
     ]
    }
   ],
   "source": [
    "# confirm that you have created chords properly\n",
    "# build_chords(mode, ratio, rank, inversion):\n",
    "# build_chords(mode, ratio, rank, inversion):\n",
    "oct = 1\n",
    "for rank in inversions: # rank A, B, C, D\n",
    "    # print(f'{rank = }')\n",
    "    for mode in keys: # 'oton', 'uton'\n",
    "        # print(f'{mode = }')\n",
    "        for ratio in keys[mode]: # '1/1', '32/17', '16/9', etc\n",
    "            # print(f'{ratio = }')\n",
    "            for inv in inversions[rank][mode]: # 1, 2, 3, 4\n",
    "                # print(f'{inv = }')\n",
    "                print(f'{rank = }, {mode = }, {ratio = }, {inv = }, : {show_scale_ratios(build_chords(mode, ratio, rank, inv))}')\n",
    "                # if first_item_only: break\n",
    "            if first_item_only: break\n",
    "    if first_item_only: break"
   ]
  },
  {
   "cell_type": "code",
   "execution_count": 95,
   "id": "11b330ae-eeee-4d8c-8998-d5818d9bce2a",
   "metadata": {},
   "outputs": [
    {
     "name": "stdout",
     "output_type": "stream",
     "text": [
      "[6 8 1 2 4 5 7 3]\n",
      "[7 2 4 6 3 5 1 8]\n",
      "[2 7 6 5 4 1 3 8]\n"
     ]
    }
   ],
   "source": [
    "# pick 3 random note orders\n",
    "for i in np.arange(3):\n",
    "    print(f'{rng.choice(([1,2,3,4,5,6,7,8]), size = 8, replace = False, shuffle = True)}')"
   ]
  },
  {
   "cell_type": "markdown",
   "id": "a3d7f2c5-fadb-4c97-8e3c-b8c21e1e8b32",
   "metadata": {},
   "source": [
    "## Play some sounds on Csound\n",
    "The next cells assembles a pair of chords and slides from one to the next, and back again. It calls the build_chords function, passing in the root ratio, the mode, and the rank for each of the two chords. It then builds a slide or trill between the two chords, such that each note of the first chord moves to the corresponding note of the next chord and back again. It then starts up an instance of csound, loads a skeleton csd file to make music with sample files.\n",
    "\n",
    "I then build a note dictionary with all the data elements required to make a note in the csound orchestra created in the skelton csd file. It does some tranformation of the dictionary into a numpy array, and modifies two fields of the array to fix the start times and duration values. Csound needs start time and durations, but I prefer thinking in terms of duration as the time between one note and the next, and prefer a separate value, I call 'hold', for how long the note should be held. This simplifies creating chords that sound at the same time and last a certain amount of time before the next note is played. Each instrument has a separate value for start time. In this way the instrument can play multiple notes at the same time, and moves the time forward based on the duration values. \n",
    "\n",
    "For example, suppose you want to play two separate voices, one for the flute and another for the bassoon. Each should play notes at the beginning of the piece. We can specify a set of durations, which is how long until the next note in this instrument is played (duration value) and the amount of time each note should be held (hold value). In the first case below, the hold value is set to 5, 5, 5, 5, but the duration is set to 0, 0, 0, 5. This creates a chord played across four flutes, held for 5 seconds. If the next hold value is also set to 5, 5, 5, 5 and the duration set to 0, 0, 0, 5, then the next chord is played for 5 seconds across four flutes. At the same time, we can have another note dictionary that plays a separate set of scales on the bassoon. Oh, and the chords include a slide from one chord to the next, and the next chord slides back to where it started. "
   ]
  },
  {
   "cell_type": "code",
   "execution_count": 190,
   "id": "ad629ea6-f5ff-4ffb-8adc-00b8ed3e106b",
   "metadata": {},
   "outputs": [
    {
     "name": "stdout",
     "output_type": "stream",
     "text": [
      "scale_1 = array([ 0,  2,  4,  6,  8, 10, 12, 14]), mask_1 = array([0, 0, 0, 0, 0, 0, 0, 0])\n",
      "scale_2 = array([ 2,  4,  6,  8, 10, 12, 14,  0]), mask_2 = array([0, 0, 0, 0, 0, 0, 0, 1])\n",
      "gliss down values for table number and target gliss: [(801.0, 0.9), (802.0, 0.917), (803.0, 0.929), (804.0, 0.938)]\n",
      "gliss up values for table number and target gliss: [(805.0, 1.111), (806.0, 1.091), (807.0, 1.077), (808.0, 1.067)]\n"
     ]
    }
   ],
   "source": [
    "# create a sliding chord from one to another and back\n",
    "oct = 4\n",
    "ratio = '1/1'\n",
    "mode = 'oton'\n",
    "# first chord:\n",
    "rank_1 = 'A'\n",
    "inv_1 = 2\n",
    "# second chord:\n",
    "rank_2 = 'B'\n",
    "inv_2 = 1\n",
    "gliss_type = 'slide'\n",
    "# make two chords on these values\n",
    "chord_1 = build_chords(mode, ratio, rank_1, inv_1)\n",
    "chord_2 = build_chords(mode, ratio, rank_2, inv_2)\n",
    "# make slides to move from the first chord to the second (down) and back (up)\n",
    "gliss_down = build_slides(801, chord_1, chord_2, gliss_type = gliss_type)\n",
    "gliss_up = build_slides(805, chord_2, chord_1, gliss_type = gliss_type)\n",
    "# build the scales to be played on the bassoon\n",
    "scale_1 = build_scales(mode, ratio, rank_1)\n",
    "scale_2 = build_scales(mode, ratio, rank_2)\n",
    "mask_1 = build_scale_mask(scale_1) # which notes must be moved up an octave so that the scale goes from down to up\n",
    "mask_2 = build_scale_mask(scale_2) # same for the second scale\n",
    "print(f'{scale_1 = }, {mask_1 = }')\n",
    "print(f'{scale_2 = }, {mask_2 = }')\n",
    "print(f'gliss down values for table number and target gliss: {[(np.round(column[0], 3), np.round(column[8], 3)) for column in gliss_down]}')\n",
    "print(f'gliss up values for table number and target gliss: {[(np.round(column[0], 3), np.round(column[8], 3)) for column in gliss_up]}')"
   ]
  },
  {
   "cell_type": "code",
   "execution_count": 191,
   "id": "7710c1c3-c682-4775-b347-3f4e87b2e0e8",
   "metadata": {},
   "outputs": [
    {
     "name": "stdout",
     "output_type": "stream",
     "text": [
      "scale_1[-1] = 14, all_ratio_strings[scale_1[-1]] = '15/8'\n",
      "scale_2[-1] = 0, all_ratio_strings[scale_2[-1]] = '1/1'\n"
     ]
    }
   ],
   "source": [
    "# the last slide is 1.875, which is from 14 (15:8) to 0 (1:1). I wanted 15:8 to 2:1.\n",
    "# how can I change the function build_slides to make that check and choose the nearest alternative?\n",
    "print(f'{scale_1[-1] = }, {all_ratio_strings[scale_1[-1]] = }')\n",
    "print(f'{scale_2[-1] = }, {all_ratio_strings[scale_2[-1]] = }')"
   ]
  },
  {
   "cell_type": "code",
   "execution_count": 201,
   "id": "f3972040-a53e-45dc-bda1-7a5d3e7a210b",
   "metadata": {},
   "outputs": [
    {
     "name": "stderr",
     "output_type": "stream",
     "text": [
      "0dBFS level = 32768.0\n",
      "--Csound version 6.16 (double samples) Aug 10 2021\n",
      "[commit: none]\n",
      "libsndfile-1.0.31\n",
      "end of score.\t\t   overall amps:      0.0\n",
      "\t   overall samples out of range:        0\n",
      "0 errors in performance\n",
      "Elapsed time at end of performance: real: 9.858s, CPU: 0.028s\n"
     ]
    }
   ],
   "source": [
    "# \n",
    "#\n",
    "# Start up an instance of csound\n",
    "#\n",
    "#\n",
    "if not csound_running: \n",
    "    start_logger()\n",
    "    csd_content, lines = load_csd(CSD_FILE)\n",
    "    logging.info(f'Starting to log to {LOGNAME}')\n",
    "    logging.info(f'Loaded the csd file {CSD_FILE}. There are {lines} lines read containg {len(csd_content)} bytes')\n",
    "    cs, pt = load_csound(csd_content)\n",
    "    csound_running = True\n",
    "else: print(f'csound is already running')"
   ]
  },
  {
   "cell_type": "code",
   "execution_count": 202,
   "id": "cb5b4e0e-b2d8-499c-954d-90d149de4682",
   "metadata": {},
   "outputs": [
    {
     "name": "stdout",
     "output_type": "stream",
     "text": [
      "{'bfl': {'instrument': array([1, 1, 1, 1, 1, 1, 1, 1]),\n",
      "         'duration': array([0. , 0. , 0. , 5.2, 0. , 0. , 0. , 5.2]),\n",
      "         'hold': array([5, 5, 5, 5, 5, 5, 5, 5]),\n",
      "         'velocity': array([60, 60, 60, 60, 60, 60, 60, 60]),\n",
      "         'tone': array([ 4,  8, 12,  0,  2,  6, 10, 14]),\n",
      "         'octave': array([3, 3, 3, 3, 3, 3, 3, 3]),\n",
      "         'voice': array([6, 6, 6, 6, 6, 6, 6, 6]),\n",
      "         'stereo': array([8, 8, 8, 8, 8, 8, 8, 8]),\n",
      "         'l_envelope': array([1, 1, 1, 1, 1, 1, 1, 1]),\n",
      "         'gliss1': array([801., 802., 803., 804., 805., 806., 807., 808.]),\n",
      "         'upsample': array([1, 1, 1, 1, 1, 1, 1, 1]),\n",
      "         'r_envelope': array([1, 1, 1, 1, 1, 1, 1, 1]),\n",
      "         'gliss2': array([0, 0, 0, 0, 0, 0, 0, 0]),\n",
      "         'gliss3': array([0, 0, 0, 0, 0, 0, 0, 0]),\n",
      "         'volume': array([30, 30, 30, 30, 30, 30, 30, 30])},\n",
      " 'bss': {'instrument': array([1, 1, 1, 1, 1, 1, 1, 1, 1, 1, 1, 1, 1, 1, 1, 1]),\n",
      "         'duration': array([0.625, 0.625, 0.625, 0.625, 0.625, 0.625, 0.625, 0.625, 0.625,\n",
      "       0.625, 0.625, 0.625, 0.625, 0.625, 0.625, 0.625]),\n",
      "         'hold': array([0.725, 0.725, 0.725, 0.725, 0.725, 0.725, 0.725, 0.725, 0.725,\n",
      "       0.725, 0.725, 0.725, 0.725, 0.725, 0.725, 0.725]),\n",
      "         'velocity': array([60, 60, 60, 60, 60, 60, 60, 60, 60, 60, 60, 60, 60, 60, 60, 60]),\n",
      "         'tone': array([ 0,  2,  4,  6,  8, 10, 12, 14,  2,  4,  6,  8, 10, 12, 14,  0]),\n",
      "         'octave': array([3, 3, 3, 3, 3, 3, 3, 3, 3, 3, 3, 3, 3, 3, 3, 4]),\n",
      "         'voice': array([9, 9, 9, 9, 9, 9, 9, 9, 9, 9, 9, 9, 9, 9, 9, 9]),\n",
      "         'stereo': array([8, 8, 8, 8, 8, 8, 8, 8, 8, 8, 8, 8, 8, 8, 8, 8]),\n",
      "         'l_envelope': array([2, 2, 2, 2, 2, 2, 2, 2, 2, 2, 2, 2, 2, 2, 2, 2]),\n",
      "         'gliss1': array([0, 0, 0, 0, 0, 0, 0, 0, 0, 0, 0, 0, 0, 0, 0, 0]),\n",
      "         'upsample': array([1, 1, 1, 1, 1, 1, 1, 1, 1, 1, 1, 1, 1, 1, 1, 1]),\n",
      "         'r_envelope': array([2, 2, 2, 2, 2, 2, 2, 2, 2, 2, 2, 2, 2, 2, 2, 2]),\n",
      "         'gliss2': array([0, 0, 0, 0, 0, 0, 0, 0, 0, 0, 0, 0, 0, 0, 0, 0]),\n",
      "         'gliss3': array([0, 0, 0, 0, 0, 0, 0, 0, 0, 0, 0, 0, 0, 0, 0, 0]),\n",
      "         'volume': array([30, 30, 30, 30, 30, 30, 30, 30, 30, 30, 30, 30, 30, 30, 30, 30])}}\n"
     ]
    }
   ],
   "source": [
    "notes = 8\n",
    "scale_notes = scale_1.shape[0] + scale_2.shape[0]\n",
    "scale_dur = 10 / scale_notes # count how many notes in the scales and divide 10 seconds by that amount for each duration\n",
    "chord_duration = np.array([0, 0, 0, 5.2, 0, 0, 0, 5.2], dtype = float) # I need to keep this float to support faster passages.\n",
    "scale_duration = np.ones((scale_notes,), dtype = int) * scale_dur \n",
    "hold = 5\n",
    "velocity = 60\n",
    "upsamples = np.array([1,1])\n",
    "volume = 30\n",
    "gliss1 = 0\n",
    "gliss2 = 0\n",
    "gliss3 = 0\n",
    "envelope = 1\n",
    "oct = 3\n",
    "bfl = 'bfl' # finger piano short name\n",
    "bss = 'bss'\n",
    "\n",
    "time_step_dict = {bfl: {\n",
    "                  'instrument': np.ones((notes,), dtype = int),\n",
    "                  'duration': chord_duration,\n",
    "                  'hold': np.ones((notes,), dtype = int) * hold,\n",
    "                  'velocity': np.ones((notes,), dtype = int) * velocity,\n",
    "                  'tone': np.concatenate((chord_1, chord_2)),\n",
    "                  'octave': np.ones((notes,), dtype = int) * oct,\n",
    "                  'voice': np.repeat(voice_time[bfl][\"number\"],notes),\n",
    "                  'stereo': np.ones((notes,), dtype = int) * notes, \n",
    "                  'l_envelope': np.ones((notes,), dtype = int) * envelope, \n",
    "                  'gliss1': np.concatenate((gliss_down[:,0], gliss_up[:,0])),\n",
    "                  'upsample': np.concatenate((np.repeat(upsamples[0],4), np.repeat(upsamples[1],4))),\n",
    "                  'r_envelope': np.ones((notes,), dtype = int) * envelope, \n",
    "                  'gliss2' : np.ones((notes,), dtype = int) * gliss2,\n",
    "                  'gliss3': np.ones((notes,), dtype = int) * gliss2,\n",
    "                  'volume': np.ones((notes,), dtype = int) * volume},\n",
    "            bss: {\n",
    "                  'instrument': np.ones((scale_notes,), dtype = int),\n",
    "                  'duration': scale_duration,\n",
    "                  'hold': np.ones((scale_notes,), dtype = int) * scale_dur + .1,\n",
    "                  'velocity': np.ones((scale_notes,), dtype = int) * velocity,\n",
    "                  'tone': np.concatenate((scale_1, scale_2)),\n",
    "                  'octave': np.concatenate((mask_1, mask_2)) + oct,\n",
    "                  'voice': np.repeat(voice_time[bss][\"number\"], scale_notes),\n",
    "                  'stereo': np.ones((scale_notes,), dtype = int) * notes, \n",
    "                  'l_envelope': np.ones((scale_notes,), dtype = int) * 2, \n",
    "                  'gliss1': np.ones((scale_notes,), dtype = int) * gliss2, \n",
    "                  'upsample': np.ones((scale_notes,), dtype = int) * 1,\n",
    "                  'r_envelope': np.ones((scale_notes,), dtype = int) * 2, \n",
    "                  'gliss2' : np.ones((scale_notes,), dtype = int) * gliss2,\n",
    "                  'gliss3': np.ones((scale_notes,), dtype = int) * gliss2,\n",
    "                  'volume': np.ones((scale_notes,), dtype = int) * volume}\n",
    "                 }\n",
    "                 \n",
    "                \n",
    "pp.pprint(time_step_dict)"
   ]
  },
  {
   "cell_type": "code",
   "execution_count": 203,
   "id": "ba3f76ed-bd13-4f04-ab29-5f2cf8a5dac4",
   "metadata": {},
   "outputs": [
    {
     "name": "stdout",
     "output_type": "stream",
     "text": [
      "[len(time_step_dict[bss][a]) for a in time_step_dict[bss].keys()] = [16, 16, 16, 16, 16, 16, 16, 16, 16, 16, 16, 16, 16, 16, 16]\n"
     ]
    }
   ],
   "source": [
    "# make the bass flute part\n",
    "print(f'{[len(time_step_dict[bss][a]) for a in time_step_dict[bss].keys()] = }')"
   ]
  },
  {
   "cell_type": "code",
   "execution_count": 204,
   "id": "7a99a842-a3af-4f6d-b2a8-aa9621213c24",
   "metadata": {},
   "outputs": [],
   "source": [
    "voice_time[bfl][\"start_time\"] = 0"
   ]
  },
  {
   "cell_type": "code",
   "execution_count": 205,
   "id": "5b16f440-29b8-4561-91df-a2dc9a429b78",
   "metadata": {},
   "outputs": [],
   "source": [
    "time_step_flute = fix_start_duration_values(array_from_dict(time_step_dict[bfl]), voice_time, bfl)   "
   ]
  },
  {
   "cell_type": "code",
   "execution_count": 206,
   "id": "058bdd3d-c85d-40c9-9668-6f42dd34ad50",
   "metadata": {},
   "outputs": [
    {
     "name": "stdout",
     "output_type": "stream",
     "text": [
      "time_step_flute = array([[  1. ,   0. ,   5. ,  60. ,   4. ,   3. ,   6. ,   8. ,   1. ,\n",
      "        801. ,   1. ,   1. ,   0. ,   0. ,  30. ],\n",
      "       [  1. ,   0. ,   5. ,  60. ,   8. ,   3. ,   6. ,   8. ,   1. ,\n",
      "        802. ,   1. ,   1. ,   0. ,   0. ,  30. ],\n",
      "       [  1. ,   0. ,   5. ,  60. ,  12. ,   3. ,   6. ,   8. ,   1. ,\n",
      "        803. ,   1. ,   1. ,   0. ,   0. ,  30. ],\n",
      "       [  1. ,   0. ,   5. ,  60. ,   0. ,   3. ,   6. ,   8. ,   1. ,\n",
      "        804. ,   1. ,   1. ,   0. ,   0. ,  30. ],\n",
      "       [  1. ,   5.2,   5. ,  60. ,   2. ,   3. ,   6. ,   8. ,   1. ,\n",
      "        805. ,   1. ,   1. ,   0. ,   0. ,  30. ],\n",
      "       [  1. ,   5.2,   5. ,  60. ,   6. ,   3. ,   6. ,   8. ,   1. ,\n",
      "        806. ,   1. ,   1. ,   0. ,   0. ,  30. ],\n",
      "       [  1. ,   5.2,   5. ,  60. ,  10. ,   3. ,   6. ,   8. ,   1. ,\n",
      "        807. ,   1. ,   1. ,   0. ,   0. ,  30. ],\n",
      "       [  1. ,   5.2,   5. ,  60. ,  14. ,   3. ,   6. ,   8. ,   1. ,\n",
      "        808. ,   1. ,   1. ,   0. ,   0. ,  30. ]]),\n",
      "voice_time[bfl][\"start_time\"] = 5.2\n"
     ]
    }
   ],
   "source": [
    "print(f'{time_step_flute = },\\n{voice_time[bfl][\"start_time\"] = }')"
   ]
  },
  {
   "cell_type": "code",
   "execution_count": 207,
   "id": "8f9d98f0-7785-4e48-b99f-3e54914e81fe",
   "metadata": {},
   "outputs": [
    {
     "name": "stdout",
     "output_type": "stream",
     "text": [
      "time_step_bassoon = array([[ 1.   ,  0.   ,  0.725, 60.   ,  0.   ,  3.   ,  9.   ,  8.   ,\n",
      "         2.   ,  0.   ,  1.   ,  2.   ,  0.   ,  0.   , 30.   ],\n",
      "       [ 1.   ,  0.625,  0.725, 60.   ,  2.   ,  3.   ,  9.   ,  8.   ,\n",
      "         2.   ,  0.   ,  1.   ,  2.   ,  0.   ,  0.   , 30.   ],\n",
      "       [ 1.   ,  1.25 ,  0.725, 60.   ,  4.   ,  3.   ,  9.   ,  8.   ,\n",
      "         2.   ,  0.   ,  1.   ,  2.   ,  0.   ,  0.   , 30.   ],\n",
      "       [ 1.   ,  1.875,  0.725, 60.   ,  6.   ,  3.   ,  9.   ,  8.   ,\n",
      "         2.   ,  0.   ,  1.   ,  2.   ,  0.   ,  0.   , 30.   ],\n",
      "       [ 1.   ,  2.5  ,  0.725, 60.   ,  8.   ,  3.   ,  9.   ,  8.   ,\n",
      "         2.   ,  0.   ,  1.   ,  2.   ,  0.   ,  0.   , 30.   ],\n",
      "       [ 1.   ,  3.125,  0.725, 60.   , 10.   ,  3.   ,  9.   ,  8.   ,\n",
      "         2.   ,  0.   ,  1.   ,  2.   ,  0.   ,  0.   , 30.   ],\n",
      "       [ 1.   ,  3.75 ,  0.725, 60.   , 12.   ,  3.   ,  9.   ,  8.   ,\n",
      "         2.   ,  0.   ,  1.   ,  2.   ,  0.   ,  0.   , 30.   ],\n",
      "       [ 1.   ,  4.375,  0.725, 60.   , 14.   ,  3.   ,  9.   ,  8.   ,\n",
      "         2.   ,  0.   ,  1.   ,  2.   ,  0.   ,  0.   , 30.   ],\n",
      "       [ 1.   ,  5.   ,  0.725, 60.   ,  2.   ,  3.   ,  9.   ,  8.   ,\n",
      "         2.   ,  0.   ,  1.   ,  2.   ,  0.   ,  0.   , 30.   ],\n",
      "       [ 1.   ,  5.625,  0.725, 60.   ,  4.   ,  3.   ,  9.   ,  8.   ,\n",
      "         2.   ,  0.   ,  1.   ,  2.   ,  0.   ,  0.   , 30.   ],\n",
      "       [ 1.   ,  6.25 ,  0.725, 60.   ,  6.   ,  3.   ,  9.   ,  8.   ,\n",
      "         2.   ,  0.   ,  1.   ,  2.   ,  0.   ,  0.   , 30.   ],\n",
      "       [ 1.   ,  6.875,  0.725, 60.   ,  8.   ,  3.   ,  9.   ,  8.   ,\n",
      "         2.   ,  0.   ,  1.   ,  2.   ,  0.   ,  0.   , 30.   ],\n",
      "       [ 1.   ,  7.5  ,  0.725, 60.   , 10.   ,  3.   ,  9.   ,  8.   ,\n",
      "         2.   ,  0.   ,  1.   ,  2.   ,  0.   ,  0.   , 30.   ],\n",
      "       [ 1.   ,  8.125,  0.725, 60.   , 12.   ,  3.   ,  9.   ,  8.   ,\n",
      "         2.   ,  0.   ,  1.   ,  2.   ,  0.   ,  0.   , 30.   ],\n",
      "       [ 1.   ,  8.75 ,  0.725, 60.   , 14.   ,  3.   ,  9.   ,  8.   ,\n",
      "         2.   ,  0.   ,  1.   ,  2.   ,  0.   ,  0.   , 30.   ],\n",
      "       [ 1.   ,  9.375,  0.725, 60.   ,  0.   ,  4.   ,  9.   ,  8.   ,\n",
      "         2.   ,  0.   ,  1.   ,  2.   ,  0.   ,  0.   , 30.   ]]),\n",
      "voice_time[bss][\"start_time\"] = 9.375\n"
     ]
    }
   ],
   "source": [
    "# make the basssoon part\n",
    "voice_time[bss][\"start_time\"] = 0\n",
    "time_step_bassoon = fix_start_duration_values(array_from_dict(time_step_dict[bss]), voice_time, bss)   \n",
    "print(f'{time_step_bassoon = },\\n{voice_time[bss][\"start_time\"] = }')"
   ]
  },
  {
   "cell_type": "code",
   "execution_count": 208,
   "id": "3ea6dbee-d077-4492-8b17-e335bde7d6fb",
   "metadata": {},
   "outputs": [
    {
     "name": "stdout",
     "output_type": "stream",
     "text": [
      "row[8] = 0.9\n",
      "row[8] = 0.9166666666666666\n",
      "row[8] = 0.9285714285714286\n",
      "row[8] = 0.9375\n",
      "row[8] = 1.1111111111111112\n",
      "row[8] = 1.0909090909090908\n",
      "row[8] = 1.0769230769230769\n",
      "row[8] = 1.0666666666666667\n",
      "[[0.0, 4.0, 801.0]\n",
      "[[0.0, 8.0, 802.0]\n",
      "[[0.0, 12.0, 803.0]\n",
      "[[0.0, 0.0, 804.0]\n",
      "[[5.2, 2.0, 805.0]\n",
      "[[5.2, 6.0, 806.0]\n",
      "[[5.2, 10.0, 807.0]\n",
      "[[5.2, 14.0, 808.0]\n",
      "[[0.0, 0.0, 0.0]\n",
      "[[0.625, 2.0, 0.0]\n",
      "[[1.25, 4.0, 0.0]\n",
      "[[1.875, 6.0, 0.0]\n",
      "[[2.5, 8.0, 0.0]\n",
      "[[3.125, 10.0, 0.0]\n",
      "[[3.75, 12.0, 0.0]\n",
      "[[4.375, 14.0, 0.0]\n",
      "[[5.0, 2.0, 0.0]\n",
      "[[5.625, 4.0, 0.0]\n",
      "[[6.25, 6.0, 0.0]\n",
      "[[6.875, 8.0, 0.0]\n",
      "[[7.5, 10.0, 0.0]\n",
      "[[8.125, 12.0, 0.0]\n",
      "[[8.75, 14.0, 0.0]\n",
      "[[9.375, 0.0, 0.0]\n"
     ]
    }
   ],
   "source": [
    "for row in gliss_down: # pass some f tables for glissandi to the instance of csound\n",
    "    pt.scoreEvent(0, 'f', row)\n",
    "    print(f'{row[8] = }')\n",
    "                  \n",
    "for row in gliss_up: # pass some f tables for glissandi to the instance of csound\n",
    "    pt.scoreEvent(0, 'f', row)\n",
    "    print(f'{row[8] = }')\n",
    "                  \n",
    "for row in time_step_flute: # send the note information to csound\n",
    "    pt.scoreEvent(0, 'i', row)\n",
    "    print(f'[{[row[item] for item in ([1, 4, 9])]}') # print some of the values, start time, note index, glide index\n",
    "\n",
    "for row in time_step_bassoon: # send the note information to csound\n",
    "    pt.scoreEvent(0, 'i', row)\n",
    "    print(f'[{[row[item] for item in ([1, 4, 9])]}') # print some of the values, start time, note index, glide index    "
   ]
  },
  {
   "cell_type": "code",
   "execution_count": 200,
   "id": "065321db-9c41-47f0-8c6e-3c9f845a7dc4",
   "metadata": {},
   "outputs": [
    {
     "name": "stderr",
     "output_type": "stream",
     "text": [
      "0dBFS level = 32768.0\n",
      "--Csound version 6.16 (double samples) Aug 10 2021\n",
      "[commit: none]\n",
      "libsndfile-1.0.31\n"
     ]
    }
   ],
   "source": [
    "#\n",
    "#\n",
    "# stop the csound instance\n",
    "#\n",
    "#\n",
    "if csound_running:\n",
    "    printMessages(cs)\n",
    "    pt.stop() # this is important I think. It closes the output file.\n",
    "    pt.join()   \n",
    "    printMessages(cs)    \n",
    "    cs.reset()\n",
    "    csound_running = False\n",
    "else:\n",
    "    print(f\"csound isn't running\")"
   ]
  },
  {
   "cell_type": "raw",
   "id": "5408ddeb-91d9-4a5a-8937-0ddedefff10f",
   "metadata": {},
   "source": [
    "# This is some code to make sure my dictionaries and functions are returning the predicted values\n",
    "print(f'build slides from {chord_1 = } to {chord_2 = }')\n",
    "for i in np.arange(4):\n",
    "    print(f'note {i}: {all_ratio_strings[chord_1[i]] = }, {all_ratio_strings[chord_2[i]] = }')\n",
    "    print(f'note {i}: {round(ratio_distance(all_ratio_strings[chord_1[i]], all_ratio_strings[chord_2[i]]),3) = }')\n",
    "for i in np.arange(4):\n",
    "    print(f'note {i}: {all_ratio_strings[chord_2[i]] = }, {all_ratio_strings[chord_1[i]] = }')\n",
    "    print(f'note {i}: {round(ratio_distance(all_ratio_strings[chord_2[i]], all_ratio_strings[chord_1[i]]),3) = }')\n",
    "\n",
    "slide_down = build_slides(800, chord_1, chord_2)\n",
    "print(slide_down.shape)\n",
    "print(f'{[round(distance,3) for distance in slide_down[:,0]] = }')\n",
    "print(f'{[round(distance,3) for distance in slide_down[:,8]] = }')\n",
    "slide_up = build_slides(804, chord_2, chord_1)\n",
    "print(f'{[round(distance,3) for distance in slide_up[:,0]] = }')\n",
    "print(f'{[round(distance,3) for distance in slide_up[:,8]] = }')\n",
    "\n",
    "chord_1_plus_slide = np.column_stack((chord_1, slide_down[:,0],))\n",
    "print(f'{chord_1_plus_slide.shape = }, {chord_1_plus_slide = }')\n",
    "chord_2_plus_slide = np.column_stack((chord_2, slide_up[:,0],))\n",
    "print(f'{chord_2_plus_slide.shape = }, {chord_2_plus_slide = }')\n",
    "\n",
    "pad1 = np.zeros((4,1), dtype = int)\n",
    "print(f'{pad1.shape = }, {pad1 = }') # shape = (1,)\n",
    "\n",
    "chords = np.concatenate((chords, pad1), axis = 1) \n",
    "print(f'After concatenating chords plus pad1: {chords.shape = }, {chords = }')\n",
    "chords = np.repeat(chords, 16, axis = 1)\n",
    "print(f'repeat each note 16 times: {chords.shape = }')"
   ]
  },
  {
   "cell_type": "code",
   "execution_count": 297,
   "id": "18f948fb-2dfa-44bc-b64e-1579ede59847",
   "metadata": {},
   "outputs": [
    {
     "name": "stdout",
     "output_type": "stream",
     "text": [
      "[True, True, True, True, True, True, True, True, True, True, True, True, True, True, True]\n",
      "time_step_dict.keys() = dict_keys(['instrument', 'duration', 'hold', 'velocity', 'tone', 'octave', 'voice', 'stereo', 'l_envelope', 'gliss1', 'upsample', 'r_envelope', 'gliss2', 'gliss3', 'volume'])\n",
      "[array([1, 1, 1, 1, 1, 1, 1, 1]), array([0. , 0. , 0. , 5.2, 0. , 0. , 0. , 5.2]), array([5, 5, 5, 5, 5, 5, 5, 5]), array([60, 60, 60, 60, 60, 60, 60, 60]), array([ 6, 10, 14,  2,  1,  5,  9, 13]), array([3, 3, 3, 3, 3, 3, 3, 3]), array([6, 6, 6, 6, 6, 6, 6, 6]), array([8, 8, 8, 8, 8, 8, 8, 8]), array([1, 1, 1, 1, 1, 1, 1, 1]), array([800., 801., 802., 803., 804., 805., 806., 807.]), array([  1,   1,   1,   1, 255, 255, 255, 255]), array([1, 1, 1, 1, 1, 1, 1, 1]), array([0, 0, 0, 0, 0, 0, 0, 0]), array([0, 0, 0, 0, 0, 0, 0, 0]), array([30, 30, 30, 30, 30, 30, 30, 30])]\n",
      "len(time_step_dict) = 15\n"
     ]
    }
   ],
   "source": [
    "print(f'{[len(time_step_dict[time_step]) == len(time_step_dict[\"instrument\"]) for time_step in time_step_dict.keys()]}')\n",
    "print(f'{time_step_dict.keys() = }')\n",
    "print(f'{[time_step_dict[time_step] for time_step in time_step_dict.keys()]}')\n",
    "print(f'{len(time_step_dict) = }')"
   ]
  },
  {
   "cell_type": "code",
   "execution_count": null,
   "id": "173b491d-488e-4cfa-b191-ba88ef2f14de",
   "metadata": {},
   "outputs": [],
   "source": [
    "# ['instrument', 'start', 'duration', 'hold', 'velocity', 'tone', 'octave', 'voice', 'stereo', \n",
    "# 'l_envelope', 'gliss1', 'upsample', 'r_envelope', 'gliss2', 'gliss3', 'volume', 'elapsed']\n",
    "print(f'{voice_time[\"flute\"][\"voice_number\"] = }')\n",
    "\n",
    "temp_array = copy.deepcopy(time_step_array) # this is necessary because I mess with the start column in the time_step_array \n",
    "\n",
    "#       +-- f says this is a function \n",
    "#       | +-- function is called # 330\n",
    "#       | |   +-- start at time 0\n",
    "#       | |   | +-- table has 256 time steps\n",
    "#       | |   | |   +--  means don't rescale, 7 means straight lines\n",
    "#       | |   | |   |  +--  table value starts at 1, meaning no change to pitch at the start\n",
    "#       | |   | |   |  | +-- take this much time to reach next table value\n",
    "#       | |   | |   |  | |  +-- still at no change to pitch\n",
    "#       | |   | |   |  | |  | +-- over the next 128 time steps gradually go down towards 0.9375\n",
    "#       | |   | |   |  | |  | |   +-- reach this value\n",
    "#       | |   | |   |  | |  | |   |       +-- stay here for this number of time steps\n",
    "#       | |   | |   |  | |  | |   |       |   +-- end here\n",
    "#       | |   | |   |  | |  | |   |       |   |          +-- this is the number to send to csound to select ftable number 330. 29 + 301 = 330\n",
    "f330 = (330, 0, 256, -7, 1, 16, 1, 128, 0.93750, 112, 0.93750) # 29\n",
    "f332 = (332, 0, 256, -7, 1, 16, 1, 128, 0.92857, 112, 0.92857) # 31 \n",
    "f334 = (334, 0, 256, -7, 1, 16, 1, 128, 0.91667, 112, 0.91667) # 33 \n",
    "f336 = (336, 0, 256, -7, 1, 16, 1, 128, 0.90000, 112, 0.90000) # 35 \n",
    "# mess with these\n",
    "\n",
    "# f330 = (330, 0, 256, -7, 1, 16, 1, 128, 0.093750, 112, 0.093750) # 29\n",
    "# f332 = (332, 0, 256, -7, 1, 16, 1, 128, 0.092857, 112, 0.092857) # 31 \n",
    "# f334 = (334, 0, 256, -7, 1, 16, 1, 128, 0.091667, 112, 0.091667) # 33 \n",
    "# f336 = (336, 0, 256, -7, 1, 16, 1, 128, 0.090000, 112, 0.090000) # 35 \n",
    "\n",
    "\n",
    "pt.scoreEvent(0, 'f', f330)\n",
    "pt.scoreEvent(0, 'f', f332)\n",
    "pt.scoreEvent(0, 'f', f334)\n",
    "pt.scoreEvent(0, 'f', f336)\n",
    "\n",
    "voice_time[short_name][\"start_time\"] = 0 # convert the durations into start_time[\"flute\"] for when the note begins to play based on the sum of the prior durations.\n",
    "# print (f'{temp_array.shape = }')\n",
    "current_duration = 0\n",
    "inx = 0\n",
    "for row in temp_array:\n",
    "    voice_time[short_name][\"start_time\"] += current_duration\n",
    "    current_duration = row[1] # the 'start' column\n",
    "    # print(f'row number: {inx = }, before {current_duration = }, {voice[\"flute\"][\"start_time\"] = }', end = '\\t')\n",
    "    temp_array[inx,1] = voice_time[short_name][\"start_time\"]\n",
    "    # print(f'after {row[1] = }')\n",
    "    pt.scoreEvent(0, 'i', row)\n",
    "    inx += 1\n",
    "print(f'{voice_time[short_name][\"start_time\"] = }')    \n",
    "print(f'inst\\tstart\\thold\\tvel\\tton\\toct\\tvoi\\tste\\tEnv\\tGli\\tups\\tREn\\t2gl\\t3gj\\tvol')\n",
    "print(f'0\\t1\\t2\\t3\\t4\\t5\\t6\\t7\\t8\\t9\\t10\\t11\\t12\\t13\\t14')\n",
    "print(f'------- ------- ------- ------- ------- ------- ------- ------- ------- ------- ------- ------- ------- ------- -------')\n",
    "for row in temp_array:\n",
    "    for field in row:\n",
    "        print(f'{round(field,2)}',end='\\t')\n",
    "    print()"
   ]
  },
  {
   "cell_type": "code",
   "execution_count": null,
   "id": "54e846ea-4789-4c3c-bc3d-38f47a467e71",
   "metadata": {},
   "outputs": [],
   "source": [
    "p.printMessages(cs)\n",
    "# delay_time =  max(csound_params[\"min_delay\"],len(pfields) // 50) # need enough time to prevent csound being told to stop \n",
    "# print(f'about to delay to allow ctcsound to process the notes. delay_time: {delay_time}')\n",
    "last_start = pfields[-1][1]\n",
    "print(f'last start time was at {round(last_start,1)}. Set f0 to {round(last_start+1,1)}')\n",
    "# time.sleep(delay_time) # once you hit the next line csound stops\n",
    "pt.stop() # this is important I think. It closes the output file.\n",
    "pt.join()   \n",
    "p.printMessages(cs)    \n",
    "cs.reset()"
   ]
  },
  {
   "cell_type": "markdown",
   "id": "8e18f0e6-4827-4714-b72a-971db0c1a3df",
   "metadata": {},
   "source": [
    "## Size of the Tonality Diamond, where n is the limit:\n",
    "<img src='http://ripnread.com/listen/EulerTotientFunction.svg'>\n",
    "There are \n",
    "7 members to the 5-limit diamond, \n",
    "13 to the 7-limit diamond, \n",
    "19 to the 9-limit diamond, \n",
    "29 to the 11-limit diamond, \n",
    "41 to the 13-limit diamond, and \n",
    "49 to the 15-limit diamond; \n",
    "these suffice for most purposes. <-- the editorial comment that got me working\n"
   ]
  },
  {
   "cell_type": "code",
   "execution_count": null,
   "id": "b83a327f-36dc-41fa-a4bb-c00e5b509c8b",
   "metadata": {},
   "outputs": [],
   "source": [
    "# brute force method\n",
    "\n",
    "for limit in (5, 7, 9, 11, 13, 15, 31):\n",
    "    end_denom = limit + 1\n",
    "    start_denom = (end_denom) // 2\n",
    "    # print(f'{limit = }, {start_denom = }, {end_denom = }')\n",
    "    o_numerator = np.arange(start_denom, end_denom,1)\n",
    "    u_denominator = np.arange(start_denom, end_denom, 1)\n",
    "    print(f'Tonality Diamond in the Cassandra orientation to the {limit}-limit', end='')\n",
    "    all_ratios = []\n",
    "    for oton_root in u_denominator:\n",
    "        print()\n",
    "        for overtone in o_numerator:\n",
    "            if overtone < oton_root: oton = overtone * 2\n",
    "            else: oton = overtone\n",
    "            print(f'{str(Fraction(oton / oton_root).limit_denominator())}', end = '\\t')\n",
    "            all_ratios.append(oton / oton_root)\n",
    "\n",
    "    all_ratios = list(dict.fromkeys(all_ratios)) # eliminate duplicates\n",
    "    print(f'\\nThere are {len(all_ratios)} unique members in the {limit}-limit diamond\\n\\n')      "
   ]
  },
  {
   "cell_type": "code",
   "execution_count": null,
   "id": "c23479e8-b78a-47f0-bb06-966d7044acba",
   "metadata": {},
   "outputs": [],
   "source": [
    "print(f'{str(Fraction(max(all_ratios)).limit_denominator())}') # what's the largest ratio in the set\n",
    "print(f'{str(Fraction(min(all_ratios)).limit_denominator())}') # what's the smallest ratio"
   ]
  },
  {
   "cell_type": "code",
   "execution_count": null,
   "id": "29718274-f646-411d-80bb-0d6887f90af2",
   "metadata": {},
   "outputs": [],
   "source": [
    "# conversion between ratios (just) and cents (1200 equal per octave)\n",
    "# ratios to cents:\n",
    "ratio = 3/2\n",
    "print(f'convert the ratio {str(Fraction(ratio).limit_denominator(max_denominator = 100))} to cents: {round(1200 * np.log(ratio)/np.log(2),1)}')\n",
    "# cents to ratio\n",
    "cents = 702\n",
    "print(f'convert {cents} cents to a ratio: {str(Fraction(np.power(2, cents/1200)).limit_denominator(max_denominator = 100))}')"
   ]
  },
  {
   "cell_type": "code",
   "execution_count": null,
   "id": "ac26a5ad-8e3a-416d-bef1-5a8b1cb46eb5",
   "metadata": {},
   "outputs": [],
   "source": [
    "# these are the values for steps using csound cpspch conversion. These numbers are in cents / 10000\n",
    "csound_steps = np.array([0.0016727, 0.0033617, 0.0054964, 0.0056767, 0.0058692, 0.0060751, 0.0062961, 0.0065337, 0.0067900, 0.0070672, \n",
    "0.0073681, 0.0076956, 0.0080537, 0.0084467, 0.0088801, 0.0093603, 0.0098955, 0.0104955, 0.0111731, 0.0115458, \n",
    "0.0119443, 0.0124712, 0.0128298, 0.0133248, 0.0138573, 0.0144353, 0.0150637, 0.0157493, 0.0159920, 0.0165004, \n",
    "0.0170424, 0.0173268, 0.0176210, 0.0182404, 0.0189050, 0.0192558, 0.0196198, 0.0203910, 0.0212253, 0.0216687, \n",
    "0.0221309, 0.0241174, 0.0249171, 0.0241961, 0.0247741, 0.0253805, 0.0256950, 0.0258874, 0.0266871, 0.0275378, \n",
    "0.0277591, 0.0281358, 0.0289210, 0.0294135, 0.0297513, 0.0301847, 0.0304508, 0.0315641, 0.0327622, 0.0330761, \n",
    "0.0336130, 0.0340552, 0.0347408, 0.0352477, 0.0354547, 0.0359472, 0.0365825, 0.0369747, 0.0372408, 0.0374333, \n",
    "0.0386314, 0.0399090, 0.0401303, 0.0404442, 0.0409244, 0.0417508, 0.0424364, 0.0427373, 0.0435084, 0.0441278, \n",
    "0.0443081, 0.0446363, 0.0454214, 0.0459994, 0.0464428, 0.0467936, 0.0470781, 0.0475114, 0.0478259, 0.0498045, \n",
    "0.0516761, 0.0519551, 0.0524319, 0.0525745, 0.0528687, 0.0532428, 0.0536951, 0.0543015, 0.0551318, 0.0556737, \n",
    "0.0558796, 0.0563382, 0.0568717, 0.0571726, 0.0582512, 0.0591648, 0.0593718, 0.0597000, 0.0603000, 0.0606282, \n",
    "0.0608352, 0.0617488, 0.0628274, 0.0631283, 0.0636618, 0.0641204, 0.0643263, 0.0648682, 0.0656985, 0.0663049, \n",
    "0.0667672, 0.0671313, 0.0674255, 0.0676681, 0.0680449, 0.0683249, 0.0701955, 0.0721741, 0.0724886, 0.0729219, \n",
    "0.0732064, 0.0735572, 0.0740006, 0.0745786, 0.0753637, 0.0756919, 0.0758722, 0.0764916, 0.0772627, 0.0775636, \n",
    "0.0782492, 0.0790756, 0.0795558, 0.0798697, 0.0800910, 0.0813686, 0.0825667, 0.0827592, 0.0830253, 0.0834175, \n",
    "0.0840528, 0.0845453, 0.0847524, 0.0852592, 0.0859448, 0.0863870, 0.0869249, 0.0872478, 0.0884359, 0.0895492, \n",
    "0.0898153, 0.0902487, 0.0905865, 0.0910790, 0.0918642, 0.0922409, 0.0924622, 0.0933129, 0.0941126, 0.0943050, \n",
    "0.0946195, 0.0952259, 0.0958039, 0.0960829, 0.0968826, 0.0978691, 0.0983313, 0.0987747, 0.0996090, 0.1003802, \n",
    "0.1007442, 0.1010950, 0.1017596, 0.1024790, 0.1026732, 0.1029577, 0.1034996, 0.1040080, 0.1042507, 0.1049363, \n",
    "0.1055647, 0.1061427, 0.1066762, 0.1071702, 0.1076288, 0.1080557, 0.1084542, 0.1088269, 0.1095045, 0.1101045, \n",
    "0.1106397, 0.1111199, 0.1115533, 0.1119463, 0.1124044, 0.1126319, 0.1129328, 0.1132100, 0.1134663, 0.1137039, \n",
    "0.1139249, 0.1141308, 0.1143243, 0.1145036, 0.1166383, 0.1183273, 0.1200000])"
   ]
  },
  {
   "cell_type": "code",
   "execution_count": null,
   "id": "f754fa72-a8df-43e9-acf3-182212f413dd",
   "metadata": {},
   "outputs": [],
   "source": [
    "cent_array = csound_steps * 10_000\n",
    "print(cent_array[:2]) # bottom two ratios in the 217 note per octave scale\n",
    "print(cent_array[215:]) # top two ratios"
   ]
  },
  {
   "cell_type": "code",
   "execution_count": null,
   "id": "282c5781-bfe6-4f15-bcb3-f4bbf9fbb980",
   "metadata": {},
   "outputs": [],
   "source": [
    "# convert from cpspch to ratios. start out with the csound value for cpspch\n",
    "# show us the four values inserted in to the pitch table that were not in the tonality diamond.\n",
    "print(f'{[str(Fraction(np.power(2, step / 1200)).limit_denominator(max_denominator = 200)) for step in cent_array[0:2]]}') \n",
    "print(f'{[str(Fraction(np.power(2, step / 1200)).limit_denominator(max_denominator = 200)) for step in cent_array[214:216]]}') "
   ]
  },
  {
   "cell_type": "code",
   "execution_count": null,
   "id": "b83559af-ea24-41c5-a002-88b05a587981",
   "metadata": {},
   "outputs": [],
   "source": [
    "print(f'The ratios for the steps in the {len(cent_array)} step per octave scale:')\n",
    "#                      +-- calculate the ratio by raising 2 to the power of (cents / 1200) \n",
    "#                      |                              +-- limit the denominator to a maximum of max_denominator\n",
    "#                      |                              |                                                +-- array in csound * 10000\n",
    "#                      |                              |                                                |\n",
    "print(f'{[str(Fraction(np.power(2, step / 1200)).limit_denominator(max_denominator = 50)) for step in cent_array]}') "
   ]
  },
  {
   "cell_type": "code",
   "execution_count": null,
   "id": "50f72e9a-385e-4ff2-82b8-e62f8ccde00c",
   "metadata": {},
   "outputs": [],
   "source": []
  }
 ],
 "metadata": {
  "kernelspec": {
   "display_name": "Python 3 (ipykernel)",
   "language": "python",
   "name": "python3"
  },
  "language_info": {
   "codemirror_mode": {
    "name": "ipython",
    "version": 3
   },
   "file_extension": ".py",
   "mimetype": "text/x-python",
   "name": "python",
   "nbconvert_exporter": "python",
   "pygments_lexer": "ipython3",
   "version": "3.9.12"
  }
 },
 "nbformat": 4,
 "nbformat_minor": 5
}
