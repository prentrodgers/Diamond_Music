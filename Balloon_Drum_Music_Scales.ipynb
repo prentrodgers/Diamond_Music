{
 "cells": [
  {
   "cell_type": "markdown",
   "id": "45d458a9-b06e-499c-a644-f80f75623524",
   "metadata": {},
   "source": [
    "## Experiment with scales for Balloon Drum Music Version III\n",
    "- Specifically, the piece from 2018 Balloon Drum Music for Piano, which itself is a modification of a piece from 2005, which was my first extensive use of balloon drums. \n",
    "\n",
    "\n",
    "\n",
    "__[2005 Original Balloon Drum Music](http://ripnread.com/balloon-drum-music/)__\n",
    "\n",
    "__[2018 Balloon Drum Music for Piano](http://ripnread.com/balloon-drum-music-19/)__"
   ]
  },
  {
   "cell_type": "code",
   "execution_count": 1,
   "id": "90b5431a-18a8-4f20-86b7-2a2d98b5d343",
   "metadata": {},
   "outputs": [],
   "source": [
    "import numpy as np\n",
    "import csv"
   ]
  },
  {
   "cell_type": "code",
   "execution_count": 2,
   "id": "1f7b5360-bed5-44a8-b323-d70f158cf105",
   "metadata": {},
   "outputs": [],
   "source": [
    "with open('ball.mac.csv', 'r') as x:\n",
    "    chorale_list = list(csv.reader(x, delimiter=\",\"))"
   ]
  },
  {
   "cell_type": "code",
   "execution_count": 3,
   "id": "da23d584-112e-43b1-a2f4-7fedff0cfe1c",
   "metadata": {},
   "outputs": [
    {
     "name": "stdout",
     "output_type": "stream",
     "text": [
      "Before removing the header row: len(chorale_list) = 65\n",
      "after converting to numpy array and removing header row: chorale_list.shape = (64, 2)\n"
     ]
    }
   ],
   "source": [
    "print(f'Before removing the header row: {len(chorale_list) = }')    \n",
    "chorale_list = [row[3:5] for row in chorale_list] # keep only the columns 3 & 4\n",
    "chorale_list = np.array(chorale_list[1:]) # remove the header row\n",
    "chorale_list = chorale_list.astype(np.int32) # convert strings to integers\n",
    "print(f'after converting to numpy array and removing header row: {chorale_list.shape = }')# what shape is it"
   ]
  },
  {
   "cell_type": "code",
   "execution_count": 4,
   "id": "a2c4f0ab-6391-4772-81a0-76c69be79281",
   "metadata": {},
   "outputs": [
    {
     "name": "stdout",
     "output_type": "stream",
     "text": [
      "chorale_list[:5] = array([[ 34,   5],\n",
      "       [179,   4],\n",
      "       [138,   4],\n",
      "       [ 90,   4],\n",
      "       [  0,   5]], dtype=int32)\n",
      "note_list[:5] = array([1119, 1047, 1006,  958, 1085])\n"
     ]
    }
   ],
   "source": [
    "# All my algorithms are based on the MIDI scheme, where each note by assumption includes the octave\n",
    "# So I have to convert the Ton, Oct to Note by multiplying the Ton by the Oct\n",
    "print(f'{chorale_list[:5] = }')\n",
    "note_list = np.array([row[0] + row[1] * 217 for row in chorale_list])\n",
    "print(f'{note_list[:5] = }')"
   ]
  },
  {
   "cell_type": "code",
   "execution_count": 5,
   "id": "0825b053-6c58-4eac-8bca-33a53740e5e9",
   "metadata": {},
   "outputs": [],
   "source": [
    "list = np.array([0.0016727, 0.0033617, 0.0054964, 0.0056767, 0.0058692, 0.0060751, 0.0062961, 0.0065337, 0.0067900, 0.0070672, \n",
    "0.0073681, 0.0076956, 0.0080537, 0.0084467, 0.0088801, 0.0093603, 0.0098955, 0.0104955, 0.0111731, 0.0115458, \n",
    "0.0119443, 0.0124712, 0.0128298, 0.0133248, 0.0138573, 0.0144353, 0.0150637, 0.0157493, 0.0159920, 0.0165004, \n",
    "0.0170424, 0.0173268, 0.0176210, 0.0182404, 0.0189050, 0.0192558, 0.0196198, 0.0203910, 0.0212253, 0.0216687, \n",
    "0.0221309, 0.0241174, 0.0249171, 0.0241961, 0.0247741, 0.0253805, 0.0256950, 0.0258874, 0.0266871, 0.0275378, \n",
    "0.0277591, 0.0281358, 0.0289210, 0.0294135, 0.0297513, 0.0301847, 0.0304508, 0.0315641, 0.0327622, 0.0330761, \n",
    "0.0336130, 0.0340552, 0.0347408, 0.0352477, 0.0354547, 0.0359472, 0.0365825, 0.0369747, 0.0372408, 0.0374333, \n",
    "0.0386314, 0.0399090, 0.0401303, 0.0404442, 0.0409244, 0.0417508, 0.0424364, 0.0427373, 0.0435084, 0.0441278, \n",
    "0.0443081, 0.0446363, 0.0454214, 0.0459994, 0.0464428, 0.0467936, 0.0470781, 0.0475114, 0.0478259, 0.0498045, \n",
    "0.0516761, 0.0519551, 0.0524319, 0.0525745, 0.0528687, 0.0532428, 0.0536951, 0.0543015, 0.0551318, 0.0556737, \n",
    "0.0558796, 0.0563382, 0.0568717, 0.0571726, 0.0582512, 0.0591648, 0.0593718, 0.0597000, 0.0603000, 0.0606282, \n",
    "0.0608352, 0.0617488, 0.0628274, 0.0631283, 0.0636618, 0.0641204, 0.0643263, 0.0648682, 0.0656985, 0.0663049, \n",
    "0.0667672, 0.0671313, 0.0674255, 0.0676681, 0.0680449, 0.0683249, 0.0701955, 0.0721741, 0.0724886, 0.0729219, \n",
    "0.0732064, 0.0735572, 0.0740006, 0.0745786, 0.0753637, 0.0756919, 0.0758722, 0.0764916, 0.0772627, 0.0775636, \n",
    "0.0782492, 0.0790756, 0.0795558, 0.0798697, 0.0800910, 0.0813686, 0.0825667, 0.0827592, 0.0830253, 0.0834175, \n",
    "0.0840528, 0.0845453, 0.0847524, 0.0852592, 0.0859448, 0.0863870, 0.0869249, 0.0872478, 0.0884359, 0.0895492, \n",
    "0.0898153, 0.0902487, 0.0905865, 0.0910790, 0.0918642, 0.0922409, 0.0924622, 0.0933129, 0.0941126, 0.0943050, \n",
    "0.0946195, 0.0952259, 0.0958039, 0.0960829, 0.0968826, 0.0978691, 0.0983313, 0.0987747, 0.0996090, 0.1003802, \n",
    "0.1007442, 0.1010950, 0.1017596, 0.1024790, 0.1026732, 0.1029577, 0.1034996, 0.1040080, 0.1042507, 0.1049363, \n",
    "0.1055647, 0.1061427, 0.1066762, 0.1071702, 0.1076288, 0.1080557, 0.1084542, 0.1088269, 0.1095045, 0.1101045, \n",
    "0.1106397, 0.1111199, 0.1115533, 0.1119463, 0.1124044, 0.1126319, 0.1129328, 0.1132100, 0.1134663, 0.1137039, \n",
    "0.1139249, 0.1141308, 0.1143243, 0.1145036, 0.1166383, 0.1183273, 0.12 ])"
   ]
  },
  {
   "cell_type": "code",
   "execution_count": 6,
   "id": "84ee777e-31e3-45a8-bbfc-791745a85e25",
   "metadata": {},
   "outputs": [
    {
     "name": "stdout",
     "output_type": "stream",
     "text": [
      "number of elements in the list: list.shape = (217,)\n",
      "number of unique elements in the list: np.unique(list).shape = (217,)\n",
      "there are 16 notes in each of 16 scales, but some overlap. 16*16 = 256\n",
      "the ratios are 16:17:18:19:20:21:22:23:24:25:26:27:28:29:30:31/32 or 32/16:17:18:19:20:21:22:23:24:25:26:27:28:29:30:31.\n"
     ]
    }
   ],
   "source": [
    "# the list from the csound .csd file contains 217 unique pitches. No duplicates\n",
    "print(f'number of elements in the list: {list.shape = }') # 0 through and including 216\n",
    "print(f'number of unique elements in the list: {np.unique(list).shape = }') #\n",
    "print(f'there are 16 notes in each of 16 scales, but some overlap. {16*16 = }')\n",
    "print(f'the ratios are 16:17:18:19:20:21:22:23:24:25:26:27:28:29:30:31/32 or 32/16:17:18:19:20:21:22:23:24:25:26:27:28:29:30:31.')"
   ]
  },
  {
   "cell_type": "raw",
   "id": "daf474e7-6e9f-471b-afc5-39d50cfcb52a",
   "metadata": {},
   "source": [
    "# ratios for the Utonal and Otonal scales, the tetrad to which they belong, and the note number in original piece. A tetrad is a four note chord. Since there are 16 notes to the octave, there are four tetrads to each scale. \n",
    "#              Uton\t      Oton\t   Tetrad\tScale \n",
    "#                                         Note \n",
    "#              1/1 \t       1/1 \t      a \t1\n",
    "#             24/23\t      17/16\t      c \t2\n",
    "#             12/11\t       9/8 \t      b \t3\n",
    "#              8/7 \t      19/16\t      d \t4\n",
    "#              6/5 \t       5/4 \t      a \t5\n",
    "#             24/19\t      21/16\t      c \t6\n",
    "#              4/3 \t      11/8 \t      b \t7\n",
    "#             24/17\t      23/16\t      d \t8\n",
    "#              3/2 \t       3/2 \t      a \t9\n",
    "#             48/31\t      25/16\t      c \tA\n",
    "#              8/5 \t      13/8 \t      d \tB\n",
    "#             48/29\t      27/16\t      b \tC\n",
    "#             12/7 \t       7/4 \t      a \tD\n",
    "#             16/9  \t  29/16\t      c \tE\n",
    "#             24/13\t      15/8 \t      d \tF\n",
    "#             48/25\t      31/16\t      b \tG"
   ]
  },
  {
   "cell_type": "code",
   "execution_count": 7,
   "id": "68ec9c97-d411-425c-a1c3-77b9b3db5540",
   "metadata": {},
   "outputs": [],
   "source": [
    "A_oton = [0, 4, 8, 12]\n",
    "B_oton = [2, 6, 10, 14]\n",
    "C_oton = [1, 5, 9, 13]\n",
    "D_oton = [3, 7, 11, 15]\n",
    "A_uton = np.flip(A_oton)\n",
    "B_uton = np.flip(B_oton)\n",
    "C_uton = np.flip(C_oton)\n",
    "D_uton = np.flip(D_oton)"
   ]
  },
  {
   "cell_type": "code",
   "execution_count": 8,
   "id": "b69607ab-dacb-4b03-8f2d-e79784f41c37",
   "metadata": {},
   "outputs": [
    {
     "name": "stdout",
     "output_type": "stream",
     "text": [
      "A: 1 5 9 D - 179, 34,  90, 138 -  1:1   5:4   3:2   7:4  - [Bbmaj[note] for note in (A_oton)] = [179, 34, 90, 138]\n",
      "B: 3 7 B F -   0, 63, 115, 159 -  9:8  11:8  27:16 31:16 - [Bbmaj[note] for note in (B_oton)] = [0, 63, 115, 159]\n",
      "C: 2 6 A E - 200, 49, 103, 147 - 17:16 21:16 25:16 29:16 - [Bbmaj[note] for note in (C_oton)] = [200, 49, 103, 147]\n",
      "D: 4 8 C G -  16, 77, 127, 169 - 19:16 23:16 13:8  15:8  - [Bbmaj[note] for note in (D_oton)] = [16, 77, 127, 169]\n"
     ]
    }
   ],
   "source": [
    "# tetrad: 4 note chords. Take 4 notes out of the 16 in the scale at a time\n",
    "# names in mac file:1    2  3   4   5   6   7   8   9    A    B    C    D    E    F    G \n",
    "# names in python:  0    1  2   3   4   5   6   7   8    9   10   11   12   13   14   15\n",
    "Bbmaj = np.array([179, 200, 0, 16, 34, 49, 63, 77, 90, 103, 115, 127, 138, 147, 159, 169])\n",
    "print(f'A: 1 5 9 D - 179, 34,  90, 138 -  1:1   5:4   3:2   7:4  - {[Bbmaj[note] for note in (A_oton)] = }')\n",
    "print(f'B: 3 7 B F -   0, 63, 115, 159 -  9:8  11:8  27:16 31:16 - {[Bbmaj[note] for note in (B_oton)] = }')\n",
    "print(f'C: 2 6 A E - 200, 49, 103, 147 - 17:16 21:16 25:16 29:16 - {[Bbmaj[note] for note in (C_oton)] = }')\n",
    "print(f'D: 4 8 C G -  16, 77, 127, 169 - 19:16 23:16 13:8  15:8  - {[Bbmaj[note] for note in (D_oton)] = }')"
   ]
  },
  {
   "cell_type": "code",
   "execution_count": 9,
   "id": "ec75e633-bd9a-4f32-8a30-a8df32f80a95",
   "metadata": {},
   "outputs": [
    {
     "name": "stdout",
     "output_type": "stream",
     "text": [
      "A:  1:1   5:4   3:2   7:4  - [Dpmaj[note] for note in (A_oton)] = [42, 112, 168, 0]\n",
      "B:  9:8  11:8  27:16 31:16 - [Dpmaj[note] for note in (B_oton)] = [79, 141, 194, 21]\n",
      "C: 17:16 21:16 25:16 29:16 - [Dpmaj[note] for note in (C_oton)] = [61, 127, 180, 6]\n",
      "D: 19:16 23:16 13:8  15:8  - [Dpmaj[note] for note in (D_oton)] = [95, 155, 210, 33]\n"
     ]
    }
   ],
   "source": [
    "# tetrad: 4 note chords. Take 4 notes out of the 16 in the scale at a time\n",
    "Dpmaj = np.array([42, 61, 79, 95, 112, 127, 141, 155, 168, 180, 194, 210, 0, 6,21, 33])\n",
    "print(f'A:  1:1   5:4   3:2   7:4  - {[Dpmaj[note] for note in (A_oton)] = }')\n",
    "print(f'B:  9:8  11:8  27:16 31:16 - {[Dpmaj[note] for note in (B_oton)] = }')\n",
    "print(f'C: 17:16 21:16 25:16 29:16 - {[Dpmaj[note] for note in (C_oton)] = }')\n",
    "print(f'D: 19:16 23:16 13:8  15:8  - {[Dpmaj[note] for note in (D_oton)] = }')"
   ]
  },
  {
   "cell_type": "code",
   "execution_count": 10,
   "id": "a003f6bb-47c0-42fd-a553-1930e660fadb",
   "metadata": {},
   "outputs": [
    {
     "name": "stdout",
     "output_type": "stream",
     "text": [
      "A:  1:1   5:4   3:2   7:4  - [Dbmaj[note] for note in (A_oton)] = [19, 90, 146, 196]\n",
      "B:  9:8  11:8  27:16 31:16 - [Dbmaj[note] for note in (B_oton)] = [58, 120, 172, 0]\n",
      "C: 17:16 21:16 25:16 29:16 - [Dbmaj[note] for note in (C_oton)] = [40, 105, 159, 212]\n",
      "D: 19:16 23:16 13:8  15:8  - [Dbmaj[note] for note in (D_oton)] = [75, 133, 183, 4]\n"
     ]
    }
   ],
   "source": [
    "# tetrad: 4 note chords. Take 4 notes out of the 16 in the scale at a time\n",
    "Dbmaj = np.array([19, 40, 58, 75, 90, 105, 120, 133, 146, 159, 172, 183, 196, 212, 0, 4])\n",
    "print(f'A:  1:1   5:4   3:2   7:4  - {[Dbmaj[note] for note in (A_oton)] = }')\n",
    "print(f'B:  9:8  11:8  27:16 31:16 - {[Dbmaj[note] for note in (B_oton)] = }')\n",
    "print(f'C: 17:16 21:16 25:16 29:16 - {[Dbmaj[note] for note in (C_oton)] = }')\n",
    "print(f'D: 19:16 23:16 13:8  15:8  - {[Dbmaj[note] for note in (D_oton)] = }')"
   ]
  },
  {
   "cell_type": "code",
   "execution_count": 11,
   "id": "2e0446a6-a809-4443-be0c-698148e7d21e",
   "metadata": {},
   "outputs": [
    {
     "name": "stdout",
     "output_type": "stream",
     "text": [
      "A:  1:1   5:4   3:2   7:4  - [C_maj[note] for note in (A_oton)] = [0, 71, 127, 175]\n",
      "B:  9:8  11:8  27:16 31:16 - [C_maj[note] for note in (B_oton)] = [38, 99, 151, 198]\n",
      "C: 17:16 21:16 25:16 29:16 - [C_maj[note] for note in (C_oton)] = [18, 87, 139, 186]\n",
      "D: 19:16 23:16 13:8  15:8  - [C_maj[note] for note in (D_oton)] = [55, 113, 163, 214]\n"
     ]
    }
   ],
   "source": [
    "# tetrad: 4 note chords. Take 4 notes out of the 16 in the scale at a time\n",
    "#                 0   1   2   3   4   5   6    7    8    9   10   11   12   13   14   15\n",
    "C_maj = np.array([0, 18, 38, 55, 71, 87, 99, 113, 127, 139, 151, 163, 175, 186, 198, 214])\n",
    "print(f'A:  1:1   5:4   3:2   7:4  - {[C_maj[note] for note in (A_oton)] = }')\n",
    "print(f'B:  9:8  11:8  27:16 31:16 - {[C_maj[note] for note in (B_oton)] = }')\n",
    "print(f'C: 17:16 21:16 25:16 29:16 - {[C_maj[note] for note in (C_oton)] = }')\n",
    "print(f'D: 19:16 23:16 13:8  15:8  - {[C_maj[note] for note in (D_oton)] = }')"
   ]
  },
  {
   "cell_type": "code",
   "execution_count": 12,
   "id": "2b2d6e0a-d6e6-4411-8477-455378655fc5",
   "metadata": {},
   "outputs": [
    {
     "name": "stdout",
     "output_type": "stream",
     "text": [
      "A:  1:1   6:5   3:2  12:7  - [Gnmin[note] for note in (A_uton)] = [79, 127, 183, 38]\n",
      "B: 12:11  4:3  48:29 48:25 - [Gnmin[note] for note in (B_uton)] = [58, 102, 154, 0]\n",
      "C: 24:23 24:19 48:31 16:9  - [Gnmin[note] for note in (C_uton)] = [70, 114, 168, 17]\n",
      "D:  8:7  24:17  8:5  24:13 - [Gnmin[note] for note in (D_uton)] = [48, 90, 140, 201]\n"
     ]
    }
   ],
   "source": [
    "# Minor keys based on the utonality. \n",
    "# This one is \n",
    "# A: D 9 5 1 --> 12, 8, 4, 0\n",
    "# B: F B 7 3\n",
    "# C: A 6 2 E\n",
    "# D: G C A 4\n",
    "# tetrad: 4 note chords. Take 4 notes out of the 16 in the scale at a time\n",
    "# names in mac file:1    2  3   4   5   6   7   8   9    A    B    C    D    E    F    G \n",
    "# names in python:  0    1  2   3   4   5   6   7   8    9   10   11   12   13   14   15\n",
    "Gnmin = np.array([38, 17, 0, 201, 183, 168, 154, 140, 127, 114, 102, 90, 79, 70, 58, 48])\n",
    "print(f'A:  1:1   6:5   3:2  12:7  - {[Gnmin[note] for note in (A_uton)] = }')\n",
    "print(f'B: 12:11  4:3  48:29 48:25 - {[Gnmin[note] for note in (B_uton)] = }')\n",
    "print(f'C: 24:23 24:19 48:31 16:9  - {[Gnmin[note] for note in (C_uton)] = }')\n",
    "print(f'D:  8:7  24:17  8:5  24:13 - {[Gnmin[note] for note in (D_uton)] = }')"
   ]
  },
  {
   "cell_type": "code",
   "execution_count": 13,
   "id": "c8a5c6fb-39a9-4ed0-b1d1-126b2a3bdbe9",
   "metadata": {},
   "outputs": [
    {
     "name": "stdout",
     "output_type": "stream",
     "text": [
      "A:  1:1   6:5   3:2  12:7  - [Fnmin[note] for note in (A_uton)] = [42, 90, 146, 0]\n",
      "B: 12:11  4:3  48:29 48:25 - [Fnmin[note] for note in (B_uton)] = [19, 66, 118, 179]\n",
      "C: 24:23 24:19 48:31 16:9  - [Fnmin[note] for note in (C_uton)] = [31, 78, 130, 199]\n",
      "D:  8:7  24:17  8:5  24:13 - [Fnmin[note] for note in (D_uton)] = [3, 54, 104, 162]\n"
     ]
    }
   ],
   "source": [
    "Fnmin = np.array([0, 199, 179, 162, 146, 130, 118, 104, 90, 78, 66, 54, 42, 31, 19, 3])\n",
    "print(f'A:  1:1   6:5   3:2  12:7  - {[Fnmin[note] for note in (A_uton)] = }')\n",
    "print(f'B: 12:11  4:3  48:29 48:25 - {[Fnmin[note] for note in (B_uton)] = }')\n",
    "print(f'C: 24:23 24:19 48:31 16:9  - {[Fnmin[note] for note in (C_uton)] = }')\n",
    "print(f'D:  8:7  24:17  8:5  24:13 - {[Fnmin[note] for note in (D_uton)] = }')"
   ]
  },
  {
   "cell_type": "code",
   "execution_count": 14,
   "id": "6907c64c-d126-4c79-9d46-08899b9b2391",
   "metadata": {},
   "outputs": [
    {
     "name": "stdout",
     "output_type": "stream",
     "text": [
      "A:  1:1   6:5   3:2  12:7  - [Ebmin[note] for note in (A_uton)] = [0, 49, 105, 175]\n",
      "B: 12:11  4:3  48:29 48:25 - [Ebmin[note] for note in (B_uton)] = [196, 23, 76, 138]\n",
      "C: 24:23 24:19 48:31 16:9  - [Ebmin[note] for note in (C_uton)] = [211, 37, 90, 156]\n",
      "D:  8:7  24:17  8:5  24:13 - [Ebmin[note] for note in (D_uton)] = [184, 7, 62, 122]\n"
     ]
    }
   ],
   "source": [
    "Ebmin = np.array([175, 156, 138, 122, 105, 90, 76, 62, 49, 37, 23, 7, 0, 211, 196, 184])\n",
    "print(f'A:  1:1   6:5   3:2  12:7  - {[Ebmin[note] for note in (A_uton)] = }')\n",
    "print(f'B: 12:11  4:3  48:29 48:25 - {[Ebmin[note] for note in (B_uton)] = }')\n",
    "print(f'C: 24:23 24:19 48:31 16:9  - {[Ebmin[note] for note in (C_uton)] = }')\n",
    "print(f'D:  8:7  24:17  8:5  24:13 - {[Ebmin[note] for note in (D_uton)] = }')"
   ]
  },
  {
   "cell_type": "code",
   "execution_count": 15,
   "id": "91441207-7aaf-43a4-a22f-bcae9dbe5b40",
   "metadata": {},
   "outputs": [
    {
     "name": "stdout",
     "output_type": "stream",
     "text": [
      "A:  1:1   6:5   3:2  12:7  - [Emmin[note] for note in (A_uton)] = [21, 71, 127, 198]\n",
      "B: 12:11  4:3  48:29 48:25 - [Emmin[note] for note in (B_uton)] = [0, 45, 97, 159]\n",
      "C: 24:23 24:19 48:31 16:9  - [Emmin[note] for note in (C_uton)] = [5, 58, 112, 177]\n",
      "D:  8:7  24:17  8:5  24:13 - [Emmin[note] for note in (D_uton)] = [213, 34, 84, 142]\n"
     ]
    }
   ],
   "source": [
    "Emmin = np.array([198, 177, 159, 142, 127, 112, 97, 84, 71, 58, 45, 34, 21, 5, 0, 213])\n",
    "print(f'A:  1:1   6:5   3:2  12:7  - {[Emmin[note] for note in (A_uton)] = }')\n",
    "print(f'B: 12:11  4:3  48:29 48:25 - {[Emmin[note] for note in (B_uton)] = }')\n",
    "print(f'C: 24:23 24:19 48:31 16:9  - {[Emmin[note] for note in (C_uton)] = }')\n",
    "print(f'D:  8:7  24:17  8:5  24:13 - {[Emmin[note] for note in (D_uton)] = }')"
   ]
  },
  {
   "cell_type": "raw",
   "id": "e4bc553e-c77d-4c4c-99ff-90fe8033396c",
   "metadata": {},
   "source": [
    "scale inversion note numbers in csound\n",
    "Bbmaj a1 51D9\n",
    "Dpmaj a1 D951\n",
    "Gnmin a1 59D1\n",
    "Dbmaj a2 D951\n",
    "Fnmin a1 159D\n",
    "Ebmin a1 D159\n",
    "\n",
    "Bbmaj a1 1D95\n",
    "Emmin a2 159D\n",
    "\n",
    "Bbmaj a2 1D95\n",
    "Dpmaj a1 951D\n",
    "Gnmin a1 9D15\n",
    "Dbmaj a2 951D\n",
    "Fnmin a2 59D1\n",
    "Ebmin a3 159D\n",
    "\n",
    "Bbmaj a3 D951\n",
    "Emmin a3 59D1"
   ]
  },
  {
   "cell_type": "code",
   "execution_count": 16,
   "id": "7a255c0c-b727-4715-9255-8a524cf21b8c",
   "metadata": {},
   "outputs": [
    {
     "name": "stdout",
     "output_type": "stream",
     "text": [
      "last one is list[-1] = 0.12\n"
     ]
    }
   ],
   "source": [
    "print(f'last one is {list[-1] = }')"
   ]
  },
  {
   "cell_type": "code",
   "execution_count": 17,
   "id": "640b97a9-cdec-4296-b383-67c862c0058d",
   "metadata": {},
   "outputs": [
    {
     "name": "stdout",
     "output_type": "stream",
     "text": [
      "second to last one is list[215] = 0.1183273\n"
     ]
    }
   ],
   "source": [
    "print(f'second to last one is {list[215] = }')"
   ]
  },
  {
   "cell_type": "code",
   "execution_count": 18,
   "id": "b3a6f214-d8c6-4125-b150-39d3ab110227",
   "metadata": {},
   "outputs": [
    {
     "name": "stdout",
     "output_type": "stream",
     "text": [
      "time_step_list = array([[1119, 1047, 1006,  958],\n",
      "       [1085, 1036,  980,  910],\n",
      "       [1051,  995,  947,  906],\n",
      "       [1064, 1014,  958,  887],\n",
      "       [1085, 1014,  958,  910],\n",
      "       [1085, 1043,  973,  917],\n",
      "       [1047, 1006,  958,  902],\n",
      "       [1066,  995,  939,  889],\n",
      "       [1047, 1006,  958,  902],\n",
      "       [1036,  980,  910,  868],\n",
      "       [ 995,  947,  906,  834],\n",
      "       [1014,  958,  887,  847],\n",
      "       [1014,  958,  910,  868],\n",
      "       [1043,  973,  917,  868],\n",
      "       [1006,  958,  902,  830],\n",
      "       [ 995,  939,  889,  849]])\n"
     ]
    }
   ],
   "source": [
    "time_step_list = np.reshape(note_list,(16,4))\n",
    "print(f'{time_step_list = }')"
   ]
  },
  {
   "cell_type": "code",
   "execution_count": null,
   "id": "d9d2deb7-641c-4e7b-8108-675780383ed7",
   "metadata": {},
   "outputs": [],
   "source": []
  }
 ],
 "metadata": {
  "kernelspec": {
   "display_name": "Python 3 (ipykernel)",
   "language": "python",
   "name": "python3"
  },
  "language_info": {
   "codemirror_mode": {
    "name": "ipython",
    "version": 3
   },
   "file_extension": ".py",
   "mimetype": "text/x-python",
   "name": "python",
   "nbconvert_exporter": "python",
   "pygments_lexer": "ipython3",
   "version": "3.9.12"
  }
 },
 "nbformat": 4,
 "nbformat_minor": 5
}
